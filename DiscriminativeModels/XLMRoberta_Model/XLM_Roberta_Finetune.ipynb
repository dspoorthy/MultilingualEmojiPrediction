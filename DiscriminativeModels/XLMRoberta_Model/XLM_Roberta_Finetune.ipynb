{
 "cells": [
  {
   "cell_type": "code",
   "execution_count": 1,
   "metadata": {
    "colab": {
     "base_uri": "https://localhost:8080/"
    },
    "id": "xI7FPXFuv4Lg",
    "outputId": "83de3149-ddc4-496d-df6a-21a8d9a5c660"
   },
   "outputs": [
    {
     "name": "stdout",
     "output_type": "stream",
     "text": [
      "Collecting sentencepiece\n",
      "  Downloading sentencepiece-0.1.96-cp37-cp37m-manylinux_2_17_x86_64.manylinux2014_x86_64.whl (1.2 MB)\n",
      "\u001b[?25l\r",
      "\u001b[K     |▎                               | 10 kB 28.9 MB/s eta 0:00:01\r",
      "\u001b[K     |▌                               | 20 kB 30.2 MB/s eta 0:00:01\r",
      "\u001b[K     |▉                               | 30 kB 23.4 MB/s eta 0:00:01\r",
      "\u001b[K     |█                               | 40 kB 11.9 MB/s eta 0:00:01\r",
      "\u001b[K     |█▍                              | 51 kB 10.4 MB/s eta 0:00:01\r",
      "\u001b[K     |█▋                              | 61 kB 11.9 MB/s eta 0:00:01\r",
      "\u001b[K     |██                              | 71 kB 12.6 MB/s eta 0:00:01\r",
      "\u001b[K     |██▏                             | 81 kB 12.3 MB/s eta 0:00:01\r",
      "\u001b[K     |██▍                             | 92 kB 13.5 MB/s eta 0:00:01\r",
      "\u001b[K     |██▊                             | 102 kB 12.6 MB/s eta 0:00:01\r",
      "\u001b[K     |███                             | 112 kB 12.6 MB/s eta 0:00:01\r",
      "\u001b[K     |███▎                            | 122 kB 12.6 MB/s eta 0:00:01\r",
      "\u001b[K     |███▌                            | 133 kB 12.6 MB/s eta 0:00:01\r",
      "\u001b[K     |███▉                            | 143 kB 12.6 MB/s eta 0:00:01\r",
      "\u001b[K     |████                            | 153 kB 12.6 MB/s eta 0:00:01\r",
      "\u001b[K     |████▎                           | 163 kB 12.6 MB/s eta 0:00:01\r",
      "\u001b[K     |████▋                           | 174 kB 12.6 MB/s eta 0:00:01\r",
      "\u001b[K     |████▉                           | 184 kB 12.6 MB/s eta 0:00:01\r",
      "\u001b[K     |█████▏                          | 194 kB 12.6 MB/s eta 0:00:01\r",
      "\u001b[K     |█████▍                          | 204 kB 12.6 MB/s eta 0:00:01\r",
      "\u001b[K     |█████▊                          | 215 kB 12.6 MB/s eta 0:00:01\r",
      "\u001b[K     |██████                          | 225 kB 12.6 MB/s eta 0:00:01\r",
      "\u001b[K     |██████▏                         | 235 kB 12.6 MB/s eta 0:00:01\r",
      "\u001b[K     |██████▌                         | 245 kB 12.6 MB/s eta 0:00:01\r",
      "\u001b[K     |██████▊                         | 256 kB 12.6 MB/s eta 0:00:01\r",
      "\u001b[K     |███████                         | 266 kB 12.6 MB/s eta 0:00:01\r",
      "\u001b[K     |███████▎                        | 276 kB 12.6 MB/s eta 0:00:01\r",
      "\u001b[K     |███████▋                        | 286 kB 12.6 MB/s eta 0:00:01\r",
      "\u001b[K     |███████▉                        | 296 kB 12.6 MB/s eta 0:00:01\r",
      "\u001b[K     |████████                        | 307 kB 12.6 MB/s eta 0:00:01\r",
      "\u001b[K     |████████▍                       | 317 kB 12.6 MB/s eta 0:00:01\r",
      "\u001b[K     |████████▋                       | 327 kB 12.6 MB/s eta 0:00:01\r",
      "\u001b[K     |█████████                       | 337 kB 12.6 MB/s eta 0:00:01\r",
      "\u001b[K     |█████████▏                      | 348 kB 12.6 MB/s eta 0:00:01\r",
      "\u001b[K     |█████████▌                      | 358 kB 12.6 MB/s eta 0:00:01\r",
      "\u001b[K     |█████████▊                      | 368 kB 12.6 MB/s eta 0:00:01\r",
      "\u001b[K     |██████████                      | 378 kB 12.6 MB/s eta 0:00:01\r",
      "\u001b[K     |██████████▎                     | 389 kB 12.6 MB/s eta 0:00:01\r",
      "\u001b[K     |██████████▌                     | 399 kB 12.6 MB/s eta 0:00:01\r",
      "\u001b[K     |██████████▉                     | 409 kB 12.6 MB/s eta 0:00:01\r",
      "\u001b[K     |███████████                     | 419 kB 12.6 MB/s eta 0:00:01\r",
      "\u001b[K     |███████████▍                    | 430 kB 12.6 MB/s eta 0:00:01\r",
      "\u001b[K     |███████████▋                    | 440 kB 12.6 MB/s eta 0:00:01\r",
      "\u001b[K     |███████████▉                    | 450 kB 12.6 MB/s eta 0:00:01\r",
      "\u001b[K     |████████████▏                   | 460 kB 12.6 MB/s eta 0:00:01\r",
      "\u001b[K     |████████████▍                   | 471 kB 12.6 MB/s eta 0:00:01\r",
      "\u001b[K     |████████████▊                   | 481 kB 12.6 MB/s eta 0:00:01\r",
      "\u001b[K     |█████████████                   | 491 kB 12.6 MB/s eta 0:00:01\r",
      "\u001b[K     |█████████████▎                  | 501 kB 12.6 MB/s eta 0:00:01\r",
      "\u001b[K     |█████████████▌                  | 512 kB 12.6 MB/s eta 0:00:01\r",
      "\u001b[K     |█████████████▊                  | 522 kB 12.6 MB/s eta 0:00:01\r",
      "\u001b[K     |██████████████                  | 532 kB 12.6 MB/s eta 0:00:01\r",
      "\u001b[K     |██████████████▎                 | 542 kB 12.6 MB/s eta 0:00:01\r",
      "\u001b[K     |██████████████▋                 | 552 kB 12.6 MB/s eta 0:00:01\r",
      "\u001b[K     |██████████████▉                 | 563 kB 12.6 MB/s eta 0:00:01\r",
      "\u001b[K     |███████████████▏                | 573 kB 12.6 MB/s eta 0:00:01\r",
      "\u001b[K     |███████████████▍                | 583 kB 12.6 MB/s eta 0:00:01\r",
      "\u001b[K     |███████████████▋                | 593 kB 12.6 MB/s eta 0:00:01\r",
      "\u001b[K     |████████████████                | 604 kB 12.6 MB/s eta 0:00:01\r",
      "\u001b[K     |████████████████▏               | 614 kB 12.6 MB/s eta 0:00:01\r",
      "\u001b[K     |████████████████▌               | 624 kB 12.6 MB/s eta 0:00:01\r",
      "\u001b[K     |████████████████▊               | 634 kB 12.6 MB/s eta 0:00:01\r",
      "\u001b[K     |█████████████████               | 645 kB 12.6 MB/s eta 0:00:01\r",
      "\u001b[K     |█████████████████▎              | 655 kB 12.6 MB/s eta 0:00:01\r",
      "\u001b[K     |█████████████████▌              | 665 kB 12.6 MB/s eta 0:00:01\r",
      "\u001b[K     |█████████████████▉              | 675 kB 12.6 MB/s eta 0:00:01\r",
      "\u001b[K     |██████████████████              | 686 kB 12.6 MB/s eta 0:00:01\r",
      "\u001b[K     |██████████████████▍             | 696 kB 12.6 MB/s eta 0:00:01\r",
      "\u001b[K     |██████████████████▋             | 706 kB 12.6 MB/s eta 0:00:01\r",
      "\u001b[K     |███████████████████             | 716 kB 12.6 MB/s eta 0:00:01\r",
      "\u001b[K     |███████████████████▏            | 727 kB 12.6 MB/s eta 0:00:01\r",
      "\u001b[K     |███████████████████▍            | 737 kB 12.6 MB/s eta 0:00:01\r",
      "\u001b[K     |███████████████████▊            | 747 kB 12.6 MB/s eta 0:00:01\r",
      "\u001b[K     |████████████████████            | 757 kB 12.6 MB/s eta 0:00:01\r",
      "\u001b[K     |████████████████████▎           | 768 kB 12.6 MB/s eta 0:00:01\r",
      "\u001b[K     |████████████████████▌           | 778 kB 12.6 MB/s eta 0:00:01\r",
      "\u001b[K     |████████████████████▉           | 788 kB 12.6 MB/s eta 0:00:01\r",
      "\u001b[K     |█████████████████████           | 798 kB 12.6 MB/s eta 0:00:01\r",
      "\u001b[K     |█████████████████████▎          | 808 kB 12.6 MB/s eta 0:00:01\r",
      "\u001b[K     |█████████████████████▋          | 819 kB 12.6 MB/s eta 0:00:01\r",
      "\u001b[K     |█████████████████████▉          | 829 kB 12.6 MB/s eta 0:00:01\r",
      "\u001b[K     |██████████████████████▏         | 839 kB 12.6 MB/s eta 0:00:01\r",
      "\u001b[K     |██████████████████████▍         | 849 kB 12.6 MB/s eta 0:00:01\r",
      "\u001b[K     |██████████████████████▊         | 860 kB 12.6 MB/s eta 0:00:01\r",
      "\u001b[K     |███████████████████████         | 870 kB 12.6 MB/s eta 0:00:01\r",
      "\u001b[K     |███████████████████████▏        | 880 kB 12.6 MB/s eta 0:00:01\r",
      "\u001b[K     |███████████████████████▌        | 890 kB 12.6 MB/s eta 0:00:01\r",
      "\u001b[K     |███████████████████████▊        | 901 kB 12.6 MB/s eta 0:00:01\r",
      "\u001b[K     |████████████████████████        | 911 kB 12.6 MB/s eta 0:00:01\r",
      "\u001b[K     |████████████████████████▎       | 921 kB 12.6 MB/s eta 0:00:01\r",
      "\u001b[K     |████████████████████████▋       | 931 kB 12.6 MB/s eta 0:00:01\r",
      "\u001b[K     |████████████████████████▉       | 942 kB 12.6 MB/s eta 0:00:01\r",
      "\u001b[K     |█████████████████████████       | 952 kB 12.6 MB/s eta 0:00:01\r",
      "\u001b[K     |█████████████████████████▍      | 962 kB 12.6 MB/s eta 0:00:01\r",
      "\u001b[K     |█████████████████████████▋      | 972 kB 12.6 MB/s eta 0:00:01\r",
      "\u001b[K     |██████████████████████████      | 983 kB 12.6 MB/s eta 0:00:01\r",
      "\u001b[K     |██████████████████████████▏     | 993 kB 12.6 MB/s eta 0:00:01\r",
      "\u001b[K     |██████████████████████████▌     | 1.0 MB 12.6 MB/s eta 0:00:01\r",
      "\u001b[K     |██████████████████████████▊     | 1.0 MB 12.6 MB/s eta 0:00:01\r",
      "\u001b[K     |███████████████████████████     | 1.0 MB 12.6 MB/s eta 0:00:01\r",
      "\u001b[K     |███████████████████████████▎    | 1.0 MB 12.6 MB/s eta 0:00:01\r",
      "\u001b[K     |███████████████████████████▌    | 1.0 MB 12.6 MB/s eta 0:00:01\r",
      "\u001b[K     |███████████████████████████▉    | 1.1 MB 12.6 MB/s eta 0:00:01\r",
      "\u001b[K     |████████████████████████████    | 1.1 MB 12.6 MB/s eta 0:00:01\r",
      "\u001b[K     |████████████████████████████▍   | 1.1 MB 12.6 MB/s eta 0:00:01\r",
      "\u001b[K     |████████████████████████████▋   | 1.1 MB 12.6 MB/s eta 0:00:01\r",
      "\u001b[K     |████████████████████████████▉   | 1.1 MB 12.6 MB/s eta 0:00:01\r",
      "\u001b[K     |█████████████████████████████▏  | 1.1 MB 12.6 MB/s eta 0:00:01\r",
      "\u001b[K     |█████████████████████████████▍  | 1.1 MB 12.6 MB/s eta 0:00:01\r",
      "\u001b[K     |█████████████████████████████▊  | 1.1 MB 12.6 MB/s eta 0:00:01\r",
      "\u001b[K     |██████████████████████████████  | 1.1 MB 12.6 MB/s eta 0:00:01\r",
      "\u001b[K     |██████████████████████████████▎ | 1.1 MB 12.6 MB/s eta 0:00:01\r",
      "\u001b[K     |██████████████████████████████▌ | 1.2 MB 12.6 MB/s eta 0:00:01\r",
      "\u001b[K     |██████████████████████████████▊ | 1.2 MB 12.6 MB/s eta 0:00:01\r",
      "\u001b[K     |███████████████████████████████ | 1.2 MB 12.6 MB/s eta 0:00:01\r",
      "\u001b[K     |███████████████████████████████▎| 1.2 MB 12.6 MB/s eta 0:00:01\r",
      "\u001b[K     |███████████████████████████████▋| 1.2 MB 12.6 MB/s eta 0:00:01\r",
      "\u001b[K     |███████████████████████████████▉| 1.2 MB 12.6 MB/s eta 0:00:01\r",
      "\u001b[K     |████████████████████████████████| 1.2 MB 12.6 MB/s \n",
      "\u001b[?25hInstalling collected packages: sentencepiece\n",
      "Successfully installed sentencepiece-0.1.96\n"
     ]
    }
   ],
   "source": [
    "! pip install sentencepiece"
   ]
  },
  {
   "cell_type": "code",
   "execution_count": 2,
   "metadata": {
    "colab": {
     "base_uri": "https://localhost:8080/"
    },
    "id": "BEcqMrLLUUfK",
    "outputId": "e3cc9f41-9010-4be3-a51f-67cfc5c2de09"
   },
   "outputs": [
    {
     "name": "stdout",
     "output_type": "stream",
     "text": [
      "Collecting transformers\n",
      "  Downloading transformers-4.18.0-py3-none-any.whl (4.0 MB)\n",
      "\u001b[K     |████████████████████████████████| 4.0 MB 12.6 MB/s \n",
      "\u001b[?25hRequirement already satisfied: importlib-metadata in /usr/local/lib/python3.7/dist-packages (from transformers) (4.11.3)\n",
      "Requirement already satisfied: filelock in /usr/local/lib/python3.7/dist-packages (from transformers) (3.6.0)\n",
      "Requirement already satisfied: tqdm>=4.27 in /usr/local/lib/python3.7/dist-packages (from transformers) (4.64.0)\n",
      "Collecting pyyaml>=5.1\n",
      "  Downloading PyYAML-6.0-cp37-cp37m-manylinux_2_5_x86_64.manylinux1_x86_64.manylinux_2_12_x86_64.manylinux2010_x86_64.whl (596 kB)\n",
      "\u001b[K     |████████████████████████████████| 596 kB 54.4 MB/s \n",
      "\u001b[?25hRequirement already satisfied: regex!=2019.12.17 in /usr/local/lib/python3.7/dist-packages (from transformers) (2019.12.20)\n",
      "Collecting sacremoses\n",
      "  Downloading sacremoses-0.0.53.tar.gz (880 kB)\n",
      "\u001b[K     |████████████████████████████████| 880 kB 57.7 MB/s \n",
      "\u001b[?25hCollecting tokenizers!=0.11.3,<0.13,>=0.11.1\n",
      "  Downloading tokenizers-0.12.1-cp37-cp37m-manylinux_2_12_x86_64.manylinux2010_x86_64.whl (6.6 MB)\n",
      "\u001b[K     |████████████████████████████████| 6.6 MB 46.9 MB/s \n",
      "\u001b[?25hRequirement already satisfied: packaging>=20.0 in /usr/local/lib/python3.7/dist-packages (from transformers) (21.3)\n",
      "Requirement already satisfied: requests in /usr/local/lib/python3.7/dist-packages (from transformers) (2.23.0)\n",
      "Requirement already satisfied: numpy>=1.17 in /usr/local/lib/python3.7/dist-packages (from transformers) (1.21.6)\n",
      "Collecting huggingface-hub<1.0,>=0.1.0\n",
      "  Downloading huggingface_hub-0.5.1-py3-none-any.whl (77 kB)\n",
      "\u001b[K     |████████████████████████████████| 77 kB 6.1 MB/s \n",
      "\u001b[?25hRequirement already satisfied: typing-extensions>=3.7.4.3 in /usr/local/lib/python3.7/dist-packages (from huggingface-hub<1.0,>=0.1.0->transformers) (4.2.0)\n",
      "Requirement already satisfied: pyparsing!=3.0.5,>=2.0.2 in /usr/local/lib/python3.7/dist-packages (from packaging>=20.0->transformers) (3.0.8)\n",
      "Requirement already satisfied: zipp>=0.5 in /usr/local/lib/python3.7/dist-packages (from importlib-metadata->transformers) (3.8.0)\n",
      "Requirement already satisfied: certifi>=2017.4.17 in /usr/local/lib/python3.7/dist-packages (from requests->transformers) (2021.10.8)\n",
      "Requirement already satisfied: chardet<4,>=3.0.2 in /usr/local/lib/python3.7/dist-packages (from requests->transformers) (3.0.4)\n",
      "Requirement already satisfied: idna<3,>=2.5 in /usr/local/lib/python3.7/dist-packages (from requests->transformers) (2.10)\n",
      "Requirement already satisfied: urllib3!=1.25.0,!=1.25.1,<1.26,>=1.21.1 in /usr/local/lib/python3.7/dist-packages (from requests->transformers) (1.24.3)\n",
      "Requirement already satisfied: six in /usr/local/lib/python3.7/dist-packages (from sacremoses->transformers) (1.15.0)\n",
      "Requirement already satisfied: click in /usr/local/lib/python3.7/dist-packages (from sacremoses->transformers) (7.1.2)\n",
      "Requirement already satisfied: joblib in /usr/local/lib/python3.7/dist-packages (from sacremoses->transformers) (1.1.0)\n",
      "Building wheels for collected packages: sacremoses\n",
      "  Building wheel for sacremoses (setup.py) ... \u001b[?25l\u001b[?25hdone\n",
      "  Created wheel for sacremoses: filename=sacremoses-0.0.53-py3-none-any.whl size=895260 sha256=577d3233732908100aea7e5c44c8b7855cb3cc760300d35f1332e11dec0a4a48\n",
      "  Stored in directory: /root/.cache/pip/wheels/87/39/dd/a83eeef36d0bf98e7a4d1933a4ad2d660295a40613079bafc9\n",
      "Successfully built sacremoses\n",
      "Installing collected packages: pyyaml, tokenizers, sacremoses, huggingface-hub, transformers\n",
      "  Attempting uninstall: pyyaml\n",
      "    Found existing installation: PyYAML 3.13\n",
      "    Uninstalling PyYAML-3.13:\n",
      "      Successfully uninstalled PyYAML-3.13\n",
      "Successfully installed huggingface-hub-0.5.1 pyyaml-6.0 sacremoses-0.0.53 tokenizers-0.12.1 transformers-4.18.0\n"
     ]
    }
   ],
   "source": [
    "!pip install transformers"
   ]
  },
  {
   "cell_type": "code",
   "execution_count": 3,
   "metadata": {
    "colab": {
     "base_uri": "https://localhost:8080/"
    },
    "id": "3JDrTOmpxFvl",
    "outputId": "a5606373-ee40-4dd4-8f61-c8b9a81666eb"
   },
   "outputs": [
    {
     "name": "stdout",
     "output_type": "stream",
     "text": [
      "Mounted at /content/drive\n"
     ]
    }
   ],
   "source": [
    "from google.colab import drive\n",
    "drive.mount('/content/drive')\n",
    "filepath = '/content/drive/MyDrive/NLP_Project/'"
   ]
  },
  {
   "cell_type": "markdown",
   "metadata": {
    "id": "8BhMN0KvDHN1"
   },
   "source": [
    "Reading in the English train and test files "
   ]
  },
  {
   "cell_type": "code",
   "execution_count": 4,
   "metadata": {
    "id": "Ml8ku8Q51mgE"
   },
   "outputs": [],
   "source": [
    "with open('/content/drive/MyDrive/NLP_Project/English/tweet_by_ID_30_4_2022__04_17_45.txt.text') as f:\n",
    "    df_list = f.readlines()"
   ]
  },
  {
   "cell_type": "code",
   "execution_count": 5,
   "metadata": {
    "id": "kCbqn1v71quq"
   },
   "outputs": [],
   "source": [
    "import pandas as pd\n",
    "df_train_english = pd.DataFrame(df_list,\n",
    "                     columns = ['Tweets']) "
   ]
  },
  {
   "cell_type": "code",
   "execution_count": 6,
   "metadata": {
    "colab": {
     "base_uri": "https://localhost:8080/",
     "height": 206
    },
    "id": "YgiTJ5GgxMRN",
    "outputId": "bd3215a6-1c25-4261-bf36-6712246590e3"
   },
   "outputs": [
    {
     "data": {
      "text/html": [
       "\n",
       "  <div id=\"df-87ddecab-d1f2-48fa-b2ea-9f31e5e96ab8\">\n",
       "    <div class=\"colab-df-container\">\n",
       "      <div>\n",
       "<style scoped>\n",
       "    .dataframe tbody tr th:only-of-type {\n",
       "        vertical-align: middle;\n",
       "    }\n",
       "\n",
       "    .dataframe tbody tr th {\n",
       "        vertical-align: top;\n",
       "    }\n",
       "\n",
       "    .dataframe thead th {\n",
       "        text-align: right;\n",
       "    }\n",
       "</style>\n",
       "<table border=\"1\" class=\"dataframe\">\n",
       "  <thead>\n",
       "    <tr style=\"text-align: right;\">\n",
       "      <th></th>\n",
       "      <th>Tweets</th>\n",
       "    </tr>\n",
       "  </thead>\n",
       "  <tbody>\n",
       "    <tr>\n",
       "      <th>0</th>\n",
       "      <td>Step out and explore. # ️ @ Ellis Island Cafe \\n</td>\n",
       "    </tr>\n",
       "    <tr>\n",
       "      <th>1</th>\n",
       "      <td>@user @ Cathedral Preparatory School \\n</td>\n",
       "    </tr>\n",
       "    <tr>\n",
       "      <th>2</th>\n",
       "      <td>RuPaul's Drag Race bingo fun. Drag Queens be S...</td>\n",
       "    </tr>\n",
       "    <tr>\n",
       "      <th>3</th>\n",
       "      <td>Black History like a Mufffffaaaaaka #blacchyna...</td>\n",
       "    </tr>\n",
       "    <tr>\n",
       "      <th>4</th>\n",
       "      <td>@ BJ's Restaurant and Brewhouse \\n</td>\n",
       "    </tr>\n",
       "  </tbody>\n",
       "</table>\n",
       "</div>\n",
       "      <button class=\"colab-df-convert\" onclick=\"convertToInteractive('df-87ddecab-d1f2-48fa-b2ea-9f31e5e96ab8')\"\n",
       "              title=\"Convert this dataframe to an interactive table.\"\n",
       "              style=\"display:none;\">\n",
       "        \n",
       "  <svg xmlns=\"http://www.w3.org/2000/svg\" height=\"24px\"viewBox=\"0 0 24 24\"\n",
       "       width=\"24px\">\n",
       "    <path d=\"M0 0h24v24H0V0z\" fill=\"none\"/>\n",
       "    <path d=\"M18.56 5.44l.94 2.06.94-2.06 2.06-.94-2.06-.94-.94-2.06-.94 2.06-2.06.94zm-11 1L8.5 8.5l.94-2.06 2.06-.94-2.06-.94L8.5 2.5l-.94 2.06-2.06.94zm10 10l.94 2.06.94-2.06 2.06-.94-2.06-.94-.94-2.06-.94 2.06-2.06.94z\"/><path d=\"M17.41 7.96l-1.37-1.37c-.4-.4-.92-.59-1.43-.59-.52 0-1.04.2-1.43.59L10.3 9.45l-7.72 7.72c-.78.78-.78 2.05 0 2.83L4 21.41c.39.39.9.59 1.41.59.51 0 1.02-.2 1.41-.59l7.78-7.78 2.81-2.81c.8-.78.8-2.07 0-2.86zM5.41 20L4 18.59l7.72-7.72 1.47 1.35L5.41 20z\"/>\n",
       "  </svg>\n",
       "      </button>\n",
       "      \n",
       "  <style>\n",
       "    .colab-df-container {\n",
       "      display:flex;\n",
       "      flex-wrap:wrap;\n",
       "      gap: 12px;\n",
       "    }\n",
       "\n",
       "    .colab-df-convert {\n",
       "      background-color: #E8F0FE;\n",
       "      border: none;\n",
       "      border-radius: 50%;\n",
       "      cursor: pointer;\n",
       "      display: none;\n",
       "      fill: #1967D2;\n",
       "      height: 32px;\n",
       "      padding: 0 0 0 0;\n",
       "      width: 32px;\n",
       "    }\n",
       "\n",
       "    .colab-df-convert:hover {\n",
       "      background-color: #E2EBFA;\n",
       "      box-shadow: 0px 1px 2px rgba(60, 64, 67, 0.3), 0px 1px 3px 1px rgba(60, 64, 67, 0.15);\n",
       "      fill: #174EA6;\n",
       "    }\n",
       "\n",
       "    [theme=dark] .colab-df-convert {\n",
       "      background-color: #3B4455;\n",
       "      fill: #D2E3FC;\n",
       "    }\n",
       "\n",
       "    [theme=dark] .colab-df-convert:hover {\n",
       "      background-color: #434B5C;\n",
       "      box-shadow: 0px 1px 3px 1px rgba(0, 0, 0, 0.15);\n",
       "      filter: drop-shadow(0px 1px 2px rgba(0, 0, 0, 0.3));\n",
       "      fill: #FFFFFF;\n",
       "    }\n",
       "  </style>\n",
       "\n",
       "      <script>\n",
       "        const buttonEl =\n",
       "          document.querySelector('#df-87ddecab-d1f2-48fa-b2ea-9f31e5e96ab8 button.colab-df-convert');\n",
       "        buttonEl.style.display =\n",
       "          google.colab.kernel.accessAllowed ? 'block' : 'none';\n",
       "\n",
       "        async function convertToInteractive(key) {\n",
       "          const element = document.querySelector('#df-87ddecab-d1f2-48fa-b2ea-9f31e5e96ab8');\n",
       "          const dataTable =\n",
       "            await google.colab.kernel.invokeFunction('convertToInteractive',\n",
       "                                                     [key], {});\n",
       "          if (!dataTable) return;\n",
       "\n",
       "          const docLinkHtml = 'Like what you see? Visit the ' +\n",
       "            '<a target=\"_blank\" href=https://colab.research.google.com/notebooks/data_table.ipynb>data table notebook</a>'\n",
       "            + ' to learn more about interactive tables.';\n",
       "          element.innerHTML = '';\n",
       "          dataTable['output_type'] = 'display_data';\n",
       "          await google.colab.output.renderOutput(dataTable, element);\n",
       "          const docLink = document.createElement('div');\n",
       "          docLink.innerHTML = docLinkHtml;\n",
       "          element.appendChild(docLink);\n",
       "        }\n",
       "      </script>\n",
       "    </div>\n",
       "  </div>\n",
       "  "
      ],
      "text/plain": [
       "                                              Tweets\n",
       "0   Step out and explore. # ️ @ Ellis Island Cafe \\n\n",
       "1            @user @ Cathedral Preparatory School \\n\n",
       "2  RuPaul's Drag Race bingo fun. Drag Queens be S...\n",
       "3  Black History like a Mufffffaaaaaka #blacchyna...\n",
       "4                 @ BJ's Restaurant and Brewhouse \\n"
      ]
     },
     "execution_count": 6,
     "metadata": {},
     "output_type": "execute_result"
    }
   ],
   "source": [
    "df_train_english.head()"
   ]
  },
  {
   "cell_type": "code",
   "execution_count": 7,
   "metadata": {
    "id": "v7XxK71o1zU8"
   },
   "outputs": [],
   "source": [
    "with open('/content/drive/MyDrive/NLP_Project/English/tweet_by_ID_30_4_2022__04_17_45.txt.labels') as f:\n",
    "    df_test_list = f.readlines()\n"
   ]
  },
  {
   "cell_type": "code",
   "execution_count": 8,
   "metadata": {
    "id": "n3bDOZYT2KUC"
   },
   "outputs": [],
   "source": [
    "label_list = []\n",
    "for each_label in df_test_list:\n",
    "  label_list.append(int(each_label.replace('\\n','')))"
   ]
  },
  {
   "cell_type": "code",
   "execution_count": 9,
   "metadata": {
    "id": "HQZI0kzN2RGe"
   },
   "outputs": [],
   "source": [
    "df_english_labels = pd.DataFrame(label_list,\n",
    "                     columns = ['Labels']) "
   ]
  },
  {
   "cell_type": "code",
   "execution_count": 10,
   "metadata": {
    "id": "Wb3yFpWBxVYH"
   },
   "outputs": [],
   "source": [
    "# Get the lists of sentences and their labels.\n",
    "train_sentences = df_train_english.Tweets\n",
    "train_labels = df_english_labels.Labels"
   ]
  },
  {
   "cell_type": "code",
   "execution_count": 25,
   "metadata": {
    "colab": {
     "base_uri": "https://localhost:8080/",
     "height": 81,
     "referenced_widgets": [
      "ca43aab664614fdb8b866e503c9efca1",
      "b33c12306b5e426ea24422f8964bb8ba",
      "49937dc053ab495b97fcddeb6bb7bfbf",
      "9942dbd1b07b49a8a355ab8d650f2d59",
      "c4a4ebab60dd483da96e8eb69f552550",
      "cf7e3e5c60c44a0490037f030e08f91f",
      "8d003f1e88e54cfc9c92a7198268bb03",
      "064e405d01bd46c295bde89b14068f6f",
      "f0c8da3f3f2546eab17efffd1585382d",
      "e856d159bb8a413e89ffac09a5478c20",
      "bdc27d66b0d741f5b73bf2adf792cab8",
      "e95ac7b213194aefbedf28393943ff93",
      "d11d117fb96a4693b2a13edc4fea080b",
      "4a72e15626f340bfa890c472f4176555",
      "a35310779c544b2dbbfad19817c9aa41",
      "65315fa5d3144c2b9df64b1ba91bb388",
      "55c9b2d908af42fc84c2e803c4c253e2",
      "64dfc9f215564cef9a94b09111b7715a",
      "42638127e06e4aa0a80391fea92ded05",
      "f50e1f7b0dfb406da34ac5a75b84fb9f",
      "0a9d2284ed6e445ca8d6f987bc8cde9c",
      "afd0f0eea1234defb911c7c46996408b"
     ]
    },
    "id": "0DH7kQy-3RlW",
    "outputId": "b4ed73b4-4061-4f3b-ef55-07c7073583ce"
   },
   "outputs": [
    {
     "data": {
      "application/vnd.jupyter.widget-view+json": {
       "model_id": "ca43aab664614fdb8b866e503c9efca1",
       "version_major": 2,
       "version_minor": 0
      },
      "text/plain": [
       "Downloading:   0%|          | 0.00/4.83M [00:00<?, ?B/s]"
      ]
     },
     "metadata": {},
     "output_type": "display_data"
    },
    {
     "data": {
      "application/vnd.jupyter.widget-view+json": {
       "model_id": "e95ac7b213194aefbedf28393943ff93",
       "version_major": 2,
       "version_minor": 0
      },
      "text/plain": [
       "Downloading:   0%|          | 0.00/615 [00:00<?, ?B/s]"
      ]
     },
     "metadata": {},
     "output_type": "display_data"
    }
   ],
   "source": [
    "from transformers import XLMRobertaTokenizer, XLMRobertaForSequenceClassification\n",
    "checkpoint = 'xlm-roberta-base'\n",
    "tokenizer = XLMRobertaTokenizer.from_pretrained('xlm-roberta-base', do_lower_case=True)"
   ]
  },
  {
   "cell_type": "code",
   "execution_count": null,
   "metadata": {
    "colab": {
     "base_uri": "https://localhost:8080/"
    },
    "id": "N9DOSwt4wzt-",
    "outputId": "8f3fa7ab-00f4-4108-9c68-350c7dcc0917"
   },
   "outputs": [
    {
     "name": "stdout",
     "output_type": "stream",
     "text": [
      "Max sentence length:  82\n"
     ]
    }
   ],
   "source": [
    "max_len = 0\n",
    "\n",
    "# For every sentence...\n",
    "for sent1 in train_sentences:\n",
    "\n",
    "    # Tokenize the text and add `[CLS]` and `[SEP]` tokens.\n",
    "    input_ids = tokenizer.encode(sent1, add_special_tokens=True)\n",
    "    #print(sent1,sent2)\n",
    "    #print(input_ids)\n",
    "\n",
    "    # Update the maximum sentence length.\n",
    "    max_len = max(max_len, len(input_ids))\n",
    "\n",
    "print('Max sentence length: ', max_len)"
   ]
  },
  {
   "cell_type": "code",
   "execution_count": 23,
   "metadata": {
    "colab": {
     "base_uri": "https://localhost:8080/"
    },
    "id": "D8lkEXH6w-Dm",
    "outputId": "8f5d0ab7-8346-4396-af43-5d26e19e9944"
   },
   "outputs": [
    {
     "name": "stdout",
     "output_type": "stream",
     "text": [
      "There are 1 GPU(s) available.\n",
      "We will use the GPU: Tesla P100-PCIE-16GB\n"
     ]
    }
   ],
   "source": [
    "import torch\n",
    "\n",
    "# If there's a GPU available...\n",
    "if torch.cuda.is_available():    \n",
    "\n",
    "    # Tell PyTorch to use the GPU.    \n",
    "    device = torch.device(\"cuda\")\n",
    "\n",
    "    print('There are %d GPU(s) available.' % torch.cuda.device_count())\n",
    "\n",
    "    print('We will use the GPU:', torch.cuda.get_device_name(0))\n",
    "\n",
    "# If not...\n",
    "else:\n",
    "    print('No GPU available, using the CPU instead.')\n",
    "    device = torch.device(\"cpu\")"
   ]
  },
  {
   "cell_type": "code",
   "execution_count": null,
   "metadata": {
    "id": "uoFS2IftxeJX"
   },
   "outputs": [],
   "source": [
    "import torch\n",
    "def process_trainingdata(tokenizer,training_set):\n",
    "  # Tokenize all of the sentences and map the tokens to thier word IDs.\n",
    "  input_ids = []\n",
    "  attention_masks = []\n",
    "  token_type_ids=[]\n",
    "\n",
    "  # For every sentence...\n",
    "  for sent1 in training_set:\n",
    "    encoded_dict = tokenizer(\n",
    "                        sent1,\n",
    "                                              # Sentence to encode.\n",
    "                        add_special_tokens = True, # Add '[CLS]' and '[SEP]'\n",
    "                        max_length = 140,           # Pad & truncate all sentences.\n",
    "                        pad_to_max_length = True,\n",
    "                        return_attention_mask = True,   # Construct attn. masks.\n",
    "                        return_tensors = 'pt',     # Return pytorch tensors.\n",
    "                   )\n",
    "    \n",
    "    # Add the encoded sentence to the list.    \n",
    "    input_ids.append(encoded_dict['input_ids'])\n",
    "    \n",
    "    # And its attention mask (simply differentiates padding from non-padding).\n",
    "    attention_masks.append(encoded_dict['attention_mask'])\n",
    "\n",
    "\n",
    "  # Convert the lists into tensors.\n",
    "  input_ids = torch.cat(input_ids, dim=0)\n",
    "  attention_masks = torch.cat(attention_masks, dim=0)\n",
    "\n",
    "  labels = torch.tensor(train_labels)\n",
    "\n",
    "  # Print sentence 0, now as a list of IDs.\n",
    "  print('Original: ', train_sentences[0])\n",
    "  print('Token IDs:', input_ids[0])\n",
    "\n",
    "  return input_ids,attention_masks,labels"
   ]
  },
  {
   "cell_type": "code",
   "execution_count": null,
   "metadata": {
    "colab": {
     "base_uri": "https://localhost:8080/"
    },
    "id": "KeF241dZxhbI",
    "outputId": "50a20734-1fad-49e3-a4fa-8405586f13bf"
   },
   "outputs": [
    {
     "name": "stderr",
     "output_type": "stream",
     "text": [
      "/usr/local/lib/python3.7/dist-packages/transformers/tokenization_utils_base.py:2269: FutureWarning: The `pad_to_max_length` argument is deprecated and will be removed in a future version, use `padding=True` or `padding='longest'` to pad to the longest sequence in the batch, or use `padding='max_length'` to pad to a max length. In this case, you can give a specific length with `max_length` (e.g. `max_length=45`) or leave max_length to None to pad to the maximal input size of the model (e.g. 512 for Bert).\n",
      "  FutureWarning,\n"
     ]
    },
    {
     "name": "stdout",
     "output_type": "stream",
     "text": [
      "Original:  Step out and explore. # ️ @ Ellis Island Cafe \n",
      "\n",
      "Token IDs: tensor([    0, 50478,  1810,   136, 88898,     5,   468,     6, 15755,  1374,\n",
      "          540,  4086, 18481, 53772,     2,     1,     1,     1,     1,     1,\n",
      "            1,     1,     1,     1,     1,     1,     1,     1,     1,     1,\n",
      "            1,     1,     1,     1,     1,     1,     1,     1,     1,     1,\n",
      "            1,     1,     1,     1,     1,     1,     1,     1,     1,     1,\n",
      "            1,     1,     1,     1,     1,     1,     1,     1,     1,     1,\n",
      "            1,     1,     1,     1,     1,     1,     1,     1,     1,     1,\n",
      "            1,     1,     1,     1,     1,     1,     1,     1,     1,     1,\n",
      "            1,     1,     1,     1,     1,     1,     1,     1,     1,     1,\n",
      "            1,     1,     1,     1,     1,     1,     1,     1,     1,     1,\n",
      "            1,     1,     1,     1,     1,     1,     1,     1,     1,     1,\n",
      "            1,     1,     1,     1,     1,     1,     1,     1,     1,     1,\n",
      "            1,     1,     1,     1,     1,     1,     1,     1,     1,     1,\n",
      "            1,     1,     1,     1,     1,     1,     1,     1,     1,     1])\n"
     ]
    }
   ],
   "source": [
    "input_ids_bert,attention_masks_bert,labels_bert = process_trainingdata(tokenizer,train_sentences)"
   ]
  },
  {
   "cell_type": "markdown",
   "metadata": {
    "id": "dq5CTZSODPO6"
   },
   "source": [
    "Splitting the train data into train and validation sets "
   ]
  },
  {
   "cell_type": "code",
   "execution_count": 28,
   "metadata": {
    "id": "gxWg9ErNxi76"
   },
   "outputs": [],
   "source": [
    "from torch.utils.data import TensorDataset, random_split\n",
    "\n",
    "def datasetsize(input_ids, attention_masks, labels):\n",
    "  dataset = TensorDataset(input_ids, attention_masks, labels)\n",
    "\n",
    "  train_size = int(0.9 * len(dataset))\n",
    "  val_size = len(dataset) - train_size\n",
    "\n",
    "  train_dataset, val_dataset = random_split(dataset, [train_size, val_size])\n",
    "\n",
    "  print('{:>5,} training samples'.format(train_size))\n",
    "  print('{:>5,} validation samples'.format(val_size)) \n",
    "  return train_dataset,val_dataset"
   ]
  },
  {
   "cell_type": "code",
   "execution_count": null,
   "metadata": {
    "colab": {
     "base_uri": "https://localhost:8080/"
    },
    "id": "CQN2trLRxi5v",
    "outputId": "50660f1e-40b6-467f-b2a2-f67949355b02"
   },
   "outputs": [
    {
     "name": "stdout",
     "output_type": "stream",
     "text": [
      "346,747 training samples\n",
      "38,528 validation samples\n"
     ]
    }
   ],
   "source": [
    "train_dataset_bert,val_dataset_bert = datasetsize(input_ids_bert,attention_masks_bert,labels_bert)"
   ]
  },
  {
   "cell_type": "code",
   "execution_count": 31,
   "metadata": {
    "id": "yfGIUF9xxurG"
   },
   "outputs": [],
   "source": [
    "from torch.utils.data import DataLoader, RandomSampler, SequentialSampler\n",
    "def dataloader(size,train_dataset,val_dataset):\n",
    "  batch_size = size\n",
    " \n",
    "  train_dataloader = DataLoader(\n",
    "            train_dataset,  # The training samples.\n",
    "            sampler = RandomSampler(train_dataset), # Select batches randomly\n",
    "            batch_size = batch_size # Trains with this batch size.\n",
    "        )\n",
    "  validation_dataloader = DataLoader(\n",
    "            val_dataset, # The validation samples.\n",
    "            sampler = SequentialSampler(val_dataset), # Pull out batches sequentially.\n",
    "            batch_size = batch_size # Evaluate with this batch size.\n",
    "        )\n",
    "  return train_dataloader, validation_dataloader"
   ]
  },
  {
   "cell_type": "code",
   "execution_count": null,
   "metadata": {
    "id": "V78mxtNlxuop"
   },
   "outputs": [],
   "source": [
    "train_dataloader_bert, validation_dataloader_bert = dataloader(16,train_dataset_bert,val_dataset_bert)"
   ]
  },
  {
   "cell_type": "markdown",
   "metadata": {
    "id": "w91QYQ7JDT1g"
   },
   "source": [
    "Initializing the model for XLM Roberta Sequence Classification"
   ]
  },
  {
   "cell_type": "code",
   "execution_count": null,
   "metadata": {
    "colab": {
     "base_uri": "https://localhost:8080/",
     "height": 1000,
     "referenced_widgets": [
      "21afc59b04ee4f8fbb72a4af49099e17",
      "62c7ae5e960943b8b2f1f2ef4211fef3",
      "cda5930feca44dcfb6206c4fb4e5d863",
      "919da0ee5fe142748cc5ccf04f58cb2b",
      "4bedd3b819af477e90a7c259982c3003",
      "83c63339c8b845efa25a29c99d313b4a",
      "e4fb252d22704f58ba285ad6e9356ee9",
      "6f77fd277c864cfda0b3881150dc1572",
      "fc3c215ea0a04ddb9a508be651f3fdd1",
      "d49163f5a01b4a78ba1eda1dfdfc8646",
      "339a9ea32d664be290e7d841cdd3c031"
     ]
    },
    "id": "thH-MXpAxul8",
    "outputId": "c55bce34-b788-406c-e7db-ad62a6894cd5"
   },
   "outputs": [
    {
     "data": {
      "application/vnd.jupyter.widget-view+json": {
       "model_id": "21afc59b04ee4f8fbb72a4af49099e17",
       "version_major": 2,
       "version_minor": 0
      },
      "text/plain": [
       "Downloading:   0%|          | 0.00/1.04G [00:00<?, ?B/s]"
      ]
     },
     "metadata": {},
     "output_type": "display_data"
    },
    {
     "name": "stderr",
     "output_type": "stream",
     "text": [
      "Some weights of the model checkpoint at xlm-roberta-base were not used when initializing XLMRobertaForSequenceClassification: ['lm_head.layer_norm.bias', 'lm_head.dense.bias', 'lm_head.bias', 'roberta.pooler.dense.weight', 'lm_head.layer_norm.weight', 'lm_head.decoder.weight', 'lm_head.dense.weight', 'roberta.pooler.dense.bias']\n",
      "- This IS expected if you are initializing XLMRobertaForSequenceClassification from the checkpoint of a model trained on another task or with another architecture (e.g. initializing a BertForSequenceClassification model from a BertForPreTraining model).\n",
      "- This IS NOT expected if you are initializing XLMRobertaForSequenceClassification from the checkpoint of a model that you expect to be exactly identical (initializing a BertForSequenceClassification model from a BertForSequenceClassification model).\n",
      "Some weights of XLMRobertaForSequenceClassification were not initialized from the model checkpoint at xlm-roberta-base and are newly initialized: ['classifier.dense.bias', 'classifier.dense.weight', 'classifier.out_proj.bias', 'classifier.out_proj.weight']\n",
      "You should probably TRAIN this model on a down-stream task to be able to use it for predictions and inference.\n"
     ]
    },
    {
     "data": {
      "text/plain": [
       "XLMRobertaForSequenceClassification(\n",
       "  (roberta): RobertaModel(\n",
       "    (embeddings): RobertaEmbeddings(\n",
       "      (word_embeddings): Embedding(250002, 768, padding_idx=1)\n",
       "      (position_embeddings): Embedding(514, 768, padding_idx=1)\n",
       "      (token_type_embeddings): Embedding(1, 768)\n",
       "      (LayerNorm): LayerNorm((768,), eps=1e-05, elementwise_affine=True)\n",
       "      (dropout): Dropout(p=0.1, inplace=False)\n",
       "    )\n",
       "    (encoder): RobertaEncoder(\n",
       "      (layer): ModuleList(\n",
       "        (0): RobertaLayer(\n",
       "          (attention): RobertaAttention(\n",
       "            (self): RobertaSelfAttention(\n",
       "              (query): Linear(in_features=768, out_features=768, bias=True)\n",
       "              (key): Linear(in_features=768, out_features=768, bias=True)\n",
       "              (value): Linear(in_features=768, out_features=768, bias=True)\n",
       "              (dropout): Dropout(p=0.1, inplace=False)\n",
       "            )\n",
       "            (output): RobertaSelfOutput(\n",
       "              (dense): Linear(in_features=768, out_features=768, bias=True)\n",
       "              (LayerNorm): LayerNorm((768,), eps=1e-05, elementwise_affine=True)\n",
       "              (dropout): Dropout(p=0.1, inplace=False)\n",
       "            )\n",
       "          )\n",
       "          (intermediate): RobertaIntermediate(\n",
       "            (dense): Linear(in_features=768, out_features=3072, bias=True)\n",
       "            (intermediate_act_fn): GELUActivation()\n",
       "          )\n",
       "          (output): RobertaOutput(\n",
       "            (dense): Linear(in_features=3072, out_features=768, bias=True)\n",
       "            (LayerNorm): LayerNorm((768,), eps=1e-05, elementwise_affine=True)\n",
       "            (dropout): Dropout(p=0.1, inplace=False)\n",
       "          )\n",
       "        )\n",
       "        (1): RobertaLayer(\n",
       "          (attention): RobertaAttention(\n",
       "            (self): RobertaSelfAttention(\n",
       "              (query): Linear(in_features=768, out_features=768, bias=True)\n",
       "              (key): Linear(in_features=768, out_features=768, bias=True)\n",
       "              (value): Linear(in_features=768, out_features=768, bias=True)\n",
       "              (dropout): Dropout(p=0.1, inplace=False)\n",
       "            )\n",
       "            (output): RobertaSelfOutput(\n",
       "              (dense): Linear(in_features=768, out_features=768, bias=True)\n",
       "              (LayerNorm): LayerNorm((768,), eps=1e-05, elementwise_affine=True)\n",
       "              (dropout): Dropout(p=0.1, inplace=False)\n",
       "            )\n",
       "          )\n",
       "          (intermediate): RobertaIntermediate(\n",
       "            (dense): Linear(in_features=768, out_features=3072, bias=True)\n",
       "            (intermediate_act_fn): GELUActivation()\n",
       "          )\n",
       "          (output): RobertaOutput(\n",
       "            (dense): Linear(in_features=3072, out_features=768, bias=True)\n",
       "            (LayerNorm): LayerNorm((768,), eps=1e-05, elementwise_affine=True)\n",
       "            (dropout): Dropout(p=0.1, inplace=False)\n",
       "          )\n",
       "        )\n",
       "        (2): RobertaLayer(\n",
       "          (attention): RobertaAttention(\n",
       "            (self): RobertaSelfAttention(\n",
       "              (query): Linear(in_features=768, out_features=768, bias=True)\n",
       "              (key): Linear(in_features=768, out_features=768, bias=True)\n",
       "              (value): Linear(in_features=768, out_features=768, bias=True)\n",
       "              (dropout): Dropout(p=0.1, inplace=False)\n",
       "            )\n",
       "            (output): RobertaSelfOutput(\n",
       "              (dense): Linear(in_features=768, out_features=768, bias=True)\n",
       "              (LayerNorm): LayerNorm((768,), eps=1e-05, elementwise_affine=True)\n",
       "              (dropout): Dropout(p=0.1, inplace=False)\n",
       "            )\n",
       "          )\n",
       "          (intermediate): RobertaIntermediate(\n",
       "            (dense): Linear(in_features=768, out_features=3072, bias=True)\n",
       "            (intermediate_act_fn): GELUActivation()\n",
       "          )\n",
       "          (output): RobertaOutput(\n",
       "            (dense): Linear(in_features=3072, out_features=768, bias=True)\n",
       "            (LayerNorm): LayerNorm((768,), eps=1e-05, elementwise_affine=True)\n",
       "            (dropout): Dropout(p=0.1, inplace=False)\n",
       "          )\n",
       "        )\n",
       "        (3): RobertaLayer(\n",
       "          (attention): RobertaAttention(\n",
       "            (self): RobertaSelfAttention(\n",
       "              (query): Linear(in_features=768, out_features=768, bias=True)\n",
       "              (key): Linear(in_features=768, out_features=768, bias=True)\n",
       "              (value): Linear(in_features=768, out_features=768, bias=True)\n",
       "              (dropout): Dropout(p=0.1, inplace=False)\n",
       "            )\n",
       "            (output): RobertaSelfOutput(\n",
       "              (dense): Linear(in_features=768, out_features=768, bias=True)\n",
       "              (LayerNorm): LayerNorm((768,), eps=1e-05, elementwise_affine=True)\n",
       "              (dropout): Dropout(p=0.1, inplace=False)\n",
       "            )\n",
       "          )\n",
       "          (intermediate): RobertaIntermediate(\n",
       "            (dense): Linear(in_features=768, out_features=3072, bias=True)\n",
       "            (intermediate_act_fn): GELUActivation()\n",
       "          )\n",
       "          (output): RobertaOutput(\n",
       "            (dense): Linear(in_features=3072, out_features=768, bias=True)\n",
       "            (LayerNorm): LayerNorm((768,), eps=1e-05, elementwise_affine=True)\n",
       "            (dropout): Dropout(p=0.1, inplace=False)\n",
       "          )\n",
       "        )\n",
       "        (4): RobertaLayer(\n",
       "          (attention): RobertaAttention(\n",
       "            (self): RobertaSelfAttention(\n",
       "              (query): Linear(in_features=768, out_features=768, bias=True)\n",
       "              (key): Linear(in_features=768, out_features=768, bias=True)\n",
       "              (value): Linear(in_features=768, out_features=768, bias=True)\n",
       "              (dropout): Dropout(p=0.1, inplace=False)\n",
       "            )\n",
       "            (output): RobertaSelfOutput(\n",
       "              (dense): Linear(in_features=768, out_features=768, bias=True)\n",
       "              (LayerNorm): LayerNorm((768,), eps=1e-05, elementwise_affine=True)\n",
       "              (dropout): Dropout(p=0.1, inplace=False)\n",
       "            )\n",
       "          )\n",
       "          (intermediate): RobertaIntermediate(\n",
       "            (dense): Linear(in_features=768, out_features=3072, bias=True)\n",
       "            (intermediate_act_fn): GELUActivation()\n",
       "          )\n",
       "          (output): RobertaOutput(\n",
       "            (dense): Linear(in_features=3072, out_features=768, bias=True)\n",
       "            (LayerNorm): LayerNorm((768,), eps=1e-05, elementwise_affine=True)\n",
       "            (dropout): Dropout(p=0.1, inplace=False)\n",
       "          )\n",
       "        )\n",
       "        (5): RobertaLayer(\n",
       "          (attention): RobertaAttention(\n",
       "            (self): RobertaSelfAttention(\n",
       "              (query): Linear(in_features=768, out_features=768, bias=True)\n",
       "              (key): Linear(in_features=768, out_features=768, bias=True)\n",
       "              (value): Linear(in_features=768, out_features=768, bias=True)\n",
       "              (dropout): Dropout(p=0.1, inplace=False)\n",
       "            )\n",
       "            (output): RobertaSelfOutput(\n",
       "              (dense): Linear(in_features=768, out_features=768, bias=True)\n",
       "              (LayerNorm): LayerNorm((768,), eps=1e-05, elementwise_affine=True)\n",
       "              (dropout): Dropout(p=0.1, inplace=False)\n",
       "            )\n",
       "          )\n",
       "          (intermediate): RobertaIntermediate(\n",
       "            (dense): Linear(in_features=768, out_features=3072, bias=True)\n",
       "            (intermediate_act_fn): GELUActivation()\n",
       "          )\n",
       "          (output): RobertaOutput(\n",
       "            (dense): Linear(in_features=3072, out_features=768, bias=True)\n",
       "            (LayerNorm): LayerNorm((768,), eps=1e-05, elementwise_affine=True)\n",
       "            (dropout): Dropout(p=0.1, inplace=False)\n",
       "          )\n",
       "        )\n",
       "        (6): RobertaLayer(\n",
       "          (attention): RobertaAttention(\n",
       "            (self): RobertaSelfAttention(\n",
       "              (query): Linear(in_features=768, out_features=768, bias=True)\n",
       "              (key): Linear(in_features=768, out_features=768, bias=True)\n",
       "              (value): Linear(in_features=768, out_features=768, bias=True)\n",
       "              (dropout): Dropout(p=0.1, inplace=False)\n",
       "            )\n",
       "            (output): RobertaSelfOutput(\n",
       "              (dense): Linear(in_features=768, out_features=768, bias=True)\n",
       "              (LayerNorm): LayerNorm((768,), eps=1e-05, elementwise_affine=True)\n",
       "              (dropout): Dropout(p=0.1, inplace=False)\n",
       "            )\n",
       "          )\n",
       "          (intermediate): RobertaIntermediate(\n",
       "            (dense): Linear(in_features=768, out_features=3072, bias=True)\n",
       "            (intermediate_act_fn): GELUActivation()\n",
       "          )\n",
       "          (output): RobertaOutput(\n",
       "            (dense): Linear(in_features=3072, out_features=768, bias=True)\n",
       "            (LayerNorm): LayerNorm((768,), eps=1e-05, elementwise_affine=True)\n",
       "            (dropout): Dropout(p=0.1, inplace=False)\n",
       "          )\n",
       "        )\n",
       "        (7): RobertaLayer(\n",
       "          (attention): RobertaAttention(\n",
       "            (self): RobertaSelfAttention(\n",
       "              (query): Linear(in_features=768, out_features=768, bias=True)\n",
       "              (key): Linear(in_features=768, out_features=768, bias=True)\n",
       "              (value): Linear(in_features=768, out_features=768, bias=True)\n",
       "              (dropout): Dropout(p=0.1, inplace=False)\n",
       "            )\n",
       "            (output): RobertaSelfOutput(\n",
       "              (dense): Linear(in_features=768, out_features=768, bias=True)\n",
       "              (LayerNorm): LayerNorm((768,), eps=1e-05, elementwise_affine=True)\n",
       "              (dropout): Dropout(p=0.1, inplace=False)\n",
       "            )\n",
       "          )\n",
       "          (intermediate): RobertaIntermediate(\n",
       "            (dense): Linear(in_features=768, out_features=3072, bias=True)\n",
       "            (intermediate_act_fn): GELUActivation()\n",
       "          )\n",
       "          (output): RobertaOutput(\n",
       "            (dense): Linear(in_features=3072, out_features=768, bias=True)\n",
       "            (LayerNorm): LayerNorm((768,), eps=1e-05, elementwise_affine=True)\n",
       "            (dropout): Dropout(p=0.1, inplace=False)\n",
       "          )\n",
       "        )\n",
       "        (8): RobertaLayer(\n",
       "          (attention): RobertaAttention(\n",
       "            (self): RobertaSelfAttention(\n",
       "              (query): Linear(in_features=768, out_features=768, bias=True)\n",
       "              (key): Linear(in_features=768, out_features=768, bias=True)\n",
       "              (value): Linear(in_features=768, out_features=768, bias=True)\n",
       "              (dropout): Dropout(p=0.1, inplace=False)\n",
       "            )\n",
       "            (output): RobertaSelfOutput(\n",
       "              (dense): Linear(in_features=768, out_features=768, bias=True)\n",
       "              (LayerNorm): LayerNorm((768,), eps=1e-05, elementwise_affine=True)\n",
       "              (dropout): Dropout(p=0.1, inplace=False)\n",
       "            )\n",
       "          )\n",
       "          (intermediate): RobertaIntermediate(\n",
       "            (dense): Linear(in_features=768, out_features=3072, bias=True)\n",
       "            (intermediate_act_fn): GELUActivation()\n",
       "          )\n",
       "          (output): RobertaOutput(\n",
       "            (dense): Linear(in_features=3072, out_features=768, bias=True)\n",
       "            (LayerNorm): LayerNorm((768,), eps=1e-05, elementwise_affine=True)\n",
       "            (dropout): Dropout(p=0.1, inplace=False)\n",
       "          )\n",
       "        )\n",
       "        (9): RobertaLayer(\n",
       "          (attention): RobertaAttention(\n",
       "            (self): RobertaSelfAttention(\n",
       "              (query): Linear(in_features=768, out_features=768, bias=True)\n",
       "              (key): Linear(in_features=768, out_features=768, bias=True)\n",
       "              (value): Linear(in_features=768, out_features=768, bias=True)\n",
       "              (dropout): Dropout(p=0.1, inplace=False)\n",
       "            )\n",
       "            (output): RobertaSelfOutput(\n",
       "              (dense): Linear(in_features=768, out_features=768, bias=True)\n",
       "              (LayerNorm): LayerNorm((768,), eps=1e-05, elementwise_affine=True)\n",
       "              (dropout): Dropout(p=0.1, inplace=False)\n",
       "            )\n",
       "          )\n",
       "          (intermediate): RobertaIntermediate(\n",
       "            (dense): Linear(in_features=768, out_features=3072, bias=True)\n",
       "            (intermediate_act_fn): GELUActivation()\n",
       "          )\n",
       "          (output): RobertaOutput(\n",
       "            (dense): Linear(in_features=3072, out_features=768, bias=True)\n",
       "            (LayerNorm): LayerNorm((768,), eps=1e-05, elementwise_affine=True)\n",
       "            (dropout): Dropout(p=0.1, inplace=False)\n",
       "          )\n",
       "        )\n",
       "        (10): RobertaLayer(\n",
       "          (attention): RobertaAttention(\n",
       "            (self): RobertaSelfAttention(\n",
       "              (query): Linear(in_features=768, out_features=768, bias=True)\n",
       "              (key): Linear(in_features=768, out_features=768, bias=True)\n",
       "              (value): Linear(in_features=768, out_features=768, bias=True)\n",
       "              (dropout): Dropout(p=0.1, inplace=False)\n",
       "            )\n",
       "            (output): RobertaSelfOutput(\n",
       "              (dense): Linear(in_features=768, out_features=768, bias=True)\n",
       "              (LayerNorm): LayerNorm((768,), eps=1e-05, elementwise_affine=True)\n",
       "              (dropout): Dropout(p=0.1, inplace=False)\n",
       "            )\n",
       "          )\n",
       "          (intermediate): RobertaIntermediate(\n",
       "            (dense): Linear(in_features=768, out_features=3072, bias=True)\n",
       "            (intermediate_act_fn): GELUActivation()\n",
       "          )\n",
       "          (output): RobertaOutput(\n",
       "            (dense): Linear(in_features=3072, out_features=768, bias=True)\n",
       "            (LayerNorm): LayerNorm((768,), eps=1e-05, elementwise_affine=True)\n",
       "            (dropout): Dropout(p=0.1, inplace=False)\n",
       "          )\n",
       "        )\n",
       "        (11): RobertaLayer(\n",
       "          (attention): RobertaAttention(\n",
       "            (self): RobertaSelfAttention(\n",
       "              (query): Linear(in_features=768, out_features=768, bias=True)\n",
       "              (key): Linear(in_features=768, out_features=768, bias=True)\n",
       "              (value): Linear(in_features=768, out_features=768, bias=True)\n",
       "              (dropout): Dropout(p=0.1, inplace=False)\n",
       "            )\n",
       "            (output): RobertaSelfOutput(\n",
       "              (dense): Linear(in_features=768, out_features=768, bias=True)\n",
       "              (LayerNorm): LayerNorm((768,), eps=1e-05, elementwise_affine=True)\n",
       "              (dropout): Dropout(p=0.1, inplace=False)\n",
       "            )\n",
       "          )\n",
       "          (intermediate): RobertaIntermediate(\n",
       "            (dense): Linear(in_features=768, out_features=3072, bias=True)\n",
       "            (intermediate_act_fn): GELUActivation()\n",
       "          )\n",
       "          (output): RobertaOutput(\n",
       "            (dense): Linear(in_features=3072, out_features=768, bias=True)\n",
       "            (LayerNorm): LayerNorm((768,), eps=1e-05, elementwise_affine=True)\n",
       "            (dropout): Dropout(p=0.1, inplace=False)\n",
       "          )\n",
       "        )\n",
       "      )\n",
       "    )\n",
       "  )\n",
       "  (classifier): RobertaClassificationHead(\n",
       "    (dense): Linear(in_features=768, out_features=768, bias=True)\n",
       "    (dropout): Dropout(p=0.1, inplace=False)\n",
       "    (out_proj): Linear(in_features=768, out_features=26, bias=True)\n",
       "  )\n",
       ")"
      ]
     },
     "execution_count": 20,
     "metadata": {},
     "output_type": "execute_result"
    }
   ],
   "source": [
    "from transformers import AdamW, BertConfig\n",
    "\n",
    "# Load BertForSequenceClassification, the pretrained BERT model with a single \n",
    "# linear classification layer on top. \n",
    "model_roberta = XLMRobertaForSequenceClassification.from_pretrained(\n",
    "    \"xlm-roberta-base\", # Use the 12-layer BERT model, with an uncased vocab.\n",
    "    num_labels = 26, # need to change to the number of label in test for zero-shot performance\n",
    "                    # You can increase this for multi-class tasks.   \n",
    "    output_attentions = False, # Whether the model returns attentions weights.\n",
    "    output_hidden_states = False, # Whether the model returns all hidden-states.\n",
    ")\n",
    "\n",
    "# Tell pytorch to run this model on the GPU.\n",
    "model_roberta.cuda()"
   ]
  },
  {
   "cell_type": "code",
   "execution_count": null,
   "metadata": {
    "id": "dIYvrauIxiwd"
   },
   "outputs": [],
   "source": [
    "def optimizer(model):\n",
    "  optimizer = AdamW(model.parameters(),\n",
    "                  lr = 2e-5, # args.learning_rate - default is 5e-5, our notebook had 2e-5\n",
    "                  eps = 1e-8 # args.adam_epsilon  - default is 1e-8.\n",
    "                )\n",
    "  return optimizer"
   ]
  },
  {
   "cell_type": "code",
   "execution_count": null,
   "metadata": {
    "colab": {
     "base_uri": "https://localhost:8080/"
    },
    "id": "LsKEGb8Uxits",
    "outputId": "e667e4d0-15b5-4807-f2d7-50e75850e876"
   },
   "outputs": [
    {
     "name": "stderr",
     "output_type": "stream",
     "text": [
      "/usr/local/lib/python3.7/dist-packages/transformers/optimization.py:309: FutureWarning: This implementation of AdamW is deprecated and will be removed in a future version. Use the PyTorch implementation torch.optim.AdamW instead, or set `no_deprecation_warning=True` to disable this warning\n",
      "  FutureWarning,\n"
     ]
    }
   ],
   "source": [
    "optimizer_roberta = optimizer(model_roberta)"
   ]
  },
  {
   "cell_type": "code",
   "execution_count": null,
   "metadata": {
    "id": "464MuRZxxihE"
   },
   "outputs": [],
   "source": [
    "from transformers import get_linear_schedule_with_warmup\n",
    "\n",
    "# Number of training epochs. The BERT authors recommend between 2 and 4. \n",
    "# We chose to run for 1\n",
    "\n",
    "def scheduler(train_dataloader,optimizer):\n",
    "  epochs = 1\n",
    "\n",
    "  # Total number of training steps is [number of batches] x [number of epochs]. \n",
    "  # (Note that this is not the same as the number of training samples).\n",
    "  total_steps = len(train_dataloader) * epochs\n",
    "\n",
    "  # Create the learning rate scheduler.\n",
    "  scheduler = get_linear_schedule_with_warmup(optimizer, \n",
    "                                            num_warmup_steps = 0, # Default value in run_glue.py\n",
    "                                            num_training_steps = total_steps) \n",
    "  return scheduler"
   ]
  },
  {
   "cell_type": "code",
   "execution_count": null,
   "metadata": {
    "id": "KciD2s8J0IiK"
   },
   "outputs": [],
   "source": [
    "scheduler_roberta = scheduler(train_dataloader_bert,optimizer_roberta)"
   ]
  },
  {
   "cell_type": "markdown",
   "metadata": {
    "id": "A5UtJPgpDjgp"
   },
   "source": [
    "Function to help calculate the Accuracy score"
   ]
  },
  {
   "cell_type": "code",
   "execution_count": 11,
   "metadata": {
    "id": "Fn9XvfLo0If8"
   },
   "outputs": [],
   "source": [
    "import numpy as np\n",
    "\n",
    "# Function to calculate the accuracy of our predictions vs labels\n",
    "def flat_accuracy(preds, labels):\n",
    "    pred_flat = np.argmax(preds, axis=1).flatten()\n",
    "    labels_flat = labels.flatten()\n",
    "    return np.sum(pred_flat == labels_flat) / len(labels_flat)"
   ]
  },
  {
   "cell_type": "code",
   "execution_count": 12,
   "metadata": {
    "id": "ZjNgohgy0Idn"
   },
   "outputs": [],
   "source": [
    "import time\n",
    "import datetime\n",
    "\n",
    "def format_time(elapsed):\n",
    "    '''\n",
    "    Takes a time in seconds and returns a string hh:mm:ss\n",
    "    '''\n",
    "    # Round to the nearest second.\n",
    "    elapsed_rounded = int(round((elapsed)))\n",
    "    \n",
    "    # Format as hh:mm:ss\n",
    "    return str(datetime.timedelta(seconds=elapsed_rounded))"
   ]
  },
  {
   "cell_type": "markdown",
   "metadata": {
    "id": "2V9PjkTfDpdf"
   },
   "source": [
    "Training the English Tweet dataset"
   ]
  },
  {
   "cell_type": "code",
   "execution_count": null,
   "metadata": {
    "id": "ZVFaBEpv0Ia6"
   },
   "outputs": [],
   "source": [
    "import random\n",
    "import numpy as np\n",
    "\n",
    "def modeltraining(model,train_dataloader,validation_dataloader,optimizer,scheduler):\n",
    "\n",
    "  seed_val = 42\n",
    "\n",
    "  random.seed(seed_val)\n",
    "  np.random.seed(seed_val)\n",
    "  torch.manual_seed(seed_val)\n",
    "  torch.cuda.manual_seed_all(seed_val)\n",
    "\n",
    "  training_stats = []\n",
    "\n",
    "  total_t0 = time.time()\n",
    "  epochs = 1\n",
    "\n",
    "  for epoch_i in range(0, epochs):\n",
    "\n",
    "    print(\"\")\n",
    "    print('======== Epoch {:} / {:} ========'.format(epoch_i + 1, epochs))\n",
    "    print('Training...')\n",
    "\n",
    "    t0 = time.time()\n",
    "\n",
    "    total_train_loss = 0\n",
    "    model.train()\n",
    "\n",
    "    # For each batch of training data...\n",
    "    for step, batch in enumerate(train_dataloader):\n",
    "        if step % 400 == 0 and not step == 0:\n",
    "            elapsed = format_time(time.time() - t0)\n",
    "            \n",
    "            print('  Batch {:>5,}  of  {:>5,}.    Elapsed: {:}.'.format(step, len(train_dataloader), elapsed))\n",
    "\n",
    "        b_input_ids = batch[0].to(device)\n",
    "        b_input_mask = batch[1].to(device)\n",
    "        b_labels = batch[2].to(device)\n",
    "\n",
    "        model.zero_grad()        \n",
    "\n",
    "        result = model(b_input_ids, \n",
    "                       token_type_ids=None, \n",
    "                       attention_mask=b_input_mask, \n",
    "                       labels=b_labels,\n",
    "                       return_dict=True)\n",
    "\n",
    "        loss = result.loss\n",
    "        logits = result.logits\n",
    "\n",
    "        total_train_loss += loss.item()\n",
    "\n",
    "        loss.backward()\n",
    "\n",
    "        torch.nn.utils.clip_grad_norm_(model.parameters(), 1.0)\n",
    "\n",
    "        optimizer.step()\n",
    "\n",
    "        scheduler.step()\n",
    "\n",
    "    avg_train_loss = total_train_loss / len(train_dataloader)            \n",
    "    \n",
    "    training_time = format_time(time.time() - t0)\n",
    "\n",
    "    print(\"\")\n",
    "    print(\"  Average training loss: {0:.2f}\".format(avg_train_loss))\n",
    "    print(\"  Training epcoh took: {:}\".format(training_time))\n",
    "        \n",
    "    print(\"\")\n",
    "    print(\"Running Validation...\")\n",
    "\n",
    "    t0 = time.time()\n",
    "\n",
    "    model.eval()\n",
    "\n",
    "    total_eval_accuracy = 0\n",
    "    total_eval_loss = 0\n",
    "    nb_eval_steps = 0\n",
    "\n",
    "    for batch in validation_dataloader:        \n",
    "        b_input_ids = batch[0].to(device)\n",
    "        b_input_mask = batch[1].to(device)\n",
    "        b_labels = batch[2].to(device)\n",
    "        \n",
    "        with torch.no_grad():        \n",
    "            result = model(b_input_ids, \n",
    "                           token_type_ids=None, \n",
    "                           attention_mask=b_input_mask,\n",
    "                           labels=b_labels,\n",
    "                           return_dict=True)\n",
    "\n",
    "        loss = result.loss\n",
    "        logits = result.logits\n",
    "            \n",
    "        total_eval_loss += loss.item()\n",
    "\n",
    "        logits = logits.detach().cpu().numpy()\n",
    "        label_ids = b_labels.to('cpu').numpy()\n",
    "\n",
    "        total_eval_accuracy += flat_accuracy(logits, label_ids)\n",
    "        \n",
    "\n",
    "    avg_val_accuracy = total_eval_accuracy / len(validation_dataloader)\n",
    "    print(\"  Accuracy: {0:.2f}\".format(avg_val_accuracy))\n",
    "\n",
    "    avg_val_loss = total_eval_loss / len(validation_dataloader)\n",
    "    \n",
    "    validation_time = format_time(time.time() - t0)\n",
    "    \n",
    "    print(\"  Validation Loss: {0:.2f}\".format(avg_val_loss))\n",
    "    print(\"  Validation took: {:}\".format(validation_time))\n",
    "\n",
    "    training_stats.append(\n",
    "        {\n",
    "            'epoch': epoch_i + 1,\n",
    "            'Training Loss': avg_train_loss,\n",
    "            'Valid. Loss': avg_val_loss,\n",
    "            'Valid. Accur.': avg_val_accuracy,\n",
    "            'Training Time': training_time,\n",
    "            'Validation Time': validation_time\n",
    "        }\n",
    "    )\n",
    "\n",
    "  print(\"\")\n",
    "  print(\"Training complete!\")\n",
    "\n",
    "  print(\"Total training took {:} (h:mm:ss)\".format(format_time(time.time()-total_t0)))\n",
    "  return model"
   ]
  },
  {
   "cell_type": "code",
   "execution_count": null,
   "metadata": {
    "colab": {
     "base_uri": "https://localhost:8080/"
    },
    "id": "_Bk_GVyO0RD_",
    "outputId": "2f18d4de-6f4c-46bb-f1c3-0e00ed962556"
   },
   "outputs": [
    {
     "name": "stdout",
     "output_type": "stream",
     "text": [
      "\n",
      "======== Epoch 1 / 1 ========\n",
      "Training...\n",
      "  Batch   400  of  21,672.    Elapsed: 0:01:42.\n",
      "  Batch   800  of  21,672.    Elapsed: 0:03:24.\n",
      "  Batch 1,200  of  21,672.    Elapsed: 0:05:06.\n",
      "  Batch 1,600  of  21,672.    Elapsed: 0:06:48.\n",
      "  Batch 2,000  of  21,672.    Elapsed: 0:08:29.\n",
      "  Batch 2,400  of  21,672.    Elapsed: 0:10:11.\n",
      "  Batch 2,800  of  21,672.    Elapsed: 0:11:53.\n",
      "  Batch 3,200  of  21,672.    Elapsed: 0:13:35.\n",
      "  Batch 3,600  of  21,672.    Elapsed: 0:15:17.\n",
      "  Batch 4,000  of  21,672.    Elapsed: 0:16:59.\n",
      "  Batch 4,400  of  21,672.    Elapsed: 0:18:41.\n",
      "  Batch 4,800  of  21,672.    Elapsed: 0:20:23.\n",
      "  Batch 5,200  of  21,672.    Elapsed: 0:22:04.\n",
      "  Batch 5,600  of  21,672.    Elapsed: 0:23:46.\n",
      "  Batch 6,000  of  21,672.    Elapsed: 0:25:28.\n",
      "  Batch 6,400  of  21,672.    Elapsed: 0:27:10.\n",
      "  Batch 6,800  of  21,672.    Elapsed: 0:28:52.\n",
      "  Batch 7,200  of  21,672.    Elapsed: 0:30:34.\n",
      "  Batch 7,600  of  21,672.    Elapsed: 0:32:16.\n",
      "  Batch 8,000  of  21,672.    Elapsed: 0:33:58.\n",
      "  Batch 8,400  of  21,672.    Elapsed: 0:35:40.\n",
      "  Batch 8,800  of  21,672.    Elapsed: 0:37:22.\n",
      "  Batch 9,200  of  21,672.    Elapsed: 0:39:03.\n",
      "  Batch 9,600  of  21,672.    Elapsed: 0:40:45.\n",
      "  Batch 10,000  of  21,672.    Elapsed: 0:42:28.\n",
      "  Batch 10,400  of  21,672.    Elapsed: 0:44:09.\n",
      "  Batch 10,800  of  21,672.    Elapsed: 0:45:51.\n",
      "  Batch 11,200  of  21,672.    Elapsed: 0:47:33.\n",
      "  Batch 11,600  of  21,672.    Elapsed: 0:49:15.\n",
      "  Batch 12,000  of  21,672.    Elapsed: 0:50:57.\n",
      "  Batch 12,400  of  21,672.    Elapsed: 0:52:39.\n",
      "  Batch 12,800  of  21,672.    Elapsed: 0:54:21.\n",
      "  Batch 13,200  of  21,672.    Elapsed: 0:56:03.\n",
      "  Batch 13,600  of  21,672.    Elapsed: 0:57:45.\n",
      "  Batch 14,000  of  21,672.    Elapsed: 0:59:27.\n",
      "  Batch 14,400  of  21,672.    Elapsed: 1:01:08.\n",
      "  Batch 14,800  of  21,672.    Elapsed: 1:02:50.\n",
      "  Batch 15,200  of  21,672.    Elapsed: 1:04:32.\n",
      "  Batch 15,600  of  21,672.    Elapsed: 1:06:14.\n",
      "  Batch 16,000  of  21,672.    Elapsed: 1:07:55.\n",
      "  Batch 16,400  of  21,672.    Elapsed: 1:09:37.\n",
      "  Batch 16,800  of  21,672.    Elapsed: 1:11:19.\n",
      "  Batch 17,200  of  21,672.    Elapsed: 1:13:00.\n",
      "  Batch 17,600  of  21,672.    Elapsed: 1:14:42.\n",
      "  Batch 18,000  of  21,672.    Elapsed: 1:16:24.\n",
      "  Batch 18,400  of  21,672.    Elapsed: 1:18:06.\n",
      "  Batch 18,800  of  21,672.    Elapsed: 1:19:47.\n",
      "  Batch 19,200  of  21,672.    Elapsed: 1:21:29.\n",
      "  Batch 19,600  of  21,672.    Elapsed: 1:23:11.\n",
      "  Batch 20,000  of  21,672.    Elapsed: 1:24:52.\n",
      "  Batch 20,400  of  21,672.    Elapsed: 1:26:34.\n",
      "  Batch 20,800  of  21,672.    Elapsed: 1:28:16.\n",
      "  Batch 21,200  of  21,672.    Elapsed: 1:29:57.\n",
      "  Batch 21,600  of  21,672.    Elapsed: 1:31:39.\n",
      "\n",
      "  Average training loss: 1.79\n",
      "  Training epcoh took: 1:31:57\n",
      "\n",
      "Running Validation...\n",
      "  Accuracy: 0.49\n",
      "  Validation Loss: 1.66\n",
      "  Validation took: 0:02:40\n",
      "\n",
      "Training complete!\n",
      "Total training took 1:34:37 (h:mm:ss)\n"
     ]
    }
   ],
   "source": [
    "model_roberta = modeltraining(model_roberta,train_dataloader_bert,validation_dataloader_bert,optimizer_roberta,scheduler_roberta)"
   ]
  },
  {
   "cell_type": "code",
   "execution_count": null,
   "metadata": {
    "id": "t7fb6O-B-hSV"
   },
   "outputs": [],
   "source": [
    "torch.save(model_roberta,'/content/drive/MyDrive/NLP_Project/English/xlm_roberta_english.pt')"
   ]
  },
  {
   "cell_type": "code",
   "execution_count": null,
   "metadata": {
    "id": "gpzmQhZH0RBh"
   },
   "outputs": [],
   "source": [
    "#Clear CUDA cache\n",
    "import gc\n",
    "\n",
    "gc.collect()\n",
    "\n",
    "torch.cuda.empty_cache()"
   ]
  },
  {
   "cell_type": "markdown",
   "metadata": {
    "id": "xQMTur73U7Fl"
   },
   "source": [
    "Predicting on English test data "
   ]
  },
  {
   "cell_type": "code",
   "execution_count": 14,
   "metadata": {
    "id": "nh9oZg5IVDNb"
   },
   "outputs": [],
   "source": [
    "\n",
    "with open(filepath+'English/us_test.text') as f:\n",
    "    df_test_text_list = f.readlines()\n"
   ]
  },
  {
   "cell_type": "code",
   "execution_count": 15,
   "metadata": {
    "id": "TAygawI6V2sz"
   },
   "outputs": [],
   "source": [
    "import pandas as pd\n",
    "df_test_english = pd.DataFrame(df_test_text_list,\n",
    "                     columns = ['Tweets']) "
   ]
  },
  {
   "cell_type": "code",
   "execution_count": null,
   "metadata": {
    "colab": {
     "base_uri": "https://localhost:8080/",
     "height": 206
    },
    "id": "Ph54Va9zWAeQ",
    "outputId": "f8448996-498a-4828-f8d2-63b6de00420d"
   },
   "outputs": [
    {
     "data": {
      "text/html": [
       "\n",
       "  <div id=\"df-e951bffd-d140-4a71-9865-94744543d5e4\">\n",
       "    <div class=\"colab-df-container\">\n",
       "      <div>\n",
       "<style scoped>\n",
       "    .dataframe tbody tr th:only-of-type {\n",
       "        vertical-align: middle;\n",
       "    }\n",
       "\n",
       "    .dataframe tbody tr th {\n",
       "        vertical-align: top;\n",
       "    }\n",
       "\n",
       "    .dataframe thead th {\n",
       "        text-align: right;\n",
       "    }\n",
       "</style>\n",
       "<table border=\"1\" class=\"dataframe\">\n",
       "  <thead>\n",
       "    <tr style=\"text-align: right;\">\n",
       "      <th></th>\n",
       "      <th>Tweets</th>\n",
       "    </tr>\n",
       "  </thead>\n",
       "  <tbody>\n",
       "    <tr>\n",
       "      <th>0</th>\n",
       "      <td>en Pelham Parkway\\n</td>\n",
       "    </tr>\n",
       "    <tr>\n",
       "      <th>1</th>\n",
       "      <td>The calm before...... | w/ sofarsounds @user |...</td>\n",
       "    </tr>\n",
       "    <tr>\n",
       "      <th>2</th>\n",
       "      <td>Just witnessed the great solar eclipse @ Tampa...</td>\n",
       "    </tr>\n",
       "    <tr>\n",
       "      <th>3</th>\n",
       "      <td>This little lady is 26 weeks pregnant today! E...</td>\n",
       "    </tr>\n",
       "    <tr>\n",
       "      <th>4</th>\n",
       "      <td>Great road trip views! @ Shartlesville, Pennsy...</td>\n",
       "    </tr>\n",
       "  </tbody>\n",
       "</table>\n",
       "</div>\n",
       "      <button class=\"colab-df-convert\" onclick=\"convertToInteractive('df-e951bffd-d140-4a71-9865-94744543d5e4')\"\n",
       "              title=\"Convert this dataframe to an interactive table.\"\n",
       "              style=\"display:none;\">\n",
       "        \n",
       "  <svg xmlns=\"http://www.w3.org/2000/svg\" height=\"24px\"viewBox=\"0 0 24 24\"\n",
       "       width=\"24px\">\n",
       "    <path d=\"M0 0h24v24H0V0z\" fill=\"none\"/>\n",
       "    <path d=\"M18.56 5.44l.94 2.06.94-2.06 2.06-.94-2.06-.94-.94-2.06-.94 2.06-2.06.94zm-11 1L8.5 8.5l.94-2.06 2.06-.94-2.06-.94L8.5 2.5l-.94 2.06-2.06.94zm10 10l.94 2.06.94-2.06 2.06-.94-2.06-.94-.94-2.06-.94 2.06-2.06.94z\"/><path d=\"M17.41 7.96l-1.37-1.37c-.4-.4-.92-.59-1.43-.59-.52 0-1.04.2-1.43.59L10.3 9.45l-7.72 7.72c-.78.78-.78 2.05 0 2.83L4 21.41c.39.39.9.59 1.41.59.51 0 1.02-.2 1.41-.59l7.78-7.78 2.81-2.81c.8-.78.8-2.07 0-2.86zM5.41 20L4 18.59l7.72-7.72 1.47 1.35L5.41 20z\"/>\n",
       "  </svg>\n",
       "      </button>\n",
       "      \n",
       "  <style>\n",
       "    .colab-df-container {\n",
       "      display:flex;\n",
       "      flex-wrap:wrap;\n",
       "      gap: 12px;\n",
       "    }\n",
       "\n",
       "    .colab-df-convert {\n",
       "      background-color: #E8F0FE;\n",
       "      border: none;\n",
       "      border-radius: 50%;\n",
       "      cursor: pointer;\n",
       "      display: none;\n",
       "      fill: #1967D2;\n",
       "      height: 32px;\n",
       "      padding: 0 0 0 0;\n",
       "      width: 32px;\n",
       "    }\n",
       "\n",
       "    .colab-df-convert:hover {\n",
       "      background-color: #E2EBFA;\n",
       "      box-shadow: 0px 1px 2px rgba(60, 64, 67, 0.3), 0px 1px 3px 1px rgba(60, 64, 67, 0.15);\n",
       "      fill: #174EA6;\n",
       "    }\n",
       "\n",
       "    [theme=dark] .colab-df-convert {\n",
       "      background-color: #3B4455;\n",
       "      fill: #D2E3FC;\n",
       "    }\n",
       "\n",
       "    [theme=dark] .colab-df-convert:hover {\n",
       "      background-color: #434B5C;\n",
       "      box-shadow: 0px 1px 3px 1px rgba(0, 0, 0, 0.15);\n",
       "      filter: drop-shadow(0px 1px 2px rgba(0, 0, 0, 0.3));\n",
       "      fill: #FFFFFF;\n",
       "    }\n",
       "  </style>\n",
       "\n",
       "      <script>\n",
       "        const buttonEl =\n",
       "          document.querySelector('#df-e951bffd-d140-4a71-9865-94744543d5e4 button.colab-df-convert');\n",
       "        buttonEl.style.display =\n",
       "          google.colab.kernel.accessAllowed ? 'block' : 'none';\n",
       "\n",
       "        async function convertToInteractive(key) {\n",
       "          const element = document.querySelector('#df-e951bffd-d140-4a71-9865-94744543d5e4');\n",
       "          const dataTable =\n",
       "            await google.colab.kernel.invokeFunction('convertToInteractive',\n",
       "                                                     [key], {});\n",
       "          if (!dataTable) return;\n",
       "\n",
       "          const docLinkHtml = 'Like what you see? Visit the ' +\n",
       "            '<a target=\"_blank\" href=https://colab.research.google.com/notebooks/data_table.ipynb>data table notebook</a>'\n",
       "            + ' to learn more about interactive tables.';\n",
       "          element.innerHTML = '';\n",
       "          dataTable['output_type'] = 'display_data';\n",
       "          await google.colab.output.renderOutput(dataTable, element);\n",
       "          const docLink = document.createElement('div');\n",
       "          docLink.innerHTML = docLinkHtml;\n",
       "          element.appendChild(docLink);\n",
       "        }\n",
       "      </script>\n",
       "    </div>\n",
       "  </div>\n",
       "  "
      ],
      "text/plain": [
       "                                              Tweets\n",
       "0                                en Pelham Parkway\\n\n",
       "1  The calm before...... | w/ sofarsounds @user |...\n",
       "2  Just witnessed the great solar eclipse @ Tampa...\n",
       "3  This little lady is 26 weeks pregnant today! E...\n",
       "4  Great road trip views! @ Shartlesville, Pennsy..."
      ]
     },
     "execution_count": 14,
     "metadata": {},
     "output_type": "execute_result"
    }
   ],
   "source": [
    "df_test_english.head()"
   ]
  },
  {
   "cell_type": "code",
   "execution_count": 16,
   "metadata": {
    "id": "2MkvO0MPWBBJ"
   },
   "outputs": [],
   "source": [
    "\n",
    "with open(filepath+'English/us_test.labels') as f:\n",
    "    df_test_labels_list = f.readlines()\n"
   ]
  },
  {
   "cell_type": "code",
   "execution_count": 17,
   "metadata": {
    "id": "lwfiym1mWYck"
   },
   "outputs": [],
   "source": [
    "label_list_test = []\n",
    "for each_label in df_test_labels_list:\n",
    "  label_list_test.append(int(each_label.replace('\\n','')))"
   ]
  },
  {
   "cell_type": "code",
   "execution_count": 18,
   "metadata": {
    "id": "XDrj1Lx4WmcP"
   },
   "outputs": [],
   "source": [
    "df_english_test_labels = pd.DataFrame(label_list_test,\n",
    "                     columns = ['Labels']) "
   ]
  },
  {
   "cell_type": "code",
   "execution_count": null,
   "metadata": {
    "id": "UkwwH5x50Q-6"
   },
   "outputs": [],
   "source": [
    "import pandas as pd\n",
    "def test_preprocessing(tokenizer, batchsize,maxlength):\n",
    "  # Load the dataset into a pandas dataframe.\n",
    "\n",
    "   # Report the number of sentences.\n",
    "  print('Number of test sentences: {:,}\\n'.format(df_test_english.shape[0]))\n",
    "\n",
    "  test_sentences = df_test_english.Tweets\n",
    "\n",
    "  test_labels = df_english_test_labels.Labels\n",
    "  \n",
    "  input_ids_test = []\n",
    "  attention_masks_test = []\n",
    "  \n",
    "  # For every sentence...\n",
    "  for sent1 in test_sentences:\n",
    "    encoded_dict_test = tokenizer.encode_plus(\n",
    "                        sent1, # Sentence to encode.\n",
    "                        add_special_tokens = True, # Add '[CLS]' and '[SEP]'\n",
    "                        max_length = maxlength,           # Pad & truncate all sentences.\n",
    "                        pad_to_max_length = True,\n",
    "                        return_attention_mask = True,   # Construct attn. masks.\n",
    "                        return_tensors = 'pt',     # Return pytorch tensors.\n",
    "                   )\n",
    "\n",
    "    # Add the encoded sentence to the list.    \n",
    "    input_ids_test.append(encoded_dict_test['input_ids'])\n",
    "    \n",
    "    # And its attention mask (simply differentiates padding from non-padding).\n",
    "    attention_masks_test.append(encoded_dict_test['attention_mask'])\n",
    "\n",
    "  # Convert the lists into tensors.\n",
    "  input_ids_test = torch.cat(input_ids_test, dim=0)\n",
    "  attention_masks_test = torch.cat(attention_masks_test, dim=0)\n",
    "  #token_type_ids_test = torch.cat(token_type_ids_test, dim=0)\n",
    "  labels_rte_test = torch.tensor(test_labels)\n",
    "\n",
    "  # Set the batch size.  \n",
    "  batch_size = batchsize \n",
    "\n",
    "  # Create the DataLoader.\n",
    "  prediction_data = TensorDataset(input_ids_test, attention_masks_test, labels_rte_test)\n",
    "  prediction_sampler = SequentialSampler(prediction_data)\n",
    "  prediction_dataloader = DataLoader(prediction_data, sampler=prediction_sampler, batch_size=batch_size)\n",
    "\n",
    "  return prediction_dataloader"
   ]
  },
  {
   "cell_type": "code",
   "execution_count": null,
   "metadata": {
    "colab": {
     "base_uri": "https://localhost:8080/"
    },
    "id": "wJNR7oSC0Q8U",
    "outputId": "a837f4ca-d448-4b3f-a4c6-40cc4c2a795e"
   },
   "outputs": [
    {
     "name": "stdout",
     "output_type": "stream",
     "text": [
      "Number of test sentences: 50,000\n",
      "\n"
     ]
    },
    {
     "name": "stderr",
     "output_type": "stream",
     "text": [
      "/usr/local/lib/python3.7/dist-packages/transformers/tokenization_utils_base.py:2269: FutureWarning: The `pad_to_max_length` argument is deprecated and will be removed in a future version, use `padding=True` or `padding='longest'` to pad to the longest sequence in the batch, or use `padding='max_length'` to pad to a max length. In this case, you can give a specific length with `max_length` (e.g. `max_length=45`) or leave max_length to None to pad to the maximal input size of the model (e.g. 512 for Bert).\n",
      "  FutureWarning,\n"
     ]
    }
   ],
   "source": [
    "prediction_dataloader_english_test = test_preprocessing(tokenizer,16,140)"
   ]
  },
  {
   "cell_type": "code",
   "execution_count": 19,
   "metadata": {
    "id": "bLyF25Jy0qdb"
   },
   "outputs": [],
   "source": [
    "def predicttestset(model,prediction_dataloader):\n",
    "  model.eval()\n",
    "\n",
    "  # Tracking variables \n",
    "  predictions , true_labels = [], []\n",
    "  total_eval_accuracy = 0\n",
    "  act_pred_label = []\n",
    "  act_true_labels = []\n",
    "\n",
    "  # Predict \n",
    "  for batch in prediction_dataloader:\n",
    "    # Add batch to GPU\n",
    "    batch = tuple(t.to(device) for t in batch)\n",
    "  \n",
    "    # Unpack the inputs from our dataloader\n",
    "    b_input_ids, b_input_mask, b_labels = batch\n",
    "  \n",
    "    # Telling the model not to compute or store gradients, saving memory and \n",
    "    # speeding up prediction\n",
    "    with torch.no_grad():\n",
    "      # Forward pass, calculate logit predictions.\n",
    "      result = model(b_input_ids, \n",
    "                     token_type_ids=None, \n",
    "                     attention_mask=b_input_mask,\n",
    "                     return_dict=True)\n",
    "\n",
    "    logits = result.logits\n",
    "\n",
    "    # Move logits and labels to CPU\n",
    "    logits = logits.detach().cpu().numpy()\n",
    "    label_ids = b_labels.to('cpu').numpy()\n",
    "    total_eval_accuracy += flat_accuracy(logits, label_ids)\n",
    "  \n",
    "    # Store predictions and true labels\n",
    "    predictions.append(logits)\n",
    "    true_labels.append(label_ids)\n",
    "    predict_content = logits.argmax(axis=-1).flatten().tolist()\n",
    "    act_pred_label += predict_content\n",
    "    #print(act_pred_label)\n",
    "    act_true_labels += label_ids.flatten().tolist()\n",
    "  return total_eval_accuracy*100/len(prediction_dataloader), act_pred_label, act_true_labels"
   ]
  },
  {
   "cell_type": "markdown",
   "metadata": {
    "id": "AjG88oWZD5aQ"
   },
   "source": [
    "Calculating accuracy score for top k emojis"
   ]
  },
  {
   "cell_type": "code",
   "execution_count": 20,
   "metadata": {
    "id": "DC0SQ9Ozxh73"
   },
   "outputs": [],
   "source": [
    "def flat_accuracy_topk(preds, labels, topk):\n",
    "    count = 0\n",
    "    labels_flat = labels.flatten()\n",
    "    for i in range(len(preds)):\n",
    "      logits = preds[i].argsort()[::-1][:topk]\n",
    "      # uncomment to print the first value and comment for the accuracy calculation\n",
    "      if i==1:\n",
    "        print(logits)\n",
    "      if labels[i] in logits:\n",
    "        count += 1\n",
    "    return count / len(labels_flat)\n",
    "\n",
    "\n",
    "def predicttestset_topk(model, prediction_dataloader, topk):\n",
    "  model.eval()\n",
    "\n",
    "  # Tracking variables \n",
    "  predictions , true_labels = [], []\n",
    "  total_eval_accuracy = 0\n",
    "  total_eval_loss = 0\n",
    "\n",
    "  # Predict \n",
    "  for batch in prediction_dataloader:\n",
    "    # Add batch to GPU\n",
    "    batch = tuple(t.to(device) for t in batch)\n",
    "  \n",
    "    # Unpack the inputs from our dataloader\n",
    "    b_input_ids, b_input_mask, b_labels = batch\n",
    "  \n",
    "    # Telling the model not to compute or store gradients, saving memory and \n",
    "    # speeding up prediction\n",
    "    with torch.no_grad():\n",
    "      # Forward pass, calculate logit predictions.\n",
    "      result = model(b_input_ids, \n",
    "                     token_type_ids=None, \n",
    "                     attention_mask=b_input_mask,\n",
    "                     return_dict=True)\n",
    "\n",
    "    # loss = result.loss\n",
    "    logits = result.logits\n",
    "    # total_eval_loss += loss.item()\n",
    "\n",
    "    # Move logits and labels to CPU\n",
    "    logits = logits.detach().cpu().numpy()\n",
    "    label_ids = b_labels.to('cpu').numpy()\n",
    "    # print(len(logits), len(label_ids))\n",
    "    total_eval_accuracy += flat_accuracy_topk(logits, label_ids, topk)\n",
    "    # print(total_eval_accuracy)\n",
    "    # return\n",
    "    # Store predictions and true labels\n",
    "    predictions.append(logits.argmax(axis=-1).flatten().tolist())\n",
    "    true_labels.append(label_ids)\n",
    "    # print(len(predictions[0]), len(true_labels[0]))\n",
    "  total_acc = total_eval_accuracy*100/len(prediction_dataloader)\n",
    "  # total_loss = total_eval_loss*100/len(prediction_dataloader)\n",
    "  return total_acc, predictions, true_labels"
   ]
  },
  {
   "cell_type": "code",
   "execution_count": 51,
   "metadata": {
    "id": "f-CnYCjBDFeS"
   },
   "outputs": [],
   "source": [
    "import torch\n",
    "\n",
    "model_english = torch.load(filepath+'English/xlm_roberta_english.pt')"
   ]
  },
  {
   "cell_type": "code",
   "execution_count": 54,
   "metadata": {
    "id": "42_t_YmrCEbr"
   },
   "outputs": [],
   "source": [
    "acc_ee, pred_label_ee, true_labels_ee = predicttestset(model_english,prediction_dataloader_english_test)"
   ]
  },
  {
   "cell_type": "code",
   "execution_count": null,
   "metadata": {
    "id": "beysnZSe1mOo"
   },
   "outputs": [],
   "source": [
    "import pandas as pd\n",
    "df_ee = pd.DataFrame(list(zip(true_labels_ee, pred_label_ee)),\n",
    "               columns =['True Labels', 'Prediction'])"
   ]
  },
  {
   "cell_type": "code",
   "execution_count": null,
   "metadata": {
    "id": "DA_5xw2u1_6f"
   },
   "outputs": [],
   "source": [
    "df_ee.to_csv(filepath+'ee.csv')"
   ]
  },
  {
   "cell_type": "markdown",
   "metadata": {
    "id": "bjwOI113EBGi"
   },
   "source": [
    "Retrieving F1 Score and metrics for the English train set on English test set "
   ]
  },
  {
   "cell_type": "code",
   "execution_count": null,
   "metadata": {
    "colab": {
     "base_uri": "https://localhost:8080/"
    },
    "id": "a71CIsjZDqlh",
    "outputId": "3d169f55-86d2-449c-e2e4-6db43786df40"
   },
   "outputs": [
    {
     "name": "stdout",
     "output_type": "stream",
     "text": [
      "              precision    recall  f1-score   support\n",
      "\n",
      "           ❤       0.92      0.84      0.88     10798\n",
      "           😍       0.31      0.57      0.40      4830\n",
      "           😂       0.42      0.62      0.50      4534\n",
      "           💕       0.27      0.28      0.28      2605\n",
      "           🔥       0.63      0.55      0.59      3716\n",
      "           😊       0.17      0.20      0.18      1613\n",
      "           😎       0.25      0.22      0.23      1996\n",
      "           ✨       0.38      0.36      0.37      2749\n",
      "           💙       0.29      0.13      0.18      1549\n",
      "           😘       0.22      0.24      0.23      1175\n",
      "           📷       0.31      0.69      0.43      1432\n",
      "          🇺🇸       0.67      0.68      0.67      1949\n",
      "           ☀       0.75      0.67      0.71      1265\n",
      "           💜       0.56      0.02      0.03      1114\n",
      "           😉       0.22      0.07      0.11      1306\n",
      "           💯       0.38      0.24      0.30      1244\n",
      "           😁       0.21      0.01      0.02      1153\n",
      "           🎄       0.68      0.82      0.74      1545\n",
      "           📸       0.32      0.12      0.17      2417\n",
      "           😜       0.20      0.00      0.00      1010\n",
      "\n",
      "    accuracy                           0.50     50000\n",
      "   macro avg       0.41      0.37      0.35     50000\n",
      "weighted avg       0.51      0.50      0.48     50000\n",
      "\n"
     ]
    }
   ],
   "source": [
    "from sklearn.metrics import classification_report\n",
    "emoji_list_ee = ['❤', '😍', '😂', '💕', '🔥', '😊', '😎', '✨', '💙', '😘', '📷', '🇺🇸', '☀', '💜', '😉', '💯', '😁', '🎄', '📸', '😜']\n",
    "final_repo = classification_report(true_labels_ee, pred_label_ee, zero_division=1,target_names = emoji_list_ee)\n",
    "print(final_repo)"
   ]
  },
  {
   "cell_type": "code",
   "execution_count": null,
   "metadata": {
    "colab": {
     "base_uri": "https://localhost:8080/",
     "height": 284
    },
    "id": "gkxmdwDmxW9H",
    "outputId": "aef9945d-6f06-43c6-88cb-ee6abdb9ef52"
   },
   "outputs": [
    {
     "data": {
      "text/plain": [
       "<matplotlib.axes._subplots.AxesSubplot at 0x7f4c86975a90>"
      ]
     },
     "execution_count": 31,
     "metadata": {},
     "output_type": "execute_result"
    },
    {
     "data": {
      "image/png": "[encoded data removed]",
      "text/plain": [
       "<Figure size 432x288 with 2 Axes>"
      ]
     },
     "metadata": {
      "needs_background": "light"
     },
     "output_type": "display_data"
    }
   ],
   "source": [
    "import pandas as pd\n",
    "import seaborn as sns\n",
    "evaluation_report = classification_report(true_labels_ee, pred_label_ee, output_dict=True, zero_division=1)\n",
    "sns.heatmap(pd.DataFrame(evaluation_report).iloc[:-1, :].T, annot=True)"
   ]
  },
  {
   "cell_type": "code",
   "execution_count": null,
   "metadata": {
    "colab": {
     "base_uri": "https://localhost:8080/"
    },
    "id": "xx64ZOA90qbF",
    "outputId": "6a218088-9651-4003-b6f3-2d2dfc1e664c"
   },
   "outputs": [
    {
     "name": "stdout",
     "output_type": "stream",
     "text": [
      "The accuracy for fine-tune english XLMRoberta BERT on English test set is: 49.58 %\n"
     ]
    }
   ],
   "source": [
    "print('The accuracy for fine-tune english XLMRoberta BERT on English test set is:',acc_ee,'%')"
   ]
  },
  {
   "cell_type": "markdown",
   "metadata": {
    "id": "9DEvutzyEPPe"
   },
   "source": [
    "Retriving top 3 accuracy for English train set on English test set "
   ]
  },
  {
   "cell_type": "code",
   "execution_count": null,
   "metadata": {
    "id": "TLJ5PCfH_EeJ"
   },
   "outputs": [],
   "source": [
    "acc_ee_3, pred_label_ee_3, true_labels_ee_3 = predicttestset_topk(model_english, prediction_dataloader_english_test, 3)"
   ]
  },
  {
   "cell_type": "markdown",
   "metadata": {
    "id": "FhBcT2l8ET5A"
   },
   "source": [
    "Below shows an example tweet with its predicted emojis "
   ]
  },
  {
   "cell_type": "code",
   "execution_count": 57,
   "metadata": {
    "colab": {
     "base_uri": "https://localhost:8080/"
    },
    "id": "wdJ86SIEzbKF",
    "outputId": "21073418-5f4d-490b-873b-8ca32fcf38c3"
   },
   "outputs": [
    {
     "name": "stdout",
     "output_type": "stream",
     "text": [
      "Waiting in line for #TheRoom ! #PrepareForDisaster #DisasterArtistSD…\n",
      "\n",
      "The top 3 prediction for the above sentence are: [10, 18, 7] and corresponding emojis are: ❤ ☀ 😍\n"
     ]
    }
   ],
   "source": [
    "print(df_test_english.Tweets.values[-1])\n",
    "print('The top 3 prediction for the above sentence are:',[10, 18,  7], 'and corresponding emojis are:','❤','☀','😍')"
   ]
  },
  {
   "cell_type": "code",
   "execution_count": null,
   "metadata": {
    "colab": {
     "base_uri": "https://localhost:8080/"
    },
    "id": "X6QypPXg_K2j",
    "outputId": "f4a472ef-f2dc-4167-c615-b359165c89b4"
   },
   "outputs": [
    {
     "name": "stdout",
     "output_type": "stream",
     "text": [
      "The top 3 accuracy for fine-tune english XLMRoberta BERT on English test set is: 70.806 %\n"
     ]
    }
   ],
   "source": [
    "print('The top 3 accuracy for fine-tune english XLMRoberta BERT on English test set is:',acc_ee_3,'%')"
   ]
  },
  {
   "cell_type": "markdown",
   "metadata": {
    "id": "aZ1I-nNgYj-r"
   },
   "source": [
    "Zero shot accuracy on Spanish test set "
   ]
  },
  {
   "cell_type": "code",
   "execution_count": 21,
   "metadata": {
    "id": "iWRvbZ3g0qYu"
   },
   "outputs": [],
   "source": [
    "\n",
    "df_spanish_test = pd.read_csv(filepath+'Spanish/es_modifiedTestData1.csv')\n"
   ]
  },
  {
   "cell_type": "code",
   "execution_count": null,
   "metadata": {
    "colab": {
     "base_uri": "https://localhost:8080/",
     "height": 423
    },
    "id": "fbJd9KDn0qWN",
    "outputId": "23558d49-4f35-4e7e-ac9f-1505754353f2"
   },
   "outputs": [
    {
     "data": {
      "text/html": [
       "\n",
       "  <div id=\"df-60c291f2-5c5a-45f5-a18d-1062595ea620\">\n",
       "    <div class=\"colab-df-container\">\n",
       "      <div>\n",
       "<style scoped>\n",
       "    .dataframe tbody tr th:only-of-type {\n",
       "        vertical-align: middle;\n",
       "    }\n",
       "\n",
       "    .dataframe tbody tr th {\n",
       "        vertical-align: top;\n",
       "    }\n",
       "\n",
       "    .dataframe thead th {\n",
       "        text-align: right;\n",
       "    }\n",
       "</style>\n",
       "<table border=\"1\" class=\"dataframe\">\n",
       "  <thead>\n",
       "    <tr style=\"text-align: right;\">\n",
       "      <th></th>\n",
       "      <th>Unnamed: 0</th>\n",
       "      <th>Text</th>\n",
       "      <th>Label</th>\n",
       "    </tr>\n",
       "  </thead>\n",
       "  <tbody>\n",
       "    <tr>\n",
       "      <th>0</th>\n",
       "      <td>0</td>\n",
       "      <td>Buenos días desde Valencia en Comunidad Valenc...</td>\n",
       "      <td>6</td>\n",
       "    </tr>\n",
       "    <tr>\n",
       "      <th>1</th>\n",
       "      <td>1</td>\n",
       "      <td>Anoche en la #prefería con @user ,mi prima eva...</td>\n",
       "      <td>2</td>\n",
       "    </tr>\n",
       "    <tr>\n",
       "      <th>2</th>\n",
       "      <td>2</td>\n",
       "      <td>Porfavor llevarlas a reciclar,necesitamos más ...</td>\n",
       "      <td>2</td>\n",
       "    </tr>\n",
       "    <tr>\n",
       "      <th>3</th>\n",
       "      <td>3</td>\n",
       "      <td>El vecino roquero que todos queremos tener en ...</td>\n",
       "      <td>2</td>\n",
       "    </tr>\n",
       "    <tr>\n",
       "      <th>4</th>\n",
       "      <td>4</td>\n",
       "      <td>Es un placer contar con profesionales del sect...</td>\n",
       "      <td>0</td>\n",
       "    </tr>\n",
       "    <tr>\n",
       "      <th>...</th>\n",
       "      <td>...</td>\n",
       "      <td>...</td>\n",
       "      <td>...</td>\n",
       "    </tr>\n",
       "    <tr>\n",
       "      <th>9995</th>\n",
       "      <td>9995</td>\n",
       "      <td>@user A TI TE VOY A COMER A BESOS CUANDO TE VE...</td>\n",
       "      <td>9</td>\n",
       "    </tr>\n",
       "    <tr>\n",
       "      <th>9996</th>\n",
       "      <td>9996</td>\n",
       "      <td>Esto tiene que ser pecado #tiramisú #muerodeam...</td>\n",
       "      <td>1</td>\n",
       "    </tr>\n",
       "    <tr>\n",
       "      <th>9997</th>\n",
       "      <td>9997</td>\n",
       "      <td>Memories en Villamanrique, Castilla-La Mancha,...</td>\n",
       "      <td>3</td>\n",
       "    </tr>\n",
       "    <tr>\n",
       "      <th>9998</th>\n",
       "      <td>9998</td>\n",
       "      <td>Amor?No se,Pero que bonito se ve todo cuando e...</td>\n",
       "      <td>0</td>\n",
       "    </tr>\n",
       "    <tr>\n",
       "      <th>9999</th>\n",
       "      <td>9999</td>\n",
       "      <td>Nuestro alumnito Pau, en su segunda práctica, ...</td>\n",
       "      <td>20</td>\n",
       "    </tr>\n",
       "  </tbody>\n",
       "</table>\n",
       "<p>10000 rows × 3 columns</p>\n",
       "</div>\n",
       "      <button class=\"colab-df-convert\" onclick=\"convertToInteractive('df-60c291f2-5c5a-45f5-a18d-1062595ea620')\"\n",
       "              title=\"Convert this dataframe to an interactive table.\"\n",
       "              style=\"display:none;\">\n",
       "        \n",
       "  <svg xmlns=\"http://www.w3.org/2000/svg\" height=\"24px\"viewBox=\"0 0 24 24\"\n",
       "       width=\"24px\">\n",
       "    <path d=\"M0 0h24v24H0V0z\" fill=\"none\"/>\n",
       "    <path d=\"M18.56 5.44l.94 2.06.94-2.06 2.06-.94-2.06-.94-.94-2.06-.94 2.06-2.06.94zm-11 1L8.5 8.5l.94-2.06 2.06-.94-2.06-.94L8.5 2.5l-.94 2.06-2.06.94zm10 10l.94 2.06.94-2.06 2.06-.94-2.06-.94-.94-2.06-.94 2.06-2.06.94z\"/><path d=\"M17.41 7.96l-1.37-1.37c-.4-.4-.92-.59-1.43-.59-.52 0-1.04.2-1.43.59L10.3 9.45l-7.72 7.72c-.78.78-.78 2.05 0 2.83L4 21.41c.39.39.9.59 1.41.59.51 0 1.02-.2 1.41-.59l7.78-7.78 2.81-2.81c.8-.78.8-2.07 0-2.86zM5.41 20L4 18.59l7.72-7.72 1.47 1.35L5.41 20z\"/>\n",
       "  </svg>\n",
       "      </button>\n",
       "      \n",
       "  <style>\n",
       "    .colab-df-container {\n",
       "      display:flex;\n",
       "      flex-wrap:wrap;\n",
       "      gap: 12px;\n",
       "    }\n",
       "\n",
       "    .colab-df-convert {\n",
       "      background-color: #E8F0FE;\n",
       "      border: none;\n",
       "      border-radius: 50%;\n",
       "      cursor: pointer;\n",
       "      display: none;\n",
       "      fill: #1967D2;\n",
       "      height: 32px;\n",
       "      padding: 0 0 0 0;\n",
       "      width: 32px;\n",
       "    }\n",
       "\n",
       "    .colab-df-convert:hover {\n",
       "      background-color: #E2EBFA;\n",
       "      box-shadow: 0px 1px 2px rgba(60, 64, 67, 0.3), 0px 1px 3px 1px rgba(60, 64, 67, 0.15);\n",
       "      fill: #174EA6;\n",
       "    }\n",
       "\n",
       "    [theme=dark] .colab-df-convert {\n",
       "      background-color: #3B4455;\n",
       "      fill: #D2E3FC;\n",
       "    }\n",
       "\n",
       "    [theme=dark] .colab-df-convert:hover {\n",
       "      background-color: #434B5C;\n",
       "      box-shadow: 0px 1px 3px 1px rgba(0, 0, 0, 0.15);\n",
       "      filter: drop-shadow(0px 1px 2px rgba(0, 0, 0, 0.3));\n",
       "      fill: #FFFFFF;\n",
       "    }\n",
       "  </style>\n",
       "\n",
       "      <script>\n",
       "        const buttonEl =\n",
       "          document.querySelector('#df-60c291f2-5c5a-45f5-a18d-1062595ea620 button.colab-df-convert');\n",
       "        buttonEl.style.display =\n",
       "          google.colab.kernel.accessAllowed ? 'block' : 'none';\n",
       "\n",
       "        async function convertToInteractive(key) {\n",
       "          const element = document.querySelector('#df-60c291f2-5c5a-45f5-a18d-1062595ea620');\n",
       "          const dataTable =\n",
       "            await google.colab.kernel.invokeFunction('convertToInteractive',\n",
       "                                                     [key], {});\n",
       "          if (!dataTable) return;\n",
       "\n",
       "          const docLinkHtml = 'Like what you see? Visit the ' +\n",
       "            '<a target=\"_blank\" href=https://colab.research.google.com/notebooks/data_table.ipynb>data table notebook</a>'\n",
       "            + ' to learn more about interactive tables.';\n",
       "          element.innerHTML = '';\n",
       "          dataTable['output_type'] = 'display_data';\n",
       "          await google.colab.output.renderOutput(dataTable, element);\n",
       "          const docLink = document.createElement('div');\n",
       "          docLink.innerHTML = docLinkHtml;\n",
       "          element.appendChild(docLink);\n",
       "        }\n",
       "      </script>\n",
       "    </div>\n",
       "  </div>\n",
       "  "
      ],
      "text/plain": [
       "      Unnamed: 0                                               Text  Label\n",
       "0              0  Buenos días desde Valencia en Comunidad Valenc...      6\n",
       "1              1  Anoche en la #prefería con @user ,mi prima eva...      2\n",
       "2              2  Porfavor llevarlas a reciclar,necesitamos más ...      2\n",
       "3              3  El vecino roquero que todos queremos tener en ...      2\n",
       "4              4  Es un placer contar con profesionales del sect...      0\n",
       "...          ...                                                ...    ...\n",
       "9995        9995  @user A TI TE VOY A COMER A BESOS CUANDO TE VE...      9\n",
       "9996        9996  Esto tiene que ser pecado #tiramisú #muerodeam...      1\n",
       "9997        9997  Memories en Villamanrique, Castilla-La Mancha,...      3\n",
       "9998        9998  Amor?No se,Pero que bonito se ve todo cuando e...      0\n",
       "9999        9999  Nuestro alumnito Pau, en su segunda práctica, ...     20\n",
       "\n",
       "[10000 rows x 3 columns]"
      ]
     },
     "execution_count": 85,
     "metadata": {},
     "output_type": "execute_result"
    }
   ],
   "source": [
    "df_spanish_test"
   ]
  },
  {
   "cell_type": "code",
   "execution_count": 29,
   "metadata": {
    "id": "Urf9zCoAnazZ"
   },
   "outputs": [],
   "source": [
    "import pandas as pd\n",
    "def test_preprocessing(tokenizer, batchsize,maxlength):\n",
    "  # Load the dataset into a pandas dataframe.\n",
    "\n",
    "   # Report the number of sentences.\n",
    "  print('Number of test sentences: {:,}\\n'.format(df_spanish_test.shape[0]))\n",
    "\n",
    "  test_sentences = df_spanish_test.Text\n",
    "\n",
    "  test_labels = df_spanish_test.Label\n",
    "  \n",
    "  input_ids_test = []\n",
    "  attention_masks_test = []\n",
    "  \n",
    "  # For every sentence...\n",
    "  for sent1 in test_sentences:\n",
    "    encoded_dict_test = tokenizer.encode_plus(\n",
    "                        sent1, # Sentence to encode.\n",
    "                        add_special_tokens = True, # Add '[CLS]' and '[SEP]'\n",
    "                        max_length = maxlength,           # Pad & truncate all sentences.\n",
    "                        pad_to_max_length = True,\n",
    "                        return_attention_mask = True,   # Construct attn. masks.\n",
    "                        return_tensors = 'pt',     # Return pytorch tensors.\n",
    "                   )\n",
    "\n",
    "    # Add the encoded sentence to the list.    \n",
    "    input_ids_test.append(encoded_dict_test['input_ids'])\n",
    "    \n",
    "    # And its attention mask (simply differentiates padding from non-padding).\n",
    "    attention_masks_test.append(encoded_dict_test['attention_mask'])\n",
    "\n",
    "  # Convert the lists into tensors.\n",
    "  input_ids_test = torch.cat(input_ids_test, dim=0)\n",
    "  attention_masks_test = torch.cat(attention_masks_test, dim=0)\n",
    "  #token_type_ids_test = torch.cat(token_type_ids_test, dim=0)\n",
    "  labels_rte_test = torch.tensor(test_labels)\n",
    "\n",
    "  # Set the batch size.  \n",
    "  batch_size = batchsize \n",
    "\n",
    "  # Create the DataLoader.\n",
    "  prediction_data = TensorDataset(input_ids_test, attention_masks_test, labels_rte_test)\n",
    "  prediction_sampler = SequentialSampler(prediction_data)\n",
    "  prediction_dataloader = DataLoader(prediction_data, sampler=prediction_sampler, batch_size=batch_size)\n",
    "\n",
    "  return prediction_dataloader"
   ]
  },
  {
   "cell_type": "code",
   "execution_count": 32,
   "metadata": {
    "colab": {
     "base_uri": "https://localhost:8080/"
    },
    "id": "XGwxB4vpn5Is",
    "outputId": "cbdd4040-dccc-4fea-c9a5-4c9a7584f695"
   },
   "outputs": [
    {
     "name": "stdout",
     "output_type": "stream",
     "text": [
      "Number of test sentences: 10,000\n",
      "\n"
     ]
    },
    {
     "name": "stderr",
     "output_type": "stream",
     "text": [
      "/usr/local/lib/python3.7/dist-packages/transformers/tokenization_utils_base.py:2269: FutureWarning: The `pad_to_max_length` argument is deprecated and will be removed in a future version, use `padding=True` or `padding='longest'` to pad to the longest sequence in the batch, or use `padding='max_length'` to pad to a max length. In this case, you can give a specific length with `max_length` (e.g. `max_length=45`) or leave max_length to None to pad to the maximal input size of the model (e.g. 512 for Bert).\n",
      "  FutureWarning,\n"
     ]
    }
   ],
   "source": [
    "prediction_dataloader_spanish_test = test_preprocessing(tokenizer,16,140)"
   ]
  },
  {
   "cell_type": "code",
   "execution_count": null,
   "metadata": {
    "id": "ys6lwebYDzcl"
   },
   "outputs": [],
   "source": [
    "acc_es, pred_label_es, true_labels_es = predicttestset(model_english,prediction_dataloader_spanish_test)"
   ]
  },
  {
   "cell_type": "code",
   "execution_count": null,
   "metadata": {
    "id": "urx3svn72jmF"
   },
   "outputs": [],
   "source": [
    "import pandas as pd\n",
    "df_es = pd.DataFrame(list(zip(true_labels_es, pred_label_es)),\n",
    "               columns =['True Labels', 'Prediction'])"
   ]
  },
  {
   "cell_type": "code",
   "execution_count": null,
   "metadata": {
    "id": "a7XP2LYr2mjj"
   },
   "outputs": [],
   "source": [
    "df_es.to_csv(filepath+'es.csv')"
   ]
  },
  {
   "cell_type": "code",
   "execution_count": null,
   "metadata": {
    "colab": {
     "base_uri": "https://localhost:8080/"
    },
    "id": "sa6I8m-eDzWK",
    "outputId": "1d6bd18f-27ee-47aa-c2c1-96d8a959fb04"
   },
   "outputs": [
    {
     "name": "stdout",
     "output_type": "stream",
     "text": [
      "              precision    recall  f1-score   support\n",
      "\n",
      "           ❤       0.96      0.56      0.71      2141\n",
      "           😍       0.31      0.51      0.38      1408\n",
      "           😂       0.40      0.73      0.52      1499\n",
      "           💕       0.11      0.19      0.14       352\n",
      "           🔥       0.00      1.00      0.00         0\n",
      "           😊       0.17      0.19      0.18       514\n",
      "           😎       0.12      0.14      0.13       339\n",
      "           ✨       0.22      0.27      0.24       416\n",
      "           💙       0.27      0.06      0.10       413\n",
      "           😘       0.23      0.25      0.24       397\n",
      "           📷       0.00      1.00      0.00         0\n",
      "          🇺🇸       0.00      1.00      0.00         0\n",
      "           ☀       0.00      1.00      0.00         0\n",
      "           💜       1.00      0.00      0.00       235\n",
      "           😉       0.22      0.06      0.09       453\n",
      "           💯       0.00      1.00      0.00         0\n",
      "           😁       0.00      0.00      0.00       209\n",
      "           🎄       0.00      1.00      0.00         0\n",
      "           📸       0.00      1.00      0.00         0\n",
      "           😜       0.00      0.00      0.00       274\n",
      "           💪       1.00      0.00      0.00       307\n",
      "           👌       1.00      0.00      0.00       180\n",
      "          🇪🇸       1.00      0.00      0.00       424\n",
      "           💞       1.00      0.00      0.00        93\n",
      "           🎶       1.00      0.00      0.00       212\n",
      "           💘       1.00      0.00      0.00       134\n",
      "\n",
      "    accuracy                           0.35     10000\n",
      "   macro avg       0.38      0.38      0.10     10000\n",
      "weighted avg       0.52      0.35      0.33     10000\n",
      "\n"
     ]
    }
   ],
   "source": [
    "from sklearn.metrics import classification_report\n",
    "emoji_list_es = ['❤', '😍', '😂', '💕', '🔥', '😊', '😎', '✨', '💙', '😘', '📷', '🇺🇸', '☀', '💜', '😉', '💯', '😁', '🎄', '📸', '😜','💪', '👌', '🇪🇸', '💞', '🎶', '💘']\n",
    "final_repo = classification_report(true_labels_es, pred_label_es, zero_division=1,target_names=emoji_list_es)\n",
    "print(final_repo)"
   ]
  },
  {
   "cell_type": "code",
   "execution_count": null,
   "metadata": {
    "colab": {
     "base_uri": "https://localhost:8080/",
     "height": 287
    },
    "id": "RJ5KGxVsEjkP",
    "outputId": "25d86241-ea19-4ac6-8b8c-2595c7d14afe"
   },
   "outputs": [
    {
     "data": {
      "text/plain": [
       "<matplotlib.axes._subplots.AxesSubplot at 0x7f4c8045a5d0>"
      ]
     },
     "execution_count": 44,
     "metadata": {},
     "output_type": "execute_result"
    },
    {
     "data": {
      "image/png": "[encoded data removed]",
      "text/plain": [
       "<Figure size 432x288 with 2 Axes>"
      ]
     },
     "metadata": {
      "needs_background": "light"
     },
     "output_type": "display_data"
    }
   ],
   "source": [
    "import pandas as pd\n",
    "import seaborn as sns\n",
    "evaluation_report = classification_report(true_labels_es, pred_label_es, output_dict=True, zero_division=1)\n",
    "sns.heatmap(pd.DataFrame(evaluation_report).iloc[:-1, :].T, annot=True)"
   ]
  },
  {
   "cell_type": "code",
   "execution_count": null,
   "metadata": {
    "colab": {
     "base_uri": "https://localhost:8080/"
    },
    "id": "-fI4XWYonk3P",
    "outputId": "d6c3a0ef-1920-490c-c96d-2076a371abb2"
   },
   "outputs": [
    {
     "name": "stdout",
     "output_type": "stream",
     "text": [
      "The zero shot accuracy for fine-tune english XLMRoberta BERT on Spanish test set is: 34.94 %\n"
     ]
    }
   ],
   "source": [
    "print('The zero shot accuracy for fine-tune english XLMRoberta BERT on Spanish test set is:',acc_es,'%')"
   ]
  },
  {
   "cell_type": "code",
   "execution_count": null,
   "metadata": {
    "id": "S7V1Pzib8Qno"
   },
   "outputs": [],
   "source": [
    "acc_es_3, pred_label_es_3, true_labels_es_3 = predicttestset_topk(model_english, prediction_dataloader_spanish_test, 3)"
   ]
  },
  {
   "cell_type": "code",
   "execution_count": null,
   "metadata": {
    "colab": {
     "base_uri": "https://localhost:8080/"
    },
    "id": "yTu0GnZrHvP1",
    "outputId": "f1239636-c4d5-4c32-9861-69c0222e8768"
   },
   "outputs": [
    {
     "name": "stdout",
     "output_type": "stream",
     "text": [
      "Buenos días desde Valencia en Comunidad Valenciana, Spain\n",
      "The top 3 prediction for the above sentence are: [1, 9, 5] and corresponding emojis are: 😍 😘 😊\n"
     ]
    }
   ],
   "source": [
    "print(df_spanish_test.Text.values[0])\n",
    "print('The top 3 prediction for the above sentence are:',[1, 9,  5], 'and corresponding emojis are:','😍','😘','😊')"
   ]
  },
  {
   "cell_type": "code",
   "execution_count": null,
   "metadata": {
    "colab": {
     "base_uri": "https://localhost:8080/"
    },
    "id": "AXr58XQR8zeD",
    "outputId": "dde0a42c-4ce8-4830-844f-5a07a1ff3a89"
   },
   "outputs": [
    {
     "name": "stdout",
     "output_type": "stream",
     "text": [
      "The top 3 zero shot accuracy for fine-tune english XLMRoberta BERT on Spanish test set is: 52.69 %\n"
     ]
    }
   ],
   "source": [
    "print('The top 3 zero shot accuracy for fine-tune english XLMRoberta BERT on Spanish test set is:',acc_es_3,'%')"
   ]
  },
  {
   "cell_type": "markdown",
   "metadata": {
    "id": "Llcv5WuJoShI"
   },
   "source": [
    "Training Spanish Tweets"
   ]
  },
  {
   "cell_type": "code",
   "execution_count": null,
   "metadata": {
    "id": "EmZhDujZoRn5"
   },
   "outputs": [],
   "source": [
    "df_spanish_train = pd.read_csv(\"/content/drive/MyDrive/NLP_Project/Spanish/es_modifiedTrainData.csv\")\n"
   ]
  },
  {
   "cell_type": "code",
   "execution_count": null,
   "metadata": {
    "colab": {
     "base_uri": "https://localhost:8080/",
     "height": 423
    },
    "id": "LC6nl99MuKJU",
    "outputId": "c5cdd367-da2e-41e8-b496-615cec0faeb9"
   },
   "outputs": [
    {
     "data": {
      "text/html": [
       "\n",
       "  <div id=\"df-bf791356-81b1-4caa-97dd-4580bb4b58bf\">\n",
       "    <div class=\"colab-df-container\">\n",
       "      <div>\n",
       "<style scoped>\n",
       "    .dataframe tbody tr th:only-of-type {\n",
       "        vertical-align: middle;\n",
       "    }\n",
       "\n",
       "    .dataframe tbody tr th {\n",
       "        vertical-align: top;\n",
       "    }\n",
       "\n",
       "    .dataframe thead th {\n",
       "        text-align: right;\n",
       "    }\n",
       "</style>\n",
       "<table border=\"1\" class=\"dataframe\">\n",
       "  <thead>\n",
       "    <tr style=\"text-align: right;\">\n",
       "      <th></th>\n",
       "      <th>Unnamed: 0</th>\n",
       "      <th>Text</th>\n",
       "      <th>Label</th>\n",
       "    </tr>\n",
       "  </thead>\n",
       "  <tbody>\n",
       "    <tr>\n",
       "      <th>0</th>\n",
       "      <td>0</td>\n",
       "      <td>Es imposible quererte más @ Plaza Del Callao -...</td>\n",
       "      <td>0</td>\n",
       "    </tr>\n",
       "    <tr>\n",
       "      <th>1</th>\n",
       "      <td>1</td>\n",
       "      <td>Disfrutando de buena comida con buena compañía...</td>\n",
       "      <td>5</td>\n",
       "    </tr>\n",
       "    <tr>\n",
       "      <th>2</th>\n",
       "      <td>2</td>\n",
       "      <td>Muchísimas Felicidades M!!! Nos vemos pronto! ...</td>\n",
       "      <td>8</td>\n",
       "    </tr>\n",
       "    <tr>\n",
       "      <th>3</th>\n",
       "      <td>3</td>\n",
       "      <td>Y pensar que a esta persona la conozco de hace...</td>\n",
       "      <td>8</td>\n",
       "    </tr>\n",
       "    <tr>\n",
       "      <th>4</th>\n",
       "      <td>4</td>\n",
       "      <td>¡Que buenas son las noches así y que buena com...</td>\n",
       "      <td>25</td>\n",
       "    </tr>\n",
       "    <tr>\n",
       "      <th>...</th>\n",
       "      <td>...</td>\n",
       "      <td>...</td>\n",
       "      <td>...</td>\n",
       "    </tr>\n",
       "    <tr>\n",
       "      <th>81160</th>\n",
       "      <td>81160</td>\n",
       "      <td>Cena en Madrid. Plan perfecto para descansar d...</td>\n",
       "      <td>1</td>\n",
       "    </tr>\n",
       "    <tr>\n",
       "      <th>81161</th>\n",
       "      <td>81161</td>\n",
       "      <td>Cuando este triste miraré esta batalla de gall...</td>\n",
       "      <td>2</td>\n",
       "    </tr>\n",
       "    <tr>\n",
       "      <th>81162</th>\n",
       "      <td>81162</td>\n",
       "      <td>@user cooooomoooo me hueeeeeleeeee a olviiiido...</td>\n",
       "      <td>9</td>\n",
       "    </tr>\n",
       "    <tr>\n",
       "      <th>81163</th>\n",
       "      <td>81163</td>\n",
       "      <td>Mi amor @ Bar Concha Velasco Almendralejo</td>\n",
       "      <td>0</td>\n",
       "    </tr>\n",
       "    <tr>\n",
       "      <th>81164</th>\n",
       "      <td>81164</td>\n",
       "      <td>Por todo lo que nos queda por vivir @ Residenc...</td>\n",
       "      <td>3</td>\n",
       "    </tr>\n",
       "  </tbody>\n",
       "</table>\n",
       "<p>81165 rows × 3 columns</p>\n",
       "</div>\n",
       "      <button class=\"colab-df-convert\" onclick=\"convertToInteractive('df-bf791356-81b1-4caa-97dd-4580bb4b58bf')\"\n",
       "              title=\"Convert this dataframe to an interactive table.\"\n",
       "              style=\"display:none;\">\n",
       "        \n",
       "  <svg xmlns=\"http://www.w3.org/2000/svg\" height=\"24px\"viewBox=\"0 0 24 24\"\n",
       "       width=\"24px\">\n",
       "    <path d=\"M0 0h24v24H0V0z\" fill=\"none\"/>\n",
       "    <path d=\"M18.56 5.44l.94 2.06.94-2.06 2.06-.94-2.06-.94-.94-2.06-.94 2.06-2.06.94zm-11 1L8.5 8.5l.94-2.06 2.06-.94-2.06-.94L8.5 2.5l-.94 2.06-2.06.94zm10 10l.94 2.06.94-2.06 2.06-.94-2.06-.94-.94-2.06-.94 2.06-2.06.94z\"/><path d=\"M17.41 7.96l-1.37-1.37c-.4-.4-.92-.59-1.43-.59-.52 0-1.04.2-1.43.59L10.3 9.45l-7.72 7.72c-.78.78-.78 2.05 0 2.83L4 21.41c.39.39.9.59 1.41.59.51 0 1.02-.2 1.41-.59l7.78-7.78 2.81-2.81c.8-.78.8-2.07 0-2.86zM5.41 20L4 18.59l7.72-7.72 1.47 1.35L5.41 20z\"/>\n",
       "  </svg>\n",
       "      </button>\n",
       "      \n",
       "  <style>\n",
       "    .colab-df-container {\n",
       "      display:flex;\n",
       "      flex-wrap:wrap;\n",
       "      gap: 12px;\n",
       "    }\n",
       "\n",
       "    .colab-df-convert {\n",
       "      background-color: #E8F0FE;\n",
       "      border: none;\n",
       "      border-radius: 50%;\n",
       "      cursor: pointer;\n",
       "      display: none;\n",
       "      fill: #1967D2;\n",
       "      height: 32px;\n",
       "      padding: 0 0 0 0;\n",
       "      width: 32px;\n",
       "    }\n",
       "\n",
       "    .colab-df-convert:hover {\n",
       "      background-color: #E2EBFA;\n",
       "      box-shadow: 0px 1px 2px rgba(60, 64, 67, 0.3), 0px 1px 3px 1px rgba(60, 64, 67, 0.15);\n",
       "      fill: #174EA6;\n",
       "    }\n",
       "\n",
       "    [theme=dark] .colab-df-convert {\n",
       "      background-color: #3B4455;\n",
       "      fill: #D2E3FC;\n",
       "    }\n",
       "\n",
       "    [theme=dark] .colab-df-convert:hover {\n",
       "      background-color: #434B5C;\n",
       "      box-shadow: 0px 1px 3px 1px rgba(0, 0, 0, 0.15);\n",
       "      filter: drop-shadow(0px 1px 2px rgba(0, 0, 0, 0.3));\n",
       "      fill: #FFFFFF;\n",
       "    }\n",
       "  </style>\n",
       "\n",
       "      <script>\n",
       "        const buttonEl =\n",
       "          document.querySelector('#df-bf791356-81b1-4caa-97dd-4580bb4b58bf button.colab-df-convert');\n",
       "        buttonEl.style.display =\n",
       "          google.colab.kernel.accessAllowed ? 'block' : 'none';\n",
       "\n",
       "        async function convertToInteractive(key) {\n",
       "          const element = document.querySelector('#df-bf791356-81b1-4caa-97dd-4580bb4b58bf');\n",
       "          const dataTable =\n",
       "            await google.colab.kernel.invokeFunction('convertToInteractive',\n",
       "                                                     [key], {});\n",
       "          if (!dataTable) return;\n",
       "\n",
       "          const docLinkHtml = 'Like what you see? Visit the ' +\n",
       "            '<a target=\"_blank\" href=https://colab.research.google.com/notebooks/data_table.ipynb>data table notebook</a>'\n",
       "            + ' to learn more about interactive tables.';\n",
       "          element.innerHTML = '';\n",
       "          dataTable['output_type'] = 'display_data';\n",
       "          await google.colab.output.renderOutput(dataTable, element);\n",
       "          const docLink = document.createElement('div');\n",
       "          docLink.innerHTML = docLinkHtml;\n",
       "          element.appendChild(docLink);\n",
       "        }\n",
       "      </script>\n",
       "    </div>\n",
       "  </div>\n",
       "  "
      ],
      "text/plain": [
       "       Unnamed: 0                                               Text  Label\n",
       "0               0  Es imposible quererte más @ Plaza Del Callao -...      0\n",
       "1               1  Disfrutando de buena comida con buena compañía...      5\n",
       "2               2  Muchísimas Felicidades M!!! Nos vemos pronto! ...      8\n",
       "3               3  Y pensar que a esta persona la conozco de hace...      8\n",
       "4               4  ¡Que buenas son las noches así y que buena com...     25\n",
       "...           ...                                                ...    ...\n",
       "81160       81160  Cena en Madrid. Plan perfecto para descansar d...      1\n",
       "81161       81161  Cuando este triste miraré esta batalla de gall...      2\n",
       "81162       81162  @user cooooomoooo me hueeeeeleeeee a olviiiido...      9\n",
       "81163       81163         Mi amor @ Bar Concha Velasco Almendralejo       0\n",
       "81164       81164  Por todo lo que nos queda por vivir @ Residenc...      3\n",
       "\n",
       "[81165 rows x 3 columns]"
      ]
     },
     "execution_count": 80,
     "metadata": {},
     "output_type": "execute_result"
    }
   ],
   "source": [
    "df_spanish_train"
   ]
  },
  {
   "cell_type": "code",
   "execution_count": null,
   "metadata": {
    "id": "Ekk0LZypuetY"
   },
   "outputs": [],
   "source": [
    "# Get the lists of sentences and their labels.\n",
    "train_sentences_spanish = df_spanish_train.Text\n",
    "train_labels_spanish = df_spanish_train.Label"
   ]
  },
  {
   "cell_type": "code",
   "execution_count": null,
   "metadata": {
    "id": "uMkuuZAou739"
   },
   "outputs": [],
   "source": [
    "import torch\n",
    "def process_trainingdata_spanish(tokenizer,training_set):\n",
    "  # Tokenize all of the sentences and map the tokens to thier word IDs.\n",
    "  input_ids = []\n",
    "  attention_masks = []\n",
    "  token_type_ids=[]\n",
    "\n",
    "  # For every sentence...\n",
    "  for sent1 in training_set:\n",
    "    encoded_dict = tokenizer(\n",
    "                        sent1,\n",
    "                                              # Sentence to encode.\n",
    "                        add_special_tokens = True, # Add '[CLS]' and '[SEP]'\n",
    "                        max_length = 140,           # Pad & truncate all sentences.\n",
    "                        pad_to_max_length = True,\n",
    "                        return_attention_mask = True,   # Construct attn. masks.\n",
    "                        return_tensors = 'pt',     # Return pytorch tensors.\n",
    "                   )\n",
    "    \n",
    "    # Add the encoded sentence to the list.    \n",
    "    input_ids.append(encoded_dict['input_ids'])\n",
    "    \n",
    "    # And its attention mask (simply differentiates padding from non-padding).\n",
    "    attention_masks.append(encoded_dict['attention_mask'])\n",
    "\n",
    "\n",
    "  # Convert the lists into tensors.\n",
    "  input_ids = torch.cat(input_ids, dim=0)\n",
    "  attention_masks = torch.cat(attention_masks, dim=0)\n",
    "\n",
    "  labels = torch.tensor(train_labels_spanish)\n",
    "\n",
    "  # Print sentence 0, now as a list of IDs.\n",
    "  print('Original: ', train_sentences_spanish[0])\n",
    "  print('Token IDs:', input_ids[0])\n",
    "\n",
    "  return input_ids,attention_masks,labels"
   ]
  },
  {
   "cell_type": "code",
   "execution_count": null,
   "metadata": {
    "colab": {
     "base_uri": "https://localhost:8080/"
    },
    "id": "Nf3fkCM9umBe",
    "outputId": "426fe058-7d52-485a-9e7a-69db509a3c0e"
   },
   "outputs": [
    {
     "name": "stderr",
     "output_type": "stream",
     "text": [
      "/usr/local/lib/python3.7/dist-packages/transformers/tokenization_utils_base.py:2269: FutureWarning: The `pad_to_max_length` argument is deprecated and will be removed in a future version, use `padding=True` or `padding='longest'` to pad to the longest sequence in the batch, or use `padding='max_length'` to pad to a max length. In this case, you can give a specific length with `max_length` (e.g. `max_length=45`) or leave max_length to None to pad to the maximal input size of the model (e.g. 512 for Bert).\n",
      "  FutureWarning,\n"
     ]
    },
    {
     "name": "stdout",
     "output_type": "stream",
     "text": [
      "Original:  Es imposible quererte más @ Plaza Del Callao - Madrid \n",
      "Token IDs: tensor([     0,   1184, 110062, 104962,     67,   1005,   1374,  42834,   8901,\n",
      "         26265,     11,     31,     20,   8884,      2,      1,      1,      1,\n",
      "             1,      1,      1,      1,      1,      1,      1,      1,      1,\n",
      "             1,      1,      1,      1,      1,      1,      1,      1,      1,\n",
      "             1,      1,      1,      1,      1,      1,      1,      1,      1,\n",
      "             1,      1,      1,      1,      1,      1,      1,      1,      1,\n",
      "             1,      1,      1,      1,      1,      1,      1,      1,      1,\n",
      "             1,      1,      1,      1,      1,      1,      1,      1,      1,\n",
      "             1,      1,      1,      1,      1,      1,      1,      1,      1,\n",
      "             1,      1,      1,      1,      1,      1,      1,      1,      1,\n",
      "             1,      1,      1,      1,      1,      1,      1,      1,      1,\n",
      "             1,      1,      1,      1,      1,      1,      1,      1,      1,\n",
      "             1,      1,      1,      1,      1,      1,      1,      1,      1,\n",
      "             1,      1,      1,      1,      1,      1,      1,      1,      1,\n",
      "             1,      1,      1,      1,      1,      1,      1,      1,      1,\n",
      "             1,      1,      1,      1,      1])\n"
     ]
    }
   ],
   "source": [
    "input_ids_bert_spanish,attention_masks_bert_spanish,labels_bert_spanish = process_trainingdata_spanish(tokenizer,train_sentences_spanish)"
   ]
  },
  {
   "cell_type": "code",
   "execution_count": null,
   "metadata": {
    "colab": {
     "base_uri": "https://localhost:8080/"
    },
    "id": "TKKEW12IvHje",
    "outputId": "b6978d58-697e-4014-a2fe-3cb6e6862d28"
   },
   "outputs": [
    {
     "name": "stdout",
     "output_type": "stream",
     "text": [
      "73,048 training samples\n",
      "8,117 validation samples\n"
     ]
    }
   ],
   "source": [
    "train_dataset_bert,val_dataset_bert = datasetsize(input_ids_bert_spanish,attention_masks_bert_spanish,labels_bert_spanish)"
   ]
  },
  {
   "cell_type": "code",
   "execution_count": null,
   "metadata": {
    "id": "RjodDeB0vwly"
   },
   "outputs": [],
   "source": [
    "train_dataloader_bert, validation_dataloader_bert = dataloader(16,train_dataset_bert,val_dataset_bert)"
   ]
  },
  {
   "cell_type": "code",
   "execution_count": null,
   "metadata": {
    "colab": {
     "base_uri": "https://localhost:8080/"
    },
    "id": "3KShXAd6v4a_",
    "outputId": "df6556cb-8935-401e-ce68-843dcc88d5a9"
   },
   "outputs": [
    {
     "name": "stderr",
     "output_type": "stream",
     "text": [
      "Some weights of the model checkpoint at xlm-roberta-base were not used when initializing XLMRobertaForSequenceClassification: ['roberta.pooler.dense.weight', 'lm_head.layer_norm.bias', 'roberta.pooler.dense.bias', 'lm_head.dense.weight', 'lm_head.layer_norm.weight', 'lm_head.decoder.weight', 'lm_head.dense.bias', 'lm_head.bias']\n",
      "- This IS expected if you are initializing XLMRobertaForSequenceClassification from the checkpoint of a model trained on another task or with another architecture (e.g. initializing a BertForSequenceClassification model from a BertForPreTraining model).\n",
      "- This IS NOT expected if you are initializing XLMRobertaForSequenceClassification from the checkpoint of a model that you expect to be exactly identical (initializing a BertForSequenceClassification model from a BertForSequenceClassification model).\n",
      "Some weights of XLMRobertaForSequenceClassification were not initialized from the model checkpoint at xlm-roberta-base and are newly initialized: ['classifier.dense.bias', 'classifier.dense.weight', 'classifier.out_proj.weight', 'classifier.out_proj.bias']\n",
      "You should probably TRAIN this model on a down-stream task to be able to use it for predictions and inference.\n"
     ]
    },
    {
     "data": {
      "text/plain": [
       "XLMRobertaForSequenceClassification(\n",
       "  (roberta): RobertaModel(\n",
       "    (embeddings): RobertaEmbeddings(\n",
       "      (word_embeddings): Embedding(250002, 768, padding_idx=1)\n",
       "      (position_embeddings): Embedding(514, 768, padding_idx=1)\n",
       "      (token_type_embeddings): Embedding(1, 768)\n",
       "      (LayerNorm): LayerNorm((768,), eps=1e-05, elementwise_affine=True)\n",
       "      (dropout): Dropout(p=0.1, inplace=False)\n",
       "    )\n",
       "    (encoder): RobertaEncoder(\n",
       "      (layer): ModuleList(\n",
       "        (0): RobertaLayer(\n",
       "          (attention): RobertaAttention(\n",
       "            (self): RobertaSelfAttention(\n",
       "              (query): Linear(in_features=768, out_features=768, bias=True)\n",
       "              (key): Linear(in_features=768, out_features=768, bias=True)\n",
       "              (value): Linear(in_features=768, out_features=768, bias=True)\n",
       "              (dropout): Dropout(p=0.1, inplace=False)\n",
       "            )\n",
       "            (output): RobertaSelfOutput(\n",
       "              (dense): Linear(in_features=768, out_features=768, bias=True)\n",
       "              (LayerNorm): LayerNorm((768,), eps=1e-05, elementwise_affine=True)\n",
       "              (dropout): Dropout(p=0.1, inplace=False)\n",
       "            )\n",
       "          )\n",
       "          (intermediate): RobertaIntermediate(\n",
       "            (dense): Linear(in_features=768, out_features=3072, bias=True)\n",
       "            (intermediate_act_fn): GELUActivation()\n",
       "          )\n",
       "          (output): RobertaOutput(\n",
       "            (dense): Linear(in_features=3072, out_features=768, bias=True)\n",
       "            (LayerNorm): LayerNorm((768,), eps=1e-05, elementwise_affine=True)\n",
       "            (dropout): Dropout(p=0.1, inplace=False)\n",
       "          )\n",
       "        )\n",
       "        (1): RobertaLayer(\n",
       "          (attention): RobertaAttention(\n",
       "            (self): RobertaSelfAttention(\n",
       "              (query): Linear(in_features=768, out_features=768, bias=True)\n",
       "              (key): Linear(in_features=768, out_features=768, bias=True)\n",
       "              (value): Linear(in_features=768, out_features=768, bias=True)\n",
       "              (dropout): Dropout(p=0.1, inplace=False)\n",
       "            )\n",
       "            (output): RobertaSelfOutput(\n",
       "              (dense): Linear(in_features=768, out_features=768, bias=True)\n",
       "              (LayerNorm): LayerNorm((768,), eps=1e-05, elementwise_affine=True)\n",
       "              (dropout): Dropout(p=0.1, inplace=False)\n",
       "            )\n",
       "          )\n",
       "          (intermediate): RobertaIntermediate(\n",
       "            (dense): Linear(in_features=768, out_features=3072, bias=True)\n",
       "            (intermediate_act_fn): GELUActivation()\n",
       "          )\n",
       "          (output): RobertaOutput(\n",
       "            (dense): Linear(in_features=3072, out_features=768, bias=True)\n",
       "            (LayerNorm): LayerNorm((768,), eps=1e-05, elementwise_affine=True)\n",
       "            (dropout): Dropout(p=0.1, inplace=False)\n",
       "          )\n",
       "        )\n",
       "        (2): RobertaLayer(\n",
       "          (attention): RobertaAttention(\n",
       "            (self): RobertaSelfAttention(\n",
       "              (query): Linear(in_features=768, out_features=768, bias=True)\n",
       "              (key): Linear(in_features=768, out_features=768, bias=True)\n",
       "              (value): Linear(in_features=768, out_features=768, bias=True)\n",
       "              (dropout): Dropout(p=0.1, inplace=False)\n",
       "            )\n",
       "            (output): RobertaSelfOutput(\n",
       "              (dense): Linear(in_features=768, out_features=768, bias=True)\n",
       "              (LayerNorm): LayerNorm((768,), eps=1e-05, elementwise_affine=True)\n",
       "              (dropout): Dropout(p=0.1, inplace=False)\n",
       "            )\n",
       "          )\n",
       "          (intermediate): RobertaIntermediate(\n",
       "            (dense): Linear(in_features=768, out_features=3072, bias=True)\n",
       "            (intermediate_act_fn): GELUActivation()\n",
       "          )\n",
       "          (output): RobertaOutput(\n",
       "            (dense): Linear(in_features=3072, out_features=768, bias=True)\n",
       "            (LayerNorm): LayerNorm((768,), eps=1e-05, elementwise_affine=True)\n",
       "            (dropout): Dropout(p=0.1, inplace=False)\n",
       "          )\n",
       "        )\n",
       "        (3): RobertaLayer(\n",
       "          (attention): RobertaAttention(\n",
       "            (self): RobertaSelfAttention(\n",
       "              (query): Linear(in_features=768, out_features=768, bias=True)\n",
       "              (key): Linear(in_features=768, out_features=768, bias=True)\n",
       "              (value): Linear(in_features=768, out_features=768, bias=True)\n",
       "              (dropout): Dropout(p=0.1, inplace=False)\n",
       "            )\n",
       "            (output): RobertaSelfOutput(\n",
       "              (dense): Linear(in_features=768, out_features=768, bias=True)\n",
       "              (LayerNorm): LayerNorm((768,), eps=1e-05, elementwise_affine=True)\n",
       "              (dropout): Dropout(p=0.1, inplace=False)\n",
       "            )\n",
       "          )\n",
       "          (intermediate): RobertaIntermediate(\n",
       "            (dense): Linear(in_features=768, out_features=3072, bias=True)\n",
       "            (intermediate_act_fn): GELUActivation()\n",
       "          )\n",
       "          (output): RobertaOutput(\n",
       "            (dense): Linear(in_features=3072, out_features=768, bias=True)\n",
       "            (LayerNorm): LayerNorm((768,), eps=1e-05, elementwise_affine=True)\n",
       "            (dropout): Dropout(p=0.1, inplace=False)\n",
       "          )\n",
       "        )\n",
       "        (4): RobertaLayer(\n",
       "          (attention): RobertaAttention(\n",
       "            (self): RobertaSelfAttention(\n",
       "              (query): Linear(in_features=768, out_features=768, bias=True)\n",
       "              (key): Linear(in_features=768, out_features=768, bias=True)\n",
       "              (value): Linear(in_features=768, out_features=768, bias=True)\n",
       "              (dropout): Dropout(p=0.1, inplace=False)\n",
       "            )\n",
       "            (output): RobertaSelfOutput(\n",
       "              (dense): Linear(in_features=768, out_features=768, bias=True)\n",
       "              (LayerNorm): LayerNorm((768,), eps=1e-05, elementwise_affine=True)\n",
       "              (dropout): Dropout(p=0.1, inplace=False)\n",
       "            )\n",
       "          )\n",
       "          (intermediate): RobertaIntermediate(\n",
       "            (dense): Linear(in_features=768, out_features=3072, bias=True)\n",
       "            (intermediate_act_fn): GELUActivation()\n",
       "          )\n",
       "          (output): RobertaOutput(\n",
       "            (dense): Linear(in_features=3072, out_features=768, bias=True)\n",
       "            (LayerNorm): LayerNorm((768,), eps=1e-05, elementwise_affine=True)\n",
       "            (dropout): Dropout(p=0.1, inplace=False)\n",
       "          )\n",
       "        )\n",
       "        (5): RobertaLayer(\n",
       "          (attention): RobertaAttention(\n",
       "            (self): RobertaSelfAttention(\n",
       "              (query): Linear(in_features=768, out_features=768, bias=True)\n",
       "              (key): Linear(in_features=768, out_features=768, bias=True)\n",
       "              (value): Linear(in_features=768, out_features=768, bias=True)\n",
       "              (dropout): Dropout(p=0.1, inplace=False)\n",
       "            )\n",
       "            (output): RobertaSelfOutput(\n",
       "              (dense): Linear(in_features=768, out_features=768, bias=True)\n",
       "              (LayerNorm): LayerNorm((768,), eps=1e-05, elementwise_affine=True)\n",
       "              (dropout): Dropout(p=0.1, inplace=False)\n",
       "            )\n",
       "          )\n",
       "          (intermediate): RobertaIntermediate(\n",
       "            (dense): Linear(in_features=768, out_features=3072, bias=True)\n",
       "            (intermediate_act_fn): GELUActivation()\n",
       "          )\n",
       "          (output): RobertaOutput(\n",
       "            (dense): Linear(in_features=3072, out_features=768, bias=True)\n",
       "            (LayerNorm): LayerNorm((768,), eps=1e-05, elementwise_affine=True)\n",
       "            (dropout): Dropout(p=0.1, inplace=False)\n",
       "          )\n",
       "        )\n",
       "        (6): RobertaLayer(\n",
       "          (attention): RobertaAttention(\n",
       "            (self): RobertaSelfAttention(\n",
       "              (query): Linear(in_features=768, out_features=768, bias=True)\n",
       "              (key): Linear(in_features=768, out_features=768, bias=True)\n",
       "              (value): Linear(in_features=768, out_features=768, bias=True)\n",
       "              (dropout): Dropout(p=0.1, inplace=False)\n",
       "            )\n",
       "            (output): RobertaSelfOutput(\n",
       "              (dense): Linear(in_features=768, out_features=768, bias=True)\n",
       "              (LayerNorm): LayerNorm((768,), eps=1e-05, elementwise_affine=True)\n",
       "              (dropout): Dropout(p=0.1, inplace=False)\n",
       "            )\n",
       "          )\n",
       "          (intermediate): RobertaIntermediate(\n",
       "            (dense): Linear(in_features=768, out_features=3072, bias=True)\n",
       "            (intermediate_act_fn): GELUActivation()\n",
       "          )\n",
       "          (output): RobertaOutput(\n",
       "            (dense): Linear(in_features=3072, out_features=768, bias=True)\n",
       "            (LayerNorm): LayerNorm((768,), eps=1e-05, elementwise_affine=True)\n",
       "            (dropout): Dropout(p=0.1, inplace=False)\n",
       "          )\n",
       "        )\n",
       "        (7): RobertaLayer(\n",
       "          (attention): RobertaAttention(\n",
       "            (self): RobertaSelfAttention(\n",
       "              (query): Linear(in_features=768, out_features=768, bias=True)\n",
       "              (key): Linear(in_features=768, out_features=768, bias=True)\n",
       "              (value): Linear(in_features=768, out_features=768, bias=True)\n",
       "              (dropout): Dropout(p=0.1, inplace=False)\n",
       "            )\n",
       "            (output): RobertaSelfOutput(\n",
       "              (dense): Linear(in_features=768, out_features=768, bias=True)\n",
       "              (LayerNorm): LayerNorm((768,), eps=1e-05, elementwise_affine=True)\n",
       "              (dropout): Dropout(p=0.1, inplace=False)\n",
       "            )\n",
       "          )\n",
       "          (intermediate): RobertaIntermediate(\n",
       "            (dense): Linear(in_features=768, out_features=3072, bias=True)\n",
       "            (intermediate_act_fn): GELUActivation()\n",
       "          )\n",
       "          (output): RobertaOutput(\n",
       "            (dense): Linear(in_features=3072, out_features=768, bias=True)\n",
       "            (LayerNorm): LayerNorm((768,), eps=1e-05, elementwise_affine=True)\n",
       "            (dropout): Dropout(p=0.1, inplace=False)\n",
       "          )\n",
       "        )\n",
       "        (8): RobertaLayer(\n",
       "          (attention): RobertaAttention(\n",
       "            (self): RobertaSelfAttention(\n",
       "              (query): Linear(in_features=768, out_features=768, bias=True)\n",
       "              (key): Linear(in_features=768, out_features=768, bias=True)\n",
       "              (value): Linear(in_features=768, out_features=768, bias=True)\n",
       "              (dropout): Dropout(p=0.1, inplace=False)\n",
       "            )\n",
       "            (output): RobertaSelfOutput(\n",
       "              (dense): Linear(in_features=768, out_features=768, bias=True)\n",
       "              (LayerNorm): LayerNorm((768,), eps=1e-05, elementwise_affine=True)\n",
       "              (dropout): Dropout(p=0.1, inplace=False)\n",
       "            )\n",
       "          )\n",
       "          (intermediate): RobertaIntermediate(\n",
       "            (dense): Linear(in_features=768, out_features=3072, bias=True)\n",
       "            (intermediate_act_fn): GELUActivation()\n",
       "          )\n",
       "          (output): RobertaOutput(\n",
       "            (dense): Linear(in_features=3072, out_features=768, bias=True)\n",
       "            (LayerNorm): LayerNorm((768,), eps=1e-05, elementwise_affine=True)\n",
       "            (dropout): Dropout(p=0.1, inplace=False)\n",
       "          )\n",
       "        )\n",
       "        (9): RobertaLayer(\n",
       "          (attention): RobertaAttention(\n",
       "            (self): RobertaSelfAttention(\n",
       "              (query): Linear(in_features=768, out_features=768, bias=True)\n",
       "              (key): Linear(in_features=768, out_features=768, bias=True)\n",
       "              (value): Linear(in_features=768, out_features=768, bias=True)\n",
       "              (dropout): Dropout(p=0.1, inplace=False)\n",
       "            )\n",
       "            (output): RobertaSelfOutput(\n",
       "              (dense): Linear(in_features=768, out_features=768, bias=True)\n",
       "              (LayerNorm): LayerNorm((768,), eps=1e-05, elementwise_affine=True)\n",
       "              (dropout): Dropout(p=0.1, inplace=False)\n",
       "            )\n",
       "          )\n",
       "          (intermediate): RobertaIntermediate(\n",
       "            (dense): Linear(in_features=768, out_features=3072, bias=True)\n",
       "            (intermediate_act_fn): GELUActivation()\n",
       "          )\n",
       "          (output): RobertaOutput(\n",
       "            (dense): Linear(in_features=3072, out_features=768, bias=True)\n",
       "            (LayerNorm): LayerNorm((768,), eps=1e-05, elementwise_affine=True)\n",
       "            (dropout): Dropout(p=0.1, inplace=False)\n",
       "          )\n",
       "        )\n",
       "        (10): RobertaLayer(\n",
       "          (attention): RobertaAttention(\n",
       "            (self): RobertaSelfAttention(\n",
       "              (query): Linear(in_features=768, out_features=768, bias=True)\n",
       "              (key): Linear(in_features=768, out_features=768, bias=True)\n",
       "              (value): Linear(in_features=768, out_features=768, bias=True)\n",
       "              (dropout): Dropout(p=0.1, inplace=False)\n",
       "            )\n",
       "            (output): RobertaSelfOutput(\n",
       "              (dense): Linear(in_features=768, out_features=768, bias=True)\n",
       "              (LayerNorm): LayerNorm((768,), eps=1e-05, elementwise_affine=True)\n",
       "              (dropout): Dropout(p=0.1, inplace=False)\n",
       "            )\n",
       "          )\n",
       "          (intermediate): RobertaIntermediate(\n",
       "            (dense): Linear(in_features=768, out_features=3072, bias=True)\n",
       "            (intermediate_act_fn): GELUActivation()\n",
       "          )\n",
       "          (output): RobertaOutput(\n",
       "            (dense): Linear(in_features=3072, out_features=768, bias=True)\n",
       "            (LayerNorm): LayerNorm((768,), eps=1e-05, elementwise_affine=True)\n",
       "            (dropout): Dropout(p=0.1, inplace=False)\n",
       "          )\n",
       "        )\n",
       "        (11): RobertaLayer(\n",
       "          (attention): RobertaAttention(\n",
       "            (self): RobertaSelfAttention(\n",
       "              (query): Linear(in_features=768, out_features=768, bias=True)\n",
       "              (key): Linear(in_features=768, out_features=768, bias=True)\n",
       "              (value): Linear(in_features=768, out_features=768, bias=True)\n",
       "              (dropout): Dropout(p=0.1, inplace=False)\n",
       "            )\n",
       "            (output): RobertaSelfOutput(\n",
       "              (dense): Linear(in_features=768, out_features=768, bias=True)\n",
       "              (LayerNorm): LayerNorm((768,), eps=1e-05, elementwise_affine=True)\n",
       "              (dropout): Dropout(p=0.1, inplace=False)\n",
       "            )\n",
       "          )\n",
       "          (intermediate): RobertaIntermediate(\n",
       "            (dense): Linear(in_features=768, out_features=3072, bias=True)\n",
       "            (intermediate_act_fn): GELUActivation()\n",
       "          )\n",
       "          (output): RobertaOutput(\n",
       "            (dense): Linear(in_features=3072, out_features=768, bias=True)\n",
       "            (LayerNorm): LayerNorm((768,), eps=1e-05, elementwise_affine=True)\n",
       "            (dropout): Dropout(p=0.1, inplace=False)\n",
       "          )\n",
       "        )\n",
       "      )\n",
       "    )\n",
       "  )\n",
       "  (classifier): RobertaClassificationHead(\n",
       "    (dense): Linear(in_features=768, out_features=768, bias=True)\n",
       "    (dropout): Dropout(p=0.1, inplace=False)\n",
       "    (out_proj): Linear(in_features=768, out_features=26, bias=True)\n",
       "  )\n",
       ")"
      ]
     },
     "execution_count": 88,
     "metadata": {},
     "output_type": "execute_result"
    }
   ],
   "source": [
    "from transformers import AdamW, BertConfig\n",
    "\n",
    "# Load BertForSequenceClassification, the pretrained BERT model with a single \n",
    "# linear classification layer on top. \n",
    "model_spanish = XLMRobertaForSequenceClassification.from_pretrained(\n",
    "    \"xlm-roberta-base\", # Use the 12-layer BERT model, with an uncased vocab.\n",
    "    num_labels = 26, # need to change to the number of label in test for zero-shot performance\n",
    "                    # You can increase this for multi-class tasks.   \n",
    "    output_attentions = False, # Whether the model returns attentions weights.\n",
    "    output_hidden_states = False, # Whether the model returns all hidden-states.\n",
    ")\n",
    "\n",
    "# Tell pytorch to run this model on the GPU.\n",
    "model_spanish.cuda()"
   ]
  },
  {
   "cell_type": "code",
   "execution_count": null,
   "metadata": {
    "colab": {
     "base_uri": "https://localhost:8080/"
    },
    "id": "7Jwnnc9zwEWE",
    "outputId": "22a5f7a3-24f1-4f82-eaac-75a9021a3c03"
   },
   "outputs": [
    {
     "name": "stderr",
     "output_type": "stream",
     "text": [
      "/usr/local/lib/python3.7/dist-packages/transformers/optimization.py:309: FutureWarning: This implementation of AdamW is deprecated and will be removed in a future version. Use the PyTorch implementation torch.optim.AdamW instead, or set `no_deprecation_warning=True` to disable this warning\n",
      "  FutureWarning,\n"
     ]
    }
   ],
   "source": [
    "optimizer_spanish = optimizer(model_spanish)"
   ]
  },
  {
   "cell_type": "code",
   "execution_count": null,
   "metadata": {
    "id": "d4Vqq_PYwRa7"
   },
   "outputs": [],
   "source": [
    "scheduler_spanish = scheduler(train_dataloader_bert,optimizer_spanish)"
   ]
  },
  {
   "cell_type": "code",
   "execution_count": null,
   "metadata": {
    "colab": {
     "base_uri": "https://localhost:8080/"
    },
    "id": "_uwqKKTCwyrI",
    "outputId": "c0a20476-d7ad-49eb-8ec9-62079e767446"
   },
   "outputs": [
    {
     "name": "stdout",
     "output_type": "stream",
     "text": [
      "\n",
      "======== Epoch 1 / 1 ========\n",
      "Training...\n",
      "  Batch   400  of  4,566.    Elapsed: 0:01:42.\n",
      "  Batch   800  of  4,566.    Elapsed: 0:03:24.\n",
      "  Batch 1,200  of  4,566.    Elapsed: 0:05:05.\n",
      "  Batch 1,600  of  4,566.    Elapsed: 0:06:47.\n",
      "  Batch 2,000  of  4,566.    Elapsed: 0:08:29.\n",
      "  Batch 2,400  of  4,566.    Elapsed: 0:10:11.\n",
      "  Batch 2,800  of  4,566.    Elapsed: 0:11:52.\n",
      "  Batch 3,200  of  4,566.    Elapsed: 0:13:34.\n",
      "  Batch 3,600  of  4,566.    Elapsed: 0:15:16.\n",
      "  Batch 4,000  of  4,566.    Elapsed: 0:16:58.\n",
      "  Batch 4,400  of  4,566.    Elapsed: 0:18:39.\n",
      "\n",
      "  Average training loss: 2.28\n",
      "  Training epcoh took: 0:19:22\n",
      "\n",
      "Running Validation...\n",
      "  Accuracy: 0.34\n",
      "  Validation Loss: 2.15\n",
      "  Validation took: 0:00:34\n",
      "\n",
      "Training complete!\n",
      "Total training took 0:19:55 (h:mm:ss)\n"
     ]
    }
   ],
   "source": [
    "model_spanish = modeltraining(model_spanish,train_dataloader_bert,validation_dataloader_bert,optimizer_spanish,scheduler_spanish)"
   ]
  },
  {
   "cell_type": "code",
   "execution_count": null,
   "metadata": {
    "id": "3rcFltJWxPyG"
   },
   "outputs": [],
   "source": [
    "torch.save(model_spanish,'/content/drive/MyDrive/NLP_Project/English/xlm_roberta_spanish.pt')"
   ]
  },
  {
   "cell_type": "code",
   "execution_count": 24,
   "metadata": {
    "id": "zVN2WjjAFBpU"
   },
   "outputs": [],
   "source": [
    "model_spanish = torch.load(filepath+'English/xlm_roberta_spanish.pt')"
   ]
  },
  {
   "cell_type": "markdown",
   "metadata": {
    "id": "8sjFfH-q3CzR"
   },
   "source": [
    "Testing on Spanish tweets dataset "
   ]
  },
  {
   "cell_type": "code",
   "execution_count": null,
   "metadata": {
    "colab": {
     "base_uri": "https://localhost:8080/"
    },
    "id": "VatigSLR19YQ",
    "outputId": "09685863-f20e-4db9-a62d-0bffa9b2202c"
   },
   "outputs": [
    {
     "name": "stdout",
     "output_type": "stream",
     "text": [
      "Number of test sentences: 10,000\n",
      "\n"
     ]
    },
    {
     "name": "stderr",
     "output_type": "stream",
     "text": [
      "/usr/local/lib/python3.7/dist-packages/transformers/tokenization_utils_base.py:2269: FutureWarning: The `pad_to_max_length` argument is deprecated and will be removed in a future version, use `padding=True` or `padding='longest'` to pad to the longest sequence in the batch, or use `padding='max_length'` to pad to a max length. In this case, you can give a specific length with `max_length` (e.g. `max_length=45`) or leave max_length to None to pad to the maximal input size of the model (e.g. 512 for Bert).\n",
      "  FutureWarning,\n"
     ]
    }
   ],
   "source": [
    "prediction_dataloader_spanish_test = test_preprocessing(tokenizer,16,140)"
   ]
  },
  {
   "cell_type": "code",
   "execution_count": null,
   "metadata": {
    "id": "av1HQtqsFJ0K"
   },
   "outputs": [],
   "source": [
    "acc_span_ss, pred_label_ss, true_labels_ss = predicttestset(model_spanish,prediction_dataloader_spanish_test)"
   ]
  },
  {
   "cell_type": "code",
   "execution_count": null,
   "metadata": {
    "colab": {
     "base_uri": "https://localhost:8080/"
    },
    "id": "P2EyBpkyFY6c",
    "outputId": "33ebe8fa-66ef-41cc-92c1-ffdfb96ec2c2"
   },
   "outputs": [
    {
     "name": "stdout",
     "output_type": "stream",
     "text": [
      "              precision    recall  f1-score   support\n",
      "\n",
      "           ❤       0.65      0.72      0.68      2141\n",
      "           😍       0.28      0.60      0.38      1408\n",
      "           😂       0.47      0.68      0.56      1499\n",
      "           💕       0.14      0.01      0.01       352\n",
      "           😊       0.15      0.18      0.17       514\n",
      "           😎       0.00      0.00      0.00       339\n",
      "           ✨       0.29      0.05      0.08       416\n",
      "           💙       1.00      0.00      0.00       413\n",
      "           😘       0.27      0.23      0.25       397\n",
      "           💜       1.00      0.00      0.00       235\n",
      "           😉       0.18      0.03      0.05       453\n",
      "           😁       1.00      0.00      0.00       209\n",
      "           😜       1.00      0.00      0.00       274\n",
      "           💪       0.29      0.52      0.37       307\n",
      "           👌       0.04      0.01      0.01       180\n",
      "          🇪🇸       0.48      0.55      0.51       424\n",
      "           💞       1.00      0.00      0.00        93\n",
      "           🎶       0.19      0.26      0.22       212\n",
      "           💘       1.00      0.00      0.00       134\n",
      "\n",
      "    accuracy                           0.41     10000\n",
      "   macro avg       0.50      0.20      0.17     10000\n",
      "weighted avg       0.46      0.41      0.35     10000\n",
      "\n"
     ]
    }
   ],
   "source": [
    "from sklearn.metrics import classification_report\n",
    "emoji_list_ss = ['❤', '😍', '😂', '💕', '😊', '😎', '✨', '💙', '😘', '💜', '😉', '😁','😜', '💪', '👌', '🇪🇸', '💞', '🎶', '💘']\n",
    "final_repo = classification_report(true_labels_ss, pred_label_ss, zero_division=1,target_names=emoji_list_ss)\n",
    "print(final_repo)"
   ]
  },
  {
   "cell_type": "code",
   "execution_count": null,
   "metadata": {
    "colab": {
     "base_uri": "https://localhost:8080/",
     "height": 287
    },
    "id": "vad_9NxaFbzY",
    "outputId": "00f8924c-12fb-4c14-c800-8cc0bbd087ac"
   },
   "outputs": [
    {
     "data": {
      "text/plain": [
       "<matplotlib.axes._subplots.AxesSubplot at 0x7f82c0130410>"
      ]
     },
     "execution_count": 46,
     "metadata": {},
     "output_type": "execute_result"
    },
    {
     "data": {
      "image/png": "[encoded data removed]",
      "text/plain": [
       "<Figure size 432x288 with 2 Axes>"
      ]
     },
     "metadata": {
      "needs_background": "light"
     },
     "output_type": "display_data"
    }
   ],
   "source": [
    "import pandas as pd\n",
    "import seaborn as sns\n",
    "evaluation_report = classification_report(true_labels_ss, pred_label_ss, output_dict=True, zero_division=1)\n",
    "sns.heatmap(pd.DataFrame(evaluation_report).iloc[:-1, :].T, annot=True)"
   ]
  },
  {
   "cell_type": "code",
   "execution_count": null,
   "metadata": {
    "colab": {
     "base_uri": "https://localhost:8080/"
    },
    "id": "rBF6nmux3F47",
    "outputId": "35c8bdc2-d556-45ac-cc73-3576995022ce"
   },
   "outputs": [
    {
     "name": "stdout",
     "output_type": "stream",
     "text": [
      "The accuracy for fine-tune Spanish XLMRoberta BERT on Spanish test set is: 40.62 %\n"
     ]
    }
   ],
   "source": [
    "print('The accuracy for fine-tune Spanish XLMRoberta BERT on Spanish test set is:',acc_span_ss,'%')"
   ]
  },
  {
   "cell_type": "code",
   "execution_count": null,
   "metadata": {
    "id": "4hktQ3OsrBIE"
   },
   "outputs": [],
   "source": [
    "acc_es_3, pred_label_es_3, true_labels_es_3 = predicttestset_topk(model_spanish, prediction_dataloader_spanish_test, 3)"
   ]
  },
  {
   "cell_type": "code",
   "execution_count": 37,
   "metadata": {
    "colab": {
     "base_uri": "https://localhost:8080/"
    },
    "id": "2oFLwWNLs2h5",
    "outputId": "2e3b87fc-0928-4156-a60f-4ab110245870"
   },
   "outputs": [
    {
     "name": "stdout",
     "output_type": "stream",
     "text": [
      "Buenos días desde Valencia en Comunidad Valenciana, Spain\n",
      "The top 3 prediction for the above sentence are: [5, 1, 9] and corresponding emojis are: 😊 😍 😘\n"
     ]
    }
   ],
   "source": [
    "print(df_spanish_test.Text.values[0])\n",
    "print('The top 3 prediction for the above sentence are:',[5, 1, 9], 'and corresponding emojis are:','😊','😍','😘')"
   ]
  },
  {
   "cell_type": "code",
   "execution_count": 34,
   "metadata": {
    "colab": {
     "base_uri": "https://localhost:8080/"
    },
    "id": "ROkmedIetcoZ",
    "outputId": "f5e245e5-be9c-4153-969e-6f7a9a96d645"
   },
   "outputs": [
    {
     "name": "stdout",
     "output_type": "stream",
     "text": [
      "The top 3 zero shot accuracy for fine-tune spanish XLMRoberta BERT on Spanish test set is: 60.43 %\n"
     ]
    }
   ],
   "source": [
    "print('The top 3 zero shot accuracy for fine-tune spanish XLMRoberta BERT on Spanish test set is:',acc_es_3,'%')"
   ]
  },
  {
   "cell_type": "markdown",
   "metadata": {
    "id": "7vRlc8Yo3YGk"
   },
   "source": [
    "Zero shot accuracy for Spanish XLMRoberta on English test set "
   ]
  },
  {
   "cell_type": "code",
   "execution_count": 38,
   "metadata": {
    "id": "6OVuK3anTt59"
   },
   "outputs": [],
   "source": [
    "import pandas as pd\n",
    "def test_preprocessing(tokenizer, batchsize,maxlength):\n",
    "  # Load the dataset into a pandas dataframe.\n",
    "\n",
    "   # Report the number of sentences.\n",
    "  print('Number of test sentences: {:,}\\n'.format(df_test_english.shape[0]))\n",
    "\n",
    "  test_sentences = df_test_english.Tweets\n",
    "\n",
    "  test_labels = df_english_test_labels.Labels\n",
    "  \n",
    "  input_ids_test = []\n",
    "  attention_masks_test = []\n",
    "  \n",
    "  # For every sentence...\n",
    "  for sent1 in test_sentences:\n",
    "    encoded_dict_test = tokenizer.encode_plus(\n",
    "                        sent1, # Sentence to encode.\n",
    "                        add_special_tokens = True, # Add '[CLS]' and '[SEP]'\n",
    "                        max_length = maxlength,           # Pad & truncate all sentences.\n",
    "                        pad_to_max_length = True,\n",
    "                        return_attention_mask = True,   # Construct attn. masks.\n",
    "                        return_tensors = 'pt',     # Return pytorch tensors.\n",
    "                   )\n",
    "\n",
    "    # Add the encoded sentence to the list.    \n",
    "    input_ids_test.append(encoded_dict_test['input_ids'])\n",
    "    \n",
    "    # And its attention mask (simply differentiates padding from non-padding).\n",
    "    attention_masks_test.append(encoded_dict_test['attention_mask'])\n",
    "\n",
    "  # Convert the lists into tensors.\n",
    "  input_ids_test = torch.cat(input_ids_test, dim=0)\n",
    "  attention_masks_test = torch.cat(attention_masks_test, dim=0)\n",
    "  #token_type_ids_test = torch.cat(token_type_ids_test, dim=0)\n",
    "  labels_rte_test = torch.tensor(test_labels)\n",
    "\n",
    "  # Set the batch size.  \n",
    "  batch_size = batchsize \n",
    "\n",
    "  # Create the DataLoader.\n",
    "  prediction_data = TensorDataset(input_ids_test, attention_masks_test, labels_rte_test)\n",
    "  prediction_sampler = SequentialSampler(prediction_data)\n",
    "  prediction_dataloader = DataLoader(prediction_data, sampler=prediction_sampler, batch_size=batch_size)\n",
    "\n",
    "  return prediction_dataloader"
   ]
  },
  {
   "cell_type": "code",
   "execution_count": 39,
   "metadata": {
    "colab": {
     "base_uri": "https://localhost:8080/"
    },
    "id": "7UhXqGTp3dl-",
    "outputId": "2af04013-a421-4807-c6a3-1516b89a00db"
   },
   "outputs": [
    {
     "name": "stdout",
     "output_type": "stream",
     "text": [
      "Number of test sentences: 50,000\n",
      "\n"
     ]
    },
    {
     "name": "stderr",
     "output_type": "stream",
     "text": [
      "/usr/local/lib/python3.7/dist-packages/transformers/tokenization_utils_base.py:2269: FutureWarning: The `pad_to_max_length` argument is deprecated and will be removed in a future version, use `padding=True` or `padding='longest'` to pad to the longest sequence in the batch, or use `padding='max_length'` to pad to a max length. In this case, you can give a specific length with `max_length` (e.g. `max_length=45`) or leave max_length to None to pad to the maximal input size of the model (e.g. 512 for Bert).\n",
      "  FutureWarning,\n"
     ]
    }
   ],
   "source": [
    "prediction_dataloader_english_test = test_preprocessing(tokenizer,16,140)"
   ]
  },
  {
   "cell_type": "code",
   "execution_count": null,
   "metadata": {
    "id": "uNjvWAodGE-p"
   },
   "outputs": [],
   "source": [
    "acc_se, pred_label_se, true_labels_se=predicttestset(model_spanish,prediction_dataloader_english_test)"
   ]
  },
  {
   "cell_type": "code",
   "execution_count": null,
   "metadata": {
    "colab": {
     "base_uri": "https://localhost:8080/"
    },
    "id": "NwDtkcsMGE64",
    "outputId": "1efea7f7-33c4-4f1c-9350-492b40771695"
   },
   "outputs": [
    {
     "name": "stdout",
     "output_type": "stream",
     "text": [
      "              precision    recall  f1-score   support\n",
      "\n",
      "           ❤       0.61      0.89      0.72     10798\n",
      "           😍       0.19      0.66      0.29      4830\n",
      "           😂       0.28      0.52      0.36      4534\n",
      "           💕       0.18      0.00      0.01      2605\n",
      "           🔥       1.00      0.00      0.00      3716\n",
      "           😊       0.09      0.15      0.11      1613\n",
      "           😎       0.09      0.00      0.00      1996\n",
      "           ✨       0.30      0.03      0.05      2749\n",
      "           💙       1.00      0.00      0.00      1549\n",
      "           😘       0.09      0.06      0.08      1175\n",
      "           📷       1.00      0.00      0.00      1432\n",
      "          🇺🇸       1.00      0.00      0.00      1949\n",
      "           ☀       1.00      0.00      0.00      1265\n",
      "           💜       1.00      0.00      0.00      1114\n",
      "           😉       0.06      0.01      0.02      1306\n",
      "           💯       1.00      0.00      0.00      1244\n",
      "           😁       1.00      0.00      0.00      1153\n",
      "           🎄       1.00      0.00      0.00      1545\n",
      "           📸       1.00      0.00      0.00      2417\n",
      "           😜       1.00      0.00      0.00      1010\n",
      "           💪       0.00      1.00      0.00         0\n",
      "           👌       0.00      1.00      0.00         0\n",
      "          🇪🇸       0.00      1.00      0.00         0\n",
      "           🎶       0.00      1.00      0.00         0\n",
      "\n",
      "    accuracy                           0.31     50000\n",
      "   macro avg       0.54      0.26      0.07     50000\n",
      "weighted avg       0.58      0.31      0.23     50000\n",
      "\n"
     ]
    }
   ],
   "source": [
    "from sklearn.metrics import classification_report\n",
    "emoji_list_se = ['❤', '😍', '😂', '💕', '🔥', '😊', '😎', '✨', '💙', '😘', '📷', '🇺🇸', '☀', '💜', '😉', '💯', '😁', '🎄', '📸', '😜','💪', '👌', '🇪🇸', '🎶']\n",
    "final_repo = classification_report(true_labels_se, pred_label_se, zero_division=1,target_names=emoji_list_se)\n",
    "#final_repo = classification_report(true_labels_se, pred_label_se, zero_division=1)\n",
    "print(final_repo)"
   ]
  },
  {
   "cell_type": "code",
   "execution_count": null,
   "metadata": {
    "colab": {
     "base_uri": "https://localhost:8080/",
     "height": 287
    },
    "id": "tJhr2Wp3GQAW",
    "outputId": "6395ec3e-3ebc-4d6f-9b17-9bfe6ab231c3"
   },
   "outputs": [
    {
     "data": {
      "text/plain": [
       "<matplotlib.axes._subplots.AxesSubplot at 0x7f82c1f08550>"
      ]
     },
     "execution_count": 62,
     "metadata": {},
     "output_type": "execute_result"
    },
    {
     "data": {
      "image/png": "[encoded data removed]",
      "text/plain": [
       "<Figure size 432x288 with 2 Axes>"
      ]
     },
     "metadata": {
      "needs_background": "light"
     },
     "output_type": "display_data"
    }
   ],
   "source": [
    "import pandas as pd\n",
    "import seaborn as sns\n",
    "evaluation_report = classification_report(true_labels_se, pred_label_se, output_dict=True, zero_division=1)\n",
    "sns.heatmap(pd.DataFrame(evaluation_report).iloc[:-1, :].T, annot=True)"
   ]
  },
  {
   "cell_type": "code",
   "execution_count": null,
   "metadata": {
    "colab": {
     "base_uri": "https://localhost:8080/"
    },
    "id": "N202d71p3jT-",
    "outputId": "1c724dfc-d46d-4163-846c-b59d6b78850c"
   },
   "outputs": [
    {
     "name": "stdout",
     "output_type": "stream",
     "text": [
      "The zero shot accuracy for fine-tune Spanish XLMRoberta model on English test set is: 31.016 %\n"
     ]
    }
   ],
   "source": [
    "print('The zero shot accuracy for fine-tune Spanish XLMRoberta model on English test set is:',acc_se,'%')"
   ]
  },
  {
   "cell_type": "code",
   "execution_count": null,
   "metadata": {
    "id": "OPxsDqIjuqfp"
   },
   "outputs": [],
   "source": [
    "acc_es_3, pred_label_es_3, true_labels_es_3 = predicttestset_topk(model_spanish, prediction_dataloader_english_test, 3)"
   ]
  },
  {
   "cell_type": "code",
   "execution_count": 49,
   "metadata": {
    "colab": {
     "base_uri": "https://localhost:8080/"
    },
    "id": "eUsius0evtuG",
    "outputId": "4cca5b5f-fe4b-4738-f04d-9d51bb8fccb0"
   },
   "outputs": [
    {
     "name": "stdout",
     "output_type": "stream",
     "text": [
      "Pops with Ms Drina at The Swanees Anniversary #ThemRatedRboyz @ The Bell Auditorium\n",
      "\n",
      "The top 3 prediction for the above sentence are: [1, 9, 0] and corresponding emojis are: ❤ 💕 😍\n"
     ]
    }
   ],
   "source": [
    "print(df_test_english.Tweets.values[-3])\n",
    "print('The top 3 prediction for the above sentence are:',[1, 9, 0], 'and corresponding emojis are:','❤','💕','😍')"
   ]
  },
  {
   "cell_type": "code",
   "execution_count": 50,
   "metadata": {
    "colab": {
     "base_uri": "https://localhost:8080/"
    },
    "id": "hC7wm9MwvGOV",
    "outputId": "c0bc2c60-ab74-45df-a403-7c6b50086394"
   },
   "outputs": [
    {
     "name": "stdout",
     "output_type": "stream",
     "text": [
      "The top 3 zero shot accuracy for fine-tune spanish XLMRoberta BERT on English test set is: 42.772 %\n"
     ]
    }
   ],
   "source": [
    "print('The top 3 zero shot accuracy for fine-tune spanish XLMRoberta BERT on English test set is:',acc_es_3,'%')"
   ]
  }
 ],
 "metadata": {
  "accelerator": "GPU",
  "colab": {
   "collapsed_sections": [],
   "machine_shape": "hm",
   "name": "XLM_Roberta_Finetune.ipynb",
   "provenance": []
  },
  "kernelspec": {
   "display_name": "Python 3 (ipykernel)",
   "language": "python",
   "name": "python3"
  },
  "language_info": {
   "codemirror_mode": {
    "name": "ipython",
    "version": 3
   },
   "file_extension": ".py",
   "mimetype": "text/x-python",
   "name": "python",
   "nbconvert_exporter": "python",
   "pygments_lexer": "ipython3",
   "version": "3.9.7"
  },
  "widgets": {
   "application/vnd.jupyter.widget-state+json": {
    "064e405d01bd46c295bde89b14068f6f": {
     "model_module": "@jupyter-widgets/base",
     "model_module_version": "1.2.0",
     "model_name": "LayoutModel",
     "state": {
      "_model_module": "@jupyter-widgets/base",
      "_model_module_version": "1.2.0",
      "_model_name": "LayoutModel",
      "_view_count": null,
      "_view_module": "@jupyter-widgets/base",
      "_view_module_version": "1.2.0",
      "_view_name": "LayoutView",
      "align_content": null,
      "align_items": null,
      "align_self": null,
      "border": null,
      "bottom": null,
      "display": null,
      "flex": null,
      "flex_flow": null,
      "grid_area": null,
      "grid_auto_columns": null,
      "grid_auto_flow": null,
      "grid_auto_rows": null,
      "grid_column": null,
      "grid_gap": null,
      "grid_row": null,
      "grid_template_areas": null,
      "grid_template_columns": null,
      "grid_template_rows": null,
      "height": null,
      "justify_content": null,
      "justify_items": null,
      "left": null,
      "margin": null,
      "max_height": null,
      "max_width": null,
      "min_height": null,
      "min_width": null,
      "object_fit": null,
      "object_position": null,
      "order": null,
      "overflow": null,
      "overflow_x": null,
      "overflow_y": null,
      "padding": null,
      "right": null,
      "top": null,
      "visibility": null,
      "width": null
     }
    },
    "0a9d2284ed6e445ca8d6f987bc8cde9c": {
     "model_module": "@jupyter-widgets/base",
     "model_module_version": "1.2.0",
     "model_name": "LayoutModel",
     "state": {
      "_model_module": "@jupyter-widgets/base",
      "_model_module_version": "1.2.0",
      "_model_name": "LayoutModel",
      "_view_count": null,
      "_view_module": "@jupyter-widgets/base",
      "_view_module_version": "1.2.0",
      "_view_name": "LayoutView",
      "align_content": null,
      "align_items": null,
      "align_self": null,
      "border": null,
      "bottom": null,
      "display": null,
      "flex": null,
      "flex_flow": null,
      "grid_area": null,
      "grid_auto_columns": null,
      "grid_auto_flow": null,
      "grid_auto_rows": null,
      "grid_column": null,
      "grid_gap": null,
      "grid_row": null,
      "grid_template_areas": null,
      "grid_template_columns": null,
      "grid_template_rows": null,
      "height": null,
      "justify_content": null,
      "justify_items": null,
      "left": null,
      "margin": null,
      "max_height": null,
      "max_width": null,
      "min_height": null,
      "min_width": null,
      "object_fit": null,
      "object_position": null,
      "order": null,
      "overflow": null,
      "overflow_x": null,
      "overflow_y": null,
      "padding": null,
      "right": null,
      "top": null,
      "visibility": null,
      "width": null
     }
    },
    "21afc59b04ee4f8fbb72a4af49099e17": {
     "model_module": "@jupyter-widgets/controls",
     "model_module_version": "1.5.0",
     "model_name": "HBoxModel",
     "state": {
      "_dom_classes": [],
      "_model_module": "@jupyter-widgets/controls",
      "_model_module_version": "1.5.0",
      "_model_name": "HBoxModel",
      "_view_count": null,
      "_view_module": "@jupyter-widgets/controls",
      "_view_module_version": "1.5.0",
      "_view_name": "HBoxView",
      "box_style": "",
      "children": [
       "IPY_MODEL_62c7ae5e960943b8b2f1f2ef4211fef3",
       "IPY_MODEL_cda5930feca44dcfb6206c4fb4e5d863",
       "IPY_MODEL_919da0ee5fe142748cc5ccf04f58cb2b"
      ],
      "layout": "IPY_MODEL_4bedd3b819af477e90a7c259982c3003"
     }
    },
    "339a9ea32d664be290e7d841cdd3c031": {
     "model_module": "@jupyter-widgets/controls",
     "model_module_version": "1.5.0",
     "model_name": "DescriptionStyleModel",
     "state": {
      "_model_module": "@jupyter-widgets/controls",
      "_model_module_version": "1.5.0",
      "_model_name": "DescriptionStyleModel",
      "_view_count": null,
      "_view_module": "@jupyter-widgets/base",
      "_view_module_version": "1.2.0",
      "_view_name": "StyleView",
      "description_width": ""
     }
    },
    "42638127e06e4aa0a80391fea92ded05": {
     "model_module": "@jupyter-widgets/base",
     "model_module_version": "1.2.0",
     "model_name": "LayoutModel",
     "state": {
      "_model_module": "@jupyter-widgets/base",
      "_model_module_version": "1.2.0",
      "_model_name": "LayoutModel",
      "_view_count": null,
      "_view_module": "@jupyter-widgets/base",
      "_view_module_version": "1.2.0",
      "_view_name": "LayoutView",
      "align_content": null,
      "align_items": null,
      "align_self": null,
      "border": null,
      "bottom": null,
      "display": null,
      "flex": null,
      "flex_flow": null,
      "grid_area": null,
      "grid_auto_columns": null,
      "grid_auto_flow": null,
      "grid_auto_rows": null,
      "grid_column": null,
      "grid_gap": null,
      "grid_row": null,
      "grid_template_areas": null,
      "grid_template_columns": null,
      "grid_template_rows": null,
      "height": null,
      "justify_content": null,
      "justify_items": null,
      "left": null,
      "margin": null,
      "max_height": null,
      "max_width": null,
      "min_height": null,
      "min_width": null,
      "object_fit": null,
      "object_position": null,
      "order": null,
      "overflow": null,
      "overflow_x": null,
      "overflow_y": null,
      "padding": null,
      "right": null,
      "top": null,
      "visibility": null,
      "width": null
     }
    },
    "49937dc053ab495b97fcddeb6bb7bfbf": {
     "model_module": "@jupyter-widgets/controls",
     "model_module_version": "1.5.0",
     "model_name": "FloatProgressModel",
     "state": {
      "_dom_classes": [],
      "_model_module": "@jupyter-widgets/controls",
      "_model_module_version": "1.5.0",
      "_model_name": "FloatProgressModel",
      "_view_count": null,
      "_view_module": "@jupyter-widgets/controls",
      "_view_module_version": "1.5.0",
      "_view_name": "ProgressView",
      "bar_style": "success",
      "description": "",
      "description_tooltip": null,
      "layout": "IPY_MODEL_064e405d01bd46c295bde89b14068f6f",
      "max": 5069051,
      "min": 0,
      "orientation": "horizontal",
      "style": "IPY_MODEL_f0c8da3f3f2546eab17efffd1585382d",
      "value": 5069051
     }
    },
    "4a72e15626f340bfa890c472f4176555": {
     "model_module": "@jupyter-widgets/controls",
     "model_module_version": "1.5.0",
     "model_name": "FloatProgressModel",
     "state": {
      "_dom_classes": [],
      "_model_module": "@jupyter-widgets/controls",
      "_model_module_version": "1.5.0",
      "_model_name": "FloatProgressModel",
      "_view_count": null,
      "_view_module": "@jupyter-widgets/controls",
      "_view_module_version": "1.5.0",
      "_view_name": "ProgressView",
      "bar_style": "success",
      "description": "",
      "description_tooltip": null,
      "layout": "IPY_MODEL_42638127e06e4aa0a80391fea92ded05",
      "max": 615,
      "min": 0,
      "orientation": "horizontal",
      "style": "IPY_MODEL_f50e1f7b0dfb406da34ac5a75b84fb9f",
      "value": 615
     }
    },
    "4bedd3b819af477e90a7c259982c3003": {
     "model_module": "@jupyter-widgets/base",
     "model_module_version": "1.2.0",
     "model_name": "LayoutModel",
     "state": {
      "_model_module": "@jupyter-widgets/base",
      "_model_module_version": "1.2.0",
      "_model_name": "LayoutModel",
      "_view_count": null,
      "_view_module": "@jupyter-widgets/base",
      "_view_module_version": "1.2.0",
      "_view_name": "LayoutView",
      "align_content": null,
      "align_items": null,
      "align_self": null,
      "border": null,
      "bottom": null,
      "display": null,
      "flex": null,
      "flex_flow": null,
      "grid_area": null,
      "grid_auto_columns": null,
      "grid_auto_flow": null,
      "grid_auto_rows": null,
      "grid_column": null,
      "grid_gap": null,
      "grid_row": null,
      "grid_template_areas": null,
      "grid_template_columns": null,
      "grid_template_rows": null,
      "height": null,
      "justify_content": null,
      "justify_items": null,
      "left": null,
      "margin": null,
      "max_height": null,
      "max_width": null,
      "min_height": null,
      "min_width": null,
      "object_fit": null,
      "object_position": null,
      "order": null,
      "overflow": null,
      "overflow_x": null,
      "overflow_y": null,
      "padding": null,
      "right": null,
      "top": null,
      "visibility": null,
      "width": null
     }
    },
    "55c9b2d908af42fc84c2e803c4c253e2": {
     "model_module": "@jupyter-widgets/base",
     "model_module_version": "1.2.0",
     "model_name": "LayoutModel",
     "state": {
      "_model_module": "@jupyter-widgets/base",
      "_model_module_version": "1.2.0",
      "_model_name": "LayoutModel",
      "_view_count": null,
      "_view_module": "@jupyter-widgets/base",
      "_view_module_version": "1.2.0",
      "_view_name": "LayoutView",
      "align_content": null,
      "align_items": null,
      "align_self": null,
      "border": null,
      "bottom": null,
      "display": null,
      "flex": null,
      "flex_flow": null,
      "grid_area": null,
      "grid_auto_columns": null,
      "grid_auto_flow": null,
      "grid_auto_rows": null,
      "grid_column": null,
      "grid_gap": null,
      "grid_row": null,
      "grid_template_areas": null,
      "grid_template_columns": null,
      "grid_template_rows": null,
      "height": null,
      "justify_content": null,
      "justify_items": null,
      "left": null,
      "margin": null,
      "max_height": null,
      "max_width": null,
      "min_height": null,
      "min_width": null,
      "object_fit": null,
      "object_position": null,
      "order": null,
      "overflow": null,
      "overflow_x": null,
      "overflow_y": null,
      "padding": null,
      "right": null,
      "top": null,
      "visibility": null,
      "width": null
     }
    },
    "62c7ae5e960943b8b2f1f2ef4211fef3": {
     "model_module": "@jupyter-widgets/controls",
     "model_module_version": "1.5.0",
     "model_name": "HTMLModel",
     "state": {
      "_dom_classes": [],
      "_model_module": "@jupyter-widgets/controls",
      "_model_module_version": "1.5.0",
      "_model_name": "HTMLModel",
      "_view_count": null,
      "_view_module": "@jupyter-widgets/controls",
      "_view_module_version": "1.5.0",
      "_view_name": "HTMLView",
      "description": "",
      "description_tooltip": null,
      "layout": "IPY_MODEL_83c63339c8b845efa25a29c99d313b4a",
      "placeholder": "​",
      "style": "IPY_MODEL_e4fb252d22704f58ba285ad6e9356ee9",
      "value": "Downloading: 100%"
     }
    },
    "64dfc9f215564cef9a94b09111b7715a": {
     "model_module": "@jupyter-widgets/controls",
     "model_module_version": "1.5.0",
     "model_name": "DescriptionStyleModel",
     "state": {
      "_model_module": "@jupyter-widgets/controls",
      "_model_module_version": "1.5.0",
      "_model_name": "DescriptionStyleModel",
      "_view_count": null,
      "_view_module": "@jupyter-widgets/base",
      "_view_module_version": "1.2.0",
      "_view_name": "StyleView",
      "description_width": ""
     }
    },
    "65315fa5d3144c2b9df64b1ba91bb388": {
     "model_module": "@jupyter-widgets/base",
     "model_module_version": "1.2.0",
     "model_name": "LayoutModel",
     "state": {
      "_model_module": "@jupyter-widgets/base",
      "_model_module_version": "1.2.0",
      "_model_name": "LayoutModel",
      "_view_count": null,
      "_view_module": "@jupyter-widgets/base",
      "_view_module_version": "1.2.0",
      "_view_name": "LayoutView",
      "align_content": null,
      "align_items": null,
      "align_self": null,
      "border": null,
      "bottom": null,
      "display": null,
      "flex": null,
      "flex_flow": null,
      "grid_area": null,
      "grid_auto_columns": null,
      "grid_auto_flow": null,
      "grid_auto_rows": null,
      "grid_column": null,
      "grid_gap": null,
      "grid_row": null,
      "grid_template_areas": null,
      "grid_template_columns": null,
      "grid_template_rows": null,
      "height": null,
      "justify_content": null,
      "justify_items": null,
      "left": null,
      "margin": null,
      "max_height": null,
      "max_width": null,
      "min_height": null,
      "min_width": null,
      "object_fit": null,
      "object_position": null,
      "order": null,
      "overflow": null,
      "overflow_x": null,
      "overflow_y": null,
      "padding": null,
      "right": null,
      "top": null,
      "visibility": null,
      "width": null
     }
    },
    "6f77fd277c864cfda0b3881150dc1572": {
     "model_module": "@jupyter-widgets/base",
     "model_module_version": "1.2.0",
     "model_name": "LayoutModel",
     "state": {
      "_model_module": "@jupyter-widgets/base",
      "_model_module_version": "1.2.0",
      "_model_name": "LayoutModel",
      "_view_count": null,
      "_view_module": "@jupyter-widgets/base",
      "_view_module_version": "1.2.0",
      "_view_name": "LayoutView",
      "align_content": null,
      "align_items": null,
      "align_self": null,
      "border": null,
      "bottom": null,
      "display": null,
      "flex": null,
      "flex_flow": null,
      "grid_area": null,
      "grid_auto_columns": null,
      "grid_auto_flow": null,
      "grid_auto_rows": null,
      "grid_column": null,
      "grid_gap": null,
      "grid_row": null,
      "grid_template_areas": null,
      "grid_template_columns": null,
      "grid_template_rows": null,
      "height": null,
      "justify_content": null,
      "justify_items": null,
      "left": null,
      "margin": null,
      "max_height": null,
      "max_width": null,
      "min_height": null,
      "min_width": null,
      "object_fit": null,
      "object_position": null,
      "order": null,
      "overflow": null,
      "overflow_x": null,
      "overflow_y": null,
      "padding": null,
      "right": null,
      "top": null,
      "visibility": null,
      "width": null
     }
    },
    "83c63339c8b845efa25a29c99d313b4a": {
     "model_module": "@jupyter-widgets/base",
     "model_module_version": "1.2.0",
     "model_name": "LayoutModel",
     "state": {
      "_model_module": "@jupyter-widgets/base",
      "_model_module_version": "1.2.0",
      "_model_name": "LayoutModel",
      "_view_count": null,
      "_view_module": "@jupyter-widgets/base",
      "_view_module_version": "1.2.0",
      "_view_name": "LayoutView",
      "align_content": null,
      "align_items": null,
      "align_self": null,
      "border": null,
      "bottom": null,
      "display": null,
      "flex": null,
      "flex_flow": null,
      "grid_area": null,
      "grid_auto_columns": null,
      "grid_auto_flow": null,
      "grid_auto_rows": null,
      "grid_column": null,
      "grid_gap": null,
      "grid_row": null,
      "grid_template_areas": null,
      "grid_template_columns": null,
      "grid_template_rows": null,
      "height": null,
      "justify_content": null,
      "justify_items": null,
      "left": null,
      "margin": null,
      "max_height": null,
      "max_width": null,
      "min_height": null,
      "min_width": null,
      "object_fit": null,
      "object_position": null,
      "order": null,
      "overflow": null,
      "overflow_x": null,
      "overflow_y": null,
      "padding": null,
      "right": null,
      "top": null,
      "visibility": null,
      "width": null
     }
    },
    "8d003f1e88e54cfc9c92a7198268bb03": {
     "model_module": "@jupyter-widgets/controls",
     "model_module_version": "1.5.0",
     "model_name": "DescriptionStyleModel",
     "state": {
      "_model_module": "@jupyter-widgets/controls",
      "_model_module_version": "1.5.0",
      "_model_name": "DescriptionStyleModel",
      "_view_count": null,
      "_view_module": "@jupyter-widgets/base",
      "_view_module_version": "1.2.0",
      "_view_name": "StyleView",
      "description_width": ""
     }
    },
    "919da0ee5fe142748cc5ccf04f58cb2b": {
     "model_module": "@jupyter-widgets/controls",
     "model_module_version": "1.5.0",
     "model_name": "HTMLModel",
     "state": {
      "_dom_classes": [],
      "_model_module": "@jupyter-widgets/controls",
      "_model_module_version": "1.5.0",
      "_model_name": "HTMLModel",
      "_view_count": null,
      "_view_module": "@jupyter-widgets/controls",
      "_view_module_version": "1.5.0",
      "_view_name": "HTMLView",
      "description": "",
      "description_tooltip": null,
      "layout": "IPY_MODEL_d49163f5a01b4a78ba1eda1dfdfc8646",
      "placeholder": "​",
      "style": "IPY_MODEL_339a9ea32d664be290e7d841cdd3c031",
      "value": " 1.04G/1.04G [00:16&lt;00:00, 72.2MB/s]"
     }
    },
    "9942dbd1b07b49a8a355ab8d650f2d59": {
     "model_module": "@jupyter-widgets/controls",
     "model_module_version": "1.5.0",
     "model_name": "HTMLModel",
     "state": {
      "_dom_classes": [],
      "_model_module": "@jupyter-widgets/controls",
      "_model_module_version": "1.5.0",
      "_model_name": "HTMLModel",
      "_view_count": null,
      "_view_module": "@jupyter-widgets/controls",
      "_view_module_version": "1.5.0",
      "_view_name": "HTMLView",
      "description": "",
      "description_tooltip": null,
      "layout": "IPY_MODEL_e856d159bb8a413e89ffac09a5478c20",
      "placeholder": "​",
      "style": "IPY_MODEL_bdc27d66b0d741f5b73bf2adf792cab8",
      "value": " 4.83M/4.83M [00:00&lt;00:00, 11.5MB/s]"
     }
    },
    "a35310779c544b2dbbfad19817c9aa41": {
     "model_module": "@jupyter-widgets/controls",
     "model_module_version": "1.5.0",
     "model_name": "HTMLModel",
     "state": {
      "_dom_classes": [],
      "_model_module": "@jupyter-widgets/controls",
      "_model_module_version": "1.5.0",
      "_model_name": "HTMLModel",
      "_view_count": null,
      "_view_module": "@jupyter-widgets/controls",
      "_view_module_version": "1.5.0",
      "_view_name": "HTMLView",
      "description": "",
      "description_tooltip": null,
      "layout": "IPY_MODEL_0a9d2284ed6e445ca8d6f987bc8cde9c",
      "placeholder": "​",
      "style": "IPY_MODEL_afd0f0eea1234defb911c7c46996408b",
      "value": " 615/615 [00:00&lt;00:00, 20.8kB/s]"
     }
    },
    "afd0f0eea1234defb911c7c46996408b": {
     "model_module": "@jupyter-widgets/controls",
     "model_module_version": "1.5.0",
     "model_name": "DescriptionStyleModel",
     "state": {
      "_model_module": "@jupyter-widgets/controls",
      "_model_module_version": "1.5.0",
      "_model_name": "DescriptionStyleModel",
      "_view_count": null,
      "_view_module": "@jupyter-widgets/base",
      "_view_module_version": "1.2.0",
      "_view_name": "StyleView",
      "description_width": ""
     }
    },
    "b33c12306b5e426ea24422f8964bb8ba": {
     "model_module": "@jupyter-widgets/controls",
     "model_module_version": "1.5.0",
     "model_name": "HTMLModel",
     "state": {
      "_dom_classes": [],
      "_model_module": "@jupyter-widgets/controls",
      "_model_module_version": "1.5.0",
      "_model_name": "HTMLModel",
      "_view_count": null,
      "_view_module": "@jupyter-widgets/controls",
      "_view_module_version": "1.5.0",
      "_view_name": "HTMLView",
      "description": "",
      "description_tooltip": null,
      "layout": "IPY_MODEL_cf7e3e5c60c44a0490037f030e08f91f",
      "placeholder": "​",
      "style": "IPY_MODEL_8d003f1e88e54cfc9c92a7198268bb03",
      "value": "Downloading: 100%"
     }
    },
    "bdc27d66b0d741f5b73bf2adf792cab8": {
     "model_module": "@jupyter-widgets/controls",
     "model_module_version": "1.5.0",
     "model_name": "DescriptionStyleModel",
     "state": {
      "_model_module": "@jupyter-widgets/controls",
      "_model_module_version": "1.5.0",
      "_model_name": "DescriptionStyleModel",
      "_view_count": null,
      "_view_module": "@jupyter-widgets/base",
      "_view_module_version": "1.2.0",
      "_view_name": "StyleView",
      "description_width": ""
     }
    },
    "c4a4ebab60dd483da96e8eb69f552550": {
     "model_module": "@jupyter-widgets/base",
     "model_module_version": "1.2.0",
     "model_name": "LayoutModel",
     "state": {
      "_model_module": "@jupyter-widgets/base",
      "_model_module_version": "1.2.0",
      "_model_name": "LayoutModel",
      "_view_count": null,
      "_view_module": "@jupyter-widgets/base",
      "_view_module_version": "1.2.0",
      "_view_name": "LayoutView",
      "align_content": null,
      "align_items": null,
      "align_self": null,
      "border": null,
      "bottom": null,
      "display": null,
      "flex": null,
      "flex_flow": null,
      "grid_area": null,
      "grid_auto_columns": null,
      "grid_auto_flow": null,
      "grid_auto_rows": null,
      "grid_column": null,
      "grid_gap": null,
      "grid_row": null,
      "grid_template_areas": null,
      "grid_template_columns": null,
      "grid_template_rows": null,
      "height": null,
      "justify_content": null,
      "justify_items": null,
      "left": null,
      "margin": null,
      "max_height": null,
      "max_width": null,
      "min_height": null,
      "min_width": null,
      "object_fit": null,
      "object_position": null,
      "order": null,
      "overflow": null,
      "overflow_x": null,
      "overflow_y": null,
      "padding": null,
      "right": null,
      "top": null,
      "visibility": null,
      "width": null
     }
    },
    "ca43aab664614fdb8b866e503c9efca1": {
     "model_module": "@jupyter-widgets/controls",
     "model_module_version": "1.5.0",
     "model_name": "HBoxModel",
     "state": {
      "_dom_classes": [],
      "_model_module": "@jupyter-widgets/controls",
      "_model_module_version": "1.5.0",
      "_model_name": "HBoxModel",
      "_view_count": null,
      "_view_module": "@jupyter-widgets/controls",
      "_view_module_version": "1.5.0",
      "_view_name": "HBoxView",
      "box_style": "",
      "children": [
       "IPY_MODEL_b33c12306b5e426ea24422f8964bb8ba",
       "IPY_MODEL_49937dc053ab495b97fcddeb6bb7bfbf",
       "IPY_MODEL_9942dbd1b07b49a8a355ab8d650f2d59"
      ],
      "layout": "IPY_MODEL_c4a4ebab60dd483da96e8eb69f552550"
     }
    },
    "cda5930feca44dcfb6206c4fb4e5d863": {
     "model_module": "@jupyter-widgets/controls",
     "model_module_version": "1.5.0",
     "model_name": "FloatProgressModel",
     "state": {
      "_dom_classes": [],
      "_model_module": "@jupyter-widgets/controls",
      "_model_module_version": "1.5.0",
      "_model_name": "FloatProgressModel",
      "_view_count": null,
      "_view_module": "@jupyter-widgets/controls",
      "_view_module_version": "1.5.0",
      "_view_name": "ProgressView",
      "bar_style": "success",
      "description": "",
      "description_tooltip": null,
      "layout": "IPY_MODEL_6f77fd277c864cfda0b3881150dc1572",
      "max": 1115590446,
      "min": 0,
      "orientation": "horizontal",
      "style": "IPY_MODEL_fc3c215ea0a04ddb9a508be651f3fdd1",
      "value": 1115590446
     }
    },
    "cf7e3e5c60c44a0490037f030e08f91f": {
     "model_module": "@jupyter-widgets/base",
     "model_module_version": "1.2.0",
     "model_name": "LayoutModel",
     "state": {
      "_model_module": "@jupyter-widgets/base",
      "_model_module_version": "1.2.0",
      "_model_name": "LayoutModel",
      "_view_count": null,
      "_view_module": "@jupyter-widgets/base",
      "_view_module_version": "1.2.0",
      "_view_name": "LayoutView",
      "align_content": null,
      "align_items": null,
      "align_self": null,
      "border": null,
      "bottom": null,
      "display": null,
      "flex": null,
      "flex_flow": null,
      "grid_area": null,
      "grid_auto_columns": null,
      "grid_auto_flow": null,
      "grid_auto_rows": null,
      "grid_column": null,
      "grid_gap": null,
      "grid_row": null,
      "grid_template_areas": null,
      "grid_template_columns": null,
      "grid_template_rows": null,
      "height": null,
      "justify_content": null,
      "justify_items": null,
      "left": null,
      "margin": null,
      "max_height": null,
      "max_width": null,
      "min_height": null,
      "min_width": null,
      "object_fit": null,
      "object_position": null,
      "order": null,
      "overflow": null,
      "overflow_x": null,
      "overflow_y": null,
      "padding": null,
      "right": null,
      "top": null,
      "visibility": null,
      "width": null
     }
    },
    "d11d117fb96a4693b2a13edc4fea080b": {
     "model_module": "@jupyter-widgets/controls",
     "model_module_version": "1.5.0",
     "model_name": "HTMLModel",
     "state": {
      "_dom_classes": [],
      "_model_module": "@jupyter-widgets/controls",
      "_model_module_version": "1.5.0",
      "_model_name": "HTMLModel",
      "_view_count": null,
      "_view_module": "@jupyter-widgets/controls",
      "_view_module_version": "1.5.0",
      "_view_name": "HTMLView",
      "description": "",
      "description_tooltip": null,
      "layout": "IPY_MODEL_55c9b2d908af42fc84c2e803c4c253e2",
      "placeholder": "​",
      "style": "IPY_MODEL_64dfc9f215564cef9a94b09111b7715a",
      "value": "Downloading: 100%"
     }
    },
    "d49163f5a01b4a78ba1eda1dfdfc8646": {
     "model_module": "@jupyter-widgets/base",
     "model_module_version": "1.2.0",
     "model_name": "LayoutModel",
     "state": {
      "_model_module": "@jupyter-widgets/base",
      "_model_module_version": "1.2.0",
      "_model_name": "LayoutModel",
      "_view_count": null,
      "_view_module": "@jupyter-widgets/base",
      "_view_module_version": "1.2.0",
      "_view_name": "LayoutView",
      "align_content": null,
      "align_items": null,
      "align_self": null,
      "border": null,
      "bottom": null,
      "display": null,
      "flex": null,
      "flex_flow": null,
      "grid_area": null,
      "grid_auto_columns": null,
      "grid_auto_flow": null,
      "grid_auto_rows": null,
      "grid_column": null,
      "grid_gap": null,
      "grid_row": null,
      "grid_template_areas": null,
      "grid_template_columns": null,
      "grid_template_rows": null,
      "height": null,
      "justify_content": null,
      "justify_items": null,
      "left": null,
      "margin": null,
      "max_height": null,
      "max_width": null,
      "min_height": null,
      "min_width": null,
      "object_fit": null,
      "object_position": null,
      "order": null,
      "overflow": null,
      "overflow_x": null,
      "overflow_y": null,
      "padding": null,
      "right": null,
      "top": null,
      "visibility": null,
      "width": null
     }
    },
    "e4fb252d22704f58ba285ad6e9356ee9": {
     "model_module": "@jupyter-widgets/controls",
     "model_module_version": "1.5.0",
     "model_name": "DescriptionStyleModel",
     "state": {
      "_model_module": "@jupyter-widgets/controls",
      "_model_module_version": "1.5.0",
      "_model_name": "DescriptionStyleModel",
      "_view_count": null,
      "_view_module": "@jupyter-widgets/base",
      "_view_module_version": "1.2.0",
      "_view_name": "StyleView",
      "description_width": ""
     }
    },
    "e856d159bb8a413e89ffac09a5478c20": {
     "model_module": "@jupyter-widgets/base",
     "model_module_version": "1.2.0",
     "model_name": "LayoutModel",
     "state": {
      "_model_module": "@jupyter-widgets/base",
      "_model_module_version": "1.2.0",
      "_model_name": "LayoutModel",
      "_view_count": null,
      "_view_module": "@jupyter-widgets/base",
      "_view_module_version": "1.2.0",
      "_view_name": "LayoutView",
      "align_content": null,
      "align_items": null,
      "align_self": null,
      "border": null,
      "bottom": null,
      "display": null,
      "flex": null,
      "flex_flow": null,
      "grid_area": null,
      "grid_auto_columns": null,
      "grid_auto_flow": null,
      "grid_auto_rows": null,
      "grid_column": null,
      "grid_gap": null,
      "grid_row": null,
      "grid_template_areas": null,
      "grid_template_columns": null,
      "grid_template_rows": null,
      "height": null,
      "justify_content": null,
      "justify_items": null,
      "left": null,
      "margin": null,
      "max_height": null,
      "max_width": null,
      "min_height": null,
      "min_width": null,
      "object_fit": null,
      "object_position": null,
      "order": null,
      "overflow": null,
      "overflow_x": null,
      "overflow_y": null,
      "padding": null,
      "right": null,
      "top": null,
      "visibility": null,
      "width": null
     }
    },
    "e95ac7b213194aefbedf28393943ff93": {
     "model_module": "@jupyter-widgets/controls",
     "model_module_version": "1.5.0",
     "model_name": "HBoxModel",
     "state": {
      "_dom_classes": [],
      "_model_module": "@jupyter-widgets/controls",
      "_model_module_version": "1.5.0",
      "_model_name": "HBoxModel",
      "_view_count": null,
      "_view_module": "@jupyter-widgets/controls",
      "_view_module_version": "1.5.0",
      "_view_name": "HBoxView",
      "box_style": "",
      "children": [
       "IPY_MODEL_d11d117fb96a4693b2a13edc4fea080b",
       "IPY_MODEL_4a72e15626f340bfa890c472f4176555",
       "IPY_MODEL_a35310779c544b2dbbfad19817c9aa41"
      ],
      "layout": "IPY_MODEL_65315fa5d3144c2b9df64b1ba91bb388"
     }
    },
    "f0c8da3f3f2546eab17efffd1585382d": {
     "model_module": "@jupyter-widgets/controls",
     "model_module_version": "1.5.0",
     "model_name": "ProgressStyleModel",
     "state": {
      "_model_module": "@jupyter-widgets/controls",
      "_model_module_version": "1.5.0",
      "_model_name": "ProgressStyleModel",
      "_view_count": null,
      "_view_module": "@jupyter-widgets/base",
      "_view_module_version": "1.2.0",
      "_view_name": "StyleView",
      "bar_color": null,
      "description_width": ""
     }
    },
    "f50e1f7b0dfb406da34ac5a75b84fb9f": {
     "model_module": "@jupyter-widgets/controls",
     "model_module_version": "1.5.0",
     "model_name": "ProgressStyleModel",
     "state": {
      "_model_module": "@jupyter-widgets/controls",
      "_model_module_version": "1.5.0",
      "_model_name": "ProgressStyleModel",
      "_view_count": null,
      "_view_module": "@jupyter-widgets/base",
      "_view_module_version": "1.2.0",
      "_view_name": "StyleView",
      "bar_color": null,
      "description_width": ""
     }
    },
    "fc3c215ea0a04ddb9a508be651f3fdd1": {
     "model_module": "@jupyter-widgets/controls",
     "model_module_version": "1.5.0",
     "model_name": "ProgressStyleModel",
     "state": {
      "_model_module": "@jupyter-widgets/controls",
      "_model_module_version": "1.5.0",
      "_model_name": "ProgressStyleModel",
      "_view_count": null,
      "_view_module": "@jupyter-widgets/base",
      "_view_module_version": "1.2.0",
      "_view_name": "StyleView",
      "bar_color": null,
      "description_width": ""
     }
    }
   }
  }
 },
 "nbformat": 4,
 "nbformat_minor": 1
}
