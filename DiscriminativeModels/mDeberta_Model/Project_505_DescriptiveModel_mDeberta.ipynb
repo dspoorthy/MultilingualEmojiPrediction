{
  "nbformat": 4,
  "nbformat_minor": 0,
  "metadata": {
    "colab": {
      "name": "Project_505_DescriptiveModel_mDeberta",
      "provenance": [],
      "collapsed_sections": [],
      "machine_shape": "hm"
    },
    "kernelspec": {
      "name": "python3",
      "display_name": "Python 3"
    },
    "accelerator": "GPU",
    "widgets": {
      "application/vnd.jupyter.widget-state+json": {
        "9a1c79d3d56c4aec921190b1f881a2da": {
          "model_module": "@jupyter-widgets/controls",
          "model_name": "HBoxModel",
          "model_module_version": "1.5.0",
          "state": {
            "_dom_classes": [],
            "_model_module": "@jupyter-widgets/controls",
            "_model_module_version": "1.5.0",
            "_model_name": "HBoxModel",
            "_view_count": null,
            "_view_module": "@jupyter-widgets/controls",
            "_view_module_version": "1.5.0",
            "_view_name": "HBoxView",
            "box_style": "",
            "children": [
              "IPY_MODEL_e662caeec1ba45c2a87860cd4e4a0efd",
              "IPY_MODEL_9cb622edfbee4c3696d59b1bc020430f",
              "IPY_MODEL_4c0fe0a8b26b41f8a2bdced4f564d5e3"
            ],
            "layout": "IPY_MODEL_a15097d29817477aa64cf4c8645ed205"
          }
        },
        "e662caeec1ba45c2a87860cd4e4a0efd": {
          "model_module": "@jupyter-widgets/controls",
          "model_name": "HTMLModel",
          "model_module_version": "1.5.0",
          "state": {
            "_dom_classes": [],
            "_model_module": "@jupyter-widgets/controls",
            "_model_module_version": "1.5.0",
            "_model_name": "HTMLModel",
            "_view_count": null,
            "_view_module": "@jupyter-widgets/controls",
            "_view_module_version": "1.5.0",
            "_view_name": "HTMLView",
            "description": "",
            "description_tooltip": null,
            "layout": "IPY_MODEL_a1b3f7a7a84247cd9cbcf38e39b3ac32",
            "placeholder": "​",
            "style": "IPY_MODEL_101ff28853bf480faf8dee342bc7de42",
            "value": "Downloading: 100%"
          }
        },
        "9cb622edfbee4c3696d59b1bc020430f": {
          "model_module": "@jupyter-widgets/controls",
          "model_name": "FloatProgressModel",
          "model_module_version": "1.5.0",
          "state": {
            "_dom_classes": [],
            "_model_module": "@jupyter-widgets/controls",
            "_model_module_version": "1.5.0",
            "_model_name": "FloatProgressModel",
            "_view_count": null,
            "_view_module": "@jupyter-widgets/controls",
            "_view_module_version": "1.5.0",
            "_view_name": "ProgressView",
            "bar_style": "success",
            "description": "",
            "description_tooltip": null,
            "layout": "IPY_MODEL_21976bf7136b4ce3b2267e614e82b15b",
            "max": 560166373,
            "min": 0,
            "orientation": "horizontal",
            "style": "IPY_MODEL_5863d478c2474e699a3bdfbe05405195",
            "value": 560166373
          }
        },
        "4c0fe0a8b26b41f8a2bdced4f564d5e3": {
          "model_module": "@jupyter-widgets/controls",
          "model_name": "HTMLModel",
          "model_module_version": "1.5.0",
          "state": {
            "_dom_classes": [],
            "_model_module": "@jupyter-widgets/controls",
            "_model_module_version": "1.5.0",
            "_model_name": "HTMLModel",
            "_view_count": null,
            "_view_module": "@jupyter-widgets/controls",
            "_view_module_version": "1.5.0",
            "_view_name": "HTMLView",
            "description": "",
            "description_tooltip": null,
            "layout": "IPY_MODEL_ee8c50752e1947cfb8f4fd516ea6e7ad",
            "placeholder": "​",
            "style": "IPY_MODEL_600bd5ca0feb4be4b322f913f6e35a0f",
            "value": " 534M/534M [00:08&lt;00:00, 66.3MB/s]"
          }
        },
        "a15097d29817477aa64cf4c8645ed205": {
          "model_module": "@jupyter-widgets/base",
          "model_name": "LayoutModel",
          "model_module_version": "1.2.0",
          "state": {
            "_model_module": "@jupyter-widgets/base",
            "_model_module_version": "1.2.0",
            "_model_name": "LayoutModel",
            "_view_count": null,
            "_view_module": "@jupyter-widgets/base",
            "_view_module_version": "1.2.0",
            "_view_name": "LayoutView",
            "align_content": null,
            "align_items": null,
            "align_self": null,
            "border": null,
            "bottom": null,
            "display": null,
            "flex": null,
            "flex_flow": null,
            "grid_area": null,
            "grid_auto_columns": null,
            "grid_auto_flow": null,
            "grid_auto_rows": null,
            "grid_column": null,
            "grid_gap": null,
            "grid_row": null,
            "grid_template_areas": null,
            "grid_template_columns": null,
            "grid_template_rows": null,
            "height": null,
            "justify_content": null,
            "justify_items": null,
            "left": null,
            "margin": null,
            "max_height": null,
            "max_width": null,
            "min_height": null,
            "min_width": null,
            "object_fit": null,
            "object_position": null,
            "order": null,
            "overflow": null,
            "overflow_x": null,
            "overflow_y": null,
            "padding": null,
            "right": null,
            "top": null,
            "visibility": null,
            "width": null
          }
        },
        "a1b3f7a7a84247cd9cbcf38e39b3ac32": {
          "model_module": "@jupyter-widgets/base",
          "model_name": "LayoutModel",
          "model_module_version": "1.2.0",
          "state": {
            "_model_module": "@jupyter-widgets/base",
            "_model_module_version": "1.2.0",
            "_model_name": "LayoutModel",
            "_view_count": null,
            "_view_module": "@jupyter-widgets/base",
            "_view_module_version": "1.2.0",
            "_view_name": "LayoutView",
            "align_content": null,
            "align_items": null,
            "align_self": null,
            "border": null,
            "bottom": null,
            "display": null,
            "flex": null,
            "flex_flow": null,
            "grid_area": null,
            "grid_auto_columns": null,
            "grid_auto_flow": null,
            "grid_auto_rows": null,
            "grid_column": null,
            "grid_gap": null,
            "grid_row": null,
            "grid_template_areas": null,
            "grid_template_columns": null,
            "grid_template_rows": null,
            "height": null,
            "justify_content": null,
            "justify_items": null,
            "left": null,
            "margin": null,
            "max_height": null,
            "max_width": null,
            "min_height": null,
            "min_width": null,
            "object_fit": null,
            "object_position": null,
            "order": null,
            "overflow": null,
            "overflow_x": null,
            "overflow_y": null,
            "padding": null,
            "right": null,
            "top": null,
            "visibility": null,
            "width": null
          }
        },
        "101ff28853bf480faf8dee342bc7de42": {
          "model_module": "@jupyter-widgets/controls",
          "model_name": "DescriptionStyleModel",
          "model_module_version": "1.5.0",
          "state": {
            "_model_module": "@jupyter-widgets/controls",
            "_model_module_version": "1.5.0",
            "_model_name": "DescriptionStyleModel",
            "_view_count": null,
            "_view_module": "@jupyter-widgets/base",
            "_view_module_version": "1.2.0",
            "_view_name": "StyleView",
            "description_width": ""
          }
        },
        "21976bf7136b4ce3b2267e614e82b15b": {
          "model_module": "@jupyter-widgets/base",
          "model_name": "LayoutModel",
          "model_module_version": "1.2.0",
          "state": {
            "_model_module": "@jupyter-widgets/base",
            "_model_module_version": "1.2.0",
            "_model_name": "LayoutModel",
            "_view_count": null,
            "_view_module": "@jupyter-widgets/base",
            "_view_module_version": "1.2.0",
            "_view_name": "LayoutView",
            "align_content": null,
            "align_items": null,
            "align_self": null,
            "border": null,
            "bottom": null,
            "display": null,
            "flex": null,
            "flex_flow": null,
            "grid_area": null,
            "grid_auto_columns": null,
            "grid_auto_flow": null,
            "grid_auto_rows": null,
            "grid_column": null,
            "grid_gap": null,
            "grid_row": null,
            "grid_template_areas": null,
            "grid_template_columns": null,
            "grid_template_rows": null,
            "height": null,
            "justify_content": null,
            "justify_items": null,
            "left": null,
            "margin": null,
            "max_height": null,
            "max_width": null,
            "min_height": null,
            "min_width": null,
            "object_fit": null,
            "object_position": null,
            "order": null,
            "overflow": null,
            "overflow_x": null,
            "overflow_y": null,
            "padding": null,
            "right": null,
            "top": null,
            "visibility": null,
            "width": null
          }
        },
        "5863d478c2474e699a3bdfbe05405195": {
          "model_module": "@jupyter-widgets/controls",
          "model_name": "ProgressStyleModel",
          "model_module_version": "1.5.0",
          "state": {
            "_model_module": "@jupyter-widgets/controls",
            "_model_module_version": "1.5.0",
            "_model_name": "ProgressStyleModel",
            "_view_count": null,
            "_view_module": "@jupyter-widgets/base",
            "_view_module_version": "1.2.0",
            "_view_name": "StyleView",
            "bar_color": null,
            "description_width": ""
          }
        },
        "ee8c50752e1947cfb8f4fd516ea6e7ad": {
          "model_module": "@jupyter-widgets/base",
          "model_name": "LayoutModel",
          "model_module_version": "1.2.0",
          "state": {
            "_model_module": "@jupyter-widgets/base",
            "_model_module_version": "1.2.0",
            "_model_name": "LayoutModel",
            "_view_count": null,
            "_view_module": "@jupyter-widgets/base",
            "_view_module_version": "1.2.0",
            "_view_name": "LayoutView",
            "align_content": null,
            "align_items": null,
            "align_self": null,
            "border": null,
            "bottom": null,
            "display": null,
            "flex": null,
            "flex_flow": null,
            "grid_area": null,
            "grid_auto_columns": null,
            "grid_auto_flow": null,
            "grid_auto_rows": null,
            "grid_column": null,
            "grid_gap": null,
            "grid_row": null,
            "grid_template_areas": null,
            "grid_template_columns": null,
            "grid_template_rows": null,
            "height": null,
            "justify_content": null,
            "justify_items": null,
            "left": null,
            "margin": null,
            "max_height": null,
            "max_width": null,
            "min_height": null,
            "min_width": null,
            "object_fit": null,
            "object_position": null,
            "order": null,
            "overflow": null,
            "overflow_x": null,
            "overflow_y": null,
            "padding": null,
            "right": null,
            "top": null,
            "visibility": null,
            "width": null
          }
        },
        "600bd5ca0feb4be4b322f913f6e35a0f": {
          "model_module": "@jupyter-widgets/controls",
          "model_name": "DescriptionStyleModel",
          "model_module_version": "1.5.0",
          "state": {
            "_model_module": "@jupyter-widgets/controls",
            "_model_module_version": "1.5.0",
            "_model_name": "DescriptionStyleModel",
            "_view_count": null,
            "_view_module": "@jupyter-widgets/base",
            "_view_module_version": "1.2.0",
            "_view_name": "StyleView",
            "description_width": ""
          }
        },
        "89abbb2e0890413bbdc8a07efbfdb24a": {
          "model_module": "@jupyter-widgets/controls",
          "model_name": "HBoxModel",
          "model_module_version": "1.5.0",
          "state": {
            "_dom_classes": [],
            "_model_module": "@jupyter-widgets/controls",
            "_model_module_version": "1.5.0",
            "_model_name": "HBoxModel",
            "_view_count": null,
            "_view_module": "@jupyter-widgets/controls",
            "_view_module_version": "1.5.0",
            "_view_name": "HBoxView",
            "box_style": "",
            "children": [
              "IPY_MODEL_9feff278b11b497bb8978785063a9f66",
              "IPY_MODEL_ac2d19d241394b1d9e73d1e3435fb0bb",
              "IPY_MODEL_7a7269e870014ee48149443a62f11246"
            ],
            "layout": "IPY_MODEL_38d7cac2f78c478fac0a6fb3174bb08c"
          }
        },
        "9feff278b11b497bb8978785063a9f66": {
          "model_module": "@jupyter-widgets/controls",
          "model_name": "HTMLModel",
          "model_module_version": "1.5.0",
          "state": {
            "_dom_classes": [],
            "_model_module": "@jupyter-widgets/controls",
            "_model_module_version": "1.5.0",
            "_model_name": "HTMLModel",
            "_view_count": null,
            "_view_module": "@jupyter-widgets/controls",
            "_view_module_version": "1.5.0",
            "_view_name": "HTMLView",
            "description": "",
            "description_tooltip": null,
            "layout": "IPY_MODEL_e8353e66297c4f928158ad893e135bc9",
            "placeholder": "​",
            "style": "IPY_MODEL_e803e4d051e04682b92204506c7ff596",
            "value": "Downloading: 100%"
          }
        },
        "ac2d19d241394b1d9e73d1e3435fb0bb": {
          "model_module": "@jupyter-widgets/controls",
          "model_name": "FloatProgressModel",
          "model_module_version": "1.5.0",
          "state": {
            "_dom_classes": [],
            "_model_module": "@jupyter-widgets/controls",
            "_model_module_version": "1.5.0",
            "_model_name": "FloatProgressModel",
            "_view_count": null,
            "_view_module": "@jupyter-widgets/controls",
            "_view_module_version": "1.5.0",
            "_view_name": "ProgressView",
            "bar_style": "success",
            "description": "",
            "description_tooltip": null,
            "layout": "IPY_MODEL_d6ac6cee17314ef09758da32c638a910",
            "max": 560166373,
            "min": 0,
            "orientation": "horizontal",
            "style": "IPY_MODEL_451a8c4a29624eeaaaa3ff08dc3593b1",
            "value": 560166373
          }
        },
        "7a7269e870014ee48149443a62f11246": {
          "model_module": "@jupyter-widgets/controls",
          "model_name": "HTMLModel",
          "model_module_version": "1.5.0",
          "state": {
            "_dom_classes": [],
            "_model_module": "@jupyter-widgets/controls",
            "_model_module_version": "1.5.0",
            "_model_name": "HTMLModel",
            "_view_count": null,
            "_view_module": "@jupyter-widgets/controls",
            "_view_module_version": "1.5.0",
            "_view_name": "HTMLView",
            "description": "",
            "description_tooltip": null,
            "layout": "IPY_MODEL_c11176b7a0a442108982b3dec99ebecd",
            "placeholder": "​",
            "style": "IPY_MODEL_86e8f0bf8c1c412aabd6ab743f1391f0",
            "value": " 534M/534M [00:12&lt;00:00, 51.1MB/s]"
          }
        },
        "38d7cac2f78c478fac0a6fb3174bb08c": {
          "model_module": "@jupyter-widgets/base",
          "model_name": "LayoutModel",
          "model_module_version": "1.2.0",
          "state": {
            "_model_module": "@jupyter-widgets/base",
            "_model_module_version": "1.2.0",
            "_model_name": "LayoutModel",
            "_view_count": null,
            "_view_module": "@jupyter-widgets/base",
            "_view_module_version": "1.2.0",
            "_view_name": "LayoutView",
            "align_content": null,
            "align_items": null,
            "align_self": null,
            "border": null,
            "bottom": null,
            "display": null,
            "flex": null,
            "flex_flow": null,
            "grid_area": null,
            "grid_auto_columns": null,
            "grid_auto_flow": null,
            "grid_auto_rows": null,
            "grid_column": null,
            "grid_gap": null,
            "grid_row": null,
            "grid_template_areas": null,
            "grid_template_columns": null,
            "grid_template_rows": null,
            "height": null,
            "justify_content": null,
            "justify_items": null,
            "left": null,
            "margin": null,
            "max_height": null,
            "max_width": null,
            "min_height": null,
            "min_width": null,
            "object_fit": null,
            "object_position": null,
            "order": null,
            "overflow": null,
            "overflow_x": null,
            "overflow_y": null,
            "padding": null,
            "right": null,
            "top": null,
            "visibility": null,
            "width": null
          }
        },
        "e8353e66297c4f928158ad893e135bc9": {
          "model_module": "@jupyter-widgets/base",
          "model_name": "LayoutModel",
          "model_module_version": "1.2.0",
          "state": {
            "_model_module": "@jupyter-widgets/base",
            "_model_module_version": "1.2.0",
            "_model_name": "LayoutModel",
            "_view_count": null,
            "_view_module": "@jupyter-widgets/base",
            "_view_module_version": "1.2.0",
            "_view_name": "LayoutView",
            "align_content": null,
            "align_items": null,
            "align_self": null,
            "border": null,
            "bottom": null,
            "display": null,
            "flex": null,
            "flex_flow": null,
            "grid_area": null,
            "grid_auto_columns": null,
            "grid_auto_flow": null,
            "grid_auto_rows": null,
            "grid_column": null,
            "grid_gap": null,
            "grid_row": null,
            "grid_template_areas": null,
            "grid_template_columns": null,
            "grid_template_rows": null,
            "height": null,
            "justify_content": null,
            "justify_items": null,
            "left": null,
            "margin": null,
            "max_height": null,
            "max_width": null,
            "min_height": null,
            "min_width": null,
            "object_fit": null,
            "object_position": null,
            "order": null,
            "overflow": null,
            "overflow_x": null,
            "overflow_y": null,
            "padding": null,
            "right": null,
            "top": null,
            "visibility": null,
            "width": null
          }
        },
        "e803e4d051e04682b92204506c7ff596": {
          "model_module": "@jupyter-widgets/controls",
          "model_name": "DescriptionStyleModel",
          "model_module_version": "1.5.0",
          "state": {
            "_model_module": "@jupyter-widgets/controls",
            "_model_module_version": "1.5.0",
            "_model_name": "DescriptionStyleModel",
            "_view_count": null,
            "_view_module": "@jupyter-widgets/base",
            "_view_module_version": "1.2.0",
            "_view_name": "StyleView",
            "description_width": ""
          }
        },
        "d6ac6cee17314ef09758da32c638a910": {
          "model_module": "@jupyter-widgets/base",
          "model_name": "LayoutModel",
          "model_module_version": "1.2.0",
          "state": {
            "_model_module": "@jupyter-widgets/base",
            "_model_module_version": "1.2.0",
            "_model_name": "LayoutModel",
            "_view_count": null,
            "_view_module": "@jupyter-widgets/base",
            "_view_module_version": "1.2.0",
            "_view_name": "LayoutView",
            "align_content": null,
            "align_items": null,
            "align_self": null,
            "border": null,
            "bottom": null,
            "display": null,
            "flex": null,
            "flex_flow": null,
            "grid_area": null,
            "grid_auto_columns": null,
            "grid_auto_flow": null,
            "grid_auto_rows": null,
            "grid_column": null,
            "grid_gap": null,
            "grid_row": null,
            "grid_template_areas": null,
            "grid_template_columns": null,
            "grid_template_rows": null,
            "height": null,
            "justify_content": null,
            "justify_items": null,
            "left": null,
            "margin": null,
            "max_height": null,
            "max_width": null,
            "min_height": null,
            "min_width": null,
            "object_fit": null,
            "object_position": null,
            "order": null,
            "overflow": null,
            "overflow_x": null,
            "overflow_y": null,
            "padding": null,
            "right": null,
            "top": null,
            "visibility": null,
            "width": null
          }
        },
        "451a8c4a29624eeaaaa3ff08dc3593b1": {
          "model_module": "@jupyter-widgets/controls",
          "model_name": "ProgressStyleModel",
          "model_module_version": "1.5.0",
          "state": {
            "_model_module": "@jupyter-widgets/controls",
            "_model_module_version": "1.5.0",
            "_model_name": "ProgressStyleModel",
            "_view_count": null,
            "_view_module": "@jupyter-widgets/base",
            "_view_module_version": "1.2.0",
            "_view_name": "StyleView",
            "bar_color": null,
            "description_width": ""
          }
        },
        "c11176b7a0a442108982b3dec99ebecd": {
          "model_module": "@jupyter-widgets/base",
          "model_name": "LayoutModel",
          "model_module_version": "1.2.0",
          "state": {
            "_model_module": "@jupyter-widgets/base",
            "_model_module_version": "1.2.0",
            "_model_name": "LayoutModel",
            "_view_count": null,
            "_view_module": "@jupyter-widgets/base",
            "_view_module_version": "1.2.0",
            "_view_name": "LayoutView",
            "align_content": null,
            "align_items": null,
            "align_self": null,
            "border": null,
            "bottom": null,
            "display": null,
            "flex": null,
            "flex_flow": null,
            "grid_area": null,
            "grid_auto_columns": null,
            "grid_auto_flow": null,
            "grid_auto_rows": null,
            "grid_column": null,
            "grid_gap": null,
            "grid_row": null,
            "grid_template_areas": null,
            "grid_template_columns": null,
            "grid_template_rows": null,
            "height": null,
            "justify_content": null,
            "justify_items": null,
            "left": null,
            "margin": null,
            "max_height": null,
            "max_width": null,
            "min_height": null,
            "min_width": null,
            "object_fit": null,
            "object_position": null,
            "order": null,
            "overflow": null,
            "overflow_x": null,
            "overflow_y": null,
            "padding": null,
            "right": null,
            "top": null,
            "visibility": null,
            "width": null
          }
        },
        "86e8f0bf8c1c412aabd6ab743f1391f0": {
          "model_module": "@jupyter-widgets/controls",
          "model_name": "DescriptionStyleModel",
          "model_module_version": "1.5.0",
          "state": {
            "_model_module": "@jupyter-widgets/controls",
            "_model_module_version": "1.5.0",
            "_model_name": "DescriptionStyleModel",
            "_view_count": null,
            "_view_module": "@jupyter-widgets/base",
            "_view_module_version": "1.2.0",
            "_view_name": "StyleView",
            "description_width": ""
          }
        },
        "45071918a7b24b9ab0ec12bee05833e8": {
          "model_module": "@jupyter-widgets/controls",
          "model_name": "HBoxModel",
          "model_module_version": "1.5.0",
          "state": {
            "_dom_classes": [],
            "_model_module": "@jupyter-widgets/controls",
            "_model_module_version": "1.5.0",
            "_model_name": "HBoxModel",
            "_view_count": null,
            "_view_module": "@jupyter-widgets/controls",
            "_view_module_version": "1.5.0",
            "_view_name": "HBoxView",
            "box_style": "",
            "children": [
              "IPY_MODEL_2ad25917a32149e49a39002aa78adcb4",
              "IPY_MODEL_34514bb6e0274e9e8aca941e78a795a3",
              "IPY_MODEL_987b6ba03c524b79b440effd4fe2a9ab"
            ],
            "layout": "IPY_MODEL_be896b74b81e450dad429c50a83e5985"
          }
        },
        "2ad25917a32149e49a39002aa78adcb4": {
          "model_module": "@jupyter-widgets/controls",
          "model_name": "HTMLModel",
          "model_module_version": "1.5.0",
          "state": {
            "_dom_classes": [],
            "_model_module": "@jupyter-widgets/controls",
            "_model_module_version": "1.5.0",
            "_model_name": "HTMLModel",
            "_view_count": null,
            "_view_module": "@jupyter-widgets/controls",
            "_view_module_version": "1.5.0",
            "_view_name": "HTMLView",
            "description": "",
            "description_tooltip": null,
            "layout": "IPY_MODEL_529f3e40155d4661a479c4403469f96b",
            "placeholder": "​",
            "style": "IPY_MODEL_722fa88620944e7c9e9dffa891332f8e",
            "value": "Downloading: 100%"
          }
        },
        "34514bb6e0274e9e8aca941e78a795a3": {
          "model_module": "@jupyter-widgets/controls",
          "model_name": "FloatProgressModel",
          "model_module_version": "1.5.0",
          "state": {
            "_dom_classes": [],
            "_model_module": "@jupyter-widgets/controls",
            "_model_module_version": "1.5.0",
            "_model_name": "FloatProgressModel",
            "_view_count": null,
            "_view_module": "@jupyter-widgets/controls",
            "_view_module_version": "1.5.0",
            "_view_name": "ProgressView",
            "bar_style": "success",
            "description": "",
            "description_tooltip": null,
            "layout": "IPY_MODEL_9ffca6b2f7cf40fb91058a620ad6092f",
            "max": 52,
            "min": 0,
            "orientation": "horizontal",
            "style": "IPY_MODEL_263e423cee364ce2807da2b62a2e2e18",
            "value": 52
          }
        },
        "987b6ba03c524b79b440effd4fe2a9ab": {
          "model_module": "@jupyter-widgets/controls",
          "model_name": "HTMLModel",
          "model_module_version": "1.5.0",
          "state": {
            "_dom_classes": [],
            "_model_module": "@jupyter-widgets/controls",
            "_model_module_version": "1.5.0",
            "_model_name": "HTMLModel",
            "_view_count": null,
            "_view_module": "@jupyter-widgets/controls",
            "_view_module_version": "1.5.0",
            "_view_name": "HTMLView",
            "description": "",
            "description_tooltip": null,
            "layout": "IPY_MODEL_b9bc143b58664a36803f39315657cdb9",
            "placeholder": "​",
            "style": "IPY_MODEL_ccfe3468186645c88f41294686c9541f",
            "value": " 52.0/52.0 [00:00&lt;00:00, 1.43kB/s]"
          }
        },
        "be896b74b81e450dad429c50a83e5985": {
          "model_module": "@jupyter-widgets/base",
          "model_name": "LayoutModel",
          "model_module_version": "1.2.0",
          "state": {
            "_model_module": "@jupyter-widgets/base",
            "_model_module_version": "1.2.0",
            "_model_name": "LayoutModel",
            "_view_count": null,
            "_view_module": "@jupyter-widgets/base",
            "_view_module_version": "1.2.0",
            "_view_name": "LayoutView",
            "align_content": null,
            "align_items": null,
            "align_self": null,
            "border": null,
            "bottom": null,
            "display": null,
            "flex": null,
            "flex_flow": null,
            "grid_area": null,
            "grid_auto_columns": null,
            "grid_auto_flow": null,
            "grid_auto_rows": null,
            "grid_column": null,
            "grid_gap": null,
            "grid_row": null,
            "grid_template_areas": null,
            "grid_template_columns": null,
            "grid_template_rows": null,
            "height": null,
            "justify_content": null,
            "justify_items": null,
            "left": null,
            "margin": null,
            "max_height": null,
            "max_width": null,
            "min_height": null,
            "min_width": null,
            "object_fit": null,
            "object_position": null,
            "order": null,
            "overflow": null,
            "overflow_x": null,
            "overflow_y": null,
            "padding": null,
            "right": null,
            "top": null,
            "visibility": null,
            "width": null
          }
        },
        "529f3e40155d4661a479c4403469f96b": {
          "model_module": "@jupyter-widgets/base",
          "model_name": "LayoutModel",
          "model_module_version": "1.2.0",
          "state": {
            "_model_module": "@jupyter-widgets/base",
            "_model_module_version": "1.2.0",
            "_model_name": "LayoutModel",
            "_view_count": null,
            "_view_module": "@jupyter-widgets/base",
            "_view_module_version": "1.2.0",
            "_view_name": "LayoutView",
            "align_content": null,
            "align_items": null,
            "align_self": null,
            "border": null,
            "bottom": null,
            "display": null,
            "flex": null,
            "flex_flow": null,
            "grid_area": null,
            "grid_auto_columns": null,
            "grid_auto_flow": null,
            "grid_auto_rows": null,
            "grid_column": null,
            "grid_gap": null,
            "grid_row": null,
            "grid_template_areas": null,
            "grid_template_columns": null,
            "grid_template_rows": null,
            "height": null,
            "justify_content": null,
            "justify_items": null,
            "left": null,
            "margin": null,
            "max_height": null,
            "max_width": null,
            "min_height": null,
            "min_width": null,
            "object_fit": null,
            "object_position": null,
            "order": null,
            "overflow": null,
            "overflow_x": null,
            "overflow_y": null,
            "padding": null,
            "right": null,
            "top": null,
            "visibility": null,
            "width": null
          }
        },
        "722fa88620944e7c9e9dffa891332f8e": {
          "model_module": "@jupyter-widgets/controls",
          "model_name": "DescriptionStyleModel",
          "model_module_version": "1.5.0",
          "state": {
            "_model_module": "@jupyter-widgets/controls",
            "_model_module_version": "1.5.0",
            "_model_name": "DescriptionStyleModel",
            "_view_count": null,
            "_view_module": "@jupyter-widgets/base",
            "_view_module_version": "1.2.0",
            "_view_name": "StyleView",
            "description_width": ""
          }
        },
        "9ffca6b2f7cf40fb91058a620ad6092f": {
          "model_module": "@jupyter-widgets/base",
          "model_name": "LayoutModel",
          "model_module_version": "1.2.0",
          "state": {
            "_model_module": "@jupyter-widgets/base",
            "_model_module_version": "1.2.0",
            "_model_name": "LayoutModel",
            "_view_count": null,
            "_view_module": "@jupyter-widgets/base",
            "_view_module_version": "1.2.0",
            "_view_name": "LayoutView",
            "align_content": null,
            "align_items": null,
            "align_self": null,
            "border": null,
            "bottom": null,
            "display": null,
            "flex": null,
            "flex_flow": null,
            "grid_area": null,
            "grid_auto_columns": null,
            "grid_auto_flow": null,
            "grid_auto_rows": null,
            "grid_column": null,
            "grid_gap": null,
            "grid_row": null,
            "grid_template_areas": null,
            "grid_template_columns": null,
            "grid_template_rows": null,
            "height": null,
            "justify_content": null,
            "justify_items": null,
            "left": null,
            "margin": null,
            "max_height": null,
            "max_width": null,
            "min_height": null,
            "min_width": null,
            "object_fit": null,
            "object_position": null,
            "order": null,
            "overflow": null,
            "overflow_x": null,
            "overflow_y": null,
            "padding": null,
            "right": null,
            "top": null,
            "visibility": null,
            "width": null
          }
        },
        "263e423cee364ce2807da2b62a2e2e18": {
          "model_module": "@jupyter-widgets/controls",
          "model_name": "ProgressStyleModel",
          "model_module_version": "1.5.0",
          "state": {
            "_model_module": "@jupyter-widgets/controls",
            "_model_module_version": "1.5.0",
            "_model_name": "ProgressStyleModel",
            "_view_count": null,
            "_view_module": "@jupyter-widgets/base",
            "_view_module_version": "1.2.0",
            "_view_name": "StyleView",
            "bar_color": null,
            "description_width": ""
          }
        },
        "b9bc143b58664a36803f39315657cdb9": {
          "model_module": "@jupyter-widgets/base",
          "model_name": "LayoutModel",
          "model_module_version": "1.2.0",
          "state": {
            "_model_module": "@jupyter-widgets/base",
            "_model_module_version": "1.2.0",
            "_model_name": "LayoutModel",
            "_view_count": null,
            "_view_module": "@jupyter-widgets/base",
            "_view_module_version": "1.2.0",
            "_view_name": "LayoutView",
            "align_content": null,
            "align_items": null,
            "align_self": null,
            "border": null,
            "bottom": null,
            "display": null,
            "flex": null,
            "flex_flow": null,
            "grid_area": null,
            "grid_auto_columns": null,
            "grid_auto_flow": null,
            "grid_auto_rows": null,
            "grid_column": null,
            "grid_gap": null,
            "grid_row": null,
            "grid_template_areas": null,
            "grid_template_columns": null,
            "grid_template_rows": null,
            "height": null,
            "justify_content": null,
            "justify_items": null,
            "left": null,
            "margin": null,
            "max_height": null,
            "max_width": null,
            "min_height": null,
            "min_width": null,
            "object_fit": null,
            "object_position": null,
            "order": null,
            "overflow": null,
            "overflow_x": null,
            "overflow_y": null,
            "padding": null,
            "right": null,
            "top": null,
            "visibility": null,
            "width": null
          }
        },
        "ccfe3468186645c88f41294686c9541f": {
          "model_module": "@jupyter-widgets/controls",
          "model_name": "DescriptionStyleModel",
          "model_module_version": "1.5.0",
          "state": {
            "_model_module": "@jupyter-widgets/controls",
            "_model_module_version": "1.5.0",
            "_model_name": "DescriptionStyleModel",
            "_view_count": null,
            "_view_module": "@jupyter-widgets/base",
            "_view_module_version": "1.2.0",
            "_view_name": "StyleView",
            "description_width": ""
          }
        },
        "38bba40c683b48a09362010b9c080131": {
          "model_module": "@jupyter-widgets/controls",
          "model_name": "HBoxModel",
          "model_module_version": "1.5.0",
          "state": {
            "_dom_classes": [],
            "_model_module": "@jupyter-widgets/controls",
            "_model_module_version": "1.5.0",
            "_model_name": "HBoxModel",
            "_view_count": null,
            "_view_module": "@jupyter-widgets/controls",
            "_view_module_version": "1.5.0",
            "_view_name": "HBoxView",
            "box_style": "",
            "children": [
              "IPY_MODEL_4ec8cdadcff74e15a55162d72a9b857f",
              "IPY_MODEL_af92a33bb912409fab531b44115ccccb",
              "IPY_MODEL_bc05af1021a2445c8ae698d8ef9fb83d"
            ],
            "layout": "IPY_MODEL_b5ac4a557234491d9b31cef6b8c4c25d"
          }
        },
        "4ec8cdadcff74e15a55162d72a9b857f": {
          "model_module": "@jupyter-widgets/controls",
          "model_name": "HTMLModel",
          "model_module_version": "1.5.0",
          "state": {
            "_dom_classes": [],
            "_model_module": "@jupyter-widgets/controls",
            "_model_module_version": "1.5.0",
            "_model_name": "HTMLModel",
            "_view_count": null,
            "_view_module": "@jupyter-widgets/controls",
            "_view_module_version": "1.5.0",
            "_view_name": "HTMLView",
            "description": "",
            "description_tooltip": null,
            "layout": "IPY_MODEL_0ae90a92d04e4f23b3132c9f6d44818a",
            "placeholder": "​",
            "style": "IPY_MODEL_31ac5fbf6cf446b1925a599e9c7540cf",
            "value": "Downloading: 100%"
          }
        },
        "af92a33bb912409fab531b44115ccccb": {
          "model_module": "@jupyter-widgets/controls",
          "model_name": "FloatProgressModel",
          "model_module_version": "1.5.0",
          "state": {
            "_dom_classes": [],
            "_model_module": "@jupyter-widgets/controls",
            "_model_module_version": "1.5.0",
            "_model_name": "FloatProgressModel",
            "_view_count": null,
            "_view_module": "@jupyter-widgets/controls",
            "_view_module_version": "1.5.0",
            "_view_name": "ProgressView",
            "bar_style": "success",
            "description": "",
            "description_tooltip": null,
            "layout": "IPY_MODEL_f0d87dad61554463ada54ccc3aaf1ce0",
            "max": 579,
            "min": 0,
            "orientation": "horizontal",
            "style": "IPY_MODEL_6d8965aca3234e9887cf5a9c9cefe1fc",
            "value": 579
          }
        },
        "bc05af1021a2445c8ae698d8ef9fb83d": {
          "model_module": "@jupyter-widgets/controls",
          "model_name": "HTMLModel",
          "model_module_version": "1.5.0",
          "state": {
            "_dom_classes": [],
            "_model_module": "@jupyter-widgets/controls",
            "_model_module_version": "1.5.0",
            "_model_name": "HTMLModel",
            "_view_count": null,
            "_view_module": "@jupyter-widgets/controls",
            "_view_module_version": "1.5.0",
            "_view_name": "HTMLView",
            "description": "",
            "description_tooltip": null,
            "layout": "IPY_MODEL_4df6ff27319949c99cc1940cdf4547df",
            "placeholder": "​",
            "style": "IPY_MODEL_c0c38710273e4503816555f2938d766f",
            "value": " 579/579 [00:00&lt;00:00, 23.7kB/s]"
          }
        },
        "b5ac4a557234491d9b31cef6b8c4c25d": {
          "model_module": "@jupyter-widgets/base",
          "model_name": "LayoutModel",
          "model_module_version": "1.2.0",
          "state": {
            "_model_module": "@jupyter-widgets/base",
            "_model_module_version": "1.2.0",
            "_model_name": "LayoutModel",
            "_view_count": null,
            "_view_module": "@jupyter-widgets/base",
            "_view_module_version": "1.2.0",
            "_view_name": "LayoutView",
            "align_content": null,
            "align_items": null,
            "align_self": null,
            "border": null,
            "bottom": null,
            "display": null,
            "flex": null,
            "flex_flow": null,
            "grid_area": null,
            "grid_auto_columns": null,
            "grid_auto_flow": null,
            "grid_auto_rows": null,
            "grid_column": null,
            "grid_gap": null,
            "grid_row": null,
            "grid_template_areas": null,
            "grid_template_columns": null,
            "grid_template_rows": null,
            "height": null,
            "justify_content": null,
            "justify_items": null,
            "left": null,
            "margin": null,
            "max_height": null,
            "max_width": null,
            "min_height": null,
            "min_width": null,
            "object_fit": null,
            "object_position": null,
            "order": null,
            "overflow": null,
            "overflow_x": null,
            "overflow_y": null,
            "padding": null,
            "right": null,
            "top": null,
            "visibility": null,
            "width": null
          }
        },
        "0ae90a92d04e4f23b3132c9f6d44818a": {
          "model_module": "@jupyter-widgets/base",
          "model_name": "LayoutModel",
          "model_module_version": "1.2.0",
          "state": {
            "_model_module": "@jupyter-widgets/base",
            "_model_module_version": "1.2.0",
            "_model_name": "LayoutModel",
            "_view_count": null,
            "_view_module": "@jupyter-widgets/base",
            "_view_module_version": "1.2.0",
            "_view_name": "LayoutView",
            "align_content": null,
            "align_items": null,
            "align_self": null,
            "border": null,
            "bottom": null,
            "display": null,
            "flex": null,
            "flex_flow": null,
            "grid_area": null,
            "grid_auto_columns": null,
            "grid_auto_flow": null,
            "grid_auto_rows": null,
            "grid_column": null,
            "grid_gap": null,
            "grid_row": null,
            "grid_template_areas": null,
            "grid_template_columns": null,
            "grid_template_rows": null,
            "height": null,
            "justify_content": null,
            "justify_items": null,
            "left": null,
            "margin": null,
            "max_height": null,
            "max_width": null,
            "min_height": null,
            "min_width": null,
            "object_fit": null,
            "object_position": null,
            "order": null,
            "overflow": null,
            "overflow_x": null,
            "overflow_y": null,
            "padding": null,
            "right": null,
            "top": null,
            "visibility": null,
            "width": null
          }
        },
        "31ac5fbf6cf446b1925a599e9c7540cf": {
          "model_module": "@jupyter-widgets/controls",
          "model_name": "DescriptionStyleModel",
          "model_module_version": "1.5.0",
          "state": {
            "_model_module": "@jupyter-widgets/controls",
            "_model_module_version": "1.5.0",
            "_model_name": "DescriptionStyleModel",
            "_view_count": null,
            "_view_module": "@jupyter-widgets/base",
            "_view_module_version": "1.2.0",
            "_view_name": "StyleView",
            "description_width": ""
          }
        },
        "f0d87dad61554463ada54ccc3aaf1ce0": {
          "model_module": "@jupyter-widgets/base",
          "model_name": "LayoutModel",
          "model_module_version": "1.2.0",
          "state": {
            "_model_module": "@jupyter-widgets/base",
            "_model_module_version": "1.2.0",
            "_model_name": "LayoutModel",
            "_view_count": null,
            "_view_module": "@jupyter-widgets/base",
            "_view_module_version": "1.2.0",
            "_view_name": "LayoutView",
            "align_content": null,
            "align_items": null,
            "align_self": null,
            "border": null,
            "bottom": null,
            "display": null,
            "flex": null,
            "flex_flow": null,
            "grid_area": null,
            "grid_auto_columns": null,
            "grid_auto_flow": null,
            "grid_auto_rows": null,
            "grid_column": null,
            "grid_gap": null,
            "grid_row": null,
            "grid_template_areas": null,
            "grid_template_columns": null,
            "grid_template_rows": null,
            "height": null,
            "justify_content": null,
            "justify_items": null,
            "left": null,
            "margin": null,
            "max_height": null,
            "max_width": null,
            "min_height": null,
            "min_width": null,
            "object_fit": null,
            "object_position": null,
            "order": null,
            "overflow": null,
            "overflow_x": null,
            "overflow_y": null,
            "padding": null,
            "right": null,
            "top": null,
            "visibility": null,
            "width": null
          }
        },
        "6d8965aca3234e9887cf5a9c9cefe1fc": {
          "model_module": "@jupyter-widgets/controls",
          "model_name": "ProgressStyleModel",
          "model_module_version": "1.5.0",
          "state": {
            "_model_module": "@jupyter-widgets/controls",
            "_model_module_version": "1.5.0",
            "_model_name": "ProgressStyleModel",
            "_view_count": null,
            "_view_module": "@jupyter-widgets/base",
            "_view_module_version": "1.2.0",
            "_view_name": "StyleView",
            "bar_color": null,
            "description_width": ""
          }
        },
        "4df6ff27319949c99cc1940cdf4547df": {
          "model_module": "@jupyter-widgets/base",
          "model_name": "LayoutModel",
          "model_module_version": "1.2.0",
          "state": {
            "_model_module": "@jupyter-widgets/base",
            "_model_module_version": "1.2.0",
            "_model_name": "LayoutModel",
            "_view_count": null,
            "_view_module": "@jupyter-widgets/base",
            "_view_module_version": "1.2.0",
            "_view_name": "LayoutView",
            "align_content": null,
            "align_items": null,
            "align_self": null,
            "border": null,
            "bottom": null,
            "display": null,
            "flex": null,
            "flex_flow": null,
            "grid_area": null,
            "grid_auto_columns": null,
            "grid_auto_flow": null,
            "grid_auto_rows": null,
            "grid_column": null,
            "grid_gap": null,
            "grid_row": null,
            "grid_template_areas": null,
            "grid_template_columns": null,
            "grid_template_rows": null,
            "height": null,
            "justify_content": null,
            "justify_items": null,
            "left": null,
            "margin": null,
            "max_height": null,
            "max_width": null,
            "min_height": null,
            "min_width": null,
            "object_fit": null,
            "object_position": null,
            "order": null,
            "overflow": null,
            "overflow_x": null,
            "overflow_y": null,
            "padding": null,
            "right": null,
            "top": null,
            "visibility": null,
            "width": null
          }
        },
        "c0c38710273e4503816555f2938d766f": {
          "model_module": "@jupyter-widgets/controls",
          "model_name": "DescriptionStyleModel",
          "model_module_version": "1.5.0",
          "state": {
            "_model_module": "@jupyter-widgets/controls",
            "_model_module_version": "1.5.0",
            "_model_name": "DescriptionStyleModel",
            "_view_count": null,
            "_view_module": "@jupyter-widgets/base",
            "_view_module_version": "1.2.0",
            "_view_name": "StyleView",
            "description_width": ""
          }
        },
        "b3abb7f14d6d4d8697919e96211fe146": {
          "model_module": "@jupyter-widgets/controls",
          "model_name": "HBoxModel",
          "model_module_version": "1.5.0",
          "state": {
            "_dom_classes": [],
            "_model_module": "@jupyter-widgets/controls",
            "_model_module_version": "1.5.0",
            "_model_name": "HBoxModel",
            "_view_count": null,
            "_view_module": "@jupyter-widgets/controls",
            "_view_module_version": "1.5.0",
            "_view_name": "HBoxView",
            "box_style": "",
            "children": [
              "IPY_MODEL_86b404a7125a45fa99cc00b1a1f67fe6",
              "IPY_MODEL_4c1733ebc7e546f9a7efda8477f01e0c",
              "IPY_MODEL_d103224481de4ba7911bcade7a2668b3"
            ],
            "layout": "IPY_MODEL_ac5ef8cb2fe84dc4927c9b738348784f"
          }
        },
        "86b404a7125a45fa99cc00b1a1f67fe6": {
          "model_module": "@jupyter-widgets/controls",
          "model_name": "HTMLModel",
          "model_module_version": "1.5.0",
          "state": {
            "_dom_classes": [],
            "_model_module": "@jupyter-widgets/controls",
            "_model_module_version": "1.5.0",
            "_model_name": "HTMLModel",
            "_view_count": null,
            "_view_module": "@jupyter-widgets/controls",
            "_view_module_version": "1.5.0",
            "_view_name": "HTMLView",
            "description": "",
            "description_tooltip": null,
            "layout": "IPY_MODEL_eb3e686d1237449e9ae4e7cc3d2cd241",
            "placeholder": "​",
            "style": "IPY_MODEL_290b6c1c19bf49918e8c9e6284e5fe8f",
            "value": "Downloading: 100%"
          }
        },
        "4c1733ebc7e546f9a7efda8477f01e0c": {
          "model_module": "@jupyter-widgets/controls",
          "model_name": "FloatProgressModel",
          "model_module_version": "1.5.0",
          "state": {
            "_dom_classes": [],
            "_model_module": "@jupyter-widgets/controls",
            "_model_module_version": "1.5.0",
            "_model_name": "FloatProgressModel",
            "_view_count": null,
            "_view_module": "@jupyter-widgets/controls",
            "_view_module_version": "1.5.0",
            "_view_name": "ProgressView",
            "bar_style": "success",
            "description": "",
            "description_tooltip": null,
            "layout": "IPY_MODEL_1437d5e9a3d34179b7ee21c397beaefa",
            "max": 4305025,
            "min": 0,
            "orientation": "horizontal",
            "style": "IPY_MODEL_cd600cb9460a4861a697ecc62776dd39",
            "value": 4305025
          }
        },
        "d103224481de4ba7911bcade7a2668b3": {
          "model_module": "@jupyter-widgets/controls",
          "model_name": "HTMLModel",
          "model_module_version": "1.5.0",
          "state": {
            "_dom_classes": [],
            "_model_module": "@jupyter-widgets/controls",
            "_model_module_version": "1.5.0",
            "_model_name": "HTMLModel",
            "_view_count": null,
            "_view_module": "@jupyter-widgets/controls",
            "_view_module_version": "1.5.0",
            "_view_name": "HTMLView",
            "description": "",
            "description_tooltip": null,
            "layout": "IPY_MODEL_3ead0451512141f8a71aab18310e1c20",
            "placeholder": "​",
            "style": "IPY_MODEL_2a940184cd9141c0b97b2063bc24684d",
            "value": " 4.11M/4.11M [00:00&lt;00:00, 9.54MB/s]"
          }
        },
        "ac5ef8cb2fe84dc4927c9b738348784f": {
          "model_module": "@jupyter-widgets/base",
          "model_name": "LayoutModel",
          "model_module_version": "1.2.0",
          "state": {
            "_model_module": "@jupyter-widgets/base",
            "_model_module_version": "1.2.0",
            "_model_name": "LayoutModel",
            "_view_count": null,
            "_view_module": "@jupyter-widgets/base",
            "_view_module_version": "1.2.0",
            "_view_name": "LayoutView",
            "align_content": null,
            "align_items": null,
            "align_self": null,
            "border": null,
            "bottom": null,
            "display": null,
            "flex": null,
            "flex_flow": null,
            "grid_area": null,
            "grid_auto_columns": null,
            "grid_auto_flow": null,
            "grid_auto_rows": null,
            "grid_column": null,
            "grid_gap": null,
            "grid_row": null,
            "grid_template_areas": null,
            "grid_template_columns": null,
            "grid_template_rows": null,
            "height": null,
            "justify_content": null,
            "justify_items": null,
            "left": null,
            "margin": null,
            "max_height": null,
            "max_width": null,
            "min_height": null,
            "min_width": null,
            "object_fit": null,
            "object_position": null,
            "order": null,
            "overflow": null,
            "overflow_x": null,
            "overflow_y": null,
            "padding": null,
            "right": null,
            "top": null,
            "visibility": null,
            "width": null
          }
        },
        "eb3e686d1237449e9ae4e7cc3d2cd241": {
          "model_module": "@jupyter-widgets/base",
          "model_name": "LayoutModel",
          "model_module_version": "1.2.0",
          "state": {
            "_model_module": "@jupyter-widgets/base",
            "_model_module_version": "1.2.0",
            "_model_name": "LayoutModel",
            "_view_count": null,
            "_view_module": "@jupyter-widgets/base",
            "_view_module_version": "1.2.0",
            "_view_name": "LayoutView",
            "align_content": null,
            "align_items": null,
            "align_self": null,
            "border": null,
            "bottom": null,
            "display": null,
            "flex": null,
            "flex_flow": null,
            "grid_area": null,
            "grid_auto_columns": null,
            "grid_auto_flow": null,
            "grid_auto_rows": null,
            "grid_column": null,
            "grid_gap": null,
            "grid_row": null,
            "grid_template_areas": null,
            "grid_template_columns": null,
            "grid_template_rows": null,
            "height": null,
            "justify_content": null,
            "justify_items": null,
            "left": null,
            "margin": null,
            "max_height": null,
            "max_width": null,
            "min_height": null,
            "min_width": null,
            "object_fit": null,
            "object_position": null,
            "order": null,
            "overflow": null,
            "overflow_x": null,
            "overflow_y": null,
            "padding": null,
            "right": null,
            "top": null,
            "visibility": null,
            "width": null
          }
        },
        "290b6c1c19bf49918e8c9e6284e5fe8f": {
          "model_module": "@jupyter-widgets/controls",
          "model_name": "DescriptionStyleModel",
          "model_module_version": "1.5.0",
          "state": {
            "_model_module": "@jupyter-widgets/controls",
            "_model_module_version": "1.5.0",
            "_model_name": "DescriptionStyleModel",
            "_view_count": null,
            "_view_module": "@jupyter-widgets/base",
            "_view_module_version": "1.2.0",
            "_view_name": "StyleView",
            "description_width": ""
          }
        },
        "1437d5e9a3d34179b7ee21c397beaefa": {
          "model_module": "@jupyter-widgets/base",
          "model_name": "LayoutModel",
          "model_module_version": "1.2.0",
          "state": {
            "_model_module": "@jupyter-widgets/base",
            "_model_module_version": "1.2.0",
            "_model_name": "LayoutModel",
            "_view_count": null,
            "_view_module": "@jupyter-widgets/base",
            "_view_module_version": "1.2.0",
            "_view_name": "LayoutView",
            "align_content": null,
            "align_items": null,
            "align_self": null,
            "border": null,
            "bottom": null,
            "display": null,
            "flex": null,
            "flex_flow": null,
            "grid_area": null,
            "grid_auto_columns": null,
            "grid_auto_flow": null,
            "grid_auto_rows": null,
            "grid_column": null,
            "grid_gap": null,
            "grid_row": null,
            "grid_template_areas": null,
            "grid_template_columns": null,
            "grid_template_rows": null,
            "height": null,
            "justify_content": null,
            "justify_items": null,
            "left": null,
            "margin": null,
            "max_height": null,
            "max_width": null,
            "min_height": null,
            "min_width": null,
            "object_fit": null,
            "object_position": null,
            "order": null,
            "overflow": null,
            "overflow_x": null,
            "overflow_y": null,
            "padding": null,
            "right": null,
            "top": null,
            "visibility": null,
            "width": null
          }
        },
        "cd600cb9460a4861a697ecc62776dd39": {
          "model_module": "@jupyter-widgets/controls",
          "model_name": "ProgressStyleModel",
          "model_module_version": "1.5.0",
          "state": {
            "_model_module": "@jupyter-widgets/controls",
            "_model_module_version": "1.5.0",
            "_model_name": "ProgressStyleModel",
            "_view_count": null,
            "_view_module": "@jupyter-widgets/base",
            "_view_module_version": "1.2.0",
            "_view_name": "StyleView",
            "bar_color": null,
            "description_width": ""
          }
        },
        "3ead0451512141f8a71aab18310e1c20": {
          "model_module": "@jupyter-widgets/base",
          "model_name": "LayoutModel",
          "model_module_version": "1.2.0",
          "state": {
            "_model_module": "@jupyter-widgets/base",
            "_model_module_version": "1.2.0",
            "_model_name": "LayoutModel",
            "_view_count": null,
            "_view_module": "@jupyter-widgets/base",
            "_view_module_version": "1.2.0",
            "_view_name": "LayoutView",
            "align_content": null,
            "align_items": null,
            "align_self": null,
            "border": null,
            "bottom": null,
            "display": null,
            "flex": null,
            "flex_flow": null,
            "grid_area": null,
            "grid_auto_columns": null,
            "grid_auto_flow": null,
            "grid_auto_rows": null,
            "grid_column": null,
            "grid_gap": null,
            "grid_row": null,
            "grid_template_areas": null,
            "grid_template_columns": null,
            "grid_template_rows": null,
            "height": null,
            "justify_content": null,
            "justify_items": null,
            "left": null,
            "margin": null,
            "max_height": null,
            "max_width": null,
            "min_height": null,
            "min_width": null,
            "object_fit": null,
            "object_position": null,
            "order": null,
            "overflow": null,
            "overflow_x": null,
            "overflow_y": null,
            "padding": null,
            "right": null,
            "top": null,
            "visibility": null,
            "width": null
          }
        },
        "2a940184cd9141c0b97b2063bc24684d": {
          "model_module": "@jupyter-widgets/controls",
          "model_name": "DescriptionStyleModel",
          "model_module_version": "1.5.0",
          "state": {
            "_model_module": "@jupyter-widgets/controls",
            "_model_module_version": "1.5.0",
            "_model_name": "DescriptionStyleModel",
            "_view_count": null,
            "_view_module": "@jupyter-widgets/base",
            "_view_module_version": "1.2.0",
            "_view_name": "StyleView",
            "description_width": ""
          }
        }
      }
    }
  },
  "cells": [
    {
      "cell_type": "code",
      "source": [
        "!pip install deberta"
      ],
      "metadata": {
        "colab": {
          "base_uri": "https://localhost:8080/"
        },
        "id": "GFAaUS7fUKxf",
        "outputId": "5cd94a54-515f-499a-dcf8-c912c500d884"
      },
      "execution_count": 1,
      "outputs": [
        {
          "output_type": "stream",
          "name": "stdout",
          "text": [
            "Collecting deberta\n",
            "  Downloading DeBERTa-0.1.12-py3-none-any.whl (64 kB)\n",
            "\u001b[?25l\r\u001b[K     |█████                           | 10 kB 26.7 MB/s eta 0:00:01\r\u001b[K     |██████████▏                     | 20 kB 8.3 MB/s eta 0:00:01\r\u001b[K     |███████████████▏                | 30 kB 7.2 MB/s eta 0:00:01\r\u001b[K     |████████████████████▎           | 40 kB 3.6 MB/s eta 0:00:01\r\u001b[K     |█████████████████████████▎      | 51 kB 3.6 MB/s eta 0:00:01\r\u001b[K     |██████████████████████████████▍ | 61 kB 4.3 MB/s eta 0:00:01\r\u001b[K     |████████████████████████████████| 64 kB 2.2 MB/s \n",
            "\u001b[?25hRequirement already satisfied: numpy in /usr/local/lib/python3.7/dist-packages (from deberta) (1.21.6)\n",
            "Requirement already satisfied: spacy in /usr/local/lib/python3.7/dist-packages (from deberta) (2.2.4)\n",
            "Requirement already satisfied: regex in /usr/local/lib/python3.7/dist-packages (from deberta) (2019.12.20)\n",
            "Requirement already satisfied: scipy in /usr/local/lib/python3.7/dist-packages (from deberta) (1.4.1)\n",
            "Collecting ujson\n",
            "  Downloading ujson-5.2.0-cp37-cp37m-manylinux_2_17_x86_64.manylinux2014_x86_64.whl (45 kB)\n",
            "\u001b[K     |████████████████████████████████| 45 kB 3.1 MB/s \n",
            "\u001b[?25hRequirement already satisfied: tqdm in /usr/local/lib/python3.7/dist-packages (from deberta) (4.64.0)\n",
            "Requirement already satisfied: psutil in /usr/local/lib/python3.7/dist-packages (from deberta) (5.4.8)\n",
            "Collecting sentencepiece\n",
            "  Downloading sentencepiece-0.1.96-cp37-cp37m-manylinux_2_17_x86_64.manylinux2014_x86_64.whl (1.2 MB)\n",
            "\u001b[K     |████████████████████████████████| 1.2 MB 9.0 MB/s \n",
            "\u001b[?25hCollecting laser\n",
            "  Downloading LASER-0.0.5-py3-none-any.whl (22 kB)\n",
            "Requirement already satisfied: sklearn in /usr/local/lib/python3.7/dist-packages (from deberta) (0.0)\n",
            "Requirement already satisfied: nltk in /usr/local/lib/python3.7/dist-packages (from deberta) (3.2.5)\n",
            "Collecting seqeval\n",
            "  Downloading seqeval-1.2.2.tar.gz (43 kB)\n",
            "\u001b[K     |████████████████████████████████| 43 kB 2.3 MB/s \n",
            "\u001b[?25hRequirement already satisfied: torch in /usr/local/lib/python3.7/dist-packages (from deberta) (1.11.0+cu113)\n",
            "Requirement already satisfied: pytest in /usr/local/lib/python3.7/dist-packages (from deberta) (3.6.4)\n",
            "Requirement already satisfied: six in /usr/local/lib/python3.7/dist-packages (from nltk->deberta) (1.15.0)\n",
            "Requirement already satisfied: setuptools in /usr/local/lib/python3.7/dist-packages (from pytest->deberta) (57.4.0)\n",
            "Requirement already satisfied: more-itertools>=4.0.0 in /usr/local/lib/python3.7/dist-packages (from pytest->deberta) (8.12.0)\n",
            "Requirement already satisfied: py>=1.5.0 in /usr/local/lib/python3.7/dist-packages (from pytest->deberta) (1.11.0)\n",
            "Requirement already satisfied: pluggy<0.8,>=0.5 in /usr/local/lib/python3.7/dist-packages (from pytest->deberta) (0.7.1)\n",
            "Requirement already satisfied: attrs>=17.4.0 in /usr/local/lib/python3.7/dist-packages (from pytest->deberta) (21.4.0)\n",
            "Requirement already satisfied: atomicwrites>=1.0 in /usr/local/lib/python3.7/dist-packages (from pytest->deberta) (1.4.0)\n",
            "Requirement already satisfied: scikit-learn>=0.21.3 in /usr/local/lib/python3.7/dist-packages (from seqeval->deberta) (1.0.2)\n",
            "Requirement already satisfied: threadpoolctl>=2.0.0 in /usr/local/lib/python3.7/dist-packages (from scikit-learn>=0.21.3->seqeval->deberta) (3.1.0)\n",
            "Requirement already satisfied: joblib>=0.11 in /usr/local/lib/python3.7/dist-packages (from scikit-learn>=0.21.3->seqeval->deberta) (1.1.0)\n",
            "Requirement already satisfied: thinc==7.4.0 in /usr/local/lib/python3.7/dist-packages (from spacy->deberta) (7.4.0)\n",
            "Requirement already satisfied: wasabi<1.1.0,>=0.4.0 in /usr/local/lib/python3.7/dist-packages (from spacy->deberta) (0.9.1)\n",
            "Requirement already satisfied: preshed<3.1.0,>=3.0.2 in /usr/local/lib/python3.7/dist-packages (from spacy->deberta) (3.0.6)\n",
            "Requirement already satisfied: plac<1.2.0,>=0.9.6 in /usr/local/lib/python3.7/dist-packages (from spacy->deberta) (1.1.3)\n",
            "Requirement already satisfied: catalogue<1.1.0,>=0.0.7 in /usr/local/lib/python3.7/dist-packages (from spacy->deberta) (1.0.0)\n",
            "Requirement already satisfied: srsly<1.1.0,>=1.0.2 in /usr/local/lib/python3.7/dist-packages (from spacy->deberta) (1.0.5)\n",
            "Requirement already satisfied: blis<0.5.0,>=0.4.0 in /usr/local/lib/python3.7/dist-packages (from spacy->deberta) (0.4.1)\n",
            "Requirement already satisfied: murmurhash<1.1.0,>=0.28.0 in /usr/local/lib/python3.7/dist-packages (from spacy->deberta) (1.0.7)\n",
            "Requirement already satisfied: requests<3.0.0,>=2.13.0 in /usr/local/lib/python3.7/dist-packages (from spacy->deberta) (2.23.0)\n",
            "Requirement already satisfied: cymem<2.1.0,>=2.0.2 in /usr/local/lib/python3.7/dist-packages (from spacy->deberta) (2.0.6)\n",
            "Requirement already satisfied: importlib-metadata>=0.20 in /usr/local/lib/python3.7/dist-packages (from catalogue<1.1.0,>=0.0.7->spacy->deberta) (4.11.3)\n",
            "Requirement already satisfied: typing-extensions>=3.6.4 in /usr/local/lib/python3.7/dist-packages (from importlib-metadata>=0.20->catalogue<1.1.0,>=0.0.7->spacy->deberta) (4.2.0)\n",
            "Requirement already satisfied: zipp>=0.5 in /usr/local/lib/python3.7/dist-packages (from importlib-metadata>=0.20->catalogue<1.1.0,>=0.0.7->spacy->deberta) (3.8.0)\n",
            "Requirement already satisfied: urllib3!=1.25.0,!=1.25.1,<1.26,>=1.21.1 in /usr/local/lib/python3.7/dist-packages (from requests<3.0.0,>=2.13.0->spacy->deberta) (1.24.3)\n",
            "Requirement already satisfied: certifi>=2017.4.17 in /usr/local/lib/python3.7/dist-packages (from requests<3.0.0,>=2.13.0->spacy->deberta) (2021.10.8)\n",
            "Requirement already satisfied: chardet<4,>=3.0.2 in /usr/local/lib/python3.7/dist-packages (from requests<3.0.0,>=2.13.0->spacy->deberta) (3.0.4)\n",
            "Requirement already satisfied: idna<3,>=2.5 in /usr/local/lib/python3.7/dist-packages (from requests<3.0.0,>=2.13.0->spacy->deberta) (2.10)\n",
            "Building wheels for collected packages: seqeval\n",
            "  Building wheel for seqeval (setup.py) ... \u001b[?25l\u001b[?25hdone\n",
            "  Created wheel for seqeval: filename=seqeval-1.2.2-py3-none-any.whl size=16180 sha256=a0383161ab98986a3c78d9d91b2ff5730b36cdc7bdca04bfdb87a290a63de2b3\n",
            "  Stored in directory: /root/.cache/pip/wheels/05/96/ee/7cac4e74f3b19e3158dce26a20a1c86b3533c43ec72a549fd7\n",
            "Successfully built seqeval\n",
            "Installing collected packages: ujson, seqeval, sentencepiece, laser, deberta\n",
            "Successfully installed deberta-0.1.12 laser-0.0.5 sentencepiece-0.1.96 seqeval-1.2.2 ujson-5.2.0\n"
          ]
        }
      ]
    },
    {
      "cell_type": "code",
      "source": [
        "! pip install sentencepiece"
      ],
      "metadata": {
        "colab": {
          "base_uri": "https://localhost:8080/"
        },
        "id": "xI7FPXFuv4Lg",
        "outputId": "0eaf1503-3143-42db-ba67-08410354c774"
      },
      "execution_count": 2,
      "outputs": [
        {
          "output_type": "stream",
          "name": "stdout",
          "text": [
            "Requirement already satisfied: sentencepiece in /usr/local/lib/python3.7/dist-packages (0.1.96)\n"
          ]
        }
      ]
    },
    {
      "cell_type": "code",
      "source": [
        "!pip install transformers"
      ],
      "metadata": {
        "colab": {
          "base_uri": "https://localhost:8080/"
        },
        "id": "BEcqMrLLUUfK",
        "outputId": "63b855fa-b7e5-4708-8b28-1448ee86a9a0"
      },
      "execution_count": 3,
      "outputs": [
        {
          "output_type": "stream",
          "name": "stdout",
          "text": [
            "Collecting transformers\n",
            "  Downloading transformers-4.18.0-py3-none-any.whl (4.0 MB)\n",
            "\u001b[K     |████████████████████████████████| 4.0 MB 4.3 MB/s \n",
            "\u001b[?25hCollecting huggingface-hub<1.0,>=0.1.0\n",
            "  Downloading huggingface_hub-0.5.1-py3-none-any.whl (77 kB)\n",
            "\u001b[K     |████████████████████████████████| 77 kB 7.8 MB/s \n",
            "\u001b[?25hCollecting tokenizers!=0.11.3,<0.13,>=0.11.1\n",
            "  Downloading tokenizers-0.12.1-cp37-cp37m-manylinux_2_12_x86_64.manylinux2010_x86_64.whl (6.6 MB)\n",
            "\u001b[K     |████████████████████████████████| 6.6 MB 73.9 MB/s \n",
            "\u001b[?25hRequirement already satisfied: regex!=2019.12.17 in /usr/local/lib/python3.7/dist-packages (from transformers) (2019.12.20)\n",
            "Requirement already satisfied: requests in /usr/local/lib/python3.7/dist-packages (from transformers) (2.23.0)\n",
            "Requirement already satisfied: importlib-metadata in /usr/local/lib/python3.7/dist-packages (from transformers) (4.11.3)\n",
            "Collecting pyyaml>=5.1\n",
            "  Downloading PyYAML-6.0-cp37-cp37m-manylinux_2_5_x86_64.manylinux1_x86_64.manylinux_2_12_x86_64.manylinux2010_x86_64.whl (596 kB)\n",
            "\u001b[K     |████████████████████████████████| 596 kB 55.8 MB/s \n",
            "\u001b[?25hRequirement already satisfied: filelock in /usr/local/lib/python3.7/dist-packages (from transformers) (3.6.0)\n",
            "Requirement already satisfied: tqdm>=4.27 in /usr/local/lib/python3.7/dist-packages (from transformers) (4.64.0)\n",
            "Collecting sacremoses\n",
            "  Downloading sacremoses-0.0.53.tar.gz (880 kB)\n",
            "\u001b[K     |████████████████████████████████| 880 kB 86.0 MB/s \n",
            "\u001b[?25hRequirement already satisfied: packaging>=20.0 in /usr/local/lib/python3.7/dist-packages (from transformers) (21.3)\n",
            "Requirement already satisfied: numpy>=1.17 in /usr/local/lib/python3.7/dist-packages (from transformers) (1.21.6)\n",
            "Requirement already satisfied: typing-extensions>=3.7.4.3 in /usr/local/lib/python3.7/dist-packages (from huggingface-hub<1.0,>=0.1.0->transformers) (4.2.0)\n",
            "Requirement already satisfied: pyparsing!=3.0.5,>=2.0.2 in /usr/local/lib/python3.7/dist-packages (from packaging>=20.0->transformers) (3.0.8)\n",
            "Requirement already satisfied: zipp>=0.5 in /usr/local/lib/python3.7/dist-packages (from importlib-metadata->transformers) (3.8.0)\n",
            "Requirement already satisfied: certifi>=2017.4.17 in /usr/local/lib/python3.7/dist-packages (from requests->transformers) (2021.10.8)\n",
            "Requirement already satisfied: chardet<4,>=3.0.2 in /usr/local/lib/python3.7/dist-packages (from requests->transformers) (3.0.4)\n",
            "Requirement already satisfied: urllib3!=1.25.0,!=1.25.1,<1.26,>=1.21.1 in /usr/local/lib/python3.7/dist-packages (from requests->transformers) (1.24.3)\n",
            "Requirement already satisfied: idna<3,>=2.5 in /usr/local/lib/python3.7/dist-packages (from requests->transformers) (2.10)\n",
            "Requirement already satisfied: six in /usr/local/lib/python3.7/dist-packages (from sacremoses->transformers) (1.15.0)\n",
            "Requirement already satisfied: click in /usr/local/lib/python3.7/dist-packages (from sacremoses->transformers) (7.1.2)\n",
            "Requirement already satisfied: joblib in /usr/local/lib/python3.7/dist-packages (from sacremoses->transformers) (1.1.0)\n",
            "Building wheels for collected packages: sacremoses\n",
            "  Building wheel for sacremoses (setup.py) ... \u001b[?25l\u001b[?25hdone\n",
            "  Created wheel for sacremoses: filename=sacremoses-0.0.53-py3-none-any.whl size=895260 sha256=c77593dcf65ffb289c4ee997622957629256386fe977ec2b349ba01409f21acd\n",
            "  Stored in directory: /root/.cache/pip/wheels/87/39/dd/a83eeef36d0bf98e7a4d1933a4ad2d660295a40613079bafc9\n",
            "Successfully built sacremoses\n",
            "Installing collected packages: pyyaml, tokenizers, sacremoses, huggingface-hub, transformers\n",
            "  Attempting uninstall: pyyaml\n",
            "    Found existing installation: PyYAML 3.13\n",
            "    Uninstalling PyYAML-3.13:\n",
            "      Successfully uninstalled PyYAML-3.13\n",
            "Successfully installed huggingface-hub-0.5.1 pyyaml-6.0 sacremoses-0.0.53 tokenizers-0.12.1 transformers-4.18.0\n"
          ]
        }
      ]
    },
    {
      "cell_type": "code",
      "source": [
        "from google.colab import drive\n",
        "drive.mount('/content/drive')\n",
        "filepath = '/content/drive/MyDrive/505_Final_project/'"
      ],
      "metadata": {
        "id": "3JDrTOmpxFvl",
        "colab": {
          "base_uri": "https://localhost:8080/"
        },
        "outputId": "d628583a-38c7-4b86-e870-b4f40a6fff33"
      },
      "execution_count": 4,
      "outputs": [
        {
          "output_type": "stream",
          "name": "stdout",
          "text": [
            "Mounted at /content/drive\n"
          ]
        }
      ]
    },
    {
      "cell_type": "code",
      "source": [
        "import pandas as pd\n",
        "#df_rte_train = pd.read_csv(filepath+'rte_train.csv')"
      ],
      "metadata": {
        "id": "oaRYX4r4UPSN"
      },
      "execution_count": 4,
      "outputs": []
    },
    {
      "cell_type": "markdown",
      "source": [
        "**Load and process Train data for both eng and spanish**"
      ],
      "metadata": {
        "id": "ZXE0lnz115Vv"
      }
    },
    {
      "cell_type": "code",
      "source": [
        "\n",
        "f=open(filepath+'train/crawler/data/spanish/tweet_by_ID_30_4_2022__02_47_48.txt.text')\n",
        "docs_span=f.read()\n",
        "text_lst_span = docs_span.split(\"\\n\")"
      ],
      "metadata": {
        "id": "h3-0MnFmxI03"
      },
      "execution_count": 5,
      "outputs": []
    },
    {
      "cell_type": "code",
      "source": [
        "f=open(filepath+'train/crawler/data/spanish/tweet_by_ID_30_4_2022__02_47_48.txt.labels')\n",
        "labels_span=f.read()\n",
        "labels_lst_span = labels_span.split(\"\\n\")"
      ],
      "metadata": {
        "id": "-mA6lhjyOtI_"
      },
      "execution_count": 6,
      "outputs": []
    },
    {
      "cell_type": "code",
      "source": [
        "f=open(filepath+'train/crawler/data/english/tweet_by_ID_30_4_2022__04_17_45.txt.text')\n",
        "docs_eng=f.read()\n",
        "text_lst_eng = docs_eng.split(\"\\n\")"
      ],
      "metadata": {
        "id": "qAITxVTm92_o"
      },
      "execution_count": 7,
      "outputs": []
    },
    {
      "cell_type": "code",
      "source": [
        "f=open(filepath+'train/crawler/data/english/tweet_by_ID_30_4_2022__04_17_45.txt.labels')\n",
        "labels_eng=f.read()\n",
        "labels_lst_eng = labels_eng.split(\"\\n\")"
      ],
      "metadata": {
        "id": "97VkxuFc_XJo"
      },
      "execution_count": 8,
      "outputs": []
    },
    {
      "cell_type": "code",
      "source": [
        "labels_lst_span = labels_lst_span[:-1]\n",
        "text_lst_span = text_lst_span[:-1]\n",
        "labels_lst_eng = labels_lst_eng[:-1]\n",
        "text_lst_eng = text_lst_eng[:-1]"
      ],
      "metadata": {
        "id": "kmp_dkYLQk_P"
      },
      "execution_count": 9,
      "outputs": []
    },
    {
      "cell_type": "code",
      "source": [
        "import numpy as np\n",
        "print(len(text_lst_span),len(labels_lst_span),len(text_lst_eng),len(labels_lst_eng))"
      ],
      "metadata": {
        "id": "YgiTJ5GgxMRN",
        "colab": {
          "base_uri": "https://localhost:8080/"
        },
        "outputId": "91640786-205e-4768-fa43-7f0a071c1d76"
      },
      "execution_count": 10,
      "outputs": [
        {
          "output_type": "stream",
          "name": "stdout",
          "text": [
            "81165 81165 385275 385275\n"
          ]
        }
      ]
    },
    {
      "cell_type": "code",
      "source": [
        "import pandas as pd\n",
        "df_data_span = pd.DataFrame(list(zip(text_lst_span, labels_lst_span)),\n",
        "               columns =['Text', 'Label'])"
      ],
      "metadata": {
        "id": "roD-hb0lBr5q"
      },
      "execution_count": 11,
      "outputs": []
    },
    {
      "cell_type": "markdown",
      "source": [
        "**new mappings of spanish**\n",
        "0-0\n",
        "1-1\n",
        "2-2\n",
        "3-3\n",
        "4-5\n",
        "5-9\n",
        "6-20\n",
        "7-14\n",
        "8-21\n",
        "9-22\n",
        "10-6\n",
        "11-8\n",
        "12-13\n",
        "13-19\n",
        "14-23\n",
        "15-7\n",
        "16-24\n",
        "17-25\n",
        "18-16"
      ],
      "metadata": {
        "id": "uCFO-kbkBsp4"
      }
    },
    {
      "cell_type": "code",
      "source": [
        "def mod_span_label(df_data_span):\n",
        "  df_data_span.loc[df_data_span['Label'] == 4, 'Label'] = 5\n",
        "  df_data_span.loc[df_data_span['Label'] == 5, 'Label'] = 9\n",
        "  df_data_span.loc[df_data_span['Label'] == 6, 'Label'] = 20\n",
        "  df_data_span.loc[df_data_span['Label'] == 7, 'Label'] = 14\n",
        "  df_data_span.loc[df_data_span['Label'] == 8, 'Label'] = 21\n",
        "  df_data_span.loc[df_data_span['Label'] == 9, 'Label'] = 22\n",
        "  df_data_span.loc[df_data_span['Label'] == 10, 'Label'] = 6\n",
        "  df_data_span.loc[df_data_span['Label'] == 11, 'Label'] = 8\n",
        "  df_data_span.loc[df_data_span['Label'] == 12, 'Label'] = 13\n",
        "  df_data_span.loc[df_data_span['Label'] == 13, 'Label'] = 19\n",
        "  df_data_span.loc[df_data_span['Label'] == 14, 'Label'] = 23\n",
        "  df_data_span.loc[df_data_span['Label'] == 15, 'Label'] = 7\n",
        "  df_data_span.loc[df_data_span['Label'] == 16, 'Label'] = 24\n",
        "  df_data_span.loc[df_data_span['Label'] == 17, 'Label'] = 25\n",
        "  df_data_span.loc[df_data_span['Label'] == 18, 'Label'] = 16\n",
        "\n",
        "  return df_data_span"
      ],
      "metadata": {
        "id": "d_DexWNTzw3b"
      },
      "execution_count": null,
      "outputs": []
    },
    {
      "cell_type": "code",
      "source": [
        "df_data_span"
      ],
      "metadata": {
        "colab": {
          "base_uri": "https://localhost:8080/",
          "height": 423
        },
        "id": "zAk-f2_RcgY_",
        "outputId": "42cbdd26-1bd6-4670-db8d-d30e587a0f70"
      },
      "execution_count": null,
      "outputs": [
        {
          "output_type": "execute_result",
          "data": {
            "text/plain": [
              "                                                    Text Label\n",
              "0      Es imposible quererte más @ Plaza Del Callao -...     0\n",
              "1      Disfrutando de buena comida con buena compañía...     4\n",
              "2      Muchísimas Felicidades M!!! Nos vemos pronto! ...    11\n",
              "3      Y pensar que a esta persona la conozco de hace...    11\n",
              "4      ¡Que buenas son las noches así y que buena com...    17\n",
              "...                                                  ...   ...\n",
              "81160  Cena en Madrid. Plan perfecto para descansar d...     1\n",
              "81161  Cuando este triste miraré esta batalla de gall...     2\n",
              "81162  @user cooooomoooo me hueeeeeleeeee a olviiiido...     5\n",
              "81163         Mi amor @ Bar Concha Velasco Almendralejo      0\n",
              "81164  Por todo lo que nos queda por vivir @ Residenc...     3\n",
              "\n",
              "[81165 rows x 2 columns]"
            ],
            "text/html": [
              "\n",
              "  <div id=\"df-c98ecdc3-e46a-422e-9818-511aa86fe072\">\n",
              "    <div class=\"colab-df-container\">\n",
              "      <div>\n",
              "<style scoped>\n",
              "    .dataframe tbody tr th:only-of-type {\n",
              "        vertical-align: middle;\n",
              "    }\n",
              "\n",
              "    .dataframe tbody tr th {\n",
              "        vertical-align: top;\n",
              "    }\n",
              "\n",
              "    .dataframe thead th {\n",
              "        text-align: right;\n",
              "    }\n",
              "</style>\n",
              "<table border=\"1\" class=\"dataframe\">\n",
              "  <thead>\n",
              "    <tr style=\"text-align: right;\">\n",
              "      <th></th>\n",
              "      <th>Text</th>\n",
              "      <th>Label</th>\n",
              "    </tr>\n",
              "  </thead>\n",
              "  <tbody>\n",
              "    <tr>\n",
              "      <th>0</th>\n",
              "      <td>Es imposible quererte más @ Plaza Del Callao -...</td>\n",
              "      <td>0</td>\n",
              "    </tr>\n",
              "    <tr>\n",
              "      <th>1</th>\n",
              "      <td>Disfrutando de buena comida con buena compañía...</td>\n",
              "      <td>4</td>\n",
              "    </tr>\n",
              "    <tr>\n",
              "      <th>2</th>\n",
              "      <td>Muchísimas Felicidades M!!! Nos vemos pronto! ...</td>\n",
              "      <td>11</td>\n",
              "    </tr>\n",
              "    <tr>\n",
              "      <th>3</th>\n",
              "      <td>Y pensar que a esta persona la conozco de hace...</td>\n",
              "      <td>11</td>\n",
              "    </tr>\n",
              "    <tr>\n",
              "      <th>4</th>\n",
              "      <td>¡Que buenas son las noches así y que buena com...</td>\n",
              "      <td>17</td>\n",
              "    </tr>\n",
              "    <tr>\n",
              "      <th>...</th>\n",
              "      <td>...</td>\n",
              "      <td>...</td>\n",
              "    </tr>\n",
              "    <tr>\n",
              "      <th>81160</th>\n",
              "      <td>Cena en Madrid. Plan perfecto para descansar d...</td>\n",
              "      <td>1</td>\n",
              "    </tr>\n",
              "    <tr>\n",
              "      <th>81161</th>\n",
              "      <td>Cuando este triste miraré esta batalla de gall...</td>\n",
              "      <td>2</td>\n",
              "    </tr>\n",
              "    <tr>\n",
              "      <th>81162</th>\n",
              "      <td>@user cooooomoooo me hueeeeeleeeee a olviiiido...</td>\n",
              "      <td>5</td>\n",
              "    </tr>\n",
              "    <tr>\n",
              "      <th>81163</th>\n",
              "      <td>Mi amor @ Bar Concha Velasco Almendralejo</td>\n",
              "      <td>0</td>\n",
              "    </tr>\n",
              "    <tr>\n",
              "      <th>81164</th>\n",
              "      <td>Por todo lo que nos queda por vivir @ Residenc...</td>\n",
              "      <td>3</td>\n",
              "    </tr>\n",
              "  </tbody>\n",
              "</table>\n",
              "<p>81165 rows × 2 columns</p>\n",
              "</div>\n",
              "      <button class=\"colab-df-convert\" onclick=\"convertToInteractive('df-c98ecdc3-e46a-422e-9818-511aa86fe072')\"\n",
              "              title=\"Convert this dataframe to an interactive table.\"\n",
              "              style=\"display:none;\">\n",
              "        \n",
              "  <svg xmlns=\"http://www.w3.org/2000/svg\" height=\"24px\"viewBox=\"0 0 24 24\"\n",
              "       width=\"24px\">\n",
              "    <path d=\"M0 0h24v24H0V0z\" fill=\"none\"/>\n",
              "    <path d=\"M18.56 5.44l.94 2.06.94-2.06 2.06-.94-2.06-.94-.94-2.06-.94 2.06-2.06.94zm-11 1L8.5 8.5l.94-2.06 2.06-.94-2.06-.94L8.5 2.5l-.94 2.06-2.06.94zm10 10l.94 2.06.94-2.06 2.06-.94-2.06-.94-.94-2.06-.94 2.06-2.06.94z\"/><path d=\"M17.41 7.96l-1.37-1.37c-.4-.4-.92-.59-1.43-.59-.52 0-1.04.2-1.43.59L10.3 9.45l-7.72 7.72c-.78.78-.78 2.05 0 2.83L4 21.41c.39.39.9.59 1.41.59.51 0 1.02-.2 1.41-.59l7.78-7.78 2.81-2.81c.8-.78.8-2.07 0-2.86zM5.41 20L4 18.59l7.72-7.72 1.47 1.35L5.41 20z\"/>\n",
              "  </svg>\n",
              "      </button>\n",
              "      \n",
              "  <style>\n",
              "    .colab-df-container {\n",
              "      display:flex;\n",
              "      flex-wrap:wrap;\n",
              "      gap: 12px;\n",
              "    }\n",
              "\n",
              "    .colab-df-convert {\n",
              "      background-color: #E8F0FE;\n",
              "      border: none;\n",
              "      border-radius: 50%;\n",
              "      cursor: pointer;\n",
              "      display: none;\n",
              "      fill: #1967D2;\n",
              "      height: 32px;\n",
              "      padding: 0 0 0 0;\n",
              "      width: 32px;\n",
              "    }\n",
              "\n",
              "    .colab-df-convert:hover {\n",
              "      background-color: #E2EBFA;\n",
              "      box-shadow: 0px 1px 2px rgba(60, 64, 67, 0.3), 0px 1px 3px 1px rgba(60, 64, 67, 0.15);\n",
              "      fill: #174EA6;\n",
              "    }\n",
              "\n",
              "    [theme=dark] .colab-df-convert {\n",
              "      background-color: #3B4455;\n",
              "      fill: #D2E3FC;\n",
              "    }\n",
              "\n",
              "    [theme=dark] .colab-df-convert:hover {\n",
              "      background-color: #434B5C;\n",
              "      box-shadow: 0px 1px 3px 1px rgba(0, 0, 0, 0.15);\n",
              "      filter: drop-shadow(0px 1px 2px rgba(0, 0, 0, 0.3));\n",
              "      fill: #FFFFFF;\n",
              "    }\n",
              "  </style>\n",
              "\n",
              "      <script>\n",
              "        const buttonEl =\n",
              "          document.querySelector('#df-c98ecdc3-e46a-422e-9818-511aa86fe072 button.colab-df-convert');\n",
              "        buttonEl.style.display =\n",
              "          google.colab.kernel.accessAllowed ? 'block' : 'none';\n",
              "\n",
              "        async function convertToInteractive(key) {\n",
              "          const element = document.querySelector('#df-c98ecdc3-e46a-422e-9818-511aa86fe072');\n",
              "          const dataTable =\n",
              "            await google.colab.kernel.invokeFunction('convertToInteractive',\n",
              "                                                     [key], {});\n",
              "          if (!dataTable) return;\n",
              "\n",
              "          const docLinkHtml = 'Like what you see? Visit the ' +\n",
              "            '<a target=\"_blank\" href=https://colab.research.google.com/notebooks/data_table.ipynb>data table notebook</a>'\n",
              "            + ' to learn more about interactive tables.';\n",
              "          element.innerHTML = '';\n",
              "          dataTable['output_type'] = 'display_data';\n",
              "          await google.colab.output.renderOutput(dataTable, element);\n",
              "          const docLink = document.createElement('div');\n",
              "          docLink.innerHTML = docLinkHtml;\n",
              "          element.appendChild(docLink);\n",
              "        }\n",
              "      </script>\n",
              "    </div>\n",
              "  </div>\n",
              "  "
            ]
          },
          "metadata": {},
          "execution_count": 14
        }
      ]
    },
    {
      "cell_type": "code",
      "source": [
        "df_data_span = mod_span_label(df_data_span)"
      ],
      "metadata": {
        "id": "XqZHvOGV2fDN"
      },
      "execution_count": null,
      "outputs": []
    },
    {
      "cell_type": "code",
      "source": [
        "df_data_span"
      ],
      "metadata": {
        "colab": {
          "base_uri": "https://localhost:8080/",
          "height": 423
        },
        "id": "u9R6MGydpLOU",
        "outputId": "6911aeb7-9bc8-422d-d846-de27b819fcd8"
      },
      "execution_count": null,
      "outputs": [
        {
          "output_type": "execute_result",
          "data": {
            "text/plain": [
              "                                                    Text Label\n",
              "0      Es imposible quererte más @ Plaza Del Callao -...     0\n",
              "1      Disfrutando de buena comida con buena compañía...     4\n",
              "2      Muchísimas Felicidades M!!! Nos vemos pronto! ...    11\n",
              "3      Y pensar que a esta persona la conozco de hace...    11\n",
              "4      ¡Que buenas son las noches así y que buena com...    17\n",
              "...                                                  ...   ...\n",
              "81160  Cena en Madrid. Plan perfecto para descansar d...     1\n",
              "81161  Cuando este triste miraré esta batalla de gall...     2\n",
              "81162  @user cooooomoooo me hueeeeeleeeee a olviiiido...     5\n",
              "81163         Mi amor @ Bar Concha Velasco Almendralejo      0\n",
              "81164  Por todo lo que nos queda por vivir @ Residenc...     3\n",
              "\n",
              "[81165 rows x 2 columns]"
            ],
            "text/html": [
              "\n",
              "  <div id=\"df-8bec3421-cfe5-4776-ba28-f64b20fc5aeb\">\n",
              "    <div class=\"colab-df-container\">\n",
              "      <div>\n",
              "<style scoped>\n",
              "    .dataframe tbody tr th:only-of-type {\n",
              "        vertical-align: middle;\n",
              "    }\n",
              "\n",
              "    .dataframe tbody tr th {\n",
              "        vertical-align: top;\n",
              "    }\n",
              "\n",
              "    .dataframe thead th {\n",
              "        text-align: right;\n",
              "    }\n",
              "</style>\n",
              "<table border=\"1\" class=\"dataframe\">\n",
              "  <thead>\n",
              "    <tr style=\"text-align: right;\">\n",
              "      <th></th>\n",
              "      <th>Text</th>\n",
              "      <th>Label</th>\n",
              "    </tr>\n",
              "  </thead>\n",
              "  <tbody>\n",
              "    <tr>\n",
              "      <th>0</th>\n",
              "      <td>Es imposible quererte más @ Plaza Del Callao -...</td>\n",
              "      <td>0</td>\n",
              "    </tr>\n",
              "    <tr>\n",
              "      <th>1</th>\n",
              "      <td>Disfrutando de buena comida con buena compañía...</td>\n",
              "      <td>4</td>\n",
              "    </tr>\n",
              "    <tr>\n",
              "      <th>2</th>\n",
              "      <td>Muchísimas Felicidades M!!! Nos vemos pronto! ...</td>\n",
              "      <td>11</td>\n",
              "    </tr>\n",
              "    <tr>\n",
              "      <th>3</th>\n",
              "      <td>Y pensar que a esta persona la conozco de hace...</td>\n",
              "      <td>11</td>\n",
              "    </tr>\n",
              "    <tr>\n",
              "      <th>4</th>\n",
              "      <td>¡Que buenas son las noches así y que buena com...</td>\n",
              "      <td>17</td>\n",
              "    </tr>\n",
              "    <tr>\n",
              "      <th>...</th>\n",
              "      <td>...</td>\n",
              "      <td>...</td>\n",
              "    </tr>\n",
              "    <tr>\n",
              "      <th>81160</th>\n",
              "      <td>Cena en Madrid. Plan perfecto para descansar d...</td>\n",
              "      <td>1</td>\n",
              "    </tr>\n",
              "    <tr>\n",
              "      <th>81161</th>\n",
              "      <td>Cuando este triste miraré esta batalla de gall...</td>\n",
              "      <td>2</td>\n",
              "    </tr>\n",
              "    <tr>\n",
              "      <th>81162</th>\n",
              "      <td>@user cooooomoooo me hueeeeeleeeee a olviiiido...</td>\n",
              "      <td>5</td>\n",
              "    </tr>\n",
              "    <tr>\n",
              "      <th>81163</th>\n",
              "      <td>Mi amor @ Bar Concha Velasco Almendralejo</td>\n",
              "      <td>0</td>\n",
              "    </tr>\n",
              "    <tr>\n",
              "      <th>81164</th>\n",
              "      <td>Por todo lo que nos queda por vivir @ Residenc...</td>\n",
              "      <td>3</td>\n",
              "    </tr>\n",
              "  </tbody>\n",
              "</table>\n",
              "<p>81165 rows × 2 columns</p>\n",
              "</div>\n",
              "      <button class=\"colab-df-convert\" onclick=\"convertToInteractive('df-8bec3421-cfe5-4776-ba28-f64b20fc5aeb')\"\n",
              "              title=\"Convert this dataframe to an interactive table.\"\n",
              "              style=\"display:none;\">\n",
              "        \n",
              "  <svg xmlns=\"http://www.w3.org/2000/svg\" height=\"24px\"viewBox=\"0 0 24 24\"\n",
              "       width=\"24px\">\n",
              "    <path d=\"M0 0h24v24H0V0z\" fill=\"none\"/>\n",
              "    <path d=\"M18.56 5.44l.94 2.06.94-2.06 2.06-.94-2.06-.94-.94-2.06-.94 2.06-2.06.94zm-11 1L8.5 8.5l.94-2.06 2.06-.94-2.06-.94L8.5 2.5l-.94 2.06-2.06.94zm10 10l.94 2.06.94-2.06 2.06-.94-2.06-.94-.94-2.06-.94 2.06-2.06.94z\"/><path d=\"M17.41 7.96l-1.37-1.37c-.4-.4-.92-.59-1.43-.59-.52 0-1.04.2-1.43.59L10.3 9.45l-7.72 7.72c-.78.78-.78 2.05 0 2.83L4 21.41c.39.39.9.59 1.41.59.51 0 1.02-.2 1.41-.59l7.78-7.78 2.81-2.81c.8-.78.8-2.07 0-2.86zM5.41 20L4 18.59l7.72-7.72 1.47 1.35L5.41 20z\"/>\n",
              "  </svg>\n",
              "      </button>\n",
              "      \n",
              "  <style>\n",
              "    .colab-df-container {\n",
              "      display:flex;\n",
              "      flex-wrap:wrap;\n",
              "      gap: 12px;\n",
              "    }\n",
              "\n",
              "    .colab-df-convert {\n",
              "      background-color: #E8F0FE;\n",
              "      border: none;\n",
              "      border-radius: 50%;\n",
              "      cursor: pointer;\n",
              "      display: none;\n",
              "      fill: #1967D2;\n",
              "      height: 32px;\n",
              "      padding: 0 0 0 0;\n",
              "      width: 32px;\n",
              "    }\n",
              "\n",
              "    .colab-df-convert:hover {\n",
              "      background-color: #E2EBFA;\n",
              "      box-shadow: 0px 1px 2px rgba(60, 64, 67, 0.3), 0px 1px 3px 1px rgba(60, 64, 67, 0.15);\n",
              "      fill: #174EA6;\n",
              "    }\n",
              "\n",
              "    [theme=dark] .colab-df-convert {\n",
              "      background-color: #3B4455;\n",
              "      fill: #D2E3FC;\n",
              "    }\n",
              "\n",
              "    [theme=dark] .colab-df-convert:hover {\n",
              "      background-color: #434B5C;\n",
              "      box-shadow: 0px 1px 3px 1px rgba(0, 0, 0, 0.15);\n",
              "      filter: drop-shadow(0px 1px 2px rgba(0, 0, 0, 0.3));\n",
              "      fill: #FFFFFF;\n",
              "    }\n",
              "  </style>\n",
              "\n",
              "      <script>\n",
              "        const buttonEl =\n",
              "          document.querySelector('#df-8bec3421-cfe5-4776-ba28-f64b20fc5aeb button.colab-df-convert');\n",
              "        buttonEl.style.display =\n",
              "          google.colab.kernel.accessAllowed ? 'block' : 'none';\n",
              "\n",
              "        async function convertToInteractive(key) {\n",
              "          const element = document.querySelector('#df-8bec3421-cfe5-4776-ba28-f64b20fc5aeb');\n",
              "          const dataTable =\n",
              "            await google.colab.kernel.invokeFunction('convertToInteractive',\n",
              "                                                     [key], {});\n",
              "          if (!dataTable) return;\n",
              "\n",
              "          const docLinkHtml = 'Like what you see? Visit the ' +\n",
              "            '<a target=\"_blank\" href=https://colab.research.google.com/notebooks/data_table.ipynb>data table notebook</a>'\n",
              "            + ' to learn more about interactive tables.';\n",
              "          element.innerHTML = '';\n",
              "          dataTable['output_type'] = 'display_data';\n",
              "          await google.colab.output.renderOutput(dataTable, element);\n",
              "          const docLink = document.createElement('div');\n",
              "          docLink.innerHTML = docLinkHtml;\n",
              "          element.appendChild(docLink);\n",
              "        }\n",
              "      </script>\n",
              "    </div>\n",
              "  </div>\n",
              "  "
            ]
          },
          "metadata": {},
          "execution_count": 16
        }
      ]
    },
    {
      "cell_type": "code",
      "source": [
        "import pandas as pd\n",
        "df_data_eng = pd.DataFrame(list(zip(text_lst_eng, labels_lst_eng)),\n",
        "               columns =['Text', 'Label'])"
      ],
      "metadata": {
        "id": "b7wEuEiRPpQ3"
      },
      "execution_count": 12,
      "outputs": []
    },
    {
      "cell_type": "code",
      "source": [
        "df_data_eng"
      ],
      "metadata": {
        "colab": {
          "base_uri": "https://localhost:8080/",
          "height": 423
        },
        "id": "Je8txvfVP-1x",
        "outputId": "61bfd4b8-2c7d-4677-fa79-ff6c55b2b74c"
      },
      "execution_count": 13,
      "outputs": [
        {
          "output_type": "execute_result",
          "data": {
            "text/plain": [
              "                                                     Text Label\n",
              "0          Step out and explore. # ️ @ Ellis Island Cafe      0\n",
              "1                   @user @ Cathedral Preparatory School     18\n",
              "2       RuPaul's Drag Race bingo fun. Drag Queens be S...     9\n",
              "3       Black History like a Mufffffaaaaaka #blacchyna...     2\n",
              "4                        @ BJ's Restaurant and Brewhouse      8\n",
              "...                                                   ...   ...\n",
              "385270  Couldn't be more stoked to see mama tayblazesc...     9\n",
              "385271  Dinner indian food (@ Bombay Curry in Melbourne)      1\n",
              "385272                       'Tis the season @ Starbucks     17\n",
              "385273  We voted! #election2016 #vote #proudtobeanamer...    11\n",
              "385274  Retired Jerseys, where's Chris Webber's jersey...    19\n",
              "\n",
              "[385275 rows x 2 columns]"
            ],
            "text/html": [
              "\n",
              "  <div id=\"df-d53116f6-392e-415f-9313-dc1ccfa14752\">\n",
              "    <div class=\"colab-df-container\">\n",
              "      <div>\n",
              "<style scoped>\n",
              "    .dataframe tbody tr th:only-of-type {\n",
              "        vertical-align: middle;\n",
              "    }\n",
              "\n",
              "    .dataframe tbody tr th {\n",
              "        vertical-align: top;\n",
              "    }\n",
              "\n",
              "    .dataframe thead th {\n",
              "        text-align: right;\n",
              "    }\n",
              "</style>\n",
              "<table border=\"1\" class=\"dataframe\">\n",
              "  <thead>\n",
              "    <tr style=\"text-align: right;\">\n",
              "      <th></th>\n",
              "      <th>Text</th>\n",
              "      <th>Label</th>\n",
              "    </tr>\n",
              "  </thead>\n",
              "  <tbody>\n",
              "    <tr>\n",
              "      <th>0</th>\n",
              "      <td>Step out and explore. # ️ @ Ellis Island Cafe</td>\n",
              "      <td>0</td>\n",
              "    </tr>\n",
              "    <tr>\n",
              "      <th>1</th>\n",
              "      <td>@user @ Cathedral Preparatory School</td>\n",
              "      <td>18</td>\n",
              "    </tr>\n",
              "    <tr>\n",
              "      <th>2</th>\n",
              "      <td>RuPaul's Drag Race bingo fun. Drag Queens be S...</td>\n",
              "      <td>9</td>\n",
              "    </tr>\n",
              "    <tr>\n",
              "      <th>3</th>\n",
              "      <td>Black History like a Mufffffaaaaaka #blacchyna...</td>\n",
              "      <td>2</td>\n",
              "    </tr>\n",
              "    <tr>\n",
              "      <th>4</th>\n",
              "      <td>@ BJ's Restaurant and Brewhouse</td>\n",
              "      <td>8</td>\n",
              "    </tr>\n",
              "    <tr>\n",
              "      <th>...</th>\n",
              "      <td>...</td>\n",
              "      <td>...</td>\n",
              "    </tr>\n",
              "    <tr>\n",
              "      <th>385270</th>\n",
              "      <td>Couldn't be more stoked to see mama tayblazesc...</td>\n",
              "      <td>9</td>\n",
              "    </tr>\n",
              "    <tr>\n",
              "      <th>385271</th>\n",
              "      <td>Dinner indian food (@ Bombay Curry in Melbourne)</td>\n",
              "      <td>1</td>\n",
              "    </tr>\n",
              "    <tr>\n",
              "      <th>385272</th>\n",
              "      <td>'Tis the season @ Starbucks</td>\n",
              "      <td>17</td>\n",
              "    </tr>\n",
              "    <tr>\n",
              "      <th>385273</th>\n",
              "      <td>We voted! #election2016 #vote #proudtobeanamer...</td>\n",
              "      <td>11</td>\n",
              "    </tr>\n",
              "    <tr>\n",
              "      <th>385274</th>\n",
              "      <td>Retired Jerseys, where's Chris Webber's jersey...</td>\n",
              "      <td>19</td>\n",
              "    </tr>\n",
              "  </tbody>\n",
              "</table>\n",
              "<p>385275 rows × 2 columns</p>\n",
              "</div>\n",
              "      <button class=\"colab-df-convert\" onclick=\"convertToInteractive('df-d53116f6-392e-415f-9313-dc1ccfa14752')\"\n",
              "              title=\"Convert this dataframe to an interactive table.\"\n",
              "              style=\"display:none;\">\n",
              "        \n",
              "  <svg xmlns=\"http://www.w3.org/2000/svg\" height=\"24px\"viewBox=\"0 0 24 24\"\n",
              "       width=\"24px\">\n",
              "    <path d=\"M0 0h24v24H0V0z\" fill=\"none\"/>\n",
              "    <path d=\"M18.56 5.44l.94 2.06.94-2.06 2.06-.94-2.06-.94-.94-2.06-.94 2.06-2.06.94zm-11 1L8.5 8.5l.94-2.06 2.06-.94-2.06-.94L8.5 2.5l-.94 2.06-2.06.94zm10 10l.94 2.06.94-2.06 2.06-.94-2.06-.94-.94-2.06-.94 2.06-2.06.94z\"/><path d=\"M17.41 7.96l-1.37-1.37c-.4-.4-.92-.59-1.43-.59-.52 0-1.04.2-1.43.59L10.3 9.45l-7.72 7.72c-.78.78-.78 2.05 0 2.83L4 21.41c.39.39.9.59 1.41.59.51 0 1.02-.2 1.41-.59l7.78-7.78 2.81-2.81c.8-.78.8-2.07 0-2.86zM5.41 20L4 18.59l7.72-7.72 1.47 1.35L5.41 20z\"/>\n",
              "  </svg>\n",
              "      </button>\n",
              "      \n",
              "  <style>\n",
              "    .colab-df-container {\n",
              "      display:flex;\n",
              "      flex-wrap:wrap;\n",
              "      gap: 12px;\n",
              "    }\n",
              "\n",
              "    .colab-df-convert {\n",
              "      background-color: #E8F0FE;\n",
              "      border: none;\n",
              "      border-radius: 50%;\n",
              "      cursor: pointer;\n",
              "      display: none;\n",
              "      fill: #1967D2;\n",
              "      height: 32px;\n",
              "      padding: 0 0 0 0;\n",
              "      width: 32px;\n",
              "    }\n",
              "\n",
              "    .colab-df-convert:hover {\n",
              "      background-color: #E2EBFA;\n",
              "      box-shadow: 0px 1px 2px rgba(60, 64, 67, 0.3), 0px 1px 3px 1px rgba(60, 64, 67, 0.15);\n",
              "      fill: #174EA6;\n",
              "    }\n",
              "\n",
              "    [theme=dark] .colab-df-convert {\n",
              "      background-color: #3B4455;\n",
              "      fill: #D2E3FC;\n",
              "    }\n",
              "\n",
              "    [theme=dark] .colab-df-convert:hover {\n",
              "      background-color: #434B5C;\n",
              "      box-shadow: 0px 1px 3px 1px rgba(0, 0, 0, 0.15);\n",
              "      filter: drop-shadow(0px 1px 2px rgba(0, 0, 0, 0.3));\n",
              "      fill: #FFFFFF;\n",
              "    }\n",
              "  </style>\n",
              "\n",
              "      <script>\n",
              "        const buttonEl =\n",
              "          document.querySelector('#df-d53116f6-392e-415f-9313-dc1ccfa14752 button.colab-df-convert');\n",
              "        buttonEl.style.display =\n",
              "          google.colab.kernel.accessAllowed ? 'block' : 'none';\n",
              "\n",
              "        async function convertToInteractive(key) {\n",
              "          const element = document.querySelector('#df-d53116f6-392e-415f-9313-dc1ccfa14752');\n",
              "          const dataTable =\n",
              "            await google.colab.kernel.invokeFunction('convertToInteractive',\n",
              "                                                     [key], {});\n",
              "          if (!dataTable) return;\n",
              "\n",
              "          const docLinkHtml = 'Like what you see? Visit the ' +\n",
              "            '<a target=\"_blank\" href=https://colab.research.google.com/notebooks/data_table.ipynb>data table notebook</a>'\n",
              "            + ' to learn more about interactive tables.';\n",
              "          element.innerHTML = '';\n",
              "          dataTable['output_type'] = 'display_data';\n",
              "          await google.colab.output.renderOutput(dataTable, element);\n",
              "          const docLink = document.createElement('div');\n",
              "          docLink.innerHTML = docLinkHtml;\n",
              "          element.appendChild(docLink);\n",
              "        }\n",
              "      </script>\n",
              "    </div>\n",
              "  </div>\n",
              "  "
            ]
          },
          "metadata": {},
          "execution_count": 13
        }
      ]
    },
    {
      "cell_type": "code",
      "source": [
        "df_data_eng.Label.unique().size"
      ],
      "metadata": {
        "colab": {
          "base_uri": "https://localhost:8080/"
        },
        "id": "647AGBBSmglV",
        "outputId": "2cd74ed1-59de-4a5c-a4a2-568ef32ed938"
      },
      "execution_count": 14,
      "outputs": [
        {
          "output_type": "execute_result",
          "data": {
            "text/plain": [
              "20"
            ]
          },
          "metadata": {},
          "execution_count": 14
        }
      ]
    },
    {
      "cell_type": "code",
      "source": [
        "# Get the lists of sentences and their labels.\n",
        "rte_train_sentences = df_data_eng.Text.values\n",
        "rte_train_labels = df_data_eng.Label.values.astype(int)"
      ],
      "metadata": {
        "id": "Wb3yFpWBxVYH"
      },
      "execution_count": 15,
      "outputs": []
    },
    {
      "cell_type": "code",
      "source": [
        "rte_train_sentences"
      ],
      "metadata": {
        "colab": {
          "base_uri": "https://localhost:8080/"
        },
        "id": "PnWK9omhOPnD",
        "outputId": "9b60c3a5-9675-4c33-dabd-2274badefc78"
      },
      "execution_count": null,
      "outputs": [
        {
          "output_type": "execute_result",
          "data": {
            "text/plain": [
              "array(['Step out and explore. # ️ @ Ellis Island Cafe ',\n",
              "       '@user @ Cathedral Preparatory School ',\n",
              "       \"RuPaul's Drag Race bingo fun. Drag Queens be SEXY! #rupaulsdragrace @user abwyman #la… \",\n",
              "       ..., \"'Tis the season @ Starbucks \",\n",
              "       'We voted! #election2016 #vote #proudtobeanamerican #USA @ Brushy Creek Baptist Church ',\n",
              "       \"Retired Jerseys, where's Chris Webber's jersey???? @ Crisler… \"],\n",
              "      dtype=object)"
            ]
          },
          "metadata": {},
          "execution_count": 17
        }
      ]
    },
    {
      "cell_type": "code",
      "source": [
        "rte_train_labels.size"
      ],
      "metadata": {
        "colab": {
          "base_uri": "https://localhost:8080/"
        },
        "id": "c_5C8yHwWgSZ",
        "outputId": "54d31732-473d-4816-8009-47fe085242d4"
      },
      "execution_count": null,
      "outputs": [
        {
          "output_type": "execute_result",
          "data": {
            "text/plain": [
              "385275"
            ]
          },
          "metadata": {},
          "execution_count": 18
        }
      ]
    },
    {
      "cell_type": "markdown",
      "source": [
        "**Load and process test data**"
      ],
      "metadata": {
        "id": "3XoiF6eH2Fud"
      }
    },
    {
      "cell_type": "code",
      "source": [
        "f=open(filepath+'test/us_test.text')\n",
        "docs_test_eng=f.read()\n",
        "text_test_eng = docs_test_eng.split(\"\\n\")"
      ],
      "metadata": {
        "id": "aS1HuK6C2n7G"
      },
      "execution_count": 19,
      "outputs": []
    },
    {
      "cell_type": "code",
      "source": [
        "f=open(filepath+'test/us_test.labels')\n",
        "labels_test_eng=f.read()\n",
        "labels_test_eng = labels_test_eng.split(\"\\n\")"
      ],
      "metadata": {
        "id": "OGls7h723X4q"
      },
      "execution_count": 20,
      "outputs": []
    },
    {
      "cell_type": "code",
      "source": [
        "labels_test_eng = labels_test_eng[:-1]\n",
        "text_test_eng = text_test_eng[:-1]"
      ],
      "metadata": {
        "id": "RqKifQhr3X2g"
      },
      "execution_count": 21,
      "outputs": []
    },
    {
      "cell_type": "code",
      "source": [
        "import pandas as pd\n",
        "df_test_eng = pd.DataFrame(list(zip(text_test_eng, labels_test_eng)),\n",
        "               columns =['Text', 'Label'])"
      ],
      "metadata": {
        "id": "KQuBBsA2Knhs"
      },
      "execution_count": 22,
      "outputs": []
    },
    {
      "cell_type": "code",
      "source": [
        "df_test_eng"
      ],
      "metadata": {
        "colab": {
          "base_uri": "https://localhost:8080/",
          "height": 423
        },
        "id": "CtGH7ZaCLzwA",
        "outputId": "0b0587ce-2795-4a09-d230-bfdba81921a9"
      },
      "execution_count": 23,
      "outputs": [
        {
          "output_type": "execute_result",
          "data": {
            "text/plain": [
              "                                                    Text Label\n",
              "0                                      en Pelham Parkway     2\n",
              "1      The calm before...... | w/ sofarsounds @user |...    10\n",
              "2      Just witnessed the great solar eclipse @ Tampa...     6\n",
              "3      This little lady is 26 weeks pregnant today! E...     1\n",
              "4      Great road trip views! @ Shartlesville, Pennsy...    16\n",
              "...                                                  ...   ...\n",
              "49995  @user @user @user #la #westhollywood #dtboy #l...     5\n",
              "49996  Climbing subway stairs. That was nothing. #sta...    19\n",
              "49997  Pops with Ms Drina at The Swanees Anniversary ...     6\n",
              "49998  We love ️ Soren! July 26, 2017 was her first d...     0\n",
              "49999  Waiting in line for #TheRoom ! #PrepareForDisa...     2\n",
              "\n",
              "[50000 rows x 2 columns]"
            ],
            "text/html": [
              "\n",
              "  <div id=\"df-323e5ac0-4524-4946-8dda-76777d556702\">\n",
              "    <div class=\"colab-df-container\">\n",
              "      <div>\n",
              "<style scoped>\n",
              "    .dataframe tbody tr th:only-of-type {\n",
              "        vertical-align: middle;\n",
              "    }\n",
              "\n",
              "    .dataframe tbody tr th {\n",
              "        vertical-align: top;\n",
              "    }\n",
              "\n",
              "    .dataframe thead th {\n",
              "        text-align: right;\n",
              "    }\n",
              "</style>\n",
              "<table border=\"1\" class=\"dataframe\">\n",
              "  <thead>\n",
              "    <tr style=\"text-align: right;\">\n",
              "      <th></th>\n",
              "      <th>Text</th>\n",
              "      <th>Label</th>\n",
              "    </tr>\n",
              "  </thead>\n",
              "  <tbody>\n",
              "    <tr>\n",
              "      <th>0</th>\n",
              "      <td>en Pelham Parkway</td>\n",
              "      <td>2</td>\n",
              "    </tr>\n",
              "    <tr>\n",
              "      <th>1</th>\n",
              "      <td>The calm before...... | w/ sofarsounds @user |...</td>\n",
              "      <td>10</td>\n",
              "    </tr>\n",
              "    <tr>\n",
              "      <th>2</th>\n",
              "      <td>Just witnessed the great solar eclipse @ Tampa...</td>\n",
              "      <td>6</td>\n",
              "    </tr>\n",
              "    <tr>\n",
              "      <th>3</th>\n",
              "      <td>This little lady is 26 weeks pregnant today! E...</td>\n",
              "      <td>1</td>\n",
              "    </tr>\n",
              "    <tr>\n",
              "      <th>4</th>\n",
              "      <td>Great road trip views! @ Shartlesville, Pennsy...</td>\n",
              "      <td>16</td>\n",
              "    </tr>\n",
              "    <tr>\n",
              "      <th>...</th>\n",
              "      <td>...</td>\n",
              "      <td>...</td>\n",
              "    </tr>\n",
              "    <tr>\n",
              "      <th>49995</th>\n",
              "      <td>@user @user @user #la #westhollywood #dtboy #l...</td>\n",
              "      <td>5</td>\n",
              "    </tr>\n",
              "    <tr>\n",
              "      <th>49996</th>\n",
              "      <td>Climbing subway stairs. That was nothing. #sta...</td>\n",
              "      <td>19</td>\n",
              "    </tr>\n",
              "    <tr>\n",
              "      <th>49997</th>\n",
              "      <td>Pops with Ms Drina at The Swanees Anniversary ...</td>\n",
              "      <td>6</td>\n",
              "    </tr>\n",
              "    <tr>\n",
              "      <th>49998</th>\n",
              "      <td>We love ️ Soren! July 26, 2017 was her first d...</td>\n",
              "      <td>0</td>\n",
              "    </tr>\n",
              "    <tr>\n",
              "      <th>49999</th>\n",
              "      <td>Waiting in line for #TheRoom ! #PrepareForDisa...</td>\n",
              "      <td>2</td>\n",
              "    </tr>\n",
              "  </tbody>\n",
              "</table>\n",
              "<p>50000 rows × 2 columns</p>\n",
              "</div>\n",
              "      <button class=\"colab-df-convert\" onclick=\"convertToInteractive('df-323e5ac0-4524-4946-8dda-76777d556702')\"\n",
              "              title=\"Convert this dataframe to an interactive table.\"\n",
              "              style=\"display:none;\">\n",
              "        \n",
              "  <svg xmlns=\"http://www.w3.org/2000/svg\" height=\"24px\"viewBox=\"0 0 24 24\"\n",
              "       width=\"24px\">\n",
              "    <path d=\"M0 0h24v24H0V0z\" fill=\"none\"/>\n",
              "    <path d=\"M18.56 5.44l.94 2.06.94-2.06 2.06-.94-2.06-.94-.94-2.06-.94 2.06-2.06.94zm-11 1L8.5 8.5l.94-2.06 2.06-.94-2.06-.94L8.5 2.5l-.94 2.06-2.06.94zm10 10l.94 2.06.94-2.06 2.06-.94-2.06-.94-.94-2.06-.94 2.06-2.06.94z\"/><path d=\"M17.41 7.96l-1.37-1.37c-.4-.4-.92-.59-1.43-.59-.52 0-1.04.2-1.43.59L10.3 9.45l-7.72 7.72c-.78.78-.78 2.05 0 2.83L4 21.41c.39.39.9.59 1.41.59.51 0 1.02-.2 1.41-.59l7.78-7.78 2.81-2.81c.8-.78.8-2.07 0-2.86zM5.41 20L4 18.59l7.72-7.72 1.47 1.35L5.41 20z\"/>\n",
              "  </svg>\n",
              "      </button>\n",
              "      \n",
              "  <style>\n",
              "    .colab-df-container {\n",
              "      display:flex;\n",
              "      flex-wrap:wrap;\n",
              "      gap: 12px;\n",
              "    }\n",
              "\n",
              "    .colab-df-convert {\n",
              "      background-color: #E8F0FE;\n",
              "      border: none;\n",
              "      border-radius: 50%;\n",
              "      cursor: pointer;\n",
              "      display: none;\n",
              "      fill: #1967D2;\n",
              "      height: 32px;\n",
              "      padding: 0 0 0 0;\n",
              "      width: 32px;\n",
              "    }\n",
              "\n",
              "    .colab-df-convert:hover {\n",
              "      background-color: #E2EBFA;\n",
              "      box-shadow: 0px 1px 2px rgba(60, 64, 67, 0.3), 0px 1px 3px 1px rgba(60, 64, 67, 0.15);\n",
              "      fill: #174EA6;\n",
              "    }\n",
              "\n",
              "    [theme=dark] .colab-df-convert {\n",
              "      background-color: #3B4455;\n",
              "      fill: #D2E3FC;\n",
              "    }\n",
              "\n",
              "    [theme=dark] .colab-df-convert:hover {\n",
              "      background-color: #434B5C;\n",
              "      box-shadow: 0px 1px 3px 1px rgba(0, 0, 0, 0.15);\n",
              "      filter: drop-shadow(0px 1px 2px rgba(0, 0, 0, 0.3));\n",
              "      fill: #FFFFFF;\n",
              "    }\n",
              "  </style>\n",
              "\n",
              "      <script>\n",
              "        const buttonEl =\n",
              "          document.querySelector('#df-323e5ac0-4524-4946-8dda-76777d556702 button.colab-df-convert');\n",
              "        buttonEl.style.display =\n",
              "          google.colab.kernel.accessAllowed ? 'block' : 'none';\n",
              "\n",
              "        async function convertToInteractive(key) {\n",
              "          const element = document.querySelector('#df-323e5ac0-4524-4946-8dda-76777d556702');\n",
              "          const dataTable =\n",
              "            await google.colab.kernel.invokeFunction('convertToInteractive',\n",
              "                                                     [key], {});\n",
              "          if (!dataTable) return;\n",
              "\n",
              "          const docLinkHtml = 'Like what you see? Visit the ' +\n",
              "            '<a target=\"_blank\" href=https://colab.research.google.com/notebooks/data_table.ipynb>data table notebook</a>'\n",
              "            + ' to learn more about interactive tables.';\n",
              "          element.innerHTML = '';\n",
              "          dataTable['output_type'] = 'display_data';\n",
              "          await google.colab.output.renderOutput(dataTable, element);\n",
              "          const docLink = document.createElement('div');\n",
              "          docLink.innerHTML = docLinkHtml;\n",
              "          element.appendChild(docLink);\n",
              "        }\n",
              "      </script>\n",
              "    </div>\n",
              "  </div>\n",
              "  "
            ]
          },
          "metadata": {},
          "execution_count": 23
        }
      ]
    },
    {
      "cell_type": "code",
      "source": [
        "# Get the lists of sentences and their labels.\n",
        "rte_test_sentences = df_test_eng.Text.values\n",
        "rte_test_labels = df_test_eng.Label.values.astype(int)"
      ],
      "metadata": {
        "id": "ziqXLOsyMwB_"
      },
      "execution_count": 24,
      "outputs": []
    },
    {
      "cell_type": "markdown",
      "source": [
        "**Start training**"
      ],
      "metadata": {
        "id": "n3mChpu82umW"
      }
    },
    {
      "cell_type": "markdown",
      "source": [
        "**Tokenizer**\n",
        "We load the tokenizer using autotokenizer here but the same can be done using 'DebertaV2Tokenizer'. When you are using the second one, we need to install sentence pipe before installing transformers to avoid errors."
      ],
      "metadata": {
        "id": "RBaiZWeKmzFe"
      }
    },
    {
      "cell_type": "code",
      "source": [
        "from transformers import AutoTokenizer\n",
        "from transformers import DebertaV2Tokenizer, DebertaV2ForSequenceClassification\n",
        "import torch\n",
        "checkpoint = 'microsoft/mdeberta-v3-base'\n",
        "#tokenizer_mdeberta = DebertaV2Tokenizer.from_pretrained(checkpoint) #can use either\n",
        "tokenizer_mdeberta = AutoTokenizer.from_pretrained(checkpoint, do_lower_case=True)"
      ],
      "metadata": {
        "colab": {
          "base_uri": "https://localhost:8080/",
          "height": 131,
          "referenced_widgets": [
            "45071918a7b24b9ab0ec12bee05833e8",
            "2ad25917a32149e49a39002aa78adcb4",
            "34514bb6e0274e9e8aca941e78a795a3",
            "987b6ba03c524b79b440effd4fe2a9ab",
            "be896b74b81e450dad429c50a83e5985",
            "529f3e40155d4661a479c4403469f96b",
            "722fa88620944e7c9e9dffa891332f8e",
            "9ffca6b2f7cf40fb91058a620ad6092f",
            "263e423cee364ce2807da2b62a2e2e18",
            "b9bc143b58664a36803f39315657cdb9",
            "ccfe3468186645c88f41294686c9541f",
            "38bba40c683b48a09362010b9c080131",
            "4ec8cdadcff74e15a55162d72a9b857f",
            "af92a33bb912409fab531b44115ccccb",
            "bc05af1021a2445c8ae698d8ef9fb83d",
            "b5ac4a557234491d9b31cef6b8c4c25d",
            "0ae90a92d04e4f23b3132c9f6d44818a",
            "31ac5fbf6cf446b1925a599e9c7540cf",
            "f0d87dad61554463ada54ccc3aaf1ce0",
            "6d8965aca3234e9887cf5a9c9cefe1fc",
            "4df6ff27319949c99cc1940cdf4547df",
            "c0c38710273e4503816555f2938d766f",
            "b3abb7f14d6d4d8697919e96211fe146",
            "86b404a7125a45fa99cc00b1a1f67fe6",
            "4c1733ebc7e546f9a7efda8477f01e0c",
            "d103224481de4ba7911bcade7a2668b3",
            "ac5ef8cb2fe84dc4927c9b738348784f",
            "eb3e686d1237449e9ae4e7cc3d2cd241",
            "290b6c1c19bf49918e8c9e6284e5fe8f",
            "1437d5e9a3d34179b7ee21c397beaefa",
            "cd600cb9460a4861a697ecc62776dd39",
            "3ead0451512141f8a71aab18310e1c20",
            "2a940184cd9141c0b97b2063bc24684d"
          ]
        },
        "id": "k_SnFuTUftx9",
        "outputId": "e49a3d21-a103-43f2-d89c-050dfac0ebcc"
      },
      "execution_count": 18,
      "outputs": [
        {
          "output_type": "display_data",
          "data": {
            "text/plain": [
              "Downloading:   0%|          | 0.00/52.0 [00:00<?, ?B/s]"
            ],
            "application/vnd.jupyter.widget-view+json": {
              "version_major": 2,
              "version_minor": 0,
              "model_id": "45071918a7b24b9ab0ec12bee05833e8"
            }
          },
          "metadata": {}
        },
        {
          "output_type": "display_data",
          "data": {
            "text/plain": [
              "Downloading:   0%|          | 0.00/579 [00:00<?, ?B/s]"
            ],
            "application/vnd.jupyter.widget-view+json": {
              "version_major": 2,
              "version_minor": 0,
              "model_id": "38bba40c683b48a09362010b9c080131"
            }
          },
          "metadata": {}
        },
        {
          "output_type": "display_data",
          "data": {
            "text/plain": [
              "Downloading:   0%|          | 0.00/4.11M [00:00<?, ?B/s]"
            ],
            "application/vnd.jupyter.widget-view+json": {
              "version_major": 2,
              "version_minor": 0,
              "model_id": "b3abb7f14d6d4d8697919e96211fe146"
            }
          },
          "metadata": {}
        },
        {
          "output_type": "stream",
          "name": "stderr",
          "text": [
            "Special tokens have been added in the vocabulary, make sure the associated word embeddings are fine-tuned or trained.\n"
          ]
        }
      ]
    },
    {
      "cell_type": "code",
      "source": [
        "max_len = 0\n",
        "\n",
        "# For every sentence...\n",
        "for sent1 in rte_train_sentences:\n",
        "\n",
        "    # Tokenize the text and add `[CLS]` and `[SEP]` tokens.\n",
        "    input_ids = tokenizer_mdeberta.encode(sent1, add_special_tokens=True)\n",
        "    #print(sent1,sent2)\n",
        "    #print(input_ids)\n",
        "\n",
        "    # Update the maximum sentence length.\n",
        "    max_len = max(max_len, len(input_ids))\n",
        "\n",
        "print('Max sentence length: ', max_len)"
      ],
      "metadata": {
        "id": "N9DOSwt4wzt-",
        "colab": {
          "base_uri": "https://localhost:8080/"
        },
        "outputId": "281f8983-813c-4ba0-c663-8c6f0a0cf860"
      },
      "execution_count": null,
      "outputs": [
        {
          "output_type": "stream",
          "name": "stdout",
          "text": [
            "Max sentence length:  76\n"
          ]
        }
      ]
    },
    {
      "cell_type": "code",
      "source": [
        "import torch\n",
        "\n",
        "# If there's a GPU available...\n",
        "if torch.cuda.is_available():    \n",
        "\n",
        "    # Tell PyTorch to use the GPU.    \n",
        "    device = torch.device(\"cuda\")\n",
        "\n",
        "    print('There are %d GPU(s) available.' % torch.cuda.device_count())\n",
        "\n",
        "    print('We will use the GPU:', torch.cuda.get_device_name(0))\n",
        "\n",
        "# If not...\n",
        "else:\n",
        "    print('No GPU available, using the CPU instead.')\n",
        "    device = torch.device(\"cpu\")"
      ],
      "metadata": {
        "id": "D8lkEXH6w-Dm",
        "colab": {
          "base_uri": "https://localhost:8080/"
        },
        "outputId": "50d1327b-27c0-4ec1-888d-03e4962627bf"
      },
      "execution_count": 17,
      "outputs": [
        {
          "output_type": "stream",
          "name": "stdout",
          "text": [
            "There are 1 GPU(s) available.\n",
            "We will use the GPU: Tesla T4\n"
          ]
        }
      ]
    },
    {
      "cell_type": "markdown",
      "source": [
        "**Preprocessing**\n",
        "Here we used the sentence max length as 150 since the tweets we use for training are from 2015-2017 when twitter character limit was 140. To ensure no truncation is done even after adding the special tokens, a max length of 150 is chosen. Not all models output token_type_ids.(check for the model attributes before running)."
      ],
      "metadata": {
        "id": "DqDQuB3hnY0P"
      }
    },
    {
      "cell_type": "code",
      "source": [
        "import torch\n",
        "def process_trainingdata(tokenizer,training_set,train_labels):\n",
        "  # Tokenize all of the sentences and map the tokens to thier word IDs.\n",
        "  input_ids = []\n",
        "  attention_masks = []\n",
        "  token_type_ids=[]\n",
        "\n",
        "  # For every sentence...\n",
        "  for sent1 in training_set:\n",
        "    encoded_dict = tokenizer(\n",
        "                        sent1,                      # Sentence to encode.\n",
        "                        add_special_tokens = True, # Add '[CLS]' and '[SEP]'\n",
        "                        max_length = 150,           # Pad & truncate all sentences.\n",
        "                        pad_to_max_length = True,\n",
        "                        return_attention_mask = True,   # Construct attn. masks.\n",
        "                        return_tensors = 'pt',     # Return pytorch tensors.\n",
        "                   )\n",
        "    \n",
        "    # Add the encoded sentence to the list.    \n",
        "    input_ids.append(encoded_dict['input_ids'])\n",
        "    \n",
        "    # And its attention mask (simply differentiates padding from non-padding).\n",
        "    attention_masks.append(encoded_dict['attention_mask'])\n",
        "    token_type_ids.append(encoded_dict['token_type_ids'])\n",
        "\n",
        "  # Convert the lists into tensors.\n",
        "  input_ids = torch.cat(input_ids, dim=0)\n",
        "  attention_masks = torch.cat(attention_masks, dim=0)\n",
        "  token_type_ids = torch.cat(token_type_ids, dim=0)\n",
        "  labels = torch.tensor(train_labels)\n",
        "\n",
        "  # Print sentence 0, now as a list of IDs.\n",
        "  print('Original: ', training_set[0])\n",
        "  print('Token IDs:', input_ids[0])\n",
        "  #print('Toke type ids:', token_type_ids[0])\n",
        "  return input_ids,attention_masks,labels"
      ],
      "metadata": {
        "id": "uoFS2IftxeJX"
      },
      "execution_count": 16,
      "outputs": []
    },
    {
      "cell_type": "code",
      "source": [
        "input_ids_mdeberta,attention_masks_mdeberta,labels_mdeberta = process_trainingdata(tokenizer_mdeberta,rte_train_sentences,rte_train_labels)"
      ],
      "metadata": {
        "colab": {
          "base_uri": "https://localhost:8080/"
        },
        "id": "9PL2_NaoRKKv",
        "outputId": "9a0d21b2-4190-433c-af62-25f4384d5fad"
      },
      "execution_count": null,
      "outputs": [
        {
          "output_type": "stream",
          "name": "stderr",
          "text": [
            "Truncation was not explicitly activated but `max_length` is provided a specific value, please use `truncation=True` to explicitly truncate examples to max length. Defaulting to 'longest_first' truncation strategy. If you encode pairs of sequences (GLUE-style) with the tokenizer you can select this strategy more precisely by providing a specific strategy to `truncation`.\n",
            "/usr/local/lib/python3.7/dist-packages/transformers/tokenization_utils_base.py:2269: FutureWarning: The `pad_to_max_length` argument is deprecated and will be removed in a future version, use `padding=True` or `padding='longest'` to pad to the longest sequence in the batch, or use `padding='max_length'` to pad to a max length. In this case, you can give a specific length with `max_length` (e.g. `max_length=45`) or leave max_length to None to pad to the maximal input size of the model (e.g. 512 for Bert).\n",
            "  FutureWarning,\n"
          ]
        },
        {
          "output_type": "stream",
          "name": "stdout",
          "text": [
            "Original:  Step out and explore. # ️ @ Ellis Island Cafe \n",
            "Token IDs: tensor([     1,  14461,   1351,    306,  39057,    261,    388,    260,   4668,\n",
            "          1251,    260, 140494,  43892,  29287,      2,      0,      0,      0,\n",
            "             0,      0,      0,      0,      0,      0,      0,      0,      0,\n",
            "             0,      0,      0,      0,      0,      0,      0,      0,      0,\n",
            "             0,      0,      0,      0,      0,      0,      0,      0,      0,\n",
            "             0,      0,      0,      0,      0,      0,      0,      0,      0,\n",
            "             0,      0,      0,      0,      0,      0,      0,      0,      0,\n",
            "             0,      0,      0,      0,      0,      0,      0,      0,      0,\n",
            "             0,      0,      0,      0,      0,      0,      0,      0,      0,\n",
            "             0,      0,      0,      0,      0,      0,      0,      0,      0,\n",
            "             0,      0,      0,      0,      0,      0,      0,      0,      0,\n",
            "             0,      0,      0,      0,      0,      0,      0,      0,      0,\n",
            "             0,      0,      0,      0,      0,      0,      0,      0,      0,\n",
            "             0,      0,      0,      0,      0,      0,      0,      0,      0,\n",
            "             0,      0,      0,      0,      0,      0,      0,      0,      0,\n",
            "             0,      0,      0,      0,      0,      0,      0,      0,      0,\n",
            "             0,      0,      0,      0,      0,      0])\n"
          ]
        }
      ]
    },
    {
      "cell_type": "code",
      "source": [
        "from torch.utils.data import TensorDataset, random_split\n",
        "\n",
        "def datasetsize(input_ids, attention_masks, labels):\n",
        "  dataset = TensorDataset(input_ids, attention_masks, labels)\n",
        "\n",
        "  train_size = int(0.9 * len(dataset))\n",
        "  val_size = len(dataset) - train_size\n",
        "\n",
        "  train_dataset, val_dataset = random_split(dataset, [train_size, val_size])\n",
        "\n",
        "  print('{:>5,} training samples'.format(train_size))\n",
        "  print('{:>5,} validation samples'.format(val_size)) \n",
        "  return train_dataset,val_dataset"
      ],
      "metadata": {
        "id": "gxWg9ErNxi76"
      },
      "execution_count": 15,
      "outputs": []
    },
    {
      "cell_type": "code",
      "source": [
        "train_dataset_mdeberta,val_dataset_mdeberta = datasetsize(input_ids_mdeberta,attention_masks_mdeberta,labels_mdeberta)"
      ],
      "metadata": {
        "id": "CQN2trLRxi5v",
        "colab": {
          "base_uri": "https://localhost:8080/"
        },
        "outputId": "f282f9d7-aec3-4188-dd80-bd4433f5608b"
      },
      "execution_count": null,
      "outputs": [
        {
          "output_type": "stream",
          "name": "stdout",
          "text": [
            "346,747 training samples\n",
            "38,528 validation samples\n"
          ]
        }
      ]
    },
    {
      "cell_type": "code",
      "source": [
        "from torch.utils.data import DataLoader, RandomSampler, SequentialSampler\n",
        "def dataloader(size,train_dataset,val_dataset):\n",
        "  batch_size = size\n",
        " \n",
        "  train_dataloader = DataLoader(\n",
        "            train_dataset,  # The training samples.\n",
        "            sampler = RandomSampler(train_dataset), # Select batches randomly\n",
        "            batch_size = batch_size, # Trains with this batch size.\n",
        "            drop_last=True\n",
        "        )\n",
        "  validation_dataloader = DataLoader(\n",
        "            val_dataset, # The validation samples.\n",
        "            sampler = SequentialSampler(val_dataset), # Pull out batches sequentially.\n",
        "            batch_size = batch_size, # Evaluate with this batch size.\n",
        "            drop_last=True\n",
        "        )\n",
        "  return train_dataloader, validation_dataloader"
      ],
      "metadata": {
        "id": "yfGIUF9xxurG"
      },
      "execution_count": 14,
      "outputs": []
    },
    {
      "cell_type": "code",
      "source": [
        "train_dataloader_mdeberta, validation_dataloader_mdeberta = dataloader(32,train_dataset_mdeberta,val_dataset_mdeberta)"
      ],
      "metadata": {
        "id": "V78mxtNlxuop"
      },
      "execution_count": null,
      "outputs": []
    },
    {
      "cell_type": "code",
      "source": [
        "print(len(train_dataloader_mdeberta.dataset))"
      ],
      "metadata": {
        "colab": {
          "base_uri": "https://localhost:8080/"
        },
        "id": "KuKNQIedIJOf",
        "outputId": "e82011c2-90d4-4b66-8f1a-f699cdedeec2"
      },
      "execution_count": null,
      "outputs": [
        {
          "output_type": "stream",
          "name": "stdout",
          "text": [
            "346747\n"
          ]
        }
      ]
    },
    {
      "cell_type": "markdown",
      "source": [
        "** Used to load data if model fails during checkpoints**"
      ],
      "metadata": {
        "id": "jgocq-YtoPbq"
      }
    },
    {
      "cell_type": "code",
      "source": [
        "##save data loader for checkpoint\n",
        "torch.save(train_dataloader_mdeberta, filepath+'train_dataloader_mdeberta.pt')\n",
        "torch.save(validation_dataloader_mdeberta, filepath+'validation_dataloader_mdeberta.pt')"
      ],
      "metadata": {
        "id": "_9unj64E4-9i"
      },
      "execution_count": null,
      "outputs": []
    },
    {
      "cell_type": "markdown",
      "source": [
        "** Added to be able to print detailed error message when using cuda**"
      ],
      "metadata": {
        "id": "xx0oESumoH4-"
      }
    },
    {
      "cell_type": "code",
      "source": [
        "import os\n",
        "os.environ['CUDA_LAUNCH_BLOCKING'] = \"1\""
      ],
      "metadata": {
        "id": "E_J5On7Em7UU"
      },
      "execution_count": null,
      "outputs": []
    },
    {
      "cell_type": "markdown",
      "source": [
        "** The training is done on a consolidated 26 labels to be able to predict zero shot performance as both spanish and englisg has varrying labels**"
      ],
      "metadata": {
        "id": "-uSFfYB-oq5i"
      }
    },
    {
      "cell_type": "code",
      "source": [
        "from transformers import AutoConfig, AutoModelForSequenceClassification, AdamW, BertConfig\n",
        "\n",
        "# Load BertForSequenceClassification, the pretrained BERT model with a single \n",
        "# linear classification layer on top. \n",
        "model_mdeberta = AutoModelForSequenceClassification.from_pretrained(\n",
        "#model_mdeberta = DebertaV2ForSequenceClassification.from_pretrained(\n",
        "    \"microsoft/mdeberta-v3-base\", # Use the 12-layer BERT model, with an uncased vocab.\n",
        "    num_labels = 26, # need to change to the number of label in test for zero-shot performance\n",
        "                    # You can increase this for multi-class tasks.   \n",
        "    output_attentions = False, # Whether the model returns attentions weights.\n",
        "    output_hidden_states = False, # Whether the model returns all hidden-states.\n",
        "\n",
        ")\n",
        "\n",
        "# Tell pytorch to run this model on the GPU.\n",
        "model_mdeberta.cuda()"
      ],
      "metadata": {
        "id": "thH-MXpAxul8",
        "colab": {
          "base_uri": "https://localhost:8080/",
          "height": 1000,
          "referenced_widgets": [
            "89abbb2e0890413bbdc8a07efbfdb24a",
            "9feff278b11b497bb8978785063a9f66",
            "ac2d19d241394b1d9e73d1e3435fb0bb",
            "7a7269e870014ee48149443a62f11246",
            "38d7cac2f78c478fac0a6fb3174bb08c",
            "e8353e66297c4f928158ad893e135bc9",
            "e803e4d051e04682b92204506c7ff596",
            "d6ac6cee17314ef09758da32c638a910",
            "451a8c4a29624eeaaaa3ff08dc3593b1",
            "c11176b7a0a442108982b3dec99ebecd",
            "86e8f0bf8c1c412aabd6ab743f1391f0"
          ]
        },
        "outputId": "54896075-5e67-49b4-dc5f-2918f4659c0c"
      },
      "execution_count": null,
      "outputs": [
        {
          "output_type": "display_data",
          "data": {
            "text/plain": [
              "Downloading:   0%|          | 0.00/534M [00:00<?, ?B/s]"
            ],
            "application/vnd.jupyter.widget-view+json": {
              "version_major": 2,
              "version_minor": 0,
              "model_id": "89abbb2e0890413bbdc8a07efbfdb24a"
            }
          },
          "metadata": {}
        },
        {
          "output_type": "stream",
          "name": "stderr",
          "text": [
            "Some weights of the model checkpoint at microsoft/mdeberta-v3-base were not used when initializing DebertaV2ForSequenceClassification: ['mask_predictions.LayerNorm.weight', 'mask_predictions.dense.bias', 'mask_predictions.LayerNorm.bias', 'lm_predictions.lm_head.LayerNorm.weight', 'mask_predictions.classifier.weight', 'mask_predictions.dense.weight', 'mask_predictions.classifier.bias', 'lm_predictions.lm_head.LayerNorm.bias', 'lm_predictions.lm_head.bias', 'lm_predictions.lm_head.dense.bias', 'lm_predictions.lm_head.dense.weight']\n",
            "- This IS expected if you are initializing DebertaV2ForSequenceClassification from the checkpoint of a model trained on another task or with another architecture (e.g. initializing a BertForSequenceClassification model from a BertForPreTraining model).\n",
            "- This IS NOT expected if you are initializing DebertaV2ForSequenceClassification from the checkpoint of a model that you expect to be exactly identical (initializing a BertForSequenceClassification model from a BertForSequenceClassification model).\n",
            "Some weights of DebertaV2ForSequenceClassification were not initialized from the model checkpoint at microsoft/mdeberta-v3-base and are newly initialized: ['classifier.weight', 'pooler.dense.weight', 'classifier.bias', 'pooler.dense.bias']\n",
            "You should probably TRAIN this model on a down-stream task to be able to use it for predictions and inference.\n"
          ]
        },
        {
          "output_type": "execute_result",
          "data": {
            "text/plain": [
              "DebertaV2ForSequenceClassification(\n",
              "  (deberta): DebertaV2Model(\n",
              "    (embeddings): DebertaV2Embeddings(\n",
              "      (word_embeddings): Embedding(251000, 768, padding_idx=0)\n",
              "      (LayerNorm): LayerNorm((768,), eps=1e-07, elementwise_affine=True)\n",
              "      (dropout): StableDropout()\n",
              "    )\n",
              "    (encoder): DebertaV2Encoder(\n",
              "      (layer): ModuleList(\n",
              "        (0): DebertaV2Layer(\n",
              "          (attention): DebertaV2Attention(\n",
              "            (self): DisentangledSelfAttention(\n",
              "              (query_proj): Linear(in_features=768, out_features=768, bias=True)\n",
              "              (key_proj): Linear(in_features=768, out_features=768, bias=True)\n",
              "              (value_proj): Linear(in_features=768, out_features=768, bias=True)\n",
              "              (pos_dropout): StableDropout()\n",
              "              (dropout): StableDropout()\n",
              "            )\n",
              "            (output): DebertaV2SelfOutput(\n",
              "              (dense): Linear(in_features=768, out_features=768, bias=True)\n",
              "              (LayerNorm): LayerNorm((768,), eps=1e-07, elementwise_affine=True)\n",
              "              (dropout): StableDropout()\n",
              "            )\n",
              "          )\n",
              "          (intermediate): DebertaV2Intermediate(\n",
              "            (dense): Linear(in_features=768, out_features=3072, bias=True)\n",
              "            (intermediate_act_fn): GELUActivation()\n",
              "          )\n",
              "          (output): DebertaV2Output(\n",
              "            (dense): Linear(in_features=3072, out_features=768, bias=True)\n",
              "            (LayerNorm): LayerNorm((768,), eps=1e-07, elementwise_affine=True)\n",
              "            (dropout): StableDropout()\n",
              "          )\n",
              "        )\n",
              "        (1): DebertaV2Layer(\n",
              "          (attention): DebertaV2Attention(\n",
              "            (self): DisentangledSelfAttention(\n",
              "              (query_proj): Linear(in_features=768, out_features=768, bias=True)\n",
              "              (key_proj): Linear(in_features=768, out_features=768, bias=True)\n",
              "              (value_proj): Linear(in_features=768, out_features=768, bias=True)\n",
              "              (pos_dropout): StableDropout()\n",
              "              (dropout): StableDropout()\n",
              "            )\n",
              "            (output): DebertaV2SelfOutput(\n",
              "              (dense): Linear(in_features=768, out_features=768, bias=True)\n",
              "              (LayerNorm): LayerNorm((768,), eps=1e-07, elementwise_affine=True)\n",
              "              (dropout): StableDropout()\n",
              "            )\n",
              "          )\n",
              "          (intermediate): DebertaV2Intermediate(\n",
              "            (dense): Linear(in_features=768, out_features=3072, bias=True)\n",
              "            (intermediate_act_fn): GELUActivation()\n",
              "          )\n",
              "          (output): DebertaV2Output(\n",
              "            (dense): Linear(in_features=3072, out_features=768, bias=True)\n",
              "            (LayerNorm): LayerNorm((768,), eps=1e-07, elementwise_affine=True)\n",
              "            (dropout): StableDropout()\n",
              "          )\n",
              "        )\n",
              "        (2): DebertaV2Layer(\n",
              "          (attention): DebertaV2Attention(\n",
              "            (self): DisentangledSelfAttention(\n",
              "              (query_proj): Linear(in_features=768, out_features=768, bias=True)\n",
              "              (key_proj): Linear(in_features=768, out_features=768, bias=True)\n",
              "              (value_proj): Linear(in_features=768, out_features=768, bias=True)\n",
              "              (pos_dropout): StableDropout()\n",
              "              (dropout): StableDropout()\n",
              "            )\n",
              "            (output): DebertaV2SelfOutput(\n",
              "              (dense): Linear(in_features=768, out_features=768, bias=True)\n",
              "              (LayerNorm): LayerNorm((768,), eps=1e-07, elementwise_affine=True)\n",
              "              (dropout): StableDropout()\n",
              "            )\n",
              "          )\n",
              "          (intermediate): DebertaV2Intermediate(\n",
              "            (dense): Linear(in_features=768, out_features=3072, bias=True)\n",
              "            (intermediate_act_fn): GELUActivation()\n",
              "          )\n",
              "          (output): DebertaV2Output(\n",
              "            (dense): Linear(in_features=3072, out_features=768, bias=True)\n",
              "            (LayerNorm): LayerNorm((768,), eps=1e-07, elementwise_affine=True)\n",
              "            (dropout): StableDropout()\n",
              "          )\n",
              "        )\n",
              "        (3): DebertaV2Layer(\n",
              "          (attention): DebertaV2Attention(\n",
              "            (self): DisentangledSelfAttention(\n",
              "              (query_proj): Linear(in_features=768, out_features=768, bias=True)\n",
              "              (key_proj): Linear(in_features=768, out_features=768, bias=True)\n",
              "              (value_proj): Linear(in_features=768, out_features=768, bias=True)\n",
              "              (pos_dropout): StableDropout()\n",
              "              (dropout): StableDropout()\n",
              "            )\n",
              "            (output): DebertaV2SelfOutput(\n",
              "              (dense): Linear(in_features=768, out_features=768, bias=True)\n",
              "              (LayerNorm): LayerNorm((768,), eps=1e-07, elementwise_affine=True)\n",
              "              (dropout): StableDropout()\n",
              "            )\n",
              "          )\n",
              "          (intermediate): DebertaV2Intermediate(\n",
              "            (dense): Linear(in_features=768, out_features=3072, bias=True)\n",
              "            (intermediate_act_fn): GELUActivation()\n",
              "          )\n",
              "          (output): DebertaV2Output(\n",
              "            (dense): Linear(in_features=3072, out_features=768, bias=True)\n",
              "            (LayerNorm): LayerNorm((768,), eps=1e-07, elementwise_affine=True)\n",
              "            (dropout): StableDropout()\n",
              "          )\n",
              "        )\n",
              "        (4): DebertaV2Layer(\n",
              "          (attention): DebertaV2Attention(\n",
              "            (self): DisentangledSelfAttention(\n",
              "              (query_proj): Linear(in_features=768, out_features=768, bias=True)\n",
              "              (key_proj): Linear(in_features=768, out_features=768, bias=True)\n",
              "              (value_proj): Linear(in_features=768, out_features=768, bias=True)\n",
              "              (pos_dropout): StableDropout()\n",
              "              (dropout): StableDropout()\n",
              "            )\n",
              "            (output): DebertaV2SelfOutput(\n",
              "              (dense): Linear(in_features=768, out_features=768, bias=True)\n",
              "              (LayerNorm): LayerNorm((768,), eps=1e-07, elementwise_affine=True)\n",
              "              (dropout): StableDropout()\n",
              "            )\n",
              "          )\n",
              "          (intermediate): DebertaV2Intermediate(\n",
              "            (dense): Linear(in_features=768, out_features=3072, bias=True)\n",
              "            (intermediate_act_fn): GELUActivation()\n",
              "          )\n",
              "          (output): DebertaV2Output(\n",
              "            (dense): Linear(in_features=3072, out_features=768, bias=True)\n",
              "            (LayerNorm): LayerNorm((768,), eps=1e-07, elementwise_affine=True)\n",
              "            (dropout): StableDropout()\n",
              "          )\n",
              "        )\n",
              "        (5): DebertaV2Layer(\n",
              "          (attention): DebertaV2Attention(\n",
              "            (self): DisentangledSelfAttention(\n",
              "              (query_proj): Linear(in_features=768, out_features=768, bias=True)\n",
              "              (key_proj): Linear(in_features=768, out_features=768, bias=True)\n",
              "              (value_proj): Linear(in_features=768, out_features=768, bias=True)\n",
              "              (pos_dropout): StableDropout()\n",
              "              (dropout): StableDropout()\n",
              "            )\n",
              "            (output): DebertaV2SelfOutput(\n",
              "              (dense): Linear(in_features=768, out_features=768, bias=True)\n",
              "              (LayerNorm): LayerNorm((768,), eps=1e-07, elementwise_affine=True)\n",
              "              (dropout): StableDropout()\n",
              "            )\n",
              "          )\n",
              "          (intermediate): DebertaV2Intermediate(\n",
              "            (dense): Linear(in_features=768, out_features=3072, bias=True)\n",
              "            (intermediate_act_fn): GELUActivation()\n",
              "          )\n",
              "          (output): DebertaV2Output(\n",
              "            (dense): Linear(in_features=3072, out_features=768, bias=True)\n",
              "            (LayerNorm): LayerNorm((768,), eps=1e-07, elementwise_affine=True)\n",
              "            (dropout): StableDropout()\n",
              "          )\n",
              "        )\n",
              "        (6): DebertaV2Layer(\n",
              "          (attention): DebertaV2Attention(\n",
              "            (self): DisentangledSelfAttention(\n",
              "              (query_proj): Linear(in_features=768, out_features=768, bias=True)\n",
              "              (key_proj): Linear(in_features=768, out_features=768, bias=True)\n",
              "              (value_proj): Linear(in_features=768, out_features=768, bias=True)\n",
              "              (pos_dropout): StableDropout()\n",
              "              (dropout): StableDropout()\n",
              "            )\n",
              "            (output): DebertaV2SelfOutput(\n",
              "              (dense): Linear(in_features=768, out_features=768, bias=True)\n",
              "              (LayerNorm): LayerNorm((768,), eps=1e-07, elementwise_affine=True)\n",
              "              (dropout): StableDropout()\n",
              "            )\n",
              "          )\n",
              "          (intermediate): DebertaV2Intermediate(\n",
              "            (dense): Linear(in_features=768, out_features=3072, bias=True)\n",
              "            (intermediate_act_fn): GELUActivation()\n",
              "          )\n",
              "          (output): DebertaV2Output(\n",
              "            (dense): Linear(in_features=3072, out_features=768, bias=True)\n",
              "            (LayerNorm): LayerNorm((768,), eps=1e-07, elementwise_affine=True)\n",
              "            (dropout): StableDropout()\n",
              "          )\n",
              "        )\n",
              "        (7): DebertaV2Layer(\n",
              "          (attention): DebertaV2Attention(\n",
              "            (self): DisentangledSelfAttention(\n",
              "              (query_proj): Linear(in_features=768, out_features=768, bias=True)\n",
              "              (key_proj): Linear(in_features=768, out_features=768, bias=True)\n",
              "              (value_proj): Linear(in_features=768, out_features=768, bias=True)\n",
              "              (pos_dropout): StableDropout()\n",
              "              (dropout): StableDropout()\n",
              "            )\n",
              "            (output): DebertaV2SelfOutput(\n",
              "              (dense): Linear(in_features=768, out_features=768, bias=True)\n",
              "              (LayerNorm): LayerNorm((768,), eps=1e-07, elementwise_affine=True)\n",
              "              (dropout): StableDropout()\n",
              "            )\n",
              "          )\n",
              "          (intermediate): DebertaV2Intermediate(\n",
              "            (dense): Linear(in_features=768, out_features=3072, bias=True)\n",
              "            (intermediate_act_fn): GELUActivation()\n",
              "          )\n",
              "          (output): DebertaV2Output(\n",
              "            (dense): Linear(in_features=3072, out_features=768, bias=True)\n",
              "            (LayerNorm): LayerNorm((768,), eps=1e-07, elementwise_affine=True)\n",
              "            (dropout): StableDropout()\n",
              "          )\n",
              "        )\n",
              "        (8): DebertaV2Layer(\n",
              "          (attention): DebertaV2Attention(\n",
              "            (self): DisentangledSelfAttention(\n",
              "              (query_proj): Linear(in_features=768, out_features=768, bias=True)\n",
              "              (key_proj): Linear(in_features=768, out_features=768, bias=True)\n",
              "              (value_proj): Linear(in_features=768, out_features=768, bias=True)\n",
              "              (pos_dropout): StableDropout()\n",
              "              (dropout): StableDropout()\n",
              "            )\n",
              "            (output): DebertaV2SelfOutput(\n",
              "              (dense): Linear(in_features=768, out_features=768, bias=True)\n",
              "              (LayerNorm): LayerNorm((768,), eps=1e-07, elementwise_affine=True)\n",
              "              (dropout): StableDropout()\n",
              "            )\n",
              "          )\n",
              "          (intermediate): DebertaV2Intermediate(\n",
              "            (dense): Linear(in_features=768, out_features=3072, bias=True)\n",
              "            (intermediate_act_fn): GELUActivation()\n",
              "          )\n",
              "          (output): DebertaV2Output(\n",
              "            (dense): Linear(in_features=3072, out_features=768, bias=True)\n",
              "            (LayerNorm): LayerNorm((768,), eps=1e-07, elementwise_affine=True)\n",
              "            (dropout): StableDropout()\n",
              "          )\n",
              "        )\n",
              "        (9): DebertaV2Layer(\n",
              "          (attention): DebertaV2Attention(\n",
              "            (self): DisentangledSelfAttention(\n",
              "              (query_proj): Linear(in_features=768, out_features=768, bias=True)\n",
              "              (key_proj): Linear(in_features=768, out_features=768, bias=True)\n",
              "              (value_proj): Linear(in_features=768, out_features=768, bias=True)\n",
              "              (pos_dropout): StableDropout()\n",
              "              (dropout): StableDropout()\n",
              "            )\n",
              "            (output): DebertaV2SelfOutput(\n",
              "              (dense): Linear(in_features=768, out_features=768, bias=True)\n",
              "              (LayerNorm): LayerNorm((768,), eps=1e-07, elementwise_affine=True)\n",
              "              (dropout): StableDropout()\n",
              "            )\n",
              "          )\n",
              "          (intermediate): DebertaV2Intermediate(\n",
              "            (dense): Linear(in_features=768, out_features=3072, bias=True)\n",
              "            (intermediate_act_fn): GELUActivation()\n",
              "          )\n",
              "          (output): DebertaV2Output(\n",
              "            (dense): Linear(in_features=3072, out_features=768, bias=True)\n",
              "            (LayerNorm): LayerNorm((768,), eps=1e-07, elementwise_affine=True)\n",
              "            (dropout): StableDropout()\n",
              "          )\n",
              "        )\n",
              "        (10): DebertaV2Layer(\n",
              "          (attention): DebertaV2Attention(\n",
              "            (self): DisentangledSelfAttention(\n",
              "              (query_proj): Linear(in_features=768, out_features=768, bias=True)\n",
              "              (key_proj): Linear(in_features=768, out_features=768, bias=True)\n",
              "              (value_proj): Linear(in_features=768, out_features=768, bias=True)\n",
              "              (pos_dropout): StableDropout()\n",
              "              (dropout): StableDropout()\n",
              "            )\n",
              "            (output): DebertaV2SelfOutput(\n",
              "              (dense): Linear(in_features=768, out_features=768, bias=True)\n",
              "              (LayerNorm): LayerNorm((768,), eps=1e-07, elementwise_affine=True)\n",
              "              (dropout): StableDropout()\n",
              "            )\n",
              "          )\n",
              "          (intermediate): DebertaV2Intermediate(\n",
              "            (dense): Linear(in_features=768, out_features=3072, bias=True)\n",
              "            (intermediate_act_fn): GELUActivation()\n",
              "          )\n",
              "          (output): DebertaV2Output(\n",
              "            (dense): Linear(in_features=3072, out_features=768, bias=True)\n",
              "            (LayerNorm): LayerNorm((768,), eps=1e-07, elementwise_affine=True)\n",
              "            (dropout): StableDropout()\n",
              "          )\n",
              "        )\n",
              "        (11): DebertaV2Layer(\n",
              "          (attention): DebertaV2Attention(\n",
              "            (self): DisentangledSelfAttention(\n",
              "              (query_proj): Linear(in_features=768, out_features=768, bias=True)\n",
              "              (key_proj): Linear(in_features=768, out_features=768, bias=True)\n",
              "              (value_proj): Linear(in_features=768, out_features=768, bias=True)\n",
              "              (pos_dropout): StableDropout()\n",
              "              (dropout): StableDropout()\n",
              "            )\n",
              "            (output): DebertaV2SelfOutput(\n",
              "              (dense): Linear(in_features=768, out_features=768, bias=True)\n",
              "              (LayerNorm): LayerNorm((768,), eps=1e-07, elementwise_affine=True)\n",
              "              (dropout): StableDropout()\n",
              "            )\n",
              "          )\n",
              "          (intermediate): DebertaV2Intermediate(\n",
              "            (dense): Linear(in_features=768, out_features=3072, bias=True)\n",
              "            (intermediate_act_fn): GELUActivation()\n",
              "          )\n",
              "          (output): DebertaV2Output(\n",
              "            (dense): Linear(in_features=3072, out_features=768, bias=True)\n",
              "            (LayerNorm): LayerNorm((768,), eps=1e-07, elementwise_affine=True)\n",
              "            (dropout): StableDropout()\n",
              "          )\n",
              "        )\n",
              "      )\n",
              "      (rel_embeddings): Embedding(512, 768)\n",
              "      (LayerNorm): LayerNorm((768,), eps=1e-07, elementwise_affine=True)\n",
              "    )\n",
              "  )\n",
              "  (pooler): ContextPooler(\n",
              "    (dense): Linear(in_features=768, out_features=768, bias=True)\n",
              "    (dropout): StableDropout()\n",
              "  )\n",
              "  (classifier): Linear(in_features=768, out_features=26, bias=True)\n",
              "  (dropout): StableDropout()\n",
              ")"
            ]
          },
          "metadata": {},
          "execution_count": 36
        }
      ]
    },
    {
      "cell_type": "code",
      "source": [
        "def optimizer(model):\n",
        "  optimizer = AdamW(model.parameters(),\n",
        "                  lr = 2e-5, # args.learning_rate - default is 5e-5, our notebook had 2e-5\n",
        "                  eps = 1e-8 # args.adam_epsilon  - default is 1e-8.\n",
        "                )\n",
        "  return optimizer"
      ],
      "metadata": {
        "id": "dIYvrauIxiwd"
      },
      "execution_count": 33,
      "outputs": []
    },
    {
      "cell_type": "code",
      "source": [
        "optimizer_mdeberta = optimizer(model_mdeberta)"
      ],
      "metadata": {
        "id": "LsKEGb8Uxits",
        "colab": {
          "base_uri": "https://localhost:8080/"
        },
        "outputId": "1f9292f9-5a33-4bd5-b34e-9e0884dce686"
      },
      "execution_count": null,
      "outputs": [
        {
          "output_type": "stream",
          "name": "stderr",
          "text": [
            "/usr/local/lib/python3.7/dist-packages/transformers/optimization.py:309: FutureWarning: This implementation of AdamW is deprecated and will be removed in a future version. Use the PyTorch implementation torch.optim.AdamW instead, or set `no_deprecation_warning=True` to disable this warning\n",
            "  FutureWarning,\n"
          ]
        }
      ]
    },
    {
      "cell_type": "code",
      "source": [
        "from transformers import get_linear_schedule_with_warmup\n",
        "\n",
        "# Number of training epochs. The BERT authors recommend between 2 and 4. \n",
        "# We chose to run for 4, but we'll see later that this may be over-fitting the\n",
        "# training data.\n",
        "def scheduler(train_dataloader,optimizer):\n",
        "  epochs = 1\n",
        "\n",
        "  # Total number of training steps is [number of batches] x [number of epochs]. \n",
        "  # (Note that this is not the same as the number of training samples).\n",
        "  total_steps = len(train_dataloader) * epochs\n",
        "  #print(train_dataloader.size())\n",
        "\n",
        "  # Create the learning rate scheduler.\n",
        "  scheduler = get_linear_schedule_with_warmup(optimizer, \n",
        "                                            num_warmup_steps = 0, # Default value in run_glue.py\n",
        "                                            num_training_steps = total_steps) \n",
        "  return scheduler"
      ],
      "metadata": {
        "id": "464MuRZxxihE"
      },
      "execution_count": 32,
      "outputs": []
    },
    {
      "cell_type": "code",
      "source": [
        "scheduler_mdeberta = scheduler(train_dataloader_mdeberta,optimizer_mdeberta)"
      ],
      "metadata": {
        "id": "KciD2s8J0IiK"
      },
      "execution_count": null,
      "outputs": []
    },
    {
      "cell_type": "code",
      "source": [
        "import numpy as np\n",
        "\n",
        "# Function to calculate the accuracy of our predictions vs labels\n",
        "def flat_accuracy(preds, labels):\n",
        "    pred_flat = np.argmax(preds, axis=1).flatten()\n",
        "    labels_flat = labels.flatten()\n",
        "    return np.sum(pred_flat == labels_flat) / len(labels_flat)"
      ],
      "metadata": {
        "id": "Fn9XvfLo0If8"
      },
      "execution_count": 30,
      "outputs": []
    },
    {
      "cell_type": "code",
      "source": [
        "import time\n",
        "import datetime\n",
        "\n",
        "def format_time(elapsed):\n",
        "    '''\n",
        "    Takes a time in seconds and returns a string hh:mm:ss\n",
        "    '''\n",
        "    # Round to the nearest second.\n",
        "    elapsed_rounded = int(round((elapsed)))\n",
        "    \n",
        "    # Format as hh:mm:ss\n",
        "    return str(datetime.timedelta(seconds=elapsed_rounded))"
      ],
      "metadata": {
        "id": "ZjNgohgy0Idn"
      },
      "execution_count": 29,
      "outputs": []
    },
    {
      "cell_type": "code",
      "source": [
        "import random\n",
        "import numpy as np\n",
        "\n",
        "def modeltraining(model,train_dataloader,validation_dataloader,optimizer,scheduler):\n",
        "\n",
        "  seed_val = 42\n",
        "\n",
        "  random.seed(seed_val)\n",
        "  np.random.seed(seed_val)\n",
        "  torch.manual_seed(seed_val)\n",
        "  torch.cuda.manual_seed_all(seed_val)\n",
        "\n",
        "  training_stats = []\n",
        "\n",
        "  total_t0 = time.time()\n",
        "  epochs = 2\n",
        "\n",
        "  #with torch.no_grad():\n",
        "  for epoch_i in range(0, epochs):\n",
        "\n",
        "    print(\"\")\n",
        "    print('======== Epoch {:} / {:} ========'.format(epoch_i + 1, epochs))\n",
        "    print('Training...')\n",
        "\n",
        "    t0 = time.time()\n",
        "\n",
        "    total_train_loss = 0\n",
        "    model.train()\n",
        "    #print('reached here')\n",
        "\n",
        "    # For each batch of training data...\n",
        "    for step, batch in enumerate(train_dataloader):\n",
        "        if step % 1000 == 0 and not step == 0:\n",
        "            elapsed = format_time(time.time() - t0)\n",
        "            \n",
        "            print('  Batch {:>5,}  of  {:>5,}.    Elapsed: {:}.'.format(step, len(train_dataloader), elapsed))\n",
        "\n",
        "        b_input_ids = batch[0].to(device)\n",
        "        b_input_mask = batch[1].to(device)\n",
        "        b_labels = batch[2].to(device)\n",
        "        #print(b_input_ids.size(),b_labels.size())\n",
        "\n",
        "        model.zero_grad()        \n",
        "        #print('reached 1')\n",
        "        result = model(b_input_ids, \n",
        "                       token_type_ids=None, \n",
        "                       attention_mask=b_input_mask, \n",
        "                       labels=b_labels,\n",
        "                       return_dict=True)\n",
        "\n",
        "        loss = result.loss\n",
        "        logits = result.logits\n",
        "\n",
        "        total_train_loss += loss.item()\n",
        "\n",
        "        loss.backward()\n",
        "\n",
        "        torch.nn.utils.clip_grad_norm_(model.parameters(), 1.0)\n",
        "\n",
        "        optimizer.step()\n",
        "\n",
        "        scheduler.step()\n",
        "\n",
        "    avg_train_loss = total_train_loss / len(train_dataloader)            \n",
        "    \n",
        "    training_time = format_time(time.time() - t0)\n",
        "\n",
        "    print(\"\")\n",
        "    print(\"  Average training loss: {0:.2f}\".format(avg_train_loss))\n",
        "    print(\"  Training epcoh took: {:}\".format(training_time))\n",
        "        \n",
        "    print(\"\")\n",
        "    print(\"Running Validation...\")\n",
        "\n",
        "    t0 = time.time()\n",
        "\n",
        "    model.eval()\n",
        "\n",
        "    total_eval_accuracy = 0\n",
        "    total_eval_loss = 0\n",
        "    nb_eval_steps = 0\n",
        "\n",
        "    for batch in validation_dataloader:        \n",
        "        b_input_ids = batch[0].to(device)\n",
        "        b_input_mask = batch[1].to(device)\n",
        "        b_labels = batch[2].to(device)\n",
        "        \n",
        "        with torch.no_grad():        \n",
        "            result = model(b_input_ids, \n",
        "                           token_type_ids=None, \n",
        "                           attention_mask=b_input_mask,\n",
        "                           labels=b_labels,\n",
        "                           return_dict=True)\n",
        "\n",
        "        loss = result.loss\n",
        "        \n",
        "        logits = result.logits\n",
        "            \n",
        "        total_eval_loss += loss.item()\n",
        "\n",
        "        logits = logits.detach().cpu().numpy()\n",
        "        label_ids = b_labels.to('cpu').numpy()\n",
        "\n",
        "        total_eval_accuracy += flat_accuracy(logits, label_ids)\n",
        "        \n",
        "\n",
        "    avg_val_accuracy = total_eval_accuracy / len(validation_dataloader)\n",
        "    print(\"  Accuracy: {0:.2f}\".format(avg_val_accuracy))\n",
        "\n",
        "    avg_val_loss = total_eval_loss / len(validation_dataloader)\n",
        "    \n",
        "    validation_time = format_time(time.time() - t0)\n",
        "    \n",
        "    print(\"  Validation Loss: {0:.2f}\".format(avg_val_loss))\n",
        "    print(\"  Validation took: {:}\".format(validation_time))\n",
        "\n",
        "    training_stats.append(\n",
        "        {\n",
        "            'epoch': epoch_i + 1,\n",
        "            'Training Loss': avg_train_loss,\n",
        "            'Valid. Loss': avg_val_loss,\n",
        "            'Valid. Accur.': avg_val_accuracy,\n",
        "            'Training Time': training_time,\n",
        "            'Validation Time': validation_time\n",
        "        }\n",
        "    )\n",
        "\n",
        "  print(\"\")\n",
        "  print(\"Training complete!\")\n",
        "\n",
        "  print(\"Total training took {:} (h:mm:ss)\".format(format_time(time.time()-total_t0)))\n",
        "  return model"
      ],
      "metadata": {
        "id": "ZVFaBEpv0Ia6"
      },
      "execution_count": 31,
      "outputs": []
    },
    {
      "cell_type": "code",
      "source": [
        "model_mdeberta = modeltraining(model_mdeberta,train_dataloader_mdeberta,validation_dataloader_mdeberta,optimizer_mdeberta,scheduler_mdeberta)"
      ],
      "metadata": {
        "id": "_Bk_GVyO0RD_",
        "colab": {
          "base_uri": "https://localhost:8080/"
        },
        "outputId": "188d5811-ebcf-4b74-b01d-16d2d51280cf"
      },
      "execution_count": null,
      "outputs": [
        {
          "output_type": "stream",
          "name": "stdout",
          "text": [
            "\n",
            "======== Epoch 1 / 1 ========\n",
            "Training...\n",
            "  Batch    40  of  10,835.    Elapsed: 0:00:49.\n",
            "  Batch    80  of  10,835.    Elapsed: 0:01:42.\n",
            "  Batch   120  of  10,835.    Elapsed: 0:02:36.\n",
            "  Batch   160  of  10,835.    Elapsed: 0:03:29.\n",
            "  Batch   200  of  10,835.    Elapsed: 0:04:22.\n",
            "  Batch   240  of  10,835.    Elapsed: 0:05:15.\n",
            "  Batch   280  of  10,835.    Elapsed: 0:06:08.\n",
            "  Batch   320  of  10,835.    Elapsed: 0:07:02.\n",
            "  Batch   360  of  10,835.    Elapsed: 0:07:56.\n",
            "  Batch   400  of  10,835.    Elapsed: 0:08:49.\n",
            "  Batch   440  of  10,835.    Elapsed: 0:09:42.\n",
            "  Batch   480  of  10,835.    Elapsed: 0:10:35.\n",
            "  Batch   520  of  10,835.    Elapsed: 0:11:28.\n",
            "  Batch   560  of  10,835.    Elapsed: 0:12:21.\n",
            "  Batch   600  of  10,835.    Elapsed: 0:13:15.\n",
            "  Batch   640  of  10,835.    Elapsed: 0:14:16.\n",
            "  Batch   680  of  10,835.    Elapsed: 0:15:09.\n",
            "  Batch   720  of  10,835.    Elapsed: 0:16:03.\n",
            "  Batch   760  of  10,835.    Elapsed: 0:16:57.\n",
            "  Batch   800  of  10,835.    Elapsed: 0:17:51.\n",
            "  Batch   840  of  10,835.    Elapsed: 0:18:45.\n",
            "  Batch   880  of  10,835.    Elapsed: 0:19:39.\n",
            "  Batch   920  of  10,835.    Elapsed: 0:20:33.\n",
            "  Batch   960  of  10,835.    Elapsed: 0:21:34.\n",
            "  Batch 1,000  of  10,835.    Elapsed: 0:22:28.\n",
            "  Batch 1,040  of  10,835.    Elapsed: 0:23:21.\n",
            "  Batch 1,080  of  10,835.    Elapsed: 0:24:15.\n",
            "  Batch 1,120  of  10,835.    Elapsed: 0:25:08.\n",
            "  Batch 1,160  of  10,835.    Elapsed: 0:26:02.\n",
            "  Batch 1,200  of  10,835.    Elapsed: 0:26:57.\n",
            "  Batch 1,240  of  10,835.    Elapsed: 0:27:51.\n",
            "  Batch 1,280  of  10,835.    Elapsed: 0:28:44.\n",
            "  Batch 1,320  of  10,835.    Elapsed: 0:29:38.\n",
            "  Batch 1,360  of  10,835.    Elapsed: 0:30:31.\n",
            "  Batch 1,400  of  10,835.    Elapsed: 0:31:24.\n",
            "  Batch 1,440  of  10,835.    Elapsed: 0:32:19.\n",
            "  Batch 1,480  of  10,835.    Elapsed: 0:33:13.\n",
            "  Batch 1,520  of  10,835.    Elapsed: 0:34:07.\n",
            "  Batch 1,560  of  10,835.    Elapsed: 0:35:01.\n",
            "  Batch 1,600  of  10,835.    Elapsed: 0:35:55.\n",
            "  Batch 1,640  of  10,835.    Elapsed: 0:36:48.\n",
            "  Batch 1,680  of  10,835.    Elapsed: 0:37:42.\n",
            "  Batch 1,720  of  10,835.    Elapsed: 0:38:37.\n",
            "  Batch 1,760  of  10,835.    Elapsed: 0:39:38.\n",
            "  Batch 1,800  of  10,835.    Elapsed: 0:40:32.\n",
            "  Batch 1,840  of  10,835.    Elapsed: 0:41:26.\n",
            "  Batch 1,880  of  10,835.    Elapsed: 0:42:19.\n",
            "  Batch 1,920  of  10,835.    Elapsed: 0:43:14.\n",
            "  Batch 1,960  of  10,835.    Elapsed: 0:44:08.\n",
            "  Batch 2,000  of  10,835.    Elapsed: 0:45:02.\n",
            "  Batch 2,040  of  10,835.    Elapsed: 0:45:56.\n",
            "  Batch 2,080  of  10,835.    Elapsed: 0:46:49.\n",
            "  Batch 2,120  of  10,835.    Elapsed: 0:47:44.\n",
            "  Batch 2,160  of  10,835.    Elapsed: 0:48:37.\n",
            "  Batch 2,200  of  10,835.    Elapsed: 0:49:33.\n",
            "  Batch 2,240  of  10,835.    Elapsed: 0:50:33.\n",
            "  Batch 2,280  of  10,835.    Elapsed: 0:51:27.\n",
            "  Batch 2,320  of  10,835.    Elapsed: 0:52:20.\n",
            "  Batch 2,360  of  10,835.    Elapsed: 0:53:14.\n",
            "  Batch 2,400  of  10,835.    Elapsed: 0:54:08.\n",
            "  Batch 2,440  of  10,835.    Elapsed: 0:55:01.\n",
            "  Batch 2,480  of  10,835.    Elapsed: 0:55:55.\n",
            "  Batch 2,520  of  10,835.    Elapsed: 0:56:48.\n",
            "  Batch 2,560  of  10,835.    Elapsed: 0:57:42.\n",
            "  Batch 2,600  of  10,835.    Elapsed: 0:58:36.\n",
            "  Batch 2,640  of  10,835.    Elapsed: 0:59:30.\n",
            "  Batch 2,680  of  10,835.    Elapsed: 1:00:24.\n",
            "  Batch 2,720  of  10,835.    Elapsed: 1:01:17.\n",
            "  Batch 2,760  of  10,835.    Elapsed: 1:02:11.\n",
            "  Batch 2,800  of  10,835.    Elapsed: 1:03:04.\n",
            "  Batch 2,840  of  10,835.    Elapsed: 1:03:58.\n",
            "  Batch 2,880  of  10,835.    Elapsed: 1:04:51.\n",
            "  Batch 2,920  of  10,835.    Elapsed: 1:05:45.\n",
            "  Batch 2,960  of  10,835.    Elapsed: 1:06:39.\n",
            "  Batch 3,000  of  10,835.    Elapsed: 1:07:33.\n",
            "  Batch 3,040  of  10,835.    Elapsed: 1:08:34.\n",
            "  Batch 3,080  of  10,835.    Elapsed: 1:09:27.\n",
            "  Batch 3,120  of  10,835.    Elapsed: 1:10:21.\n",
            "  Batch 3,160  of  10,835.    Elapsed: 1:11:15.\n",
            "  Batch 3,200  of  10,835.    Elapsed: 1:12:08.\n",
            "  Batch 3,240  of  10,835.    Elapsed: 1:13:03.\n",
            "  Batch 3,280  of  10,835.    Elapsed: 1:13:57.\n",
            "  Batch 3,320  of  10,835.    Elapsed: 1:14:51.\n",
            "  Batch 3,360  of  10,835.    Elapsed: 1:15:44.\n",
            "  Batch 3,400  of  10,835.    Elapsed: 1:16:38.\n",
            "  Batch 3,440  of  10,835.    Elapsed: 1:17:31.\n",
            "  Batch 3,480  of  10,835.    Elapsed: 1:18:25.\n",
            "  Batch 3,520  of  10,835.    Elapsed: 1:19:18.\n",
            "  Batch 3,560  of  10,835.    Elapsed: 1:20:13.\n",
            "  Batch 3,600  of  10,835.    Elapsed: 1:21:06.\n",
            "  Batch 3,640  of  10,835.    Elapsed: 1:22:00.\n",
            "  Batch 3,680  of  10,835.    Elapsed: 1:22:54.\n",
            "  Batch 3,720  of  10,835.    Elapsed: 1:23:48.\n",
            "  Batch 3,760  of  10,835.    Elapsed: 1:24:41.\n",
            "  Batch 3,800  of  10,835.    Elapsed: 1:25:36.\n",
            "  Batch 3,840  of  10,835.    Elapsed: 1:26:29.\n",
            "  Batch 3,880  of  10,835.    Elapsed: 1:27:23.\n",
            "  Batch 3,920  of  10,835.    Elapsed: 1:28:17.\n",
            "  Batch 3,960  of  10,835.    Elapsed: 1:29:10.\n",
            "  Batch 4,000  of  10,835.    Elapsed: 1:30:05.\n",
            "  Batch 4,040  of  10,835.    Elapsed: 1:30:58.\n",
            "  Batch 4,080  of  10,835.    Elapsed: 1:31:52.\n",
            "  Batch 4,120  of  10,835.    Elapsed: 1:32:46.\n",
            "  Batch 4,160  of  10,835.    Elapsed: 1:33:39.\n",
            "  Batch 4,200  of  10,835.    Elapsed: 1:34:33.\n",
            "  Batch 4,240  of  10,835.    Elapsed: 1:35:26.\n",
            "  Batch 4,280  of  10,835.    Elapsed: 1:36:20.\n",
            "  Batch 4,320  of  10,835.    Elapsed: 1:37:13.\n",
            "  Batch 4,360  of  10,835.    Elapsed: 1:38:07.\n",
            "  Batch 4,400  of  10,835.    Elapsed: 1:39:00.\n",
            "  Batch 4,440  of  10,835.    Elapsed: 1:39:54.\n",
            "  Batch 4,480  of  10,835.    Elapsed: 1:40:47.\n",
            "  Batch 4,520  of  10,835.    Elapsed: 1:41:41.\n",
            "  Batch 4,560  of  10,835.    Elapsed: 1:42:35.\n",
            "  Batch 4,600  of  10,835.    Elapsed: 1:43:28.\n",
            "  Batch 4,640  of  10,835.    Elapsed: 1:44:22.\n",
            "  Batch 4,680  of  10,835.    Elapsed: 1:45:17.\n",
            "  Batch 4,720  of  10,835.    Elapsed: 1:46:10.\n",
            "  Batch 4,760  of  10,835.    Elapsed: 1:47:04.\n",
            "  Batch 4,800  of  10,835.    Elapsed: 1:47:58.\n",
            "  Batch 4,840  of  10,835.    Elapsed: 1:48:53.\n",
            "  Batch 4,880  of  10,835.    Elapsed: 1:49:46.\n",
            "  Batch 4,920  of  10,835.    Elapsed: 1:50:40.\n",
            "  Batch 4,960  of  10,835.    Elapsed: 1:51:35.\n",
            "  Batch 5,000  of  10,835.    Elapsed: 1:52:30.\n",
            "  Batch 5,040  of  10,835.    Elapsed: 1:53:23.\n",
            "  Batch 5,080  of  10,835.    Elapsed: 1:54:17.\n",
            "  Batch 5,120  of  10,835.    Elapsed: 1:55:12.\n",
            "  Batch 5,160  of  10,835.    Elapsed: 1:56:05.\n",
            "  Batch 5,200  of  10,835.    Elapsed: 1:56:59.\n",
            "  Batch 5,240  of  10,835.    Elapsed: 1:57:53.\n",
            "  Batch 5,280  of  10,835.    Elapsed: 1:58:47.\n",
            "  Batch 5,320  of  10,835.    Elapsed: 1:59:41.\n",
            "  Batch 5,360  of  10,835.    Elapsed: 2:00:36.\n",
            "  Batch 5,400  of  10,835.    Elapsed: 2:01:30.\n",
            "  Batch 5,440  of  10,835.    Elapsed: 2:02:24.\n",
            "  Batch 5,480  of  10,835.    Elapsed: 2:03:18.\n",
            "  Batch 5,520  of  10,835.    Elapsed: 2:04:11.\n",
            "  Batch 5,560  of  10,835.    Elapsed: 2:05:05.\n",
            "  Batch 5,600  of  10,835.    Elapsed: 2:05:59.\n",
            "  Batch 5,640  of  10,835.    Elapsed: 2:06:53.\n",
            "  Batch 5,680  of  10,835.    Elapsed: 2:07:46.\n",
            "  Batch 5,720  of  10,835.    Elapsed: 2:08:40.\n",
            "  Batch 5,760  of  10,835.    Elapsed: 2:09:34.\n",
            "  Batch 5,800  of  10,835.    Elapsed: 2:10:28.\n",
            "  Batch 5,840  of  10,835.    Elapsed: 2:11:22.\n",
            "  Batch 5,880  of  10,835.    Elapsed: 2:12:17.\n",
            "  Batch 5,920  of  10,835.    Elapsed: 2:13:11.\n",
            "  Batch 5,960  of  10,835.    Elapsed: 2:14:05.\n",
            "  Batch 6,000  of  10,835.    Elapsed: 2:15:04.\n",
            "  Batch 6,040  of  10,835.    Elapsed: 2:15:57.\n",
            "  Batch 6,080  of  10,835.    Elapsed: 2:16:51.\n",
            "  Batch 6,120  of  10,835.    Elapsed: 2:17:45.\n",
            "  Batch 6,160  of  10,835.    Elapsed: 2:18:38.\n",
            "  Batch 6,200  of  10,835.    Elapsed: 2:19:33.\n",
            "  Batch 6,240  of  10,835.    Elapsed: 2:20:27.\n",
            "  Batch 6,280  of  10,835.    Elapsed: 2:21:22.\n",
            "  Batch 6,320  of  10,835.    Elapsed: 2:22:17.\n",
            "  Batch 6,360  of  10,835.    Elapsed: 2:23:10.\n",
            "  Batch 6,400  of  10,835.    Elapsed: 2:24:05.\n",
            "  Batch 6,440  of  10,835.    Elapsed: 2:24:58.\n",
            "  Batch 6,480  of  10,835.    Elapsed: 2:25:53.\n",
            "  Batch 6,520  of  10,835.    Elapsed: 2:26:47.\n",
            "  Batch 6,560  of  10,835.    Elapsed: 2:27:40.\n",
            "  Batch 6,600  of  10,835.    Elapsed: 2:28:34.\n",
            "  Batch 6,640  of  10,835.    Elapsed: 2:29:29.\n",
            "  Batch 6,680  of  10,835.    Elapsed: 2:30:23.\n",
            "  Batch 6,720  of  10,835.    Elapsed: 2:31:17.\n",
            "  Batch 6,760  of  10,835.    Elapsed: 2:32:11.\n",
            "  Batch 6,800  of  10,835.    Elapsed: 2:33:05.\n",
            "  Batch 6,840  of  10,835.    Elapsed: 2:33:58.\n",
            "  Batch 6,880  of  10,835.    Elapsed: 2:34:51.\n",
            "  Batch 6,920  of  10,835.    Elapsed: 2:35:46.\n",
            "  Batch 6,960  of  10,835.    Elapsed: 2:36:40.\n",
            "  Batch 7,000  of  10,835.    Elapsed: 2:37:34.\n",
            "  Batch 7,040  of  10,835.    Elapsed: 2:38:29.\n",
            "  Batch 7,080  of  10,835.    Elapsed: 2:39:23.\n",
            "  Batch 7,120  of  10,835.    Elapsed: 2:40:18.\n",
            "  Batch 7,160  of  10,835.    Elapsed: 2:41:12.\n",
            "  Batch 7,200  of  10,835.    Elapsed: 2:42:05.\n",
            "  Batch 7,240  of  10,835.    Elapsed: 2:42:59.\n",
            "  Batch 7,280  of  10,835.    Elapsed: 2:43:53.\n",
            "  Batch 7,320  of  10,835.    Elapsed: 2:44:47.\n",
            "  Batch 7,360  of  10,835.    Elapsed: 2:45:41.\n",
            "  Batch 7,400  of  10,835.    Elapsed: 2:46:36.\n",
            "  Batch 7,440  of  10,835.    Elapsed: 2:47:30.\n",
            "  Batch 7,480  of  10,835.    Elapsed: 2:48:23.\n",
            "  Batch 7,520  of  10,835.    Elapsed: 2:49:17.\n",
            "  Batch 7,560  of  10,835.    Elapsed: 2:50:10.\n",
            "  Batch 7,600  of  10,835.    Elapsed: 2:51:03.\n",
            "  Batch 7,640  of  10,835.    Elapsed: 2:51:58.\n",
            "  Batch 7,680  of  10,835.    Elapsed: 2:52:52.\n",
            "  Batch 7,720  of  10,835.    Elapsed: 2:53:45.\n",
            "  Batch 7,760  of  10,835.    Elapsed: 2:54:39.\n",
            "  Batch 7,800  of  10,835.    Elapsed: 2:55:33.\n",
            "  Batch 7,840  of  10,835.    Elapsed: 2:56:28.\n",
            "  Batch 7,880  of  10,835.    Elapsed: 2:57:21.\n",
            "  Batch 7,920  of  10,835.    Elapsed: 2:58:15.\n",
            "  Batch 7,960  of  10,835.    Elapsed: 2:59:08.\n",
            "  Batch 8,000  of  10,835.    Elapsed: 3:00:01.\n",
            "  Batch 8,040  of  10,835.    Elapsed: 3:00:55.\n",
            "  Batch 8,080  of  10,835.    Elapsed: 3:01:48.\n",
            "  Batch 8,120  of  10,835.    Elapsed: 3:02:50.\n",
            "  Batch 8,160  of  10,835.    Elapsed: 3:03:43.\n",
            "  Batch 8,200  of  10,835.    Elapsed: 3:04:37.\n",
            "  Batch 8,240  of  10,835.    Elapsed: 3:05:30.\n",
            "  Batch 8,280  of  10,835.    Elapsed: 3:06:24.\n",
            "  Batch 8,320  of  10,835.    Elapsed: 3:07:17.\n",
            "  Batch 8,360  of  10,835.    Elapsed: 3:08:10.\n",
            "  Batch 8,400  of  10,835.    Elapsed: 3:09:05.\n",
            "  Batch 8,440  of  10,835.    Elapsed: 3:09:58.\n",
            "  Batch 8,480  of  10,835.    Elapsed: 3:10:51.\n",
            "  Batch 8,520  of  10,835.    Elapsed: 3:11:45.\n",
            "  Batch 8,560  of  10,835.    Elapsed: 3:12:39.\n",
            "  Batch 8,600  of  10,835.    Elapsed: 3:13:34.\n",
            "  Batch 8,640  of  10,835.    Elapsed: 3:14:34.\n",
            "  Batch 8,680  of  10,835.    Elapsed: 3:15:27.\n",
            "  Batch 8,720  of  10,835.    Elapsed: 3:16:20.\n",
            "  Batch 8,760  of  10,835.    Elapsed: 3:17:14.\n",
            "  Batch 8,800  of  10,835.    Elapsed: 3:18:08.\n",
            "  Batch 8,840  of  10,835.    Elapsed: 3:19:01.\n",
            "  Batch 8,880  of  10,835.    Elapsed: 3:19:55.\n",
            "  Batch 8,920  of  10,835.    Elapsed: 3:20:50.\n",
            "  Batch 8,960  of  10,835.    Elapsed: 3:21:45.\n",
            "  Batch 9,000  of  10,835.    Elapsed: 3:22:39.\n",
            "  Batch 9,040  of  10,835.    Elapsed: 3:23:41.\n",
            "  Batch 9,080  of  10,835.    Elapsed: 3:24:35.\n",
            "  Batch 9,120  of  10,835.    Elapsed: 3:25:28.\n",
            "  Batch 9,160  of  10,835.    Elapsed: 3:26:21.\n",
            "  Batch 9,200  of  10,835.    Elapsed: 3:27:15.\n",
            "  Batch 9,240  of  10,835.    Elapsed: 3:28:09.\n",
            "  Batch 9,280  of  10,835.    Elapsed: 3:29:03.\n",
            "  Batch 9,320  of  10,835.    Elapsed: 3:29:56.\n",
            "  Batch 9,360  of  10,835.    Elapsed: 3:30:50.\n",
            "  Batch 9,400  of  10,835.    Elapsed: 3:31:51.\n",
            "  Batch 9,440  of  10,835.    Elapsed: 3:32:45.\n",
            "  Batch 9,480  of  10,835.    Elapsed: 3:33:38.\n",
            "  Batch 9,520  of  10,835.    Elapsed: 3:34:32.\n",
            "  Batch 9,560  of  10,835.    Elapsed: 3:35:26.\n",
            "  Batch 9,600  of  10,835.    Elapsed: 3:36:19.\n",
            "  Batch 9,640  of  10,835.    Elapsed: 3:37:13.\n",
            "  Batch 9,680  of  10,835.    Elapsed: 3:38:06.\n",
            "  Batch 9,720  of  10,835.    Elapsed: 3:39:00.\n",
            "  Batch 9,760  of  10,835.    Elapsed: 3:39:54.\n",
            "  Batch 9,800  of  10,835.    Elapsed: 3:40:48.\n",
            "  Batch 9,840  of  10,835.    Elapsed: 3:41:41.\n",
            "  Batch 9,880  of  10,835.    Elapsed: 3:42:36.\n",
            "  Batch 9,920  of  10,835.    Elapsed: 3:43:30.\n",
            "  Batch 9,960  of  10,835.    Elapsed: 3:44:30.\n",
            "  Batch 10,000  of  10,835.    Elapsed: 3:45:24.\n",
            "  Batch 10,040  of  10,835.    Elapsed: 3:46:17.\n",
            "  Batch 10,080  of  10,835.    Elapsed: 3:47:10.\n",
            "  Batch 10,120  of  10,835.    Elapsed: 3:48:04.\n",
            "  Batch 10,160  of  10,835.    Elapsed: 3:48:57.\n",
            "  Batch 10,200  of  10,835.    Elapsed: 3:49:51.\n",
            "  Batch 10,240  of  10,835.    Elapsed: 3:50:45.\n",
            "  Batch 10,280  of  10,835.    Elapsed: 3:51:38.\n",
            "  Batch 10,320  of  10,835.    Elapsed: 3:52:33.\n",
            "  Batch 10,360  of  10,835.    Elapsed: 3:53:26.\n",
            "  Batch 10,400  of  10,835.    Elapsed: 3:54:20.\n",
            "  Batch 10,440  of  10,835.    Elapsed: 3:55:14.\n",
            "  Batch 10,480  of  10,835.    Elapsed: 3:56:07.\n",
            "  Batch 10,520  of  10,835.    Elapsed: 3:57:01.\n",
            "  Batch 10,560  of  10,835.    Elapsed: 3:57:55.\n",
            "  Batch 10,600  of  10,835.    Elapsed: 3:58:49.\n",
            "  Batch 10,640  of  10,835.    Elapsed: 3:59:43.\n",
            "  Batch 10,680  of  10,835.    Elapsed: 4:00:36.\n",
            "  Batch 10,720  of  10,835.    Elapsed: 4:01:30.\n",
            "  Batch 10,760  of  10,835.    Elapsed: 4:02:24.\n",
            "  Batch 10,800  of  10,835.    Elapsed: 4:03:18.\n",
            "\n",
            "  Average training loss: 1.79\n",
            "  Training epcoh took: 4:04:07\n",
            "\n",
            "Running Validation...\n",
            "  Accuracy: 0.49\n",
            "  Validation Loss: 1.67\n",
            "  Validation took: 0:08:15\n",
            "\n",
            "Training complete!\n",
            "Total training took 4:12:22 (h:mm:ss)\n"
          ]
        }
      ]
    },
    {
      "cell_type": "code",
      "source": [
        "torch.save(model_mdeberta,filepath+'model_mdeberta_eng_final_retrained.pt')"
      ],
      "metadata": {
        "id": "aV7Nc2rG5RZs"
      },
      "execution_count": null,
      "outputs": []
    },
    {
      "cell_type": "code",
      "source": [
        "#Clear CUDA cache\n",
        "import gc\n",
        "\n",
        "gc.collect()\n",
        "\n",
        "torch.cuda.empty_cache()"
      ],
      "metadata": {
        "id": "gpzmQhZH0RBh"
      },
      "execution_count": null,
      "outputs": []
    },
    {
      "cell_type": "code",
      "source": [
        "#retrained again for 2 epochs\n",
        "model_mdeberta_eng = torch.load(filepath+'model_mdeberta_eng_final.pt')"
      ],
      "metadata": {
        "id": "B1WT5czKJ24m"
      },
      "execution_count": 41,
      "outputs": []
    },
    {
      "cell_type": "markdown",
      "source": [
        "** Preprocess eng test and predict using fine-tuned english mdeberta**"
      ],
      "metadata": {
        "id": "iboluzL8NAgm"
      }
    },
    {
      "cell_type": "code",
      "source": [
        "import pandas as pd\n",
        "from torch.utils.data import DataLoader, RandomSampler, SequentialSampler\n",
        "\n",
        "def test_preprocessing(test_sentences,test_labels, tokenizer, batchsize,maxlength):\n",
        "  input_ids_test,attention_masks_test,labels_test = process_trainingdata(tokenizer,test_sentences,test_labels)\n",
        "\n",
        "  # Set the batch size.  \n",
        "  batch_size = batchsize \n",
        "\n",
        "  # Create the DataLoader.\n",
        "  prediction_data = TensorDataset(input_ids_test, attention_masks_test, labels_test)\n",
        "  prediction_sampler = SequentialSampler(prediction_data)\n",
        "  prediction_dataloader = DataLoader(prediction_data, sampler=prediction_sampler, batch_size=batch_size)\n",
        "\n",
        "  return prediction_dataloader"
      ],
      "metadata": {
        "id": "UkwwH5x50Q-6"
      },
      "execution_count": 25,
      "outputs": []
    },
    {
      "cell_type": "code",
      "source": [
        "prediction_dataloader_eng_test = test_preprocessing(rte_test_sentences,rte_test_labels,tokenizer_mdeberta,32,150)"
      ],
      "metadata": {
        "id": "wJNR7oSC0Q8U",
        "colab": {
          "base_uri": "https://localhost:8080/"
        },
        "outputId": "a35fa42f-947c-4d26-ea19-e97e4115f274"
      },
      "execution_count": 26,
      "outputs": [
        {
          "output_type": "stream",
          "name": "stderr",
          "text": [
            "Truncation was not explicitly activated but `max_length` is provided a specific value, please use `truncation=True` to explicitly truncate examples to max length. Defaulting to 'longest_first' truncation strategy. If you encode pairs of sequences (GLUE-style) with the tokenizer you can select this strategy more precisely by providing a specific strategy to `truncation`.\n",
            "/usr/local/lib/python3.7/dist-packages/transformers/tokenization_utils_base.py:2269: FutureWarning: The `pad_to_max_length` argument is deprecated and will be removed in a future version, use `padding=True` or `padding='longest'` to pad to the longest sequence in the batch, or use `padding='max_length'` to pad to a max length. In this case, you can give a specific length with `max_length` (e.g. `max_length=45`) or leave max_length to None to pad to the maximal input size of the model (e.g. 512 for Bert).\n",
            "  FutureWarning,\n"
          ]
        },
        {
          "output_type": "stream",
          "name": "stdout",
          "text": [
            "Original:  en Pelham Parkway\n",
            "Token IDs: tensor([    1,   290,  5175,  3373, 10677,  4134,     2,     0,     0,     0,\n",
            "            0,     0,     0,     0,     0,     0,     0,     0,     0,     0,\n",
            "            0,     0,     0,     0,     0,     0,     0,     0,     0,     0,\n",
            "            0,     0,     0,     0,     0,     0,     0,     0,     0,     0,\n",
            "            0,     0,     0,     0,     0,     0,     0,     0,     0,     0,\n",
            "            0,     0,     0,     0,     0,     0,     0,     0,     0,     0,\n",
            "            0,     0,     0,     0,     0,     0,     0,     0,     0,     0,\n",
            "            0,     0,     0,     0,     0,     0,     0,     0,     0,     0,\n",
            "            0,     0,     0,     0,     0,     0,     0,     0,     0,     0,\n",
            "            0,     0,     0,     0,     0,     0,     0,     0,     0,     0,\n",
            "            0,     0,     0,     0,     0,     0,     0,     0,     0,     0,\n",
            "            0,     0,     0,     0,     0,     0,     0,     0,     0,     0,\n",
            "            0,     0,     0,     0,     0,     0,     0,     0,     0,     0,\n",
            "            0,     0,     0,     0,     0,     0,     0,     0,     0,     0,\n",
            "            0,     0,     0,     0,     0,     0,     0,     0,     0,     0])\n"
          ]
        }
      ]
    },
    {
      "cell_type": "code",
      "source": [
        "def predicttestset(model,prediction_dataloader):\n",
        "  model.eval()\n",
        "\n",
        "  # Tracking variables \n",
        "  predictions , true_labels = [], []\n",
        "  total_eval_accuracy = 0\n",
        "  act_pred_label = []\n",
        "  act_true_labels = []\n",
        "\n",
        "  # Predict \n",
        "  for batch in prediction_dataloader:\n",
        "    # Add batch to GPU\n",
        "    batch = tuple(t.to(device) for t in batch)\n",
        "  \n",
        "    # Unpack the inputs from our dataloader\n",
        "    b_input_ids, b_input_mask, b_labels = batch\n",
        "  \n",
        "    # Telling the model not to compute or store gradients, saving memory and \n",
        "    # speeding up prediction\n",
        "    with torch.no_grad():\n",
        "      # Forward pass, calculate logit predictions.\n",
        "      result = model(b_input_ids, \n",
        "                     token_type_ids=None, \n",
        "                     attention_mask=b_input_mask,\n",
        "                     return_dict=True)\n",
        "\n",
        "    logits = result.logits\n",
        "    # Move logits and labels to CPU\n",
        "    logits = logits.detach().cpu().numpy()\n",
        "    label_ids = b_labels.to('cpu').numpy()\n",
        "    total_eval_accuracy += flat_accuracy(logits, label_ids)\n",
        "  \n",
        "    # Store predictions and true labels\n",
        "    predictions.append(logits)\n",
        "    #print(type(logits))\n",
        "    true_labels.append(label_ids)\n",
        "    predict_content = logits.argmax(axis=-1).flatten().tolist()\n",
        "    act_pred_label += predict_content\n",
        "    #print(act_pred_label)\n",
        "    act_true_labels += label_ids.flatten().tolist()\n",
        "    #print(act_pred_label)\n",
        "  #print(len(act_pred_label),len(act_true_labels))\n",
        "  return total_eval_accuracy*100/len(prediction_dataloader), act_pred_label,act_true_labels"
      ],
      "metadata": {
        "id": "bLyF25Jy0qdb"
      },
      "execution_count": 27,
      "outputs": []
    },
    {
      "cell_type": "code",
      "source": [
        "def flat_accuracy_topk(preds, labels, topk):\n",
        "    count = 0\n",
        "    labels_flat = labels.flatten()\n",
        "    for i in range(len(preds)):\n",
        "      logits = preds[i].argsort()[::-1][:topk]\n",
        "      # uncomment to print the first value and comment for the accuracy calculation\n",
        "      if i==2:\n",
        "        print(logits)\n",
        "      if labels[i] in logits:\n",
        "        count += 1\n",
        "    return count / len(labels_flat)\n",
        "\n",
        "\n",
        "def predicttestset_topk(model, prediction_dataloader, topk):\n",
        "  model.eval()\n",
        "\n",
        "  # Tracking variables \n",
        "  predictions , true_labels = [], []\n",
        "  total_eval_accuracy = 0\n",
        "  total_eval_loss = 0\n",
        "\n",
        "  # Predict \n",
        "  for batch in prediction_dataloader:\n",
        "    # Add batch to GPU\n",
        "    batch = tuple(t.to(device) for t in batch)\n",
        "  \n",
        "    # Unpack the inputs from our dataloader\n",
        "    b_input_ids, b_input_mask, b_labels = batch\n",
        "  \n",
        "    # Telling the model not to compute or store gradients, saving memory and \n",
        "    # speeding up prediction\n",
        "    with torch.no_grad():\n",
        "      # Forward pass, calculate logit predictions.\n",
        "      result = model(b_input_ids, \n",
        "                     token_type_ids=None, \n",
        "                     attention_mask=b_input_mask,\n",
        "                     return_dict=True)\n",
        "\n",
        "    # loss = result.loss\n",
        "    logits = result.logits\n",
        "    # total_eval_loss += loss.item()\n",
        "\n",
        "    # Move logits and labels to CPU\n",
        "    logits = logits.detach().cpu().numpy()\n",
        "    label_ids = b_labels.to('cpu').numpy()\n",
        "    # print(len(logits), len(label_ids))\n",
        "    total_eval_accuracy += flat_accuracy_topk(logits, label_ids, topk)\n",
        "    # print(total_eval_accuracy)\n",
        "    # return\n",
        "    # Store predictions and true labels\n",
        "    predictions.append(logits.argmax(axis=-1).flatten().tolist())\n",
        "    true_labels.append(label_ids)\n",
        "    # print(len(predictions[0]), len(true_labels[0]))\n",
        "  total_acc = total_eval_accuracy*100/len(prediction_dataloader)\n",
        "  # total_loss = total_eval_loss*100/len(prediction_dataloader)\n",
        "  return total_acc, predictions, true_labels"
      ],
      "metadata": {
        "id": "lfthSvVyNG6F"
      },
      "execution_count": 49,
      "outputs": []
    },
    {
      "cell_type": "code",
      "source": [
        "acc_ee, pred_label_ee, true_labels_ee = predicttestset(model_mdeberta_eng,prediction_dataloader_eng_test)"
      ],
      "metadata": {
        "id": "ZUEyplDN4dEx"
      },
      "execution_count": 38,
      "outputs": []
    },
    {
      "cell_type": "code",
      "source": [
        "import pandas as pd\n",
        "df_ee = pd.DataFrame(list(zip(true_labels_ee, pred_label_ee)),\n",
        "               columns =['TrueLabels', 'Prediction'])"
      ],
      "metadata": {
        "id": "UbK00cw5Lm8H"
      },
      "execution_count": 42,
      "outputs": []
    },
    {
      "cell_type": "code",
      "source": [
        "df_ee.to_csv(filepath+'ee.csv')"
      ],
      "metadata": {
        "id": "8WzNAwL7L_k2"
      },
      "execution_count": 43,
      "outputs": []
    },
    {
      "cell_type": "code",
      "source": [
        "df_ee = pd.read_csv(filepath+'ee.csv')\n",
        "true_labels_ee = df_ee.TrueLabels.values\n",
        "pred_label_ee = df_ee.Prediction.values"
      ],
      "metadata": {
        "id": "pUXlOxPyMUxB"
      },
      "execution_count": 69,
      "outputs": []
    },
    {
      "cell_type": "code",
      "source": [
        "from sklearn.metrics import classification_report\n",
        "emoji_list_ee = ['❤', '😍', '😂', '💕', '🔥', '😊', '😎', '✨', '💙', '😘', '📷', '🇺🇸', '☀', '💜', '😉', '💯', '😁', '🎄', '📸', '😜']\n",
        "final_repo = classification_report(true_labels_ee, pred_label_ee, zero_division=1,target_names = emoji_list_ee)\n",
        "print(final_repo)\n"
      ],
      "metadata": {
        "colab": {
          "base_uri": "https://localhost:8080/"
        },
        "id": "jUBvENyL4c_J",
        "outputId": "367c1294-e694-4b3c-99e4-2d7dd98077f5"
      },
      "execution_count": 70,
      "outputs": [
        {
          "output_type": "stream",
          "name": "stdout",
          "text": [
            "              precision    recall  f1-score   support\n",
            "\n",
            "           ❤       0.94      0.83      0.88     10798\n",
            "           😍       0.32      0.58      0.41      4830\n",
            "           😂       0.44      0.63      0.52      4534\n",
            "           💕       0.26      0.31      0.28      2605\n",
            "           🔥       0.62      0.57      0.59      3716\n",
            "           😊       0.16      0.24      0.19      1613\n",
            "           😎       0.22      0.20      0.21      1996\n",
            "           ✨       0.39      0.35      0.37      2749\n",
            "           💙       0.29      0.06      0.10      1549\n",
            "           😘       0.22      0.22      0.22      1175\n",
            "           📷       0.32      0.81      0.45      1432\n",
            "          🇺🇸       0.70      0.67      0.69      1949\n",
            "           ☀       0.71      0.69      0.70      1265\n",
            "           💜       1.00      0.00      0.00      1114\n",
            "           😉       0.15      0.02      0.04      1306\n",
            "           💯       0.38      0.30      0.34      1244\n",
            "           😁       0.67      0.02      0.04      1153\n",
            "           🎄       0.67      0.84      0.74      1545\n",
            "           📸       0.35      0.05      0.09      2417\n",
            "           😜       1.00      0.00      0.00      1010\n",
            "\n",
            "    accuracy                           0.50     50000\n",
            "   macro avg       0.49      0.37      0.34     50000\n",
            "weighted avg       0.55      0.50      0.47     50000\n",
            "\n"
          ]
        }
      ]
    },
    {
      "cell_type": "code",
      "source": [
        "import pandas as pd\n",
        "import seaborn as sns\n",
        "from sklearn.metrics import classification_report\n",
        "evaluation_report = classification_report(true_labels_ee, pred_label_ee, output_dict=True, zero_division=1)\n",
        "sns.heatmap(pd.DataFrame(evaluation_report).iloc[:-1, :].T, annot=True)"
      ],
      "metadata": {
        "colab": {
          "base_uri": "https://localhost:8080/",
          "height": 287
        },
        "id": "UKbHW9euMJIl",
        "outputId": "dfe3d5eb-ed07-413e-a27d-3e0ec2c5e7f0"
      },
      "execution_count": 71,
      "outputs": [
        {
          "output_type": "execute_result",
          "data": {
            "text/plain": [
              "<matplotlib.axes._subplots.AxesSubplot at 0x7fa752d2a690>"
            ]
          },
          "metadata": {},
          "execution_count": 71
        },
        {
          "output_type": "display_data",
          "data": {
            "text/plain": [
              "<Figure size 432x288 with 2 Axes>"
            ],
            "image/png": "[encoded data removed]"
          },
          "metadata": {
            "needs_background": "light"
          }
        }
      ]
    },
    {
      "cell_type": "code",
      "source": [
        "print('The accuracy for fine-tune mDeberta using english train data on english test set is:',acc_ee,'%')"
      ],
      "metadata": {
        "colab": {
          "base_uri": "https://localhost:8080/"
        },
        "id": "rTG6E_B9VEtL",
        "outputId": "08adee0b-312c-4e70-a6f9-98f0f2fef8fc"
      },
      "execution_count": 72,
      "outputs": [
        {
          "output_type": "stream",
          "name": "stdout",
          "text": [
            "The accuracy for fine-tune mDeberta using english train data on english test set is: 50.28023032629559 %\n"
          ]
        }
      ]
    },
    {
      "cell_type": "code",
      "source": [
        "acc_ee_3, pred_label_ee_3, true_labels_ee_3 = predicttestset_topk(model_mdeberta_eng, prediction_dataloader_eng_test, 3)"
      ],
      "metadata": {
        "id": "Asc-FkpzMMOr"
      },
      "execution_count": 77,
      "outputs": []
    },
    {
      "cell_type": "code",
      "source": [
        "print(df_test_eng.Text.values[0])\n",
        "print('The top 3 prediction for the above sentence are:',[10, 18,  7], 'and corresponding emojis are:','📷','📸','✨')"
      ],
      "metadata": {
        "colab": {
          "base_uri": "https://localhost:8080/"
        },
        "id": "GUdGDufWM9ec",
        "outputId": "242887b2-988d-4408-cd2d-238ca4553713"
      },
      "execution_count": 73,
      "outputs": [
        {
          "output_type": "stream",
          "name": "stdout",
          "text": [
            "en Pelham Parkway\n",
            "The top 3 prediction for the above sentence are: [10, 18, 7] and corresponding emojis are: 📷 📸 ✨\n"
          ]
        }
      ]
    },
    {
      "cell_type": "code",
      "source": [
        "print('The top 3 accuracy for fine-tune english mDeberta on English test set is:',acc_ee_3,'%')"
      ],
      "metadata": {
        "colab": {
          "base_uri": "https://localhost:8080/"
        },
        "id": "wkh-WdMYX7RM",
        "outputId": "ac0ae8f6-b06d-4c97-bea7-cbb30dd56dc2"
      },
      "execution_count": 80,
      "outputs": [
        {
          "output_type": "stream",
          "name": "stdout",
          "text": [
            "The top 3 accuracy for fine-tune english mDeberta on English test set is: 71.32549584133078 %\n"
          ]
        }
      ]
    },
    {
      "cell_type": "code",
      "source": [
        "acc_ee_5, pred_label_ee_5, true_labels_ee_5 = predicttestset_topk(model_mdeberta_eng, prediction_dataloader_eng_test, 5)"
      ],
      "metadata": {
        "id": "OY-L1ST8NM2u"
      },
      "execution_count": 82,
      "outputs": []
    },
    {
      "cell_type": "code",
      "source": [
        "acc_ee_5_, pred_label_ee_5_, true_labels_ee_5_ = predicttestset_topk(model_mdeberta_eng, prediction_dataloader_eng_test, 5)"
      ],
      "metadata": {
        "id": "s_HhiljCGmlN"
      },
      "execution_count": null,
      "outputs": []
    },
    {
      "cell_type": "code",
      "source": [
        "print(df_test_eng.Text.values[1])\n",
        "print('The top 5 prediction for the above sentence are:',[10, 18,  7,  4, 15], 'and corresponding emojis are:','📷','📸','✨','🔥','💯')"
      ],
      "metadata": {
        "colab": {
          "base_uri": "https://localhost:8080/"
        },
        "id": "FlsEs723NRvA",
        "outputId": "b01ecdce-4717-4f11-ecf2-7f1e0da11182"
      },
      "execution_count": 74,
      "outputs": [
        {
          "output_type": "stream",
          "name": "stdout",
          "text": [
            "en Pelham Parkway\n",
            "The top 5 prediction for the above sentence are: [10, 18, 7, 4, 15] and corresponding emojis are: 📷 📸 ✨ 🔥 💯\n"
          ]
        }
      ]
    },
    {
      "cell_type": "code",
      "source": [
        "print('The top 5 accuracy for fine-tune english mDeberta on English test set is:',acc_ee_5,'%')"
      ],
      "metadata": {
        "colab": {
          "base_uri": "https://localhost:8080/"
        },
        "id": "tzigj7LseWoH",
        "outputId": "19631e28-8a46-480d-8757-218da29fa733"
      },
      "execution_count": 84,
      "outputs": [
        {
          "output_type": "stream",
          "name": "stdout",
          "text": [
            "The top 5 accuracy for fine-tune english mDeberta on English test set is: 80.53051823416507 %\n"
          ]
        }
      ]
    },
    {
      "cell_type": "markdown",
      "source": [
        "** Preprocess spanish test and predict using fine-tuned english mdeberta**"
      ],
      "metadata": {
        "id": "6gQM59UaUPou"
      }
    },
    {
      "cell_type": "code",
      "source": [
        "import pandas as pd\n",
        "df_test_span = pd.read_csv(filepath+'test/es_modifiedTestData1.csv')"
      ],
      "metadata": {
        "id": "1x5jEk3wUNh5"
      },
      "execution_count": 44,
      "outputs": []
    },
    {
      "cell_type": "code",
      "source": [
        "prediction_dataloader_span_test = test_preprocessing(df_test_span.Text.values,df_test_span.Label.values,tokenizer_mdeberta,32,150)"
      ],
      "metadata": {
        "colab": {
          "base_uri": "https://localhost:8080/"
        },
        "id": "CswUDkvsVub1",
        "outputId": "ec1907a2-39c3-46f7-b27e-af043a55da08"
      },
      "execution_count": 45,
      "outputs": [
        {
          "output_type": "stream",
          "name": "stderr",
          "text": [
            "/usr/local/lib/python3.7/dist-packages/transformers/tokenization_utils_base.py:2269: FutureWarning: The `pad_to_max_length` argument is deprecated and will be removed in a future version, use `padding=True` or `padding='longest'` to pad to the longest sequence in the batch, or use `padding='max_length'` to pad to a max length. In this case, you can give a specific length with `max_length` (e.g. `max_length=45`) or leave max_length to None to pad to the maximal input size of the model (e.g. 512 for Bert).\n",
            "  FutureWarning,\n"
          ]
        },
        {
          "output_type": "stream",
          "name": "stdout",
          "text": [
            "Original:  Buenos días desde Valencia en Comunidad Valenciana, Spain\n",
            "Token IDs: tensor([     1,  26693,    264,    260,  15171,    260,   4401,    260, 134403,\n",
            "           290,    260,  28243,    260, 143420,    263,    262,    260, 172563,\n",
            "             2,      0,      0,      0,      0,      0,      0,      0,      0,\n",
            "             0,      0,      0,      0,      0,      0,      0,      0,      0,\n",
            "             0,      0,      0,      0,      0,      0,      0,      0,      0,\n",
            "             0,      0,      0,      0,      0,      0,      0,      0,      0,\n",
            "             0,      0,      0,      0,      0,      0,      0,      0,      0,\n",
            "             0,      0,      0,      0,      0,      0,      0,      0,      0,\n",
            "             0,      0,      0,      0,      0,      0,      0,      0,      0,\n",
            "             0,      0,      0,      0,      0,      0,      0,      0,      0,\n",
            "             0,      0,      0,      0,      0,      0,      0,      0,      0,\n",
            "             0,      0,      0,      0,      0,      0,      0,      0,      0,\n",
            "             0,      0,      0,      0,      0,      0,      0,      0,      0,\n",
            "             0,      0,      0,      0,      0,      0,      0,      0,      0,\n",
            "             0,      0,      0,      0,      0,      0,      0,      0,      0,\n",
            "             0,      0,      0,      0,      0,      0,      0,      0,      0,\n",
            "             0,      0,      0,      0,      0,      0])\n"
          ]
        }
      ]
    },
    {
      "cell_type": "code",
      "source": [
        "acc_es, pred_label_es, true_labels_es = predicttestset(model_mdeberta_eng,prediction_dataloader_span_test)"
      ],
      "metadata": {
        "id": "ZBky4mcT4KKW"
      },
      "execution_count": 47,
      "outputs": []
    },
    {
      "cell_type": "code",
      "source": [
        "import pandas as pd\n",
        "df_es = pd.DataFrame(list(zip(true_labels_es, pred_label_es)),\n",
        "               columns =['TrueLabels', 'Prediction'])"
      ],
      "metadata": {
        "id": "IsKpSVfVNzc5"
      },
      "execution_count": 50,
      "outputs": []
    },
    {
      "cell_type": "code",
      "source": [
        "df_es.to_csv(filepath+'es.csv')"
      ],
      "metadata": {
        "id": "X5hrMtF0N9rY"
      },
      "execution_count": 81,
      "outputs": []
    },
    {
      "cell_type": "code",
      "source": [
        "df_es = pd.read_csv(filepath+'es.csv')"
      ],
      "metadata": {
        "id": "ofgt_t9jN_2D"
      },
      "execution_count": 86,
      "outputs": []
    },
    {
      "cell_type": "code",
      "source": [
        "true_labels_es = df_es.TrueLabels.values\n",
        "pred_label_es = df_es.Prediction.values"
      ],
      "metadata": {
        "id": "k24ywSiTO23O"
      },
      "execution_count": 87,
      "outputs": []
    },
    {
      "cell_type": "code",
      "source": [
        "from sklearn.metrics import classification_report\n",
        "emoji_list_es = ['❤', '😍', '😂', '💕', '🔥', '😊', '😎', '✨', '💙', '😘', '📷', '🇺🇸', '☀', '💜', '😉', '💯', '😁', '🎄', '📸', '😜','💪', '👌', '🇪🇸', '💞', '🎶', '💘']\n",
        "final_repo = classification_report(true_labels_es, pred_label_es, zero_division=1,target_names=emoji_list_es)\n",
        "print(final_repo)"
      ],
      "metadata": {
        "colab": {
          "base_uri": "https://localhost:8080/"
        },
        "id": "M7KgfDds4bmK",
        "outputId": "d67cb50c-e89e-4766-a45e-9fbf25bdeef3"
      },
      "execution_count": 88,
      "outputs": [
        {
          "output_type": "stream",
          "name": "stdout",
          "text": [
            "              precision    recall  f1-score   support\n",
            "\n",
            "           ❤       0.98      0.53      0.69      2141\n",
            "           😍       0.32      0.52      0.40      1408\n",
            "           😂       0.48      0.71      0.57      1499\n",
            "           💕       0.10      0.20      0.13       352\n",
            "           🔥       0.00      1.00      0.00         0\n",
            "           😊       0.16      0.23      0.19       514\n",
            "           😎       0.12      0.23      0.16       339\n",
            "           ✨       0.22      0.28      0.25       416\n",
            "           💙       0.31      0.06      0.10       413\n",
            "           😘       0.25      0.24      0.24       397\n",
            "           📷       0.00      1.00      0.00         0\n",
            "          🇺🇸       0.00      1.00      0.00         0\n",
            "           ☀       0.00      1.00      0.00         0\n",
            "           💜       1.00      0.00      0.00       235\n",
            "           😉       0.69      0.26      0.38       453\n",
            "           💯       0.00      1.00      0.00         0\n",
            "           😁       0.00      0.00      0.00       209\n",
            "           🎄       0.00      1.00      0.00         0\n",
            "           📸       0.00      1.00      0.00         0\n",
            "           😜       1.00      0.00      0.00       274\n",
            "           💪       1.00      0.00      0.00       307\n",
            "           👌       1.00      0.00      0.00       180\n",
            "          🇪🇸       1.00      0.00      0.00       424\n",
            "           💞       1.00      0.00      0.00        93\n",
            "           🎶       1.00      0.00      0.00       212\n",
            "           💘       1.00      0.00      0.00       134\n",
            "\n",
            "    accuracy                           0.35     10000\n",
            "   macro avg       0.45      0.39      0.12     10000\n",
            "weighted avg       0.59      0.35      0.35     10000\n",
            "\n"
          ]
        }
      ]
    },
    {
      "cell_type": "code",
      "source": [
        "import pandas as pd\n",
        "import seaborn as sns\n",
        "evaluation_report = classification_report(true_labels_es, pred_label_es, output_dict=True, zero_division=1)\n",
        "sns.heatmap(pd.DataFrame(evaluation_report).iloc[:-1, :].T, annot=True)"
      ],
      "metadata": {
        "colab": {
          "base_uri": "https://localhost:8080/",
          "height": 287
        },
        "id": "1E9HFbBF42mw",
        "outputId": "fed54b54-8d2e-49e3-bd22-1edd2be66e4b"
      },
      "execution_count": 89,
      "outputs": [
        {
          "output_type": "execute_result",
          "data": {
            "text/plain": [
              "<matplotlib.axes._subplots.AxesSubplot at 0x7fa7525ae4d0>"
            ]
          },
          "metadata": {},
          "execution_count": 89
        },
        {
          "output_type": "display_data",
          "data": {
            "text/plain": [
              "<Figure size 432x288 with 2 Axes>"
            ],
            "image/png": "[encoded data removed]"
          },
          "metadata": {
            "needs_background": "light"
          }
        }
      ]
    },
    {
      "cell_type": "code",
      "source": [
        "print('The accuracy for fine-tune mDeberta using english train data on spanish test set is:',acc_es,'%')"
      ],
      "metadata": {
        "colab": {
          "base_uri": "https://localhost:8080/"
        },
        "id": "R7Xsgu90gfyJ",
        "outputId": "9e17d23e-ebb6-4864-b84e-fd2b9fa8751e"
      },
      "execution_count": 99,
      "outputs": [
        {
          "output_type": "stream",
          "name": "stdout",
          "text": [
            "The accuracy for fine-tune mDeberta using english train data on spanish test set is: 35.48514376996805 %\n"
          ]
        }
      ]
    },
    {
      "cell_type": "code",
      "source": [
        "acc_es_3, pred_label_es_3, true_labels_es_3 = predicttestset_topk(model_mdeberta_eng, prediction_dataloader_span_test, 3)"
      ],
      "metadata": {
        "id": "7eTLE5RsNxY_"
      },
      "execution_count": 95,
      "outputs": []
    },
    {
      "cell_type": "code",
      "source": [
        "print(df_test_span.Text.values[0])\n",
        "print('The top 3 prediction for the above sentence are:',[1, 9,  5], 'and corresponding emojis are:','😍','😘','😊')"
      ],
      "metadata": {
        "colab": {
          "base_uri": "https://localhost:8080/"
        },
        "id": "kHucwlvVNxQI",
        "outputId": "caee1e69-30f9-4277-a15a-d84dfeff7097"
      },
      "execution_count": 93,
      "outputs": [
        {
          "output_type": "stream",
          "name": "stdout",
          "text": [
            "Buenos días desde Valencia en Comunidad Valenciana, Spain\n",
            "The top 3 prediction for the above sentence are: [1, 9, 5] and corresponding emojis are: 😍 😘 😊\n"
          ]
        }
      ]
    },
    {
      "cell_type": "code",
      "source": [
        "print('The top 3 zero shot accuracy for fine-tune english mDeberta on Spanish test set is:',acc_es_3,'%')"
      ],
      "metadata": {
        "colab": {
          "base_uri": "https://localhost:8080/"
        },
        "id": "aZptFjm1grni",
        "outputId": "ca70b14d-f310-4e4d-ac2d-b521ca12a916"
      },
      "execution_count": 102,
      "outputs": [
        {
          "output_type": "stream",
          "name": "stdout",
          "text": [
            "The top 3 zero shot accuracy for fine-tune english mDeberta on Spanish test set is: 53.307907348242814 %\n"
          ]
        }
      ]
    },
    {
      "cell_type": "code",
      "source": [
        "acc_es_5, pred_label_es_5, true_labels_es_5 = predicttestset_topk(model_mdeberta_eng, prediction_dataloader_span_test, 5)"
      ],
      "metadata": {
        "id": "1YV1Zr2lNxLa"
      },
      "execution_count": 96,
      "outputs": []
    },
    {
      "cell_type": "code",
      "source": [
        "print('The top 5 zero shot accuracy for fine-tune english mdeberta on Spanish test set is:',acc_es_5,'%')"
      ],
      "metadata": {
        "colab": {
          "base_uri": "https://localhost:8080/"
        },
        "id": "MO2ebH7HOiWM",
        "outputId": "f7da7414-0c41-4ecb-a10e-ed10d66ca968"
      },
      "execution_count": 103,
      "outputs": [
        {
          "output_type": "stream",
          "name": "stdout",
          "text": [
            "The top 5 zero shot accuracy for fine-tune english mdeberta on Spanish test set is: 64.83865814696485 %\n"
          ]
        }
      ]
    },
    {
      "cell_type": "code",
      "source": [
        ""
      ],
      "metadata": {
        "id": "XtfbFqAPOiNq"
      },
      "execution_count": null,
      "outputs": []
    },
    {
      "cell_type": "markdown",
      "source": [
        "** fine tuning mDeberta on spanish training data**"
      ],
      "metadata": {
        "id": "HfWe3nXoXS_O"
      }
    },
    {
      "cell_type": "code",
      "source": [
        "import pandas as pd\n",
        "df_train_span = pd.read_csv(filepath+'train/crawler/data/spanish/es_modifiedTrainData.csv')"
      ],
      "metadata": {
        "id": "b9xS4uDxXZqP"
      },
      "execution_count": null,
      "outputs": []
    },
    {
      "cell_type": "code",
      "source": [
        "df_train_span"
      ],
      "metadata": {
        "colab": {
          "base_uri": "https://localhost:8080/",
          "height": 423
        },
        "id": "ynBcQrf7Z19I",
        "outputId": "685d8c45-fc3e-472c-ee4f-ccbb293d1dfc"
      },
      "execution_count": null,
      "outputs": [
        {
          "output_type": "execute_result",
          "data": {
            "text/plain": [
              "       Unnamed: 0                                               Text  Label\n",
              "0               0  Es imposible quererte más @ Plaza Del Callao -...      0\n",
              "1               1  Disfrutando de buena comida con buena compañía...      5\n",
              "2               2  Muchísimas Felicidades M!!! Nos vemos pronto! ...      8\n",
              "3               3  Y pensar que a esta persona la conozco de hace...      8\n",
              "4               4  ¡Que buenas son las noches así y que buena com...     25\n",
              "...           ...                                                ...    ...\n",
              "81160       81160  Cena en Madrid. Plan perfecto para descansar d...      1\n",
              "81161       81161  Cuando este triste miraré esta batalla de gall...      2\n",
              "81162       81162  @user cooooomoooo me hueeeeeleeeee a olviiiido...      9\n",
              "81163       81163         Mi amor @ Bar Concha Velasco Almendralejo       0\n",
              "81164       81164  Por todo lo que nos queda por vivir @ Residenc...      3\n",
              "\n",
              "[81165 rows x 3 columns]"
            ],
            "text/html": [
              "\n",
              "  <div id=\"df-a8ac5cf4-5835-46d9-9460-e5f940a01484\">\n",
              "    <div class=\"colab-df-container\">\n",
              "      <div>\n",
              "<style scoped>\n",
              "    .dataframe tbody tr th:only-of-type {\n",
              "        vertical-align: middle;\n",
              "    }\n",
              "\n",
              "    .dataframe tbody tr th {\n",
              "        vertical-align: top;\n",
              "    }\n",
              "\n",
              "    .dataframe thead th {\n",
              "        text-align: right;\n",
              "    }\n",
              "</style>\n",
              "<table border=\"1\" class=\"dataframe\">\n",
              "  <thead>\n",
              "    <tr style=\"text-align: right;\">\n",
              "      <th></th>\n",
              "      <th>Unnamed: 0</th>\n",
              "      <th>Text</th>\n",
              "      <th>Label</th>\n",
              "    </tr>\n",
              "  </thead>\n",
              "  <tbody>\n",
              "    <tr>\n",
              "      <th>0</th>\n",
              "      <td>0</td>\n",
              "      <td>Es imposible quererte más @ Plaza Del Callao -...</td>\n",
              "      <td>0</td>\n",
              "    </tr>\n",
              "    <tr>\n",
              "      <th>1</th>\n",
              "      <td>1</td>\n",
              "      <td>Disfrutando de buena comida con buena compañía...</td>\n",
              "      <td>5</td>\n",
              "    </tr>\n",
              "    <tr>\n",
              "      <th>2</th>\n",
              "      <td>2</td>\n",
              "      <td>Muchísimas Felicidades M!!! Nos vemos pronto! ...</td>\n",
              "      <td>8</td>\n",
              "    </tr>\n",
              "    <tr>\n",
              "      <th>3</th>\n",
              "      <td>3</td>\n",
              "      <td>Y pensar que a esta persona la conozco de hace...</td>\n",
              "      <td>8</td>\n",
              "    </tr>\n",
              "    <tr>\n",
              "      <th>4</th>\n",
              "      <td>4</td>\n",
              "      <td>¡Que buenas son las noches así y que buena com...</td>\n",
              "      <td>25</td>\n",
              "    </tr>\n",
              "    <tr>\n",
              "      <th>...</th>\n",
              "      <td>...</td>\n",
              "      <td>...</td>\n",
              "      <td>...</td>\n",
              "    </tr>\n",
              "    <tr>\n",
              "      <th>81160</th>\n",
              "      <td>81160</td>\n",
              "      <td>Cena en Madrid. Plan perfecto para descansar d...</td>\n",
              "      <td>1</td>\n",
              "    </tr>\n",
              "    <tr>\n",
              "      <th>81161</th>\n",
              "      <td>81161</td>\n",
              "      <td>Cuando este triste miraré esta batalla de gall...</td>\n",
              "      <td>2</td>\n",
              "    </tr>\n",
              "    <tr>\n",
              "      <th>81162</th>\n",
              "      <td>81162</td>\n",
              "      <td>@user cooooomoooo me hueeeeeleeeee a olviiiido...</td>\n",
              "      <td>9</td>\n",
              "    </tr>\n",
              "    <tr>\n",
              "      <th>81163</th>\n",
              "      <td>81163</td>\n",
              "      <td>Mi amor @ Bar Concha Velasco Almendralejo</td>\n",
              "      <td>0</td>\n",
              "    </tr>\n",
              "    <tr>\n",
              "      <th>81164</th>\n",
              "      <td>81164</td>\n",
              "      <td>Por todo lo que nos queda por vivir @ Residenc...</td>\n",
              "      <td>3</td>\n",
              "    </tr>\n",
              "  </tbody>\n",
              "</table>\n",
              "<p>81165 rows × 3 columns</p>\n",
              "</div>\n",
              "      <button class=\"colab-df-convert\" onclick=\"convertToInteractive('df-a8ac5cf4-5835-46d9-9460-e5f940a01484')\"\n",
              "              title=\"Convert this dataframe to an interactive table.\"\n",
              "              style=\"display:none;\">\n",
              "        \n",
              "  <svg xmlns=\"http://www.w3.org/2000/svg\" height=\"24px\"viewBox=\"0 0 24 24\"\n",
              "       width=\"24px\">\n",
              "    <path d=\"M0 0h24v24H0V0z\" fill=\"none\"/>\n",
              "    <path d=\"M18.56 5.44l.94 2.06.94-2.06 2.06-.94-2.06-.94-.94-2.06-.94 2.06-2.06.94zm-11 1L8.5 8.5l.94-2.06 2.06-.94-2.06-.94L8.5 2.5l-.94 2.06-2.06.94zm10 10l.94 2.06.94-2.06 2.06-.94-2.06-.94-.94-2.06-.94 2.06-2.06.94z\"/><path d=\"M17.41 7.96l-1.37-1.37c-.4-.4-.92-.59-1.43-.59-.52 0-1.04.2-1.43.59L10.3 9.45l-7.72 7.72c-.78.78-.78 2.05 0 2.83L4 21.41c.39.39.9.59 1.41.59.51 0 1.02-.2 1.41-.59l7.78-7.78 2.81-2.81c.8-.78.8-2.07 0-2.86zM5.41 20L4 18.59l7.72-7.72 1.47 1.35L5.41 20z\"/>\n",
              "  </svg>\n",
              "      </button>\n",
              "      \n",
              "  <style>\n",
              "    .colab-df-container {\n",
              "      display:flex;\n",
              "      flex-wrap:wrap;\n",
              "      gap: 12px;\n",
              "    }\n",
              "\n",
              "    .colab-df-convert {\n",
              "      background-color: #E8F0FE;\n",
              "      border: none;\n",
              "      border-radius: 50%;\n",
              "      cursor: pointer;\n",
              "      display: none;\n",
              "      fill: #1967D2;\n",
              "      height: 32px;\n",
              "      padding: 0 0 0 0;\n",
              "      width: 32px;\n",
              "    }\n",
              "\n",
              "    .colab-df-convert:hover {\n",
              "      background-color: #E2EBFA;\n",
              "      box-shadow: 0px 1px 2px rgba(60, 64, 67, 0.3), 0px 1px 3px 1px rgba(60, 64, 67, 0.15);\n",
              "      fill: #174EA6;\n",
              "    }\n",
              "\n",
              "    [theme=dark] .colab-df-convert {\n",
              "      background-color: #3B4455;\n",
              "      fill: #D2E3FC;\n",
              "    }\n",
              "\n",
              "    [theme=dark] .colab-df-convert:hover {\n",
              "      background-color: #434B5C;\n",
              "      box-shadow: 0px 1px 3px 1px rgba(0, 0, 0, 0.15);\n",
              "      filter: drop-shadow(0px 1px 2px rgba(0, 0, 0, 0.3));\n",
              "      fill: #FFFFFF;\n",
              "    }\n",
              "  </style>\n",
              "\n",
              "      <script>\n",
              "        const buttonEl =\n",
              "          document.querySelector('#df-a8ac5cf4-5835-46d9-9460-e5f940a01484 button.colab-df-convert');\n",
              "        buttonEl.style.display =\n",
              "          google.colab.kernel.accessAllowed ? 'block' : 'none';\n",
              "\n",
              "        async function convertToInteractive(key) {\n",
              "          const element = document.querySelector('#df-a8ac5cf4-5835-46d9-9460-e5f940a01484');\n",
              "          const dataTable =\n",
              "            await google.colab.kernel.invokeFunction('convertToInteractive',\n",
              "                                                     [key], {});\n",
              "          if (!dataTable) return;\n",
              "\n",
              "          const docLinkHtml = 'Like what you see? Visit the ' +\n",
              "            '<a target=\"_blank\" href=https://colab.research.google.com/notebooks/data_table.ipynb>data table notebook</a>'\n",
              "            + ' to learn more about interactive tables.';\n",
              "          element.innerHTML = '';\n",
              "          dataTable['output_type'] = 'display_data';\n",
              "          await google.colab.output.renderOutput(dataTable, element);\n",
              "          const docLink = document.createElement('div');\n",
              "          docLink.innerHTML = docLinkHtml;\n",
              "          element.appendChild(docLink);\n",
              "        }\n",
              "      </script>\n",
              "    </div>\n",
              "  </div>\n",
              "  "
            ]
          },
          "metadata": {},
          "execution_count": 43
        }
      ]
    },
    {
      "cell_type": "code",
      "source": [
        "input_ids_train_span,attention_masks_train_span,labels_train_span = process_trainingdata(tokenizer_mdeberta,df_train_span.Text.values,df_train_span.Label.values)"
      ],
      "metadata": {
        "colab": {
          "base_uri": "https://localhost:8080/"
        },
        "id": "8T9qVaOdZ81C",
        "outputId": "13d8fd9f-49c3-4c96-c6f6-8e3fe06639d1"
      },
      "execution_count": null,
      "outputs": [
        {
          "output_type": "stream",
          "name": "stderr",
          "text": [
            "/usr/local/lib/python3.7/dist-packages/transformers/tokenization_utils_base.py:2269: FutureWarning: The `pad_to_max_length` argument is deprecated and will be removed in a future version, use `padding=True` or `padding='longest'` to pad to the longest sequence in the batch, or use `padding='max_length'` to pad to a max length. In this case, you can give a specific length with `max_length` (e.g. `max_length=45`) or leave max_length to None to pad to the maximal input size of the model (e.g. 512 for Bert).\n",
            "  FutureWarning,\n"
          ]
        },
        {
          "output_type": "stream",
          "name": "stdout",
          "text": [
            "Original:  Es imposible quererte más @ Plaza Del Callao - Madrid \n",
            "Token IDs: tensor([    1,   656,   860, 12260,   260,  6106, 16981,  1281,  1251,   260,\n",
            "        46823,   427,  8188,   263,   269,   260,   265, 35498,     2,     0,\n",
            "            0,     0,     0,     0,     0,     0,     0,     0,     0,     0,\n",
            "            0,     0,     0,     0,     0,     0,     0,     0,     0,     0,\n",
            "            0,     0,     0,     0,     0,     0,     0,     0,     0,     0,\n",
            "            0,     0,     0,     0,     0,     0,     0,     0,     0,     0,\n",
            "            0,     0,     0,     0,     0,     0,     0,     0,     0,     0,\n",
            "            0,     0,     0,     0,     0,     0,     0,     0,     0,     0,\n",
            "            0,     0,     0,     0,     0,     0,     0,     0,     0,     0,\n",
            "            0,     0,     0,     0,     0,     0,     0,     0,     0,     0,\n",
            "            0,     0,     0,     0,     0,     0,     0,     0,     0,     0,\n",
            "            0,     0,     0,     0,     0,     0,     0,     0,     0,     0,\n",
            "            0,     0,     0,     0,     0,     0,     0,     0,     0,     0,\n",
            "            0,     0,     0,     0,     0,     0,     0,     0,     0,     0,\n",
            "            0,     0,     0,     0,     0,     0,     0,     0,     0,     0])\n"
          ]
        }
      ]
    },
    {
      "cell_type": "code",
      "source": [
        "train_dataset_span,val_dataset_span = datasetsize(input_ids_train_span,attention_masks_train_span,labels_train_span)"
      ],
      "metadata": {
        "colab": {
          "base_uri": "https://localhost:8080/"
        },
        "id": "ecTS4o31bRhF",
        "outputId": "009bed4f-19a8-412e-fa56-490877017a94"
      },
      "execution_count": null,
      "outputs": [
        {
          "output_type": "stream",
          "name": "stdout",
          "text": [
            "73,048 training samples\n",
            "8,117 validation samples\n"
          ]
        }
      ]
    },
    {
      "cell_type": "code",
      "source": [
        "train_dataloader_span, validation_dataloader_span = dataloader(32,train_dataset_span,val_dataset_span)"
      ],
      "metadata": {
        "id": "Q9k8ZkQ5beTp"
      },
      "execution_count": null,
      "outputs": []
    },
    {
      "cell_type": "code",
      "source": [
        "from transformers import AutoConfig, AutoModelForSequenceClassification, AdamW, BertConfig\n",
        "\n",
        "# Load BertForSequenceClassification, the pretrained BERT model with a single \n",
        "# linear classification layer on top. \n",
        "model_mdeberta_span = AutoModelForSequenceClassification.from_pretrained(\n",
        "#model_mdeberta = DebertaV2ForSequenceClassification.from_pretrained(\n",
        "    \"microsoft/mdeberta-v3-base\", # Use the 12-layer BERT model, with an uncased vocab.\n",
        "    num_labels = 26, # need to change to the number of label in test for zero-shot performance\n",
        "                    # You can increase this for multi-class tasks.   \n",
        "    output_attentions = False, # Whether the model returns attentions weights.\n",
        "    output_hidden_states = False, # Whether the model returns all hidden-states.\n",
        "\n",
        ")\n",
        "\n",
        "# Tell pytorch to run this model on the GPU.\n",
        "model_mdeberta_span.cuda()"
      ],
      "metadata": {
        "colab": {
          "base_uri": "https://localhost:8080/",
          "height": 1000,
          "referenced_widgets": [
            "9a1c79d3d56c4aec921190b1f881a2da",
            "e662caeec1ba45c2a87860cd4e4a0efd",
            "9cb622edfbee4c3696d59b1bc020430f",
            "4c0fe0a8b26b41f8a2bdced4f564d5e3",
            "a15097d29817477aa64cf4c8645ed205",
            "a1b3f7a7a84247cd9cbcf38e39b3ac32",
            "101ff28853bf480faf8dee342bc7de42",
            "21976bf7136b4ce3b2267e614e82b15b",
            "5863d478c2474e699a3bdfbe05405195",
            "ee8c50752e1947cfb8f4fd516ea6e7ad",
            "600bd5ca0feb4be4b322f913f6e35a0f"
          ]
        },
        "id": "6RR7EWyvbkOB",
        "outputId": "9abacced-0333-4399-9688-3e2eaf09e393"
      },
      "execution_count": null,
      "outputs": [
        {
          "output_type": "display_data",
          "data": {
            "text/plain": [
              "Downloading:   0%|          | 0.00/534M [00:00<?, ?B/s]"
            ],
            "application/vnd.jupyter.widget-view+json": {
              "version_major": 2,
              "version_minor": 0,
              "model_id": "9a1c79d3d56c4aec921190b1f881a2da"
            }
          },
          "metadata": {}
        },
        {
          "output_type": "stream",
          "name": "stderr",
          "text": [
            "Some weights of the model checkpoint at microsoft/mdeberta-v3-base were not used when initializing DebertaV2ForSequenceClassification: ['lm_predictions.lm_head.dense.bias', 'mask_predictions.classifier.weight', 'lm_predictions.lm_head.bias', 'mask_predictions.LayerNorm.weight', 'lm_predictions.lm_head.LayerNorm.weight', 'lm_predictions.lm_head.dense.weight', 'mask_predictions.dense.weight', 'mask_predictions.LayerNorm.bias', 'lm_predictions.lm_head.LayerNorm.bias', 'mask_predictions.classifier.bias', 'mask_predictions.dense.bias']\n",
            "- This IS expected if you are initializing DebertaV2ForSequenceClassification from the checkpoint of a model trained on another task or with another architecture (e.g. initializing a BertForSequenceClassification model from a BertForPreTraining model).\n",
            "- This IS NOT expected if you are initializing DebertaV2ForSequenceClassification from the checkpoint of a model that you expect to be exactly identical (initializing a BertForSequenceClassification model from a BertForSequenceClassification model).\n",
            "Some weights of DebertaV2ForSequenceClassification were not initialized from the model checkpoint at microsoft/mdeberta-v3-base and are newly initialized: ['pooler.dense.weight', 'classifier.weight', 'classifier.bias', 'pooler.dense.bias']\n",
            "You should probably TRAIN this model on a down-stream task to be able to use it for predictions and inference.\n"
          ]
        },
        {
          "output_type": "execute_result",
          "data": {
            "text/plain": [
              "DebertaV2ForSequenceClassification(\n",
              "  (deberta): DebertaV2Model(\n",
              "    (embeddings): DebertaV2Embeddings(\n",
              "      (word_embeddings): Embedding(251000, 768, padding_idx=0)\n",
              "      (LayerNorm): LayerNorm((768,), eps=1e-07, elementwise_affine=True)\n",
              "      (dropout): StableDropout()\n",
              "    )\n",
              "    (encoder): DebertaV2Encoder(\n",
              "      (layer): ModuleList(\n",
              "        (0): DebertaV2Layer(\n",
              "          (attention): DebertaV2Attention(\n",
              "            (self): DisentangledSelfAttention(\n",
              "              (query_proj): Linear(in_features=768, out_features=768, bias=True)\n",
              "              (key_proj): Linear(in_features=768, out_features=768, bias=True)\n",
              "              (value_proj): Linear(in_features=768, out_features=768, bias=True)\n",
              "              (pos_dropout): StableDropout()\n",
              "              (dropout): StableDropout()\n",
              "            )\n",
              "            (output): DebertaV2SelfOutput(\n",
              "              (dense): Linear(in_features=768, out_features=768, bias=True)\n",
              "              (LayerNorm): LayerNorm((768,), eps=1e-07, elementwise_affine=True)\n",
              "              (dropout): StableDropout()\n",
              "            )\n",
              "          )\n",
              "          (intermediate): DebertaV2Intermediate(\n",
              "            (dense): Linear(in_features=768, out_features=3072, bias=True)\n",
              "            (intermediate_act_fn): GELUActivation()\n",
              "          )\n",
              "          (output): DebertaV2Output(\n",
              "            (dense): Linear(in_features=3072, out_features=768, bias=True)\n",
              "            (LayerNorm): LayerNorm((768,), eps=1e-07, elementwise_affine=True)\n",
              "            (dropout): StableDropout()\n",
              "          )\n",
              "        )\n",
              "        (1): DebertaV2Layer(\n",
              "          (attention): DebertaV2Attention(\n",
              "            (self): DisentangledSelfAttention(\n",
              "              (query_proj): Linear(in_features=768, out_features=768, bias=True)\n",
              "              (key_proj): Linear(in_features=768, out_features=768, bias=True)\n",
              "              (value_proj): Linear(in_features=768, out_features=768, bias=True)\n",
              "              (pos_dropout): StableDropout()\n",
              "              (dropout): StableDropout()\n",
              "            )\n",
              "            (output): DebertaV2SelfOutput(\n",
              "              (dense): Linear(in_features=768, out_features=768, bias=True)\n",
              "              (LayerNorm): LayerNorm((768,), eps=1e-07, elementwise_affine=True)\n",
              "              (dropout): StableDropout()\n",
              "            )\n",
              "          )\n",
              "          (intermediate): DebertaV2Intermediate(\n",
              "            (dense): Linear(in_features=768, out_features=3072, bias=True)\n",
              "            (intermediate_act_fn): GELUActivation()\n",
              "          )\n",
              "          (output): DebertaV2Output(\n",
              "            (dense): Linear(in_features=3072, out_features=768, bias=True)\n",
              "            (LayerNorm): LayerNorm((768,), eps=1e-07, elementwise_affine=True)\n",
              "            (dropout): StableDropout()\n",
              "          )\n",
              "        )\n",
              "        (2): DebertaV2Layer(\n",
              "          (attention): DebertaV2Attention(\n",
              "            (self): DisentangledSelfAttention(\n",
              "              (query_proj): Linear(in_features=768, out_features=768, bias=True)\n",
              "              (key_proj): Linear(in_features=768, out_features=768, bias=True)\n",
              "              (value_proj): Linear(in_features=768, out_features=768, bias=True)\n",
              "              (pos_dropout): StableDropout()\n",
              "              (dropout): StableDropout()\n",
              "            )\n",
              "            (output): DebertaV2SelfOutput(\n",
              "              (dense): Linear(in_features=768, out_features=768, bias=True)\n",
              "              (LayerNorm): LayerNorm((768,), eps=1e-07, elementwise_affine=True)\n",
              "              (dropout): StableDropout()\n",
              "            )\n",
              "          )\n",
              "          (intermediate): DebertaV2Intermediate(\n",
              "            (dense): Linear(in_features=768, out_features=3072, bias=True)\n",
              "            (intermediate_act_fn): GELUActivation()\n",
              "          )\n",
              "          (output): DebertaV2Output(\n",
              "            (dense): Linear(in_features=3072, out_features=768, bias=True)\n",
              "            (LayerNorm): LayerNorm((768,), eps=1e-07, elementwise_affine=True)\n",
              "            (dropout): StableDropout()\n",
              "          )\n",
              "        )\n",
              "        (3): DebertaV2Layer(\n",
              "          (attention): DebertaV2Attention(\n",
              "            (self): DisentangledSelfAttention(\n",
              "              (query_proj): Linear(in_features=768, out_features=768, bias=True)\n",
              "              (key_proj): Linear(in_features=768, out_features=768, bias=True)\n",
              "              (value_proj): Linear(in_features=768, out_features=768, bias=True)\n",
              "              (pos_dropout): StableDropout()\n",
              "              (dropout): StableDropout()\n",
              "            )\n",
              "            (output): DebertaV2SelfOutput(\n",
              "              (dense): Linear(in_features=768, out_features=768, bias=True)\n",
              "              (LayerNorm): LayerNorm((768,), eps=1e-07, elementwise_affine=True)\n",
              "              (dropout): StableDropout()\n",
              "            )\n",
              "          )\n",
              "          (intermediate): DebertaV2Intermediate(\n",
              "            (dense): Linear(in_features=768, out_features=3072, bias=True)\n",
              "            (intermediate_act_fn): GELUActivation()\n",
              "          )\n",
              "          (output): DebertaV2Output(\n",
              "            (dense): Linear(in_features=3072, out_features=768, bias=True)\n",
              "            (LayerNorm): LayerNorm((768,), eps=1e-07, elementwise_affine=True)\n",
              "            (dropout): StableDropout()\n",
              "          )\n",
              "        )\n",
              "        (4): DebertaV2Layer(\n",
              "          (attention): DebertaV2Attention(\n",
              "            (self): DisentangledSelfAttention(\n",
              "              (query_proj): Linear(in_features=768, out_features=768, bias=True)\n",
              "              (key_proj): Linear(in_features=768, out_features=768, bias=True)\n",
              "              (value_proj): Linear(in_features=768, out_features=768, bias=True)\n",
              "              (pos_dropout): StableDropout()\n",
              "              (dropout): StableDropout()\n",
              "            )\n",
              "            (output): DebertaV2SelfOutput(\n",
              "              (dense): Linear(in_features=768, out_features=768, bias=True)\n",
              "              (LayerNorm): LayerNorm((768,), eps=1e-07, elementwise_affine=True)\n",
              "              (dropout): StableDropout()\n",
              "            )\n",
              "          )\n",
              "          (intermediate): DebertaV2Intermediate(\n",
              "            (dense): Linear(in_features=768, out_features=3072, bias=True)\n",
              "            (intermediate_act_fn): GELUActivation()\n",
              "          )\n",
              "          (output): DebertaV2Output(\n",
              "            (dense): Linear(in_features=3072, out_features=768, bias=True)\n",
              "            (LayerNorm): LayerNorm((768,), eps=1e-07, elementwise_affine=True)\n",
              "            (dropout): StableDropout()\n",
              "          )\n",
              "        )\n",
              "        (5): DebertaV2Layer(\n",
              "          (attention): DebertaV2Attention(\n",
              "            (self): DisentangledSelfAttention(\n",
              "              (query_proj): Linear(in_features=768, out_features=768, bias=True)\n",
              "              (key_proj): Linear(in_features=768, out_features=768, bias=True)\n",
              "              (value_proj): Linear(in_features=768, out_features=768, bias=True)\n",
              "              (pos_dropout): StableDropout()\n",
              "              (dropout): StableDropout()\n",
              "            )\n",
              "            (output): DebertaV2SelfOutput(\n",
              "              (dense): Linear(in_features=768, out_features=768, bias=True)\n",
              "              (LayerNorm): LayerNorm((768,), eps=1e-07, elementwise_affine=True)\n",
              "              (dropout): StableDropout()\n",
              "            )\n",
              "          )\n",
              "          (intermediate): DebertaV2Intermediate(\n",
              "            (dense): Linear(in_features=768, out_features=3072, bias=True)\n",
              "            (intermediate_act_fn): GELUActivation()\n",
              "          )\n",
              "          (output): DebertaV2Output(\n",
              "            (dense): Linear(in_features=3072, out_features=768, bias=True)\n",
              "            (LayerNorm): LayerNorm((768,), eps=1e-07, elementwise_affine=True)\n",
              "            (dropout): StableDropout()\n",
              "          )\n",
              "        )\n",
              "        (6): DebertaV2Layer(\n",
              "          (attention): DebertaV2Attention(\n",
              "            (self): DisentangledSelfAttention(\n",
              "              (query_proj): Linear(in_features=768, out_features=768, bias=True)\n",
              "              (key_proj): Linear(in_features=768, out_features=768, bias=True)\n",
              "              (value_proj): Linear(in_features=768, out_features=768, bias=True)\n",
              "              (pos_dropout): StableDropout()\n",
              "              (dropout): StableDropout()\n",
              "            )\n",
              "            (output): DebertaV2SelfOutput(\n",
              "              (dense): Linear(in_features=768, out_features=768, bias=True)\n",
              "              (LayerNorm): LayerNorm((768,), eps=1e-07, elementwise_affine=True)\n",
              "              (dropout): StableDropout()\n",
              "            )\n",
              "          )\n",
              "          (intermediate): DebertaV2Intermediate(\n",
              "            (dense): Linear(in_features=768, out_features=3072, bias=True)\n",
              "            (intermediate_act_fn): GELUActivation()\n",
              "          )\n",
              "          (output): DebertaV2Output(\n",
              "            (dense): Linear(in_features=3072, out_features=768, bias=True)\n",
              "            (LayerNorm): LayerNorm((768,), eps=1e-07, elementwise_affine=True)\n",
              "            (dropout): StableDropout()\n",
              "          )\n",
              "        )\n",
              "        (7): DebertaV2Layer(\n",
              "          (attention): DebertaV2Attention(\n",
              "            (self): DisentangledSelfAttention(\n",
              "              (query_proj): Linear(in_features=768, out_features=768, bias=True)\n",
              "              (key_proj): Linear(in_features=768, out_features=768, bias=True)\n",
              "              (value_proj): Linear(in_features=768, out_features=768, bias=True)\n",
              "              (pos_dropout): StableDropout()\n",
              "              (dropout): StableDropout()\n",
              "            )\n",
              "            (output): DebertaV2SelfOutput(\n",
              "              (dense): Linear(in_features=768, out_features=768, bias=True)\n",
              "              (LayerNorm): LayerNorm((768,), eps=1e-07, elementwise_affine=True)\n",
              "              (dropout): StableDropout()\n",
              "            )\n",
              "          )\n",
              "          (intermediate): DebertaV2Intermediate(\n",
              "            (dense): Linear(in_features=768, out_features=3072, bias=True)\n",
              "            (intermediate_act_fn): GELUActivation()\n",
              "          )\n",
              "          (output): DebertaV2Output(\n",
              "            (dense): Linear(in_features=3072, out_features=768, bias=True)\n",
              "            (LayerNorm): LayerNorm((768,), eps=1e-07, elementwise_affine=True)\n",
              "            (dropout): StableDropout()\n",
              "          )\n",
              "        )\n",
              "        (8): DebertaV2Layer(\n",
              "          (attention): DebertaV2Attention(\n",
              "            (self): DisentangledSelfAttention(\n",
              "              (query_proj): Linear(in_features=768, out_features=768, bias=True)\n",
              "              (key_proj): Linear(in_features=768, out_features=768, bias=True)\n",
              "              (value_proj): Linear(in_features=768, out_features=768, bias=True)\n",
              "              (pos_dropout): StableDropout()\n",
              "              (dropout): StableDropout()\n",
              "            )\n",
              "            (output): DebertaV2SelfOutput(\n",
              "              (dense): Linear(in_features=768, out_features=768, bias=True)\n",
              "              (LayerNorm): LayerNorm((768,), eps=1e-07, elementwise_affine=True)\n",
              "              (dropout): StableDropout()\n",
              "            )\n",
              "          )\n",
              "          (intermediate): DebertaV2Intermediate(\n",
              "            (dense): Linear(in_features=768, out_features=3072, bias=True)\n",
              "            (intermediate_act_fn): GELUActivation()\n",
              "          )\n",
              "          (output): DebertaV2Output(\n",
              "            (dense): Linear(in_features=3072, out_features=768, bias=True)\n",
              "            (LayerNorm): LayerNorm((768,), eps=1e-07, elementwise_affine=True)\n",
              "            (dropout): StableDropout()\n",
              "          )\n",
              "        )\n",
              "        (9): DebertaV2Layer(\n",
              "          (attention): DebertaV2Attention(\n",
              "            (self): DisentangledSelfAttention(\n",
              "              (query_proj): Linear(in_features=768, out_features=768, bias=True)\n",
              "              (key_proj): Linear(in_features=768, out_features=768, bias=True)\n",
              "              (value_proj): Linear(in_features=768, out_features=768, bias=True)\n",
              "              (pos_dropout): StableDropout()\n",
              "              (dropout): StableDropout()\n",
              "            )\n",
              "            (output): DebertaV2SelfOutput(\n",
              "              (dense): Linear(in_features=768, out_features=768, bias=True)\n",
              "              (LayerNorm): LayerNorm((768,), eps=1e-07, elementwise_affine=True)\n",
              "              (dropout): StableDropout()\n",
              "            )\n",
              "          )\n",
              "          (intermediate): DebertaV2Intermediate(\n",
              "            (dense): Linear(in_features=768, out_features=3072, bias=True)\n",
              "            (intermediate_act_fn): GELUActivation()\n",
              "          )\n",
              "          (output): DebertaV2Output(\n",
              "            (dense): Linear(in_features=3072, out_features=768, bias=True)\n",
              "            (LayerNorm): LayerNorm((768,), eps=1e-07, elementwise_affine=True)\n",
              "            (dropout): StableDropout()\n",
              "          )\n",
              "        )\n",
              "        (10): DebertaV2Layer(\n",
              "          (attention): DebertaV2Attention(\n",
              "            (self): DisentangledSelfAttention(\n",
              "              (query_proj): Linear(in_features=768, out_features=768, bias=True)\n",
              "              (key_proj): Linear(in_features=768, out_features=768, bias=True)\n",
              "              (value_proj): Linear(in_features=768, out_features=768, bias=True)\n",
              "              (pos_dropout): StableDropout()\n",
              "              (dropout): StableDropout()\n",
              "            )\n",
              "            (output): DebertaV2SelfOutput(\n",
              "              (dense): Linear(in_features=768, out_features=768, bias=True)\n",
              "              (LayerNorm): LayerNorm((768,), eps=1e-07, elementwise_affine=True)\n",
              "              (dropout): StableDropout()\n",
              "            )\n",
              "          )\n",
              "          (intermediate): DebertaV2Intermediate(\n",
              "            (dense): Linear(in_features=768, out_features=3072, bias=True)\n",
              "            (intermediate_act_fn): GELUActivation()\n",
              "          )\n",
              "          (output): DebertaV2Output(\n",
              "            (dense): Linear(in_features=3072, out_features=768, bias=True)\n",
              "            (LayerNorm): LayerNorm((768,), eps=1e-07, elementwise_affine=True)\n",
              "            (dropout): StableDropout()\n",
              "          )\n",
              "        )\n",
              "        (11): DebertaV2Layer(\n",
              "          (attention): DebertaV2Attention(\n",
              "            (self): DisentangledSelfAttention(\n",
              "              (query_proj): Linear(in_features=768, out_features=768, bias=True)\n",
              "              (key_proj): Linear(in_features=768, out_features=768, bias=True)\n",
              "              (value_proj): Linear(in_features=768, out_features=768, bias=True)\n",
              "              (pos_dropout): StableDropout()\n",
              "              (dropout): StableDropout()\n",
              "            )\n",
              "            (output): DebertaV2SelfOutput(\n",
              "              (dense): Linear(in_features=768, out_features=768, bias=True)\n",
              "              (LayerNorm): LayerNorm((768,), eps=1e-07, elementwise_affine=True)\n",
              "              (dropout): StableDropout()\n",
              "            )\n",
              "          )\n",
              "          (intermediate): DebertaV2Intermediate(\n",
              "            (dense): Linear(in_features=768, out_features=3072, bias=True)\n",
              "            (intermediate_act_fn): GELUActivation()\n",
              "          )\n",
              "          (output): DebertaV2Output(\n",
              "            (dense): Linear(in_features=3072, out_features=768, bias=True)\n",
              "            (LayerNorm): LayerNorm((768,), eps=1e-07, elementwise_affine=True)\n",
              "            (dropout): StableDropout()\n",
              "          )\n",
              "        )\n",
              "      )\n",
              "      (rel_embeddings): Embedding(512, 768)\n",
              "      (LayerNorm): LayerNorm((768,), eps=1e-07, elementwise_affine=True)\n",
              "    )\n",
              "  )\n",
              "  (pooler): ContextPooler(\n",
              "    (dense): Linear(in_features=768, out_features=768, bias=True)\n",
              "    (dropout): StableDropout()\n",
              "  )\n",
              "  (classifier): Linear(in_features=768, out_features=26, bias=True)\n",
              "  (dropout): StableDropout()\n",
              ")"
            ]
          },
          "metadata": {},
          "execution_count": 25
        }
      ]
    },
    {
      "cell_type": "code",
      "source": [
        "optimizer_mdeberta_span = optimizer(model_mdeberta_span)"
      ],
      "metadata": {
        "colab": {
          "base_uri": "https://localhost:8080/"
        },
        "id": "Wf0cytImbkMH",
        "outputId": "872da5d1-34e6-43b3-c7f1-774e084fb500"
      },
      "execution_count": null,
      "outputs": [
        {
          "output_type": "stream",
          "name": "stderr",
          "text": [
            "/usr/local/lib/python3.7/dist-packages/transformers/optimization.py:309: FutureWarning: This implementation of AdamW is deprecated and will be removed in a future version. Use the PyTorch implementation torch.optim.AdamW instead, or set `no_deprecation_warning=True` to disable this warning\n",
            "  FutureWarning,\n"
          ]
        }
      ]
    },
    {
      "cell_type": "code",
      "source": [
        "scheduler_mdeberta_span = scheduler(train_dataloader_span,optimizer_mdeberta_span)"
      ],
      "metadata": {
        "id": "yFIIU2Q0bkJw"
      },
      "execution_count": null,
      "outputs": []
    },
    {
      "cell_type": "code",
      "source": [
        "import random\n",
        "import numpy as np\n",
        "\n",
        "def modeltraining(model,train_dataloader,validation_dataloader,optimizer,scheduler):\n",
        "\n",
        "  seed_val = 42\n",
        "\n",
        "  random.seed(seed_val)\n",
        "  np.random.seed(seed_val)\n",
        "  torch.manual_seed(seed_val)\n",
        "  torch.cuda.manual_seed_all(seed_val)\n",
        "\n",
        "  training_stats = []\n",
        "\n",
        "  total_t0 = time.time()\n",
        "  epochs = 1\n",
        "\n",
        "  #with torch.no_grad():\n",
        "  for epoch_i in range(0, epochs):\n",
        "\n",
        "    print(\"\")\n",
        "    print('======== Epoch {:} / {:} ========'.format(epoch_i + 1, epochs))\n",
        "    print('Training...')\n",
        "\n",
        "    t0 = time.time()\n",
        "\n",
        "    total_train_loss = 0\n",
        "    model.train()\n",
        "    #print('reached here')\n",
        "\n",
        "    # For each batch of training data...\n",
        "    for step, batch in enumerate(train_dataloader):\n",
        "        if step % 1000 == 0 and not step == 0:\n",
        "            elapsed = format_time(time.time() - t0)\n",
        "            \n",
        "            print('  Batch {:>5,}  of  {:>5,}.    Elapsed: {:}.'.format(step, len(train_dataloader), elapsed))\n",
        "            torch.save(model,filepath+'model_mdeberta_span.pt')\n",
        "\n",
        "        b_input_ids = batch[0].to(device)\n",
        "        b_input_mask = batch[1].to(device)\n",
        "        b_labels = batch[2].to(device)\n",
        "        #print(b_input_ids.size(),b_labels.size())\n",
        "\n",
        "        model.zero_grad()        \n",
        "        #print('reached 1')\n",
        "        result = model(b_input_ids, \n",
        "                       token_type_ids=None, \n",
        "                       attention_mask=b_input_mask, \n",
        "                       labels=b_labels,\n",
        "                       return_dict=True)\n",
        "\n",
        "        loss = result.loss\n",
        "        logits = result.logits\n",
        "\n",
        "        total_train_loss += loss.item()\n",
        "\n",
        "        loss.backward()\n",
        "\n",
        "        torch.nn.utils.clip_grad_norm_(model.parameters(), 1.0)\n",
        "\n",
        "        optimizer.step()\n",
        "\n",
        "        scheduler.step()\n",
        "\n",
        "    avg_train_loss = total_train_loss / len(train_dataloader)            \n",
        "    \n",
        "    training_time = format_time(time.time() - t0)\n",
        "\n",
        "    print(\"\")\n",
        "    print(\"  Average training loss: {0:.2f}\".format(avg_train_loss))\n",
        "    print(\"  Training epcoh took: {:}\".format(training_time))\n",
        "        \n",
        "    print(\"\")\n",
        "    print(\"Running Validation...\")\n",
        "\n",
        "    t0 = time.time()\n",
        "\n",
        "    model.eval()\n",
        "\n",
        "    total_eval_accuracy = 0\n",
        "    total_eval_loss = 0\n",
        "    nb_eval_steps = 0\n",
        "\n",
        "    for batch in validation_dataloader:        \n",
        "        b_input_ids = batch[0].to(device)\n",
        "        b_input_mask = batch[1].to(device)\n",
        "        b_labels = batch[2].to(device)\n",
        "        \n",
        "        with torch.no_grad():        \n",
        "            result = model(b_input_ids, \n",
        "                           token_type_ids=None, \n",
        "                           attention_mask=b_input_mask,\n",
        "                           labels=b_labels,\n",
        "                           return_dict=True)\n",
        "\n",
        "        loss = result.loss\n",
        "        \n",
        "        logits = result.logits\n",
        "            \n",
        "        total_eval_loss += loss.item()\n",
        "\n",
        "        logits = logits.detach().cpu().numpy()\n",
        "        label_ids = b_labels.to('cpu').numpy()\n",
        "\n",
        "        total_eval_accuracy += flat_accuracy(logits, label_ids)\n",
        "        \n",
        "\n",
        "    avg_val_accuracy = total_eval_accuracy / len(validation_dataloader)\n",
        "    print(\"  Accuracy: {0:.2f}\".format(avg_val_accuracy))\n",
        "\n",
        "    avg_val_loss = total_eval_loss / len(validation_dataloader)\n",
        "    \n",
        "    validation_time = format_time(time.time() - t0)\n",
        "    \n",
        "    print(\"  Validation Loss: {0:.2f}\".format(avg_val_loss))\n",
        "    print(\"  Validation took: {:}\".format(validation_time))\n",
        "\n",
        "    training_stats.append(\n",
        "        {\n",
        "            'epoch': epoch_i + 1,\n",
        "            'Training Loss': avg_train_loss,\n",
        "            'Valid. Loss': avg_val_loss,\n",
        "            'Valid. Accur.': avg_val_accuracy,\n",
        "            'Training Time': training_time,\n",
        "            'Validation Time': validation_time\n",
        "        }\n",
        "    )\n",
        "\n",
        "  print(\"\")\n",
        "  print(\"Training complete!\")\n",
        "\n",
        "  print(\"Total training took {:} (h:mm:ss)\".format(format_time(time.time()-total_t0)))\n",
        "  return model"
      ],
      "metadata": {
        "id": "4Pie7AA7cnZu"
      },
      "execution_count": null,
      "outputs": []
    },
    {
      "cell_type": "code",
      "source": [
        "model_mdeberta_span = modeltraining(model_mdeberta_span,train_dataloader_span,validation_dataloader_span,optimizer_mdeberta_span,scheduler_mdeberta_span)"
      ],
      "metadata": {
        "colab": {
          "base_uri": "https://localhost:8080/"
        },
        "id": "9HJqzUyVbkHc",
        "outputId": "67d26abe-e514-4b88-f45c-5e0966b05339"
      },
      "execution_count": null,
      "outputs": [
        {
          "output_type": "stream",
          "name": "stdout",
          "text": [
            "\n",
            "======== Epoch 1 / 1 ========\n",
            "Training...\n",
            "  Batch 1,000  of  2,282.    Elapsed: 0:10:38.\n",
            "  Batch 2,000  of  2,282.    Elapsed: 0:21:20.\n",
            "\n",
            "  Average training loss: 2.17\n",
            "  Training epcoh took: 0:24:24\n",
            "\n",
            "Running Validation...\n",
            "  Accuracy: 0.34\n",
            "  Validation Loss: 2.17\n",
            "  Validation took: 0:00:49\n",
            "\n",
            "Training complete!\n",
            "Total training took 0:25:14 (h:mm:ss)\n"
          ]
        }
      ]
    },
    {
      "cell_type": "code",
      "source": [
        "torch.save(model_mdeberta_span,filepath+'model_mdeberta_span_final.pt')"
      ],
      "metadata": {
        "id": "veV65p3Ufiig"
      },
      "execution_count": null,
      "outputs": []
    },
    {
      "cell_type": "markdown",
      "source": [
        "**predict on test sets using spanish fine tuned mDeberta**"
      ],
      "metadata": {
        "id": "BT8zepcJlR0E"
      }
    },
    {
      "cell_type": "code",
      "source": [
        "import torch\n",
        "model_mdeberta_span = torch.load(filepath+'model_mdeberta_span_final.pt')"
      ],
      "metadata": {
        "id": "FJaG83-jYGu2"
      },
      "execution_count": 13,
      "outputs": []
    },
    {
      "cell_type": "markdown",
      "source": [
        "** predict on spanishh test set**"
      ],
      "metadata": {
        "id": "aSx5PCfBwkBE"
      }
    },
    {
      "cell_type": "code",
      "source": [
        "acc_span_ss, pred_label_ss, true_labels_ss = predicttestset(model_mdeberta_span,prediction_dataloader_span_test)"
      ],
      "metadata": {
        "id": "JIN4ZFNBg9xm"
      },
      "execution_count": 105,
      "outputs": []
    },
    {
      "cell_type": "code",
      "source": [
        "import pandas as pd\n",
        "df_ss = pd.DataFrame(list(zip(true_labels_ss, pred_label_ss)),\n",
        "               columns =['TrueLabels', 'Prediction'])"
      ],
      "metadata": {
        "id": "RGoWHQOPf8_m"
      },
      "execution_count": 106,
      "outputs": []
    },
    {
      "cell_type": "code",
      "source": [
        "df_ss.to_csv(filepath+'ss.csv')"
      ],
      "metadata": {
        "id": "8_oysobWgAGK"
      },
      "execution_count": 107,
      "outputs": []
    },
    {
      "cell_type": "code",
      "source": [
        "df_ss = pd.read_csv(filepath+'ss.csv')\n",
        "true_labels_ss = df_ss.TrueLabels.values\n",
        "pred_label_ss = df_ss.Prediction.values"
      ],
      "metadata": {
        "id": "P_GbTnIngDsk"
      },
      "execution_count": 112,
      "outputs": []
    },
    {
      "cell_type": "code",
      "source": [
        "from sklearn.metrics import classification_report\n",
        "emoji_list_ss = ['❤', '😍', '😂', '💕', '😊', '😎', '✨', '💙', '😘', '💜', '😉', '😁','😜', '💪', '👌', '🇪🇸', '💞', '🎶', '💘']\n",
        "final_repo = classification_report(true_labels_ss, pred_label_ss, zero_division=1,target_names=emoji_list_ss)\n",
        "#final_repo = classification_report(true_labels_ss, pred_label_ss, zero_division=1)\n",
        "print(final_repo)\n"
      ],
      "metadata": {
        "colab": {
          "base_uri": "https://localhost:8080/"
        },
        "id": "y4J9M8v1q--q",
        "outputId": "c69201c9-e41a-4d57-f530-9426ed160fb5"
      },
      "execution_count": 113,
      "outputs": [
        {
          "output_type": "stream",
          "name": "stdout",
          "text": [
            "              precision    recall  f1-score   support\n",
            "\n",
            "           ❤       0.66      0.70      0.68      2141\n",
            "           😍       0.29      0.61      0.39      1408\n",
            "           😂       0.48      0.71      0.58      1499\n",
            "           💕       0.51      0.10      0.17       352\n",
            "           😊       0.12      0.15      0.13       514\n",
            "           😎       1.00      0.00      0.00       339\n",
            "           ✨       0.33      0.01      0.02       416\n",
            "           💙       1.00      0.00      0.00       413\n",
            "           😘       0.35      0.20      0.25       397\n",
            "           💜       1.00      0.00      0.00       235\n",
            "           😉       0.53      0.09      0.15       453\n",
            "           😁       1.00      0.00      0.00       209\n",
            "           😜       1.00      0.00      0.00       274\n",
            "           💪       0.24      0.58      0.34       307\n",
            "           👌       0.10      0.01      0.02       180\n",
            "          🇪🇸       0.45      0.52      0.48       424\n",
            "           💞       1.00      0.00      0.00        93\n",
            "           🎶       0.15      0.19      0.17       212\n",
            "           💘       1.00      0.00      0.00       134\n",
            "\n",
            "    accuracy                           0.41     10000\n",
            "   macro avg       0.59      0.20      0.18     10000\n",
            "weighted avg       0.53      0.41      0.35     10000\n",
            "\n"
          ]
        }
      ]
    },
    {
      "cell_type": "code",
      "source": [
        "from sklearn.metrics import confusion_matrix\n",
        "import matplotlib.pyplot as plt\n",
        "import seaborn as sns\n",
        "cf_matrix = confusion_matrix(true_labels_ss, pred_label_ss)\n",
        "#print(cf_matrix)\n",
        "\n",
        "\n",
        "ax = sns.heatmap(cf_matrix, annot=True, cmap='Blues')\n",
        "\n",
        "ax.set_title('Seaborn Confusion Matrix with labels\\n\\n');\n",
        "ax.set_xlabel('\\nPredicted Values')\n",
        "ax.set_ylabel('Actual Values ');\n",
        "\n",
        "## Ticket labels - List must be in alphabetical order\n",
        "ax.xaxis.set_ticklabels(['False','True'])\n",
        "ax.yaxis.set_ticklabels(['False','True'])\n",
        "\n",
        "## Display the visualization of the Confusion Matrix.\n",
        "plt.show()"
      ],
      "metadata": {
        "colab": {
          "base_uri": "https://localhost:8080/",
          "height": 337
        },
        "id": "m8g2x7fmt2g9",
        "outputId": "caaa0b1b-47a4-4784-ca2d-e043267d4b0e"
      },
      "execution_count": 114,
      "outputs": [
        {
          "output_type": "display_data",
          "data": {
            "text/plain": [
              "<Figure size 432x288 with 2 Axes>"
            ],
            "image/png": "[encoded data removed]"
          },
          "metadata": {
            "needs_background": "light"
          }
        }
      ]
    },
    {
      "cell_type": "code",
      "source": [
        "import pandas as pd\n",
        "import seaborn as sns\n",
        "evaluation_report = classification_report(true_labels_ss, pred_label_ss, output_dict=True, zero_division=1)\n",
        "sns.heatmap(pd.DataFrame(evaluation_report).iloc[:-1, :].T, annot=True)"
      ],
      "metadata": {
        "colab": {
          "base_uri": "https://localhost:8080/",
          "height": 287
        },
        "id": "9MLToX1FrPII",
        "outputId": "007ed352-c298-4de6-f734-1402a49fdd6a"
      },
      "execution_count": 115,
      "outputs": [
        {
          "output_type": "execute_result",
          "data": {
            "text/plain": [
              "<matplotlib.axes._subplots.AxesSubplot at 0x7fa6ffcc2890>"
            ]
          },
          "metadata": {},
          "execution_count": 115
        },
        {
          "output_type": "display_data",
          "data": {
            "text/plain": [
              "<Figure size 432x288 with 2 Axes>"
            ],
            "image/png": "[encoded data removed]"
          },
          "metadata": {
            "needs_background": "light"
          }
        }
      ]
    },
    {
      "cell_type": "code",
      "source": [
        "print('The accuracy for fine-tune mDeberta using spanish train data on spanish test set is:',acc_span_ss,'%')"
      ],
      "metadata": {
        "colab": {
          "base_uri": "https://localhost:8080/"
        },
        "id": "UogkS7vMjmHC",
        "outputId": "3973e664-79e6-46b2-e8d3-ee3ffab0b2fa"
      },
      "execution_count": 117,
      "outputs": [
        {
          "output_type": "stream",
          "name": "stdout",
          "text": [
            "The accuracy for fine-tune mDeberta using spanish train data on spanish test set is: 41.41597444089457 %\n"
          ]
        }
      ]
    },
    {
      "cell_type": "code",
      "source": [
        "acc_span_apn_3, pred_label_ss_3, true_labels_ss_3 = predicttestset_topk(model_mdeberta_span, prediction_dataloader_span_test, 3)"
      ],
      "metadata": {
        "id": "R4BA-hSehYAM"
      },
      "execution_count": 108,
      "outputs": []
    },
    {
      "cell_type": "code",
      "source": [
        "print('The top 3 accuracy for fine-tune mDeberta using spanish train data on spanish test set is:',acc_span_apn_3,'%')"
      ],
      "metadata": {
        "colab": {
          "base_uri": "https://localhost:8080/"
        },
        "id": "nXKMHZpD-oLI",
        "outputId": "3c207943-6ddd-4ae9-d8ab-6aa56adb1b8c"
      },
      "execution_count": 5,
      "outputs": [
        {
          "output_type": "stream",
          "name": "stdout",
          "text": [
            "The top 3 accuracy for fine-tune mDeberta using spanish train data on spanish test set is: 61.24680511182109 %\n"
          ]
        }
      ]
    },
    {
      "cell_type": "code",
      "source": [
        "acc_span_apn_5, pred_label_ss_5, true_labels_ss_5 = predicttestset_topk(model_mdeberta_span, prediction_dataloader_span_test, 5)"
      ],
      "metadata": {
        "id": "F-JrArl7gTcq"
      },
      "execution_count": 110,
      "outputs": []
    },
    {
      "cell_type": "code",
      "source": [
        "print(df_test_span.Text.values[2])\n",
        "print('The top 5 prediction for the above sentence are:',[2, 14,  1, 19, 5], 'and corresponding emojis are:','😂','😉','😜','❤','😊')"
      ],
      "metadata": {
        "id": "fbJd9KDn0qWN",
        "colab": {
          "base_uri": "https://localhost:8080/"
        },
        "outputId": "7d492cf1-b034-4c84-9717-93d058c492b8"
      },
      "execution_count": 52,
      "outputs": [
        {
          "output_type": "stream",
          "name": "stdout",
          "text": [
            "Porfavor llevarlas a reciclar,necesitamos más papel para imprimir más propaganda\n",
            "The top 5 prediction for the above sentence are: [2, 14, 1, 19, 5] and corresponding emojis are: 😂 😉 😜 ❤ 😊\n"
          ]
        }
      ]
    },
    {
      "cell_type": "code",
      "source": [
        "print('The top 5 accuracy for fine-tune mDeberta using spanish train data on spanish test set is:',acc_span_apn_5,'%')"
      ],
      "metadata": {
        "colab": {
          "base_uri": "https://localhost:8080/"
        },
        "id": "JWixcPHV-vjW",
        "outputId": "5a53d8c8-56e2-4dc7-c644-49a36cfd82fb"
      },
      "execution_count": 6,
      "outputs": [
        {
          "output_type": "stream",
          "name": "stdout",
          "text": [
            "The top 5 accuracy for fine-tune mDeberta using spanish train data on spanish test set is: 72.15934504792332 %\n"
          ]
        }
      ]
    },
    {
      "cell_type": "code",
      "source": [
        ""
      ],
      "metadata": {
        "id": "hRiz3LD8vIhN"
      },
      "execution_count": null,
      "outputs": []
    },
    {
      "cell_type": "markdown",
      "source": [
        "**Predict on english dataset using spanish fine tuned**"
      ],
      "metadata": {
        "id": "2OZVz1Lnwx8y"
      }
    },
    {
      "cell_type": "code",
      "source": [
        "acc_se, pred_label_se, true_labels_se= predicttestset(model_mdeberta_span,prediction_dataloader_eng_test)"
      ],
      "metadata": {
        "id": "3HtKi25yxMc6"
      },
      "execution_count": 35,
      "outputs": []
    },
    {
      "cell_type": "code",
      "source": [
        "import pandas as pd\n",
        "df_se = pd.DataFrame(list(zip(true_labels_se, pred_label_se)),\n",
        "               columns =['TrueLabels', 'Prediction'])"
      ],
      "metadata": {
        "id": "egsFZOl0j6cd"
      },
      "execution_count": 119,
      "outputs": []
    },
    {
      "cell_type": "code",
      "source": [
        "df_se.to_csv(filepath+'se.csv')"
      ],
      "metadata": {
        "id": "Qm2kkiRXj9Qt"
      },
      "execution_count": 120,
      "outputs": []
    },
    {
      "cell_type": "code",
      "source": [
        "import pandas as pd\n",
        "df_se = pd.read_csv(filepath+'se.csv')\n",
        "true_labels_se = df_se.TrueLabels.values\n",
        "pred_label_se = df_se.Prediction.values"
      ],
      "metadata": {
        "id": "OzIKxXA1j9Ih"
      },
      "execution_count": 9,
      "outputs": []
    },
    {
      "cell_type": "code",
      "source": [
        "from sklearn.metrics import classification_report\n",
        "emoji_list_se = ['❤', '😍', '😂', '💕', '🔥', '😊', '😎', '✨', '💙', '😘', '📷', '🇺🇸', '☀', '💜', '😉', '💯', '😁', '🎄', '📸', '😜','💪', '👌', '🇪🇸', '🎶']\n",
        "final_repo = classification_report(true_labels_se, pred_label_se, zero_division=1,target_names=emoji_list_se)\n",
        "print(final_repo)"
      ],
      "metadata": {
        "colab": {
          "base_uri": "https://localhost:8080/"
        },
        "id": "XLLq4vIQxMLB",
        "outputId": "239246b6-b736-4bab-bec7-837d08740249"
      },
      "execution_count": 10,
      "outputs": [
        {
          "output_type": "stream",
          "name": "stdout",
          "text": [
            "              precision    recall  f1-score   support\n",
            "\n",
            "           ❤       0.63      0.88      0.74     10798\n",
            "           😍       0.20      0.63      0.30      4830\n",
            "           😂       0.30      0.61      0.41      4534\n",
            "           💕       0.16      0.01      0.02      2605\n",
            "           🔥       1.00      0.00      0.00      3716\n",
            "           😊       0.06      0.15      0.08      1613\n",
            "           😎       1.00      0.00      0.00      1996\n",
            "           ✨       0.48      0.01      0.02      2749\n",
            "           💙       1.00      0.00      0.00      1549\n",
            "           😘       0.10      0.04      0.06      1175\n",
            "           📷       1.00      0.00      0.00      1432\n",
            "          🇺🇸       1.00      0.00      0.00      1949\n",
            "           ☀       1.00      0.00      0.00      1265\n",
            "           💜       1.00      0.00      0.00      1114\n",
            "           😉       0.04      0.01      0.01      1306\n",
            "           💯       1.00      0.00      0.00      1244\n",
            "           😁       1.00      0.00      0.00      1153\n",
            "           🎄       1.00      0.00      0.00      1545\n",
            "           📸       1.00      0.00      0.00      2417\n",
            "           😜       1.00      0.00      0.00      1010\n",
            "           💪       0.00      1.00      0.00         0\n",
            "           👌       0.00      1.00      0.00         0\n",
            "          🇪🇸       0.00      1.00      0.00         0\n",
            "           🎶       0.00      1.00      0.00         0\n",
            "\n",
            "    accuracy                           0.31     50000\n",
            "   macro avg       0.58      0.26      0.07     50000\n",
            "weighted avg       0.63      0.31      0.23     50000\n",
            "\n"
          ]
        }
      ]
    },
    {
      "cell_type": "code",
      "source": [
        "import pandas as pd\n",
        "import seaborn as sns\n",
        "evaluation_report = classification_report(true_labels_se, pred_label_se, output_dict=True, zero_division=1)\n",
        "sns.heatmap(pd.DataFrame(evaluation_report).iloc[:-1, :].T, annot=True)"
      ],
      "metadata": {
        "colab": {
          "base_uri": "https://localhost:8080/",
          "height": 287
        },
        "id": "J_Nf_2d3xMIP",
        "outputId": "c1d1e7eb-62d6-4a87-e7ee-9551e673f218"
      },
      "execution_count": null,
      "outputs": [
        {
          "output_type": "execute_result",
          "data": {
            "text/plain": [
              "<matplotlib.axes._subplots.AxesSubplot at 0x7f887060d190>"
            ]
          },
          "metadata": {},
          "execution_count": 90
        },
        {
          "output_type": "display_data",
          "data": {
            "text/plain": [
              "<Figure size 432x288 with 2 Axes>"
            ],
            "image/png": "[encoded data removed]"
          },
          "metadata": {
            "needs_background": "light"
          }
        }
      ]
    },
    {
      "cell_type": "code",
      "source": [
        "print('The accuracy for fine-tune mDeberta using spanish train data on english test set is:',acc_se,'%')"
      ],
      "metadata": {
        "colab": {
          "base_uri": "https://localhost:8080/"
        },
        "id": "j7MDZb17Dhvg",
        "outputId": "01cfb00a-92fb-43ef-cf00-4809ed2ff573"
      },
      "execution_count": 39,
      "outputs": [
        {
          "output_type": "stream",
          "name": "stdout",
          "text": [
            "The accuracy for fine-tune mDeberta using spanish train data on english test set is: 32.411948176583493 %\n"
          ]
        }
      ]
    },
    {
      "cell_type": "code",
      "source": [
        "acc_span_se_3, pred_label_se_3, true_labels_se_3 = predicttestset_topk(model_mdeberta_span, prediction_dataloader_eng_test, 3)"
      ],
      "metadata": {
        "id": "hwhFKzNdlr1X"
      },
      "execution_count": 37,
      "outputs": []
    },
    {
      "cell_type": "code",
      "source": [
        "print('The top 3 accuracy for fine-tune mDeberta using spanish train data on english test set is:',acc_span_se_3,'%')"
      ],
      "metadata": {
        "colab": {
          "base_uri": "https://localhost:8080/"
        },
        "id": "KR8L-M-LyvtQ",
        "outputId": "7568c476-b69e-4a4a-e026-ef90ac434c71"
      },
      "execution_count": 40,
      "outputs": [
        {
          "output_type": "stream",
          "name": "stdout",
          "text": [
            "The top 3 accuracy for fine-tune mDeberta using spanish train data on english test set is: 42.93058221369162 %\n"
          ]
        }
      ]
    },
    {
      "cell_type": "code",
      "source": [
        ""
      ],
      "metadata": {
        "id": "UQhFFWmoFcmR"
      },
      "execution_count": null,
      "outputs": []
    },
    {
      "cell_type": "code",
      "source": [
        ""
      ],
      "metadata": {
        "id": "BHoJi888FcgQ"
      },
      "execution_count": null,
      "outputs": []
    }
  ]
}