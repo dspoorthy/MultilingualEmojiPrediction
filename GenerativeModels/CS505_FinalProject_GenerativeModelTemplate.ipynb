{
  "nbformat": 4,
  "nbformat_minor": 0,
  "metadata": {
    "colab": {
      "name": "CS505-FinalProject-GenerativeModelTemplate",
      "provenance": [],
      "collapsed_sections": []
    },
    "kernelspec": {
      "name": "python3",
      "display_name": "Python 3"
    },
    "accelerator": "GPU"
  },
  "cells": [
    {
      "cell_type": "markdown",
      "source": [
        "Training mGPT on Twitter Emoji Daataset"
      ],
      "metadata": {
        "id": "3Y9nezpvkQjc"
      }
    },
    {
      "cell_type": "code",
      "metadata": {
        "id": "h6yWI0ae9knK",
        "colab": {
          "base_uri": "https://localhost:8080/"
        },
        "outputId": "03c1580d-7d08-4c8e-acb7-bdd8c04a2bbe"
      },
      "source": [
        "!pip install transformers"
      ],
      "execution_count": 1,
      "outputs": [
        {
          "output_type": "stream",
          "name": "stdout",
          "text": [
            "Collecting transformers\n",
            "  Downloading transformers-4.18.0-py3-none-any.whl (4.0 MB)\n",
            "\u001b[K     |████████████████████████████████| 4.0 MB 9.2 MB/s \n",
            "\u001b[?25hCollecting tokenizers!=0.11.3,<0.13,>=0.11.1\n",
            "  Downloading tokenizers-0.12.1-cp37-cp37m-manylinux_2_12_x86_64.manylinux2010_x86_64.whl (6.6 MB)\n",
            "\u001b[K     |████████████████████████████████| 6.6 MB 39.5 MB/s \n",
            "\u001b[?25hCollecting sacremoses\n",
            "  Downloading sacremoses-0.0.49-py3-none-any.whl (895 kB)\n",
            "\u001b[K     |████████████████████████████████| 895 kB 16.2 MB/s \n",
            "\u001b[?25hRequirement already satisfied: filelock in /usr/local/lib/python3.7/dist-packages (from transformers) (3.6.0)\n",
            "Requirement already satisfied: numpy>=1.17 in /usr/local/lib/python3.7/dist-packages (from transformers) (1.21.6)\n",
            "Collecting huggingface-hub<1.0,>=0.1.0\n",
            "  Downloading huggingface_hub-0.5.1-py3-none-any.whl (77 kB)\n",
            "\u001b[K     |████████████████████████████████| 77 kB 3.1 MB/s \n",
            "\u001b[?25hRequirement already satisfied: packaging>=20.0 in /usr/local/lib/python3.7/dist-packages (from transformers) (21.3)\n",
            "Requirement already satisfied: importlib-metadata in /usr/local/lib/python3.7/dist-packages (from transformers) (4.11.3)\n",
            "Collecting pyyaml>=5.1\n",
            "  Downloading PyYAML-6.0-cp37-cp37m-manylinux_2_5_x86_64.manylinux1_x86_64.manylinux_2_12_x86_64.manylinux2010_x86_64.whl (596 kB)\n",
            "\u001b[K     |████████████████████████████████| 596 kB 41.8 MB/s \n",
            "\u001b[?25hRequirement already satisfied: regex!=2019.12.17 in /usr/local/lib/python3.7/dist-packages (from transformers) (2019.12.20)\n",
            "Requirement already satisfied: requests in /usr/local/lib/python3.7/dist-packages (from transformers) (2.23.0)\n",
            "Requirement already satisfied: tqdm>=4.27 in /usr/local/lib/python3.7/dist-packages (from transformers) (4.64.0)\n",
            "Requirement already satisfied: typing-extensions>=3.7.4.3 in /usr/local/lib/python3.7/dist-packages (from huggingface-hub<1.0,>=0.1.0->transformers) (4.2.0)\n",
            "Requirement already satisfied: pyparsing!=3.0.5,>=2.0.2 in /usr/local/lib/python3.7/dist-packages (from packaging>=20.0->transformers) (3.0.8)\n",
            "Requirement already satisfied: zipp>=0.5 in /usr/local/lib/python3.7/dist-packages (from importlib-metadata->transformers) (3.8.0)\n",
            "Requirement already satisfied: urllib3!=1.25.0,!=1.25.1,<1.26,>=1.21.1 in /usr/local/lib/python3.7/dist-packages (from requests->transformers) (1.24.3)\n",
            "Requirement already satisfied: idna<3,>=2.5 in /usr/local/lib/python3.7/dist-packages (from requests->transformers) (2.10)\n",
            "Requirement already satisfied: certifi>=2017.4.17 in /usr/local/lib/python3.7/dist-packages (from requests->transformers) (2021.10.8)\n",
            "Requirement already satisfied: chardet<4,>=3.0.2 in /usr/local/lib/python3.7/dist-packages (from requests->transformers) (3.0.4)\n",
            "Requirement already satisfied: joblib in /usr/local/lib/python3.7/dist-packages (from sacremoses->transformers) (1.1.0)\n",
            "Requirement already satisfied: six in /usr/local/lib/python3.7/dist-packages (from sacremoses->transformers) (1.15.0)\n",
            "Requirement already satisfied: click in /usr/local/lib/python3.7/dist-packages (from sacremoses->transformers) (7.1.2)\n",
            "Installing collected packages: pyyaml, tokenizers, sacremoses, huggingface-hub, transformers\n",
            "  Attempting uninstall: pyyaml\n",
            "    Found existing installation: PyYAML 3.13\n",
            "    Uninstalling PyYAML-3.13:\n",
            "      Successfully uninstalled PyYAML-3.13\n",
            "Successfully installed huggingface-hub-0.5.1 pyyaml-6.0 sacremoses-0.0.49 tokenizers-0.12.1 transformers-4.18.0\n"
          ]
        }
      ]
    },
    {
      "cell_type": "code",
      "metadata": {
        "id": "DpOwY1ZVOew4"
      },
      "source": [
        "from transformers import pipeline"
      ],
      "execution_count": 2,
      "outputs": []
    },
    {
      "cell_type": "code",
      "metadata": {
        "id": "-MCgVfPSG8Sg"
      },
      "source": [
        "# Note: device=0 means to use GPU, device=-1 is to use CPU\n",
        "generator = pipeline('text-generation', model='gpt2', device=0) "
      ],
      "execution_count": null,
      "outputs": []
    },
    {
      "cell_type": "code",
      "metadata": {
        "id": "H_gc4VRmHCHA"
      },
      "source": [
        "outputs = generator('I wonder what I will generate?')\n",
        "print(outputs)"
      ],
      "execution_count": null,
      "outputs": []
    },
    {
      "cell_type": "code",
      "metadata": {
        "id": "vYbWdguUU2Bl"
      },
      "source": [
        "## YOUR CODE HERE FOR MODEL 1"
      ],
      "execution_count": null,
      "outputs": []
    },
    {
      "cell_type": "code",
      "metadata": {
        "id": "lZLHYzr4U54s"
      },
      "source": [
        "## YOUR CODE HERE FOR MODEL 2"
      ],
      "execution_count": null,
      "outputs": []
    },
    {
      "cell_type": "code",
      "metadata": {
        "id": "nRgGzAuTJakH"
      },
      "source": [
        "from transformers import GPT2Tokenizer, GPT2LMHeadModel# AutoTokenizer, AutoModelForCausalLM\n",
        "\n",
        "tokenizer = GPT2Tokenizer.from_pretrained('gpt2')\n",
        "model = GPT2LMHeadModel.from_pretrained('gpt2').cuda()"
      ],
      "execution_count": null,
      "outputs": []
    },
    {
      "cell_type": "code",
      "metadata": {
        "id": "azhDlBgYM9bP"
      },
      "source": [
        "#### Step 1: Tokenize the input into integer token IDs\n",
        "inputs = tokenizer.encode(\"Hello, how are you?\", return_tensors='pt').to(model.device)\n",
        "print(\"Input Token IDs: \" + str(inputs))"
      ],
      "execution_count": null,
      "outputs": []
    },
    {
      "cell_type": "code",
      "metadata": {
        "id": "zaFR6j-5Rz6C"
      },
      "source": [
        "#### Step 2 and 3: Feed in the integer token IDs and get out a sequence of token IDs as output\n",
        "outputs = model.generate(inputs)\n",
        "print(\"Output Token IDs: \" + str(outputs))"
      ],
      "execution_count": null,
      "outputs": []
    },
    {
      "cell_type": "code",
      "metadata": {
        "id": "tO1NWK9DSD8u"
      },
      "source": [
        "#### Step 4: Feed in the integer token IDs and get out a sequence of token IDs as output\n",
        "output_text = [tokenizer.decode(x) for x in outputs]\n",
        "print(\"Output Text: \" + str(output_text))"
      ],
      "execution_count": null,
      "outputs": []
    },
    {
      "cell_type": "code",
      "metadata": {
        "id": "8fNJ5InvTtgm"
      },
      "source": [
        "inputs = tokenizer.encode(\"Hello, how are you?\", return_tensors='pt').to(model.device)\n",
        "outputs = model.generate(\n",
        "      inputs,\n",
        "      do_sample=True,          # Randomly sample from the logits instead of greedily picking next word with highest probability\n",
        "      top_k=50,                 # Only sample from the top 50 most likely words\n",
        "      repetition_penalty=1.2,    # Downweights the probability of all previously generated tokens by a factor of 1.2\n",
        "      max_length=512          # Generate for a maximum of 512 tokens\n",
        "  )\n",
        "print([tokenizer.decode(x) for x in outputs][0])\n"
      ],
      "execution_count": null,
      "outputs": []
    },
    {
      "cell_type": "code",
      "metadata": {
        "id": "b3VcRifdWRNf"
      },
      "source": [
        "## YOUR CODE HERE FOR HYPERPARAMETER VARIATION 1"
      ],
      "execution_count": null,
      "outputs": []
    },
    {
      "cell_type": "markdown",
      "metadata": {
        "id": "D-4Xj-9mXNNF"
      },
      "source": [
        "(4 pts) YOUR ANSWER HERE - EXPLANATION FOR HPARAM VARIATION 1"
      ]
    },
    {
      "cell_type": "code",
      "metadata": {
        "id": "FosxFhqoWUsG"
      },
      "source": [
        "## YOUR CODE HERE FOR HYPERPARAMETER VARIATION 2"
      ],
      "execution_count": null,
      "outputs": []
    },
    {
      "cell_type": "markdown",
      "metadata": {
        "id": "r8G2LIiIWX5R"
      },
      "source": [
        "(4 pts) YOUR ANSWER HERE -- EXPLANATION FOR HPARAM VARIATION 2"
      ]
    },
    {
      "cell_type": "code",
      "metadata": {
        "id": "ZGUNYK5M4iMa"
      },
      "source": [
        "!pip install datasets"
      ],
      "execution_count": null,
      "outputs": []
    },
    {
      "cell_type": "code",
      "metadata": {
        "id": "nsHEIKHS2_4O"
      },
      "source": [
        "from transformers import Trainer, TrainingArguments, DataCollatorForLanguageModeling\n",
        "import datasets\n",
        "from datasets import load_dataset, list_datasets"
      ],
      "execution_count": null,
      "outputs": []
    },
    {
      "cell_type": "code",
      "metadata": {
        "id": "L0JbWSYvQydJ"
      },
      "source": [
        "tokenizer = GPT2Tokenizer.from_pretrained('gpt2')\n",
        "tokenizer.pad_token = tokenizer.eos_token\n",
        "model = GPT2LMHeadModel.from_pretrained('gpt2').cuda()\n",
        "data_collator = DataCollatorForLanguageModeling(tokenizer=tokenizer, mlm=False)"
      ],
      "execution_count": null,
      "outputs": []
    },
    {
      "cell_type": "code",
      "metadata": {
        "id": "82TWhrUBHbGs"
      },
      "source": [
        "def encode(batch): return tokenizer([x.strip('\\n\\r') for x in batch['line']], truncation=True, padding=True)\n",
        "\n",
        "crime_and_punishment = load_dataset('crime_and_punish', split='train')\n",
        "processed = crime_and_punishment.map(encode, batched=True, batch_size=len(crime_and_punishment))\n",
        "processed.set_format('torch', columns=['input_ids', 'attention_mask'])"
      ],
      "execution_count": null,
      "outputs": []
    },
    {
      "cell_type": "code",
      "metadata": {
        "id": "3xYPXcIPADUB"
      },
      "source": [
        "training_args = TrainingArguments(\n",
        "    output_dir='/content/',\n",
        "    overwrite_output_dir=True,\n",
        "    num_train_epochs=1,\n",
        "    per_device_train_batch_size=16,\n",
        "    per_device_eval_batch_size=64,\n",
        "    logging_steps=100,\n",
        "    weight_decay=0.01,\n",
        "    logging_dir='./logs',\n",
        ")\n",
        "\n",
        "trainer = Trainer(\n",
        "    model=model,\n",
        "    tokenizer=tokenizer,\n",
        "    args=training_args,\n",
        "    data_collator=data_collator,\n",
        "    train_dataset=processed,\n",
        ")"
      ],
      "execution_count": null,
      "outputs": []
    },
    {
      "cell_type": "code",
      "metadata": {
        "id": "ui52Yu-pA9c3"
      },
      "source": [
        "trainer.train()"
      ],
      "execution_count": null,
      "outputs": []
    },
    {
      "cell_type": "code",
      "metadata": {
        "id": "xhRSQdbsS3fo"
      },
      "source": [
        "trainer.save_model('./dostoevskypt2')"
      ],
      "execution_count": null,
      "outputs": []
    },
    {
      "cell_type": "code",
      "metadata": {
        "id": "vI8OQBmwTLF3"
      },
      "source": [
        "dostoevskypt2 = pipeline('text-generation', model='./dostoevskypt2', device=0)\n",
        "gpt2 = pipeline('text-generation', model='gpt2', device=0)"
      ],
      "execution_count": null,
      "outputs": []
    },
    {
      "cell_type": "code",
      "metadata": {
        "id": "BwH-idynVTvl"
      },
      "source": [
        "print(dostoevskypt2('Saint Petersburg is'))\n",
        "print(gpt2('Saint Petersburg is'))"
      ],
      "execution_count": null,
      "outputs": []
    }
  ]
}